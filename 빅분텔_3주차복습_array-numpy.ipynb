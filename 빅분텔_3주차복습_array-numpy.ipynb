{
 "cells": [
  {
   "cell_type": "code",
   "execution_count": 2,
   "id": "81162da0",
   "metadata": {},
   "outputs": [],
   "source": [
    "import numpy as np"
   ]
  },
  {
   "cell_type": "markdown",
   "id": "05ed649d",
   "metadata": {},
   "source": [
    "# array(배열)의 종류"
   ]
  },
  {
   "cell_type": "markdown",
   "id": "fb42368e",
   "metadata": {},
   "source": [
    "## 1차원 배열"
   ]
  },
  {
   "cell_type": "markdown",
   "id": "ed40244d",
   "metadata": {},
   "source": [
    "벡터"
   ]
  },
  {
   "cell_type": "code",
   "execution_count": 6,
   "id": "0517392d",
   "metadata": {},
   "outputs": [
    {
     "name": "stdout",
     "output_type": "stream",
     "text": [
      "[1 2 3 4 5 6 7 8]\n"
     ]
    }
   ],
   "source": [
    "arr_1d=np.array([1,2,3,4,5,6,7,8])\n",
    "print(arr_1d)"
   ]
  },
  {
   "cell_type": "markdown",
   "id": "f422f829",
   "metadata": {},
   "source": [
    "## 2차원 배열"
   ]
  },
  {
   "cell_type": "markdown",
   "id": "fab39816",
   "metadata": {},
   "source": [
    "행렬"
   ]
  },
  {
   "cell_type": "code",
   "execution_count": 8,
   "id": "59d71e70",
   "metadata": {},
   "outputs": [
    {
     "name": "stdout",
     "output_type": "stream",
     "text": [
      "[[1 2 3 4]\n",
      " [5 6 7 8]]\n"
     ]
    }
   ],
   "source": [
    "arr_2d=arr_1d.reshape((2,4))\n",
    "print(arr_2d)"
   ]
  },
  {
   "cell_type": "markdown",
   "id": "f98c5ce5",
   "metadata": {},
   "source": [
    "## 3차원 이상 배열"
   ]
  },
  {
   "cell_type": "markdown",
   "id": "54b5599f",
   "metadata": {},
   "source": [
    "텐서(tensor)"
   ]
  },
  {
   "cell_type": "code",
   "execution_count": 1,
   "id": "fa5c1fbf",
   "metadata": {},
   "outputs": [
    {
     "ename": "NameError",
     "evalue": "name 'np' is not defined",
     "output_type": "error",
     "traceback": [
      "\u001b[1;31m---------------------------------------------------------------------------\u001b[0m",
      "\u001b[1;31mNameError\u001b[0m                                 Traceback (most recent call last)",
      "Input \u001b[1;32mIn [1]\u001b[0m, in \u001b[0;36m<cell line: 1>\u001b[1;34m()\u001b[0m\n\u001b[1;32m----> 1\u001b[0m arr_3d\u001b[38;5;241m=\u001b[39m\u001b[43mnp\u001b[49m\u001b[38;5;241m.\u001b[39marray([[[\u001b[38;5;241m1\u001b[39m,\u001b[38;5;241m2\u001b[39m],[\u001b[38;5;241m3\u001b[39m,\u001b[38;5;241m4\u001b[39m]],[[\u001b[38;5;241m5\u001b[39m,\u001b[38;5;241m6\u001b[39m],[\u001b[38;5;241m7\u001b[39m,\u001b[38;5;241m8\u001b[39m]]])\n\u001b[0;32m      2\u001b[0m \u001b[38;5;28mprint\u001b[39m(arr_3d)\n",
      "\u001b[1;31mNameError\u001b[0m: name 'np' is not defined"
     ]
    }
   ],
   "source": [
    "arr_3d=np.array([[[1,2],[3,4]],[[5,6],[7,8]]])\n",
    "print(arr_3d)"
   ]
  },
  {
   "cell_type": "markdown",
   "id": "8b736002",
   "metadata": {},
   "source": [
    "# 1차원 array와 list 비교"
   ]
  },
  {
   "cell_type": "markdown",
   "id": "0fe304d4",
   "metadata": {},
   "source": [
    "## 원소의 동질성"
   ]
  },
  {
   "cell_type": "markdown",
   "id": "edbeee4a",
   "metadata": {},
   "source": [
    "- array: 원소들의 데이터타입이 모두 같아야함\n",
    "- list: 원소들의 데이터타입이 달라도 됨"
   ]
  },
  {
   "cell_type": "code",
   "execution_count": 13,
   "id": "d57a9937",
   "metadata": {},
   "outputs": [
    {
     "data": {
      "text/plain": [
       "[12, 455, 63.3, True, 'abc']"
      ]
     },
     "execution_count": 13,
     "metadata": {},
     "output_type": "execute_result"
    }
   ],
   "source": [
    "l3=[12,455,63.3,True,'abc']\n",
    "l3"
   ]
  },
  {
   "cell_type": "code",
   "execution_count": 15,
   "id": "261bc741",
   "metadata": {},
   "outputs": [
    {
     "name": "stdout",
     "output_type": "stream",
     "text": [
      "['12' '455' '63.3' 'True' 'abc']\n"
     ]
    }
   ],
   "source": [
    "#array는 데이터타입이 모두 같아야해서, 자동으로 하나로 통일되어 바뀜\n",
    "b=np.array(l3)\n",
    "print(b)"
   ]
  },
  {
   "cell_type": "markdown",
   "id": "917a85d9",
   "metadata": {},
   "source": [
    "- cf) type과 dtype차이\n",
    "- type:변수의 데이터타입\n",
    "- dtype: 변수를 구성하는 원소(예:array의 구성요소)의 데이터타입"
   ]
  },
  {
   "cell_type": "code",
   "execution_count": 16,
   "id": "1844d859",
   "metadata": {},
   "outputs": [
    {
     "data": {
      "text/plain": [
       "numpy.ndarray"
      ]
     },
     "execution_count": 16,
     "metadata": {},
     "output_type": "execute_result"
    }
   ],
   "source": [
    "type(np.array([1,2,3]))"
   ]
  },
  {
   "cell_type": "code",
   "execution_count": 17,
   "id": "1ac4cc1e",
   "metadata": {},
   "outputs": [
    {
     "data": {
      "text/plain": [
       "dtype('int32')"
      ]
     },
     "execution_count": 17,
     "metadata": {},
     "output_type": "execute_result"
    }
   ],
   "source": [
    "np.array([1,2,3]).dtype"
   ]
  },
  {
   "cell_type": "markdown",
   "id": "8dbedc51",
   "metadata": {},
   "source": [
    "## 계산의 편의성"
   ]
  },
  {
   "cell_type": "markdown",
   "id": "b53239d5",
   "metadata": {},
   "source": [
    "### 동시연산 가능성"
   ]
  },
  {
   "cell_type": "markdown",
   "id": "3f10f506",
   "metadata": {},
   "source": [
    "- array: 동시연산 가능\n",
    "- list: 동시연산이 아니라 list연산이 이루어짐"
   ]
  },
  {
   "cell_type": "code",
   "execution_count": 3,
   "id": "569f7be6",
   "metadata": {},
   "outputs": [],
   "source": [
    "#array:동시연산 가능\n",
    "aArray=[2,4,6,8]\n",
    "aArray=np.array(aArray)\n",
    "a3Array=aArray*-3"
   ]
  },
  {
   "cell_type": "code",
   "execution_count": 4,
   "id": "43251d2d",
   "metadata": {},
   "outputs": [
    {
     "name": "stdout",
     "output_type": "stream",
     "text": [
      "[ -6 -12 -18 -24]\n"
     ]
    }
   ],
   "source": [
    "print(a3Array)"
   ]
  },
  {
   "cell_type": "code",
   "execution_count": 9,
   "id": "d2973d31",
   "metadata": {},
   "outputs": [
    {
     "data": {
      "text/plain": [
       "[2, 4, 6, 8, 2, 4, 6, 8]"
      ]
     },
     "execution_count": 9,
     "metadata": {},
     "output_type": "execute_result"
    }
   ],
   "source": [
    "#list:동시연산X, list연산O\n",
    "aList=[2,4,6,8]\n",
    "aList*2\n"
   ]
  },
  {
   "cell_type": "markdown",
   "id": "0e386680",
   "metadata": {},
   "source": [
    "### 연산처리의 차이"
   ]
  },
  {
   "cell_type": "markdown",
   "id": "33c7c20a",
   "metadata": {},
   "source": [
    "- array: array구성하는 원소들의 연산으로 처리\n",
    "- list: list자체의 연산"
   ]
  },
  {
   "cell_type": "code",
   "execution_count": 32,
   "id": "cc206f95",
   "metadata": {},
   "outputs": [
    {
     "data": {
      "text/plain": [
       "array([11, 22, 33])"
      ]
     },
     "execution_count": 32,
     "metadata": {},
     "output_type": "execute_result"
    }
   ],
   "source": [
    "#array: 원소들의 값을 더함\n",
    "np.array([1,2,3])+np.array([10,20,30])"
   ]
  },
  {
   "cell_type": "code",
   "execution_count": 33,
   "id": "779c61c3",
   "metadata": {},
   "outputs": [
    {
     "data": {
      "text/plain": [
       "[1, 2, 3, 10, 20, 30]"
      ]
     },
     "execution_count": 33,
     "metadata": {},
     "output_type": "execute_result"
    }
   ],
   "source": [
    "#list: 리스트를 서로 합침\n",
    "[1,2,3]+[10,20,30]"
   ]
  },
  {
   "cell_type": "markdown",
   "id": "4f49e682",
   "metadata": {},
   "source": [
    "# array 생성 함수들"
   ]
  },
  {
   "cell_type": "markdown",
   "id": "f964637a",
   "metadata": {},
   "source": [
    "## 연속된 값으로 만들어진 array"
   ]
  },
  {
   "cell_type": "code",
   "execution_count": 36,
   "id": "de113ab9",
   "metadata": {},
   "outputs": [
    {
     "data": {
      "text/plain": [
       "array([ 0,  1,  2,  3,  4,  5,  6,  7,  8,  9, 10, 11, 12, 13, 14])"
      ]
     },
     "execution_count": 36,
     "metadata": {},
     "output_type": "execute_result"
    }
   ],
   "source": [
    "#range사용해서 array만들기\n",
    "a15=np.array(range(0,15))\n",
    "a15"
   ]
  },
  {
   "cell_type": "code",
   "execution_count": 37,
   "id": "665d53a6",
   "metadata": {},
   "outputs": [
    {
     "data": {
      "text/plain": [
       "array([ 0,  1,  2,  3,  4,  5,  6,  7,  8,  9, 10, 11, 12, 13, 14])"
      ]
     },
     "execution_count": 37,
     "metadata": {},
     "output_type": "execute_result"
    }
   ],
   "source": [
    "#arange사용해서 array만들기\n",
    "a15p=np.arange(0,15)\n",
    "a15p"
   ]
  },
  {
   "cell_type": "markdown",
   "id": "9399bb9b",
   "metadata": {},
   "source": [
    "## 0으로 구성된 array"
   ]
  },
  {
   "cell_type": "markdown",
   "id": "c24b3feb",
   "metadata": {},
   "source": [
    "np.zeros"
   ]
  },
  {
   "cell_type": "code",
   "execution_count": 40,
   "id": "d63d50aa",
   "metadata": {},
   "outputs": [
    {
     "data": {
      "text/plain": [
       "array([0., 0., 0., 0., 0.])"
      ]
     },
     "execution_count": 40,
     "metadata": {},
     "output_type": "execute_result"
    }
   ],
   "source": [
    "zA=np.zeros(5)\n",
    "zA"
   ]
  },
  {
   "cell_type": "code",
   "execution_count": 41,
   "id": "37554fcc",
   "metadata": {},
   "outputs": [
    {
     "data": {
      "text/plain": [
       "array([[0., 0.],\n",
       "       [0., 0.],\n",
       "       [0., 0.],\n",
       "       [0., 0.],\n",
       "       [0., 0.]])"
      ]
     },
     "execution_count": 41,
     "metadata": {},
     "output_type": "execute_result"
    }
   ],
   "source": [
    "zA2=np.zeros((5,2))\n",
    "zA2"
   ]
  },
  {
   "cell_type": "markdown",
   "id": "1c6c058c",
   "metadata": {},
   "source": [
    "## 1로 구성된 array"
   ]
  },
  {
   "cell_type": "markdown",
   "id": "b462ee81",
   "metadata": {},
   "source": [
    "np.ones"
   ]
  },
  {
   "cell_type": "code",
   "execution_count": 43,
   "id": "59ad16da",
   "metadata": {},
   "outputs": [
    {
     "data": {
      "text/plain": [
       "array([1., 1., 1., 1.])"
      ]
     },
     "execution_count": 43,
     "metadata": {},
     "output_type": "execute_result"
    }
   ],
   "source": [
    "oA=np.ones(4)\n",
    "oA"
   ]
  },
  {
   "cell_type": "code",
   "execution_count": 44,
   "id": "072e6527",
   "metadata": {},
   "outputs": [
    {
     "data": {
      "text/plain": [
       "array([[1., 1., 1., 1., 1.],\n",
       "       [1., 1., 1., 1., 1.]])"
      ]
     },
     "execution_count": 44,
     "metadata": {},
     "output_type": "execute_result"
    }
   ],
   "source": [
    "oA2=np.ones((2,5))\n",
    "oA2"
   ]
  },
  {
   "cell_type": "markdown",
   "id": "dda350b7",
   "metadata": {},
   "source": [
    "# array(배열)의 조작"
   ]
  },
  {
   "cell_type": "markdown",
   "id": "62a7df71",
   "metadata": {},
   "source": [
    "## 배열 특정 위치의 값 바꾸기"
   ]
  },
  {
   "cell_type": "markdown",
   "id": "4ec3cba1",
   "metadata": {},
   "source": [
    "arr_2d[]=새로운 값"
   ]
  },
  {
   "cell_type": "code",
   "execution_count": 47,
   "id": "fcb6f60c",
   "metadata": {},
   "outputs": [],
   "source": [
    "arr_2d=np.array([[1,2,3,4],[5,6,7,8]])"
   ]
  },
  {
   "cell_type": "code",
   "execution_count": 49,
   "id": "720b59d3",
   "metadata": {},
   "outputs": [
    {
     "data": {
      "text/plain": [
       "array([[ 1,  2,  3,  4],\n",
       "       [ 5,  6, 99,  8]])"
      ]
     },
     "execution_count": 49,
     "metadata": {},
     "output_type": "execute_result"
    }
   ],
   "source": [
    "arr_2d[1,2]=99\n",
    "arr_2d"
   ]
  },
  {
   "cell_type": "code",
   "execution_count": 50,
   "id": "71ccd6ff",
   "metadata": {},
   "outputs": [
    {
     "data": {
      "text/plain": [
       "array([[ 1, 77,  3,  4],\n",
       "       [ 5, 77, 99,  8]])"
      ]
     },
     "execution_count": 50,
     "metadata": {},
     "output_type": "execute_result"
    }
   ],
   "source": [
    "arr_2d[:,1]=77\n",
    "arr_2d"
   ]
  },
  {
   "cell_type": "markdown",
   "id": "09c622eb",
   "metadata": {},
   "source": [
    "## 원소의 추가 및 삭제"
   ]
  },
  {
   "cell_type": "markdown",
   "id": "a6605a32",
   "metadata": {},
   "source": [
    "- numpy의 함수사용해야됨\n",
    "- 왜냐면, list의 .insert(), .pop()같은 array자체 함수 X\n",
    "- 원래 배열 바뀌지 않음(변경된 배열 저장 위해서는 별도 저장해야 함)\n",
    "-\n",
    "- 배열에 원소의 추가 및 삭제는 자주 사용x(배열은 계산을 위해 주로 사용/배열을 가공하여 새로운 배열 생성)"
   ]
  },
  {
   "cell_type": "markdown",
   "id": "032b86a0",
   "metadata": {},
   "source": [
    "### 배열에 원소 추가"
   ]
  },
  {
   "cell_type": "markdown",
   "id": "77f60f69",
   "metadata": {},
   "source": [
    "- axis(행이나 열) 지정\n",
    "- 지정하지 않으면 1차원 배열로 변환하여 처리"
   ]
  },
  {
   "cell_type": "code",
   "execution_count": 57,
   "id": "e014e458",
   "metadata": {},
   "outputs": [
    {
     "data": {
      "text/plain": [
       "array([[1, 2, 3, 4],\n",
       "       [5, 6, 7, 8]])"
      ]
     },
     "execution_count": 57,
     "metadata": {},
     "output_type": "execute_result"
    }
   ],
   "source": [
    "arr_2d=np.array([[1,2,3,4],[5,6,7,8]])\n",
    "arr_2d"
   ]
  },
  {
   "cell_type": "code",
   "execution_count": 70,
   "id": "4a34d37a",
   "metadata": {},
   "outputs": [
    {
     "data": {
      "text/plain": [
       "array([[1, 9, 2, 3, 4],\n",
       "       [5, 9, 6, 7, 8]])"
      ]
     },
     "execution_count": 70,
     "metadata": {},
     "output_type": "execute_result"
    }
   ],
   "source": [
    "np.insert(arr_2d,1,9,axis=1) #1열에 9 넣기"
   ]
  },
  {
   "cell_type": "code",
   "execution_count": 62,
   "id": "dc204516",
   "metadata": {},
   "outputs": [
    {
     "data": {
      "text/plain": [
       "array([[1, 2, 3, 4],\n",
       "       [9, 9, 9, 9],\n",
       "       [5, 6, 7, 8]])"
      ]
     },
     "execution_count": 62,
     "metadata": {},
     "output_type": "execute_result"
    }
   ],
   "source": [
    "np.insert(arr_2d,1,9,axis=0) #1행에 9 넣기"
   ]
  },
  {
   "cell_type": "code",
   "execution_count": 64,
   "id": "ecf1a575",
   "metadata": {},
   "outputs": [
    {
     "data": {
      "text/plain": [
       "array([1, 9, 2, 3, 4, 5, 6, 7, 8])"
      ]
     },
     "execution_count": 64,
     "metadata": {},
     "output_type": "execute_result"
    }
   ],
   "source": [
    "np.insert(arr_2d,1,9)"
   ]
  },
  {
   "cell_type": "markdown",
   "id": "aad7e933",
   "metadata": {},
   "source": [
    "### 배열에 원소 삭제"
   ]
  },
  {
   "cell_type": "markdown",
   "id": "d3d15522",
   "metadata": {},
   "source": [
    "- axis(행이나 열) 지정\n",
    "- 지정하지 않으면 1차원 배열로 변환하여 처리"
   ]
  },
  {
   "cell_type": "code",
   "execution_count": 67,
   "id": "f1ef41a1",
   "metadata": {},
   "outputs": [
    {
     "data": {
      "text/plain": [
       "array([[1, 2, 3, 4],\n",
       "       [5, 6, 7, 8]])"
      ]
     },
     "execution_count": 67,
     "metadata": {},
     "output_type": "execute_result"
    }
   ],
   "source": [
    "arr_2d"
   ]
  },
  {
   "cell_type": "code",
   "execution_count": 71,
   "id": "b8b27a8f",
   "metadata": {},
   "outputs": [
    {
     "data": {
      "text/plain": [
       "array([[2, 4],\n",
       "       [6, 8]])"
      ]
     },
     "execution_count": 71,
     "metadata": {},
     "output_type": "execute_result"
    }
   ],
   "source": [
    "np.delete(arr_2d,[0,2],axis=1) #0열과 2열 삭제"
   ]
  },
  {
   "cell_type": "code",
   "execution_count": 72,
   "id": "a4d1477a",
   "metadata": {},
   "outputs": [
    {
     "data": {
      "text/plain": [
       "array([[5, 6, 7, 8]])"
      ]
     },
     "execution_count": 72,
     "metadata": {},
     "output_type": "execute_result"
    }
   ],
   "source": [
    "np.delete(arr_2d,0,axis=0) #0행 삭제"
   ]
  },
  {
   "cell_type": "code",
   "execution_count": 73,
   "id": "d0a98ad7",
   "metadata": {},
   "outputs": [
    {
     "data": {
      "text/plain": [
       "array([2, 3, 4, 5, 6, 7, 8])"
      ]
     },
     "execution_count": 73,
     "metadata": {},
     "output_type": "execute_result"
    }
   ],
   "source": [
    "np.delete(arr_2d,0) #axis지정안하면 1차원으로 늘어뜨린담에 0번째 삭제"
   ]
  },
  {
   "cell_type": "code",
   "execution_count": 76,
   "id": "7686e270",
   "metadata": {},
   "outputs": [
    {
     "data": {
      "text/plain": [
       "array([2, 4, 5, 6, 7, 8])"
      ]
     },
     "execution_count": 76,
     "metadata": {},
     "output_type": "execute_result"
    }
   ],
   "source": [
    "np.delete(arr_2d,[0,2])#axis지정안하면 1차원으로 늘어뜨린담에 0번째,2번째 삭제"
   ]
  },
  {
   "cell_type": "markdown",
   "id": "5c144124",
   "metadata": {},
   "source": [
    "# Sub-array(부분배열)"
   ]
  },
  {
   "cell_type": "markdown",
   "id": "87d06b97",
   "metadata": {},
   "source": [
    "- array의 연속된 부분\n",
    "- 복사(copy)가 아님 ==> 뷰(view)\n",
    "- array의 연속된 일부에 대한 새로운 이름 부여임\n",
    "- subarray값 변경시, array값 변경\n",
    "- 다만, subarray의 계산 값을 다른 이름에 저장시(같은 이름이라도 문장 구조상 다른 이름에 저장하는 형식), 복사로 취급"
   ]
  },
  {
   "cell_type": "code",
   "execution_count": 78,
   "id": "c4041db6",
   "metadata": {},
   "outputs": [],
   "source": [
    "a1=np.array([1,3,5,7,9])"
   ]
  },
  {
   "cell_type": "code",
   "execution_count": 79,
   "id": "0d48b0e3",
   "metadata": {},
   "outputs": [],
   "source": [
    "sa=a1[2:4]"
   ]
  },
  {
   "cell_type": "code",
   "execution_count": 80,
   "id": "076587f3",
   "metadata": {},
   "outputs": [
    {
     "data": {
      "text/plain": [
       "array([5, 7])"
      ]
     },
     "execution_count": 80,
     "metadata": {},
     "output_type": "execute_result"
    }
   ],
   "source": [
    "sa"
   ]
  },
  {
   "cell_type": "code",
   "execution_count": 86,
   "id": "02031653",
   "metadata": {},
   "outputs": [],
   "source": [
    "# sub-array변경시, array값변경"
   ]
  },
  {
   "cell_type": "code",
   "execution_count": 85,
   "id": "8f8205f0",
   "metadata": {},
   "outputs": [],
   "source": [
    "sa[:]=sa[:]*(-1) #같은 표현: sa *= -1"
   ]
  },
  {
   "cell_type": "code",
   "execution_count": 82,
   "id": "75c9d5d6",
   "metadata": {},
   "outputs": [
    {
     "data": {
      "text/plain": [
       "array([-5, -7])"
      ]
     },
     "execution_count": 82,
     "metadata": {},
     "output_type": "execute_result"
    }
   ],
   "source": [
    "sa"
   ]
  },
  {
   "cell_type": "code",
   "execution_count": 83,
   "id": "ae3d81e9",
   "metadata": {},
   "outputs": [
    {
     "data": {
      "text/plain": [
       "array([ 1,  3, -5, -7,  9])"
      ]
     },
     "execution_count": 83,
     "metadata": {},
     "output_type": "execute_result"
    }
   ],
   "source": [
    "a1"
   ]
  },
  {
   "cell_type": "code",
   "execution_count": 87,
   "id": "cfb9dfc5",
   "metadata": {},
   "outputs": [],
   "source": [
    "# subarray계산 값을 다른 이름에 저장시, 복사로 취급"
   ]
  },
  {
   "cell_type": "code",
   "execution_count": 88,
   "id": "66235c3f",
   "metadata": {},
   "outputs": [
    {
     "data": {
      "text/plain": [
       "array([1, 3, 5, 7, 9])"
      ]
     },
     "execution_count": 88,
     "metadata": {},
     "output_type": "execute_result"
    }
   ],
   "source": [
    "a1"
   ]
  },
  {
   "cell_type": "code",
   "execution_count": 89,
   "id": "b1772667",
   "metadata": {},
   "outputs": [],
   "source": [
    "sa=a1[2:4]"
   ]
  },
  {
   "cell_type": "code",
   "execution_count": 90,
   "id": "c5ae9ba3",
   "metadata": {},
   "outputs": [
    {
     "data": {
      "text/plain": [
       "array([5, 7])"
      ]
     },
     "execution_count": 90,
     "metadata": {},
     "output_type": "execute_result"
    }
   ],
   "source": [
    "sa"
   ]
  },
  {
   "cell_type": "code",
   "execution_count": 91,
   "id": "961337c9",
   "metadata": {},
   "outputs": [],
   "source": [
    "sa=sa*-1"
   ]
  },
  {
   "cell_type": "code",
   "execution_count": 92,
   "id": "c2f0ef09",
   "metadata": {},
   "outputs": [
    {
     "data": {
      "text/plain": [
       "array([-5, -7])"
      ]
     },
     "execution_count": 92,
     "metadata": {},
     "output_type": "execute_result"
    }
   ],
   "source": [
    "sa"
   ]
  },
  {
   "cell_type": "code",
   "execution_count": 93,
   "id": "37684fa5",
   "metadata": {},
   "outputs": [
    {
     "data": {
      "text/plain": [
       "array([1, 3, 5, 7, 9])"
      ]
     },
     "execution_count": 93,
     "metadata": {},
     "output_type": "execute_result"
    }
   ],
   "source": [
    "a1"
   ]
  },
  {
   "cell_type": "markdown",
   "id": "953fd041",
   "metadata": {},
   "source": [
    "## Sub-array아닌 경우"
   ]
  },
  {
   "cell_type": "markdown",
   "id": "8029cb28",
   "metadata": {},
   "source": [
    "- sub-array: array의 연속된 일부\n",
    "- 연속되지 않은 일부에 새로운 이름 부여할 경우=>복사(copy)로 처리"
   ]
  },
  {
   "cell_type": "code",
   "execution_count": 137,
   "id": "d51a6765",
   "metadata": {},
   "outputs": [
    {
     "data": {
      "text/plain": [
       "array([[10, 11, 12, 13],\n",
       "       [14, 15, 16, 17],\n",
       "       [18, 19, 20, 21],\n",
       "       [22, 23, 24, 25]])"
      ]
     },
     "execution_count": 137,
     "metadata": {},
     "output_type": "execute_result"
    }
   ],
   "source": [
    "A=np.array([[10,11,12,13],\n",
    "           [14,15,16,17],\n",
    "           [18,19,20,21],\n",
    "           [22,23,24,25]])\n",
    "A"
   ]
  },
  {
   "cell_type": "code",
   "execution_count": 143,
   "id": "861e19e6",
   "metadata": {},
   "outputs": [
    {
     "data": {
      "text/plain": [
       "array([[15, 16],\n",
       "       [19, 20]])"
      ]
     },
     "execution_count": 143,
     "metadata": {},
     "output_type": "execute_result"
    }
   ],
   "source": [
    "#배열 슬라이싱하면 view됨(원본영향O)\n",
    "sub_A=A[1:3,1:3]\n",
    "sub_A"
   ]
  },
  {
   "cell_type": "code",
   "execution_count": 145,
   "id": "e52a2e8a",
   "metadata": {},
   "outputs": [],
   "source": [
    "sub_A*=-2"
   ]
  },
  {
   "cell_type": "code",
   "execution_count": 146,
   "id": "69abf494",
   "metadata": {},
   "outputs": [
    {
     "data": {
      "text/plain": [
       "array([[-30, -32],\n",
       "       [-38, -40]])"
      ]
     },
     "execution_count": 146,
     "metadata": {},
     "output_type": "execute_result"
    }
   ],
   "source": [
    "sub_A"
   ]
  },
  {
   "cell_type": "code",
   "execution_count": 147,
   "id": "5bc690c6",
   "metadata": {},
   "outputs": [
    {
     "data": {
      "text/plain": [
       "array([[ 10,  11,  12,  13],\n",
       "       [ 14, -30, -32,  17],\n",
       "       [ 18, -38, -40,  21],\n",
       "       [ 22,  23,  24,  25]])"
      ]
     },
     "execution_count": 147,
     "metadata": {},
     "output_type": "execute_result"
    }
   ],
   "source": [
    "A"
   ]
  },
  {
   "cell_type": "code",
   "execution_count": 148,
   "id": "f8955eba",
   "metadata": {},
   "outputs": [
    {
     "data": {
      "text/plain": [
       "array([[10, 11, 12, 13],\n",
       "       [14, 15, 16, 17],\n",
       "       [18, 19, 20, 21],\n",
       "       [22, 23, 24, 25]])"
      ]
     },
     "execution_count": 148,
     "metadata": {},
     "output_type": "execute_result"
    }
   ],
   "source": [
    "A=np.array([[10,11,12,13],\n",
    "           [14,15,16,17],\n",
    "           [18,19,20,21],\n",
    "           [22,23,24,25]])\n",
    "A"
   ]
  },
  {
   "cell_type": "code",
   "execution_count": 159,
   "id": "b8402001",
   "metadata": {
    "scrolled": true
   },
   "outputs": [
    {
     "data": {
      "text/plain": [
       "array([[15, 16],\n",
       "       [23, 24]])"
      ]
     },
     "execution_count": 159,
     "metadata": {},
     "output_type": "execute_result"
    }
   ],
   "source": [
    "sub_A2=A[[1,3],1:3] #sub-array 아님=>원본영향X(copy)\n",
    "sub_A2"
   ]
  },
  {
   "cell_type": "code",
   "execution_count": 156,
   "id": "4c68d979",
   "metadata": {},
   "outputs": [],
   "source": [
    "sub_A2*=-2"
   ]
  },
  {
   "cell_type": "code",
   "execution_count": 157,
   "id": "3091ee12",
   "metadata": {},
   "outputs": [
    {
     "data": {
      "text/plain": [
       "array([[-30, -32],\n",
       "       [-46, -48]])"
      ]
     },
     "execution_count": 157,
     "metadata": {},
     "output_type": "execute_result"
    }
   ],
   "source": [
    "sub_A2"
   ]
  },
  {
   "cell_type": "code",
   "execution_count": 158,
   "id": "7c29df62",
   "metadata": {},
   "outputs": [
    {
     "data": {
      "text/plain": [
       "array([[10, 11, 12, 13],\n",
       "       [14, 15, 16, 17],\n",
       "       [18, 19, 20, 21],\n",
       "       [22, 23, 24, 25]])"
      ]
     },
     "execution_count": 158,
     "metadata": {},
     "output_type": "execute_result"
    }
   ],
   "source": [
    "A"
   ]
  },
  {
   "cell_type": "markdown",
   "id": "765fafaf",
   "metadata": {},
   "source": [
    "## 2차원 array"
   ]
  },
  {
   "cell_type": "markdown",
   "id": "4d5c5b6b",
   "metadata": {},
   "source": [
    "- 각각의 axis별로 index의 값 또는 범위"
   ]
  },
  {
   "cell_type": "code",
   "execution_count": 130,
   "id": "2a1e92a2",
   "metadata": {},
   "outputs": [
    {
     "data": {
      "text/plain": [
       "array([[ 0,  1,  2,  3,  4,  5,  6,  7],\n",
       "       [ 8,  9, 10, 11, 12, 13, 14, 15],\n",
       "       [16, 17, 18, 19, 20, 21, 22, 23],\n",
       "       [24, 25, 26, 27, 28, 29, 30, 31],\n",
       "       [32, 33, 34, 35, 36, 37, 38, 39]])"
      ]
     },
     "execution_count": 130,
     "metadata": {},
     "output_type": "execute_result"
    }
   ],
   "source": [
    "myMatrix=np.array([[0,1,2,3,4,5,6,7],\n",
    "         [8,9,10,11,12,13,14,15],\n",
    "         [16,17,18,19,20,21,22,23],\n",
    "        [24,25,26,27,28,29,30,31],\n",
    "       [32,33,34,35,36,37,38,39]           ])\n",
    "myMatrix"
   ]
  },
  {
   "cell_type": "code",
   "execution_count": 131,
   "id": "89ce9c69",
   "metadata": {},
   "outputs": [
    {
     "data": {
      "text/plain": [
       "array([16, 17, 18, 19, 20, 21, 22, 23])"
      ]
     },
     "execution_count": 131,
     "metadata": {},
     "output_type": "execute_result"
    }
   ],
   "source": [
    "myMatrix[2,:]"
   ]
  },
  {
   "cell_type": "code",
   "execution_count": 132,
   "id": "c34c951b",
   "metadata": {},
   "outputs": [
    {
     "data": {
      "text/plain": [
       "array([16, 17, 18, 19, 20, 21, 22, 23])"
      ]
     },
     "execution_count": 132,
     "metadata": {},
     "output_type": "execute_result"
    }
   ],
   "source": [
    "myMatrix[2]"
   ]
  },
  {
   "cell_type": "code",
   "execution_count": 133,
   "id": "d790bb46",
   "metadata": {},
   "outputs": [
    {
     "data": {
      "text/plain": [
       "array([16, 17, 18, 19, 20, 21, 22, 23])"
      ]
     },
     "execution_count": 133,
     "metadata": {},
     "output_type": "execute_result"
    }
   ],
   "source": [
    "myMatrix[2,]"
   ]
  },
  {
   "cell_type": "code",
   "execution_count": 134,
   "id": "930d504d",
   "metadata": {},
   "outputs": [
    {
     "data": {
      "text/plain": [
       "array([ 0,  8, 16, 24, 32])"
      ]
     },
     "execution_count": 134,
     "metadata": {},
     "output_type": "execute_result"
    }
   ],
   "source": [
    "myMatrix[:,0]"
   ]
  },
  {
   "cell_type": "code",
   "execution_count": 135,
   "id": "c6f84628",
   "metadata": {},
   "outputs": [
    {
     "ename": "SyntaxError",
     "evalue": "invalid syntax (1957316875.py, line 1)",
     "output_type": "error",
     "traceback": [
      "\u001b[1;36m  Input \u001b[1;32mIn [135]\u001b[1;36m\u001b[0m\n\u001b[1;33m    myMatrix[,0]\u001b[0m\n\u001b[1;37m             ^\u001b[0m\n\u001b[1;31mSyntaxError\u001b[0m\u001b[1;31m:\u001b[0m invalid syntax\n"
     ]
    }
   ],
   "source": [
    "myMatrix[,0] #행에 반드시 입력해야됨"
   ]
  },
  {
   "cell_type": "markdown",
   "id": "2170394d",
   "metadata": {},
   "source": [
    "# view와 copy"
   ]
  },
  {
   "cell_type": "markdown",
   "id": "1ab4a352",
   "metadata": {},
   "source": [
    "## 리스트"
   ]
  },
  {
   "cell_type": "markdown",
   "id": "84e39199",
   "metadata": {},
   "source": [
    "### View"
   ]
  },
  {
   "cell_type": "markdown",
   "id": "7c2af0c0",
   "metadata": {},
   "source": [
    "- 원본에 영향O\n",
    "- 하나의 list를 두 변수가 공유하는 형식"
   ]
  },
  {
   "cell_type": "code",
   "execution_count": 96,
   "id": "a8b9a58f",
   "metadata": {},
   "outputs": [],
   "source": [
    "my_num=[10,20,30,40]\n",
    "my_copy=my_num\n",
    "my_copy[2]*=-1"
   ]
  },
  {
   "cell_type": "code",
   "execution_count": 97,
   "id": "fc054d72",
   "metadata": {},
   "outputs": [
    {
     "data": {
      "text/plain": [
       "[10, 20, -30, 40]"
      ]
     },
     "execution_count": 97,
     "metadata": {},
     "output_type": "execute_result"
    }
   ],
   "source": [
    "my_copy"
   ]
  },
  {
   "cell_type": "code",
   "execution_count": 98,
   "id": "2d19f726",
   "metadata": {},
   "outputs": [
    {
     "data": {
      "text/plain": [
       "[10, 20, -30, 40]"
      ]
     },
     "execution_count": 98,
     "metadata": {},
     "output_type": "execute_result"
    }
   ],
   "source": [
    "my_num"
   ]
  },
  {
   "cell_type": "markdown",
   "id": "837a78a7",
   "metadata": {},
   "source": [
    "### Copy"
   ]
  },
  {
   "cell_type": "markdown",
   "id": "5eea66a4",
   "metadata": {},
   "source": [
    "- 원본에 영향X\n",
    "- 복사본 만든 것"
   ]
  },
  {
   "cell_type": "code",
   "execution_count": 101,
   "id": "8e241381",
   "metadata": {},
   "outputs": [],
   "source": [
    "my_num=[10,20,30,40]\n",
    "my_copy=my_num.copy()\n",
    "my_copy[2]*=-1"
   ]
  },
  {
   "cell_type": "code",
   "execution_count": 102,
   "id": "77de98db",
   "metadata": {},
   "outputs": [
    {
     "data": {
      "text/plain": [
       "[10, 20, -30, 40]"
      ]
     },
     "execution_count": 102,
     "metadata": {},
     "output_type": "execute_result"
    }
   ],
   "source": [
    "my_copy"
   ]
  },
  {
   "cell_type": "code",
   "execution_count": 103,
   "id": "be133f4f",
   "metadata": {},
   "outputs": [
    {
     "data": {
      "text/plain": [
       "[10, 20, 30, 40]"
      ]
     },
     "execution_count": 103,
     "metadata": {},
     "output_type": "execute_result"
    }
   ],
   "source": [
    "my_num"
   ]
  },
  {
   "cell_type": "code",
   "execution_count": 104,
   "id": "580f3672",
   "metadata": {},
   "outputs": [],
   "source": [
    "my_num=[10,20,30,40]\n",
    "my_copy=my_num[:]\n",
    "my_copy[2]*=-1"
   ]
  },
  {
   "cell_type": "code",
   "execution_count": 105,
   "id": "866f87cb",
   "metadata": {},
   "outputs": [
    {
     "data": {
      "text/plain": [
       "[10, 20, -30, 40]"
      ]
     },
     "execution_count": 105,
     "metadata": {},
     "output_type": "execute_result"
    }
   ],
   "source": [
    "my_copy"
   ]
  },
  {
   "cell_type": "code",
   "execution_count": 106,
   "id": "1663d1eb",
   "metadata": {},
   "outputs": [
    {
     "data": {
      "text/plain": [
       "[10, 20, 30, 40]"
      ]
     },
     "execution_count": 106,
     "metadata": {},
     "output_type": "execute_result"
    }
   ],
   "source": [
    "my_num"
   ]
  },
  {
   "cell_type": "markdown",
   "id": "88159e17",
   "metadata": {},
   "source": [
    "## 배열"
   ]
  },
  {
   "cell_type": "markdown",
   "id": "d0a00a20",
   "metadata": {},
   "source": [
    "### View"
   ]
  },
  {
   "cell_type": "markdown",
   "id": "fe8a990a",
   "metadata": {},
   "source": [
    "- 원본에 영향O\n",
    "- 하나의 array를 두 변수가 공유하는 식"
   ]
  },
  {
   "cell_type": "code",
   "execution_count": 109,
   "id": "073089d7",
   "metadata": {},
   "outputs": [],
   "source": [
    "my_arr=np.array([10,20,30,40])\n",
    "my_copy=my_arr\n",
    "my_copy[2]*=-1"
   ]
  },
  {
   "cell_type": "code",
   "execution_count": 110,
   "id": "b3dec759",
   "metadata": {},
   "outputs": [
    {
     "data": {
      "text/plain": [
       "array([ 10,  20, -30,  40])"
      ]
     },
     "execution_count": 110,
     "metadata": {},
     "output_type": "execute_result"
    }
   ],
   "source": [
    "my_copy"
   ]
  },
  {
   "cell_type": "code",
   "execution_count": 111,
   "id": "6b0ce3f8",
   "metadata": {},
   "outputs": [
    {
     "data": {
      "text/plain": [
       "array([ 10,  20, -30,  40])"
      ]
     },
     "execution_count": 111,
     "metadata": {},
     "output_type": "execute_result"
    }
   ],
   "source": [
    "my_arr"
   ]
  },
  {
   "cell_type": "code",
   "execution_count": 113,
   "id": "349a91f8",
   "metadata": {},
   "outputs": [],
   "source": [
    "my_arr=np.array([10,20,30,40])\n",
    "my_copy=my_arr[:]\n",
    "my_copy[2]*=-1"
   ]
  },
  {
   "cell_type": "code",
   "execution_count": 114,
   "id": "e6cef5c6",
   "metadata": {
    "scrolled": true
   },
   "outputs": [
    {
     "data": {
      "text/plain": [
       "array([ 10,  20, -30,  40])"
      ]
     },
     "execution_count": 114,
     "metadata": {},
     "output_type": "execute_result"
    }
   ],
   "source": [
    "my_copy"
   ]
  },
  {
   "cell_type": "code",
   "execution_count": 115,
   "id": "1e3c669b",
   "metadata": {},
   "outputs": [
    {
     "data": {
      "text/plain": [
       "array([ 10,  20, -30,  40])"
      ]
     },
     "execution_count": 115,
     "metadata": {},
     "output_type": "execute_result"
    }
   ],
   "source": [
    "my_arr"
   ]
  },
  {
   "cell_type": "markdown",
   "id": "4e74b4e1",
   "metadata": {},
   "source": [
    "### Copy"
   ]
  },
  {
   "cell_type": "markdown",
   "id": "159be974",
   "metadata": {},
   "source": [
    "- 원본에 영향O\n",
    "- 복사본 만든 것"
   ]
  },
  {
   "cell_type": "code",
   "execution_count": 117,
   "id": "cc625c63",
   "metadata": {},
   "outputs": [],
   "source": [
    "my_arr=np.array([10,20,30,40])\n",
    "my_copy=my_arr.copy()\n",
    "my_copy[2]*=-1"
   ]
  },
  {
   "cell_type": "code",
   "execution_count": 118,
   "id": "ae0bda85",
   "metadata": {},
   "outputs": [
    {
     "data": {
      "text/plain": [
       "array([ 10,  20, -30,  40])"
      ]
     },
     "execution_count": 118,
     "metadata": {},
     "output_type": "execute_result"
    }
   ],
   "source": [
    "my_copy"
   ]
  },
  {
   "cell_type": "code",
   "execution_count": 119,
   "id": "928dd8bd",
   "metadata": {},
   "outputs": [
    {
     "data": {
      "text/plain": [
       "array([10, 20, 30, 40])"
      ]
     },
     "execution_count": 119,
     "metadata": {},
     "output_type": "execute_result"
    }
   ],
   "source": [
    "my_arr"
   ]
  },
  {
   "cell_type": "markdown",
   "id": "d50aa73c",
   "metadata": {},
   "source": [
    "## 리스트와 배열 차이점"
   ]
  },
  {
   "cell_type": "markdown",
   "id": "a82f322d",
   "metadata": {},
   "source": [
    "- 리스트는 view방식으로 새로운 변수에 할당\n",
    "        copy방식으로 [:] 슬라이싱, copy()함수사용\n",
    "- 배열은 view방식으로 새로운 변수 할당, [:] 슬라이싱\n",
    "        copy방식으로 copy()함수사용"
   ]
  },
  {
   "cell_type": "markdown",
   "id": "afa7af29",
   "metadata": {},
   "source": [
    "# Array filtering"
   ]
  },
  {
   "cell_type": "markdown",
   "id": "63c7b67f",
   "metadata": {},
   "source": [
    "- 배열에서 조건을 만족시키는 원소들만 선별(filtering)\n",
    "- True/False값을 갖는 조건식 작성\n",
    "- 조건식을 배열에 적용하면, element-wise연산에 의해 각원소들이 조건식을 만족시키는 결과 계산됨\n",
    "- 조건식의 계산 결과를 배열의 인덱스에 적용하면, True인 원소들만 선별(filter)됨\n",
    "- 2차원 이상의 배열은 1차원 배열로 자동으로 바뀌어져 출력됨"
   ]
  },
  {
   "cell_type": "code",
   "execution_count": 161,
   "id": "a6628457",
   "metadata": {},
   "outputs": [
    {
     "data": {
      "text/plain": [
       "array([ True, False, False,  True,  True])"
      ]
     },
     "execution_count": 161,
     "metadata": {},
     "output_type": "execute_result"
    }
   ],
   "source": [
    "my_array=np.array([2,-3,-5,9,7])\n",
    "my_array>=0"
   ]
  },
  {
   "cell_type": "code",
   "execution_count": 162,
   "id": "a3ae80de",
   "metadata": {},
   "outputs": [
    {
     "data": {
      "text/plain": [
       "array([2, 9, 7])"
      ]
     },
     "execution_count": 162,
     "metadata": {},
     "output_type": "execute_result"
    }
   ],
   "source": [
    "my_array[my_array>=0]"
   ]
  },
  {
   "cell_type": "code",
   "execution_count": 163,
   "id": "cc39226a",
   "metadata": {},
   "outputs": [
    {
     "name": "stdout",
     "output_type": "stream",
     "text": [
      "[[19 11 17]\n",
      " [ 9 20 15]\n",
      " [36  7 18]]\n"
     ]
    }
   ],
   "source": [
    "ns=np.array([[19,11,17],\n",
    "            [9,20,15],\n",
    "            [36,7,18]])\n",
    "print(ns)"
   ]
  },
  {
   "cell_type": "code",
   "execution_count": 164,
   "id": "2c67698d",
   "metadata": {},
   "outputs": [
    {
     "data": {
      "text/plain": [
       "array([[ True, False,  True],\n",
       "       [False,  True,  True],\n",
       "       [ True, False,  True]])"
      ]
     },
     "execution_count": 164,
     "metadata": {},
     "output_type": "execute_result"
    }
   ],
   "source": [
    "ns>=15"
   ]
  },
  {
   "cell_type": "code",
   "execution_count": 165,
   "id": "cae059b8",
   "metadata": {},
   "outputs": [
    {
     "data": {
      "text/plain": [
       "array([19, 17, 20, 15, 36, 18])"
      ]
     },
     "execution_count": 165,
     "metadata": {},
     "output_type": "execute_result"
    }
   ],
   "source": [
    "ns[ns>=15]"
   ]
  },
  {
   "cell_type": "markdown",
   "id": "53884ddb",
   "metadata": {},
   "source": [
    "# Array의 변환 및 계산"
   ]
  },
  {
   "cell_type": "markdown",
   "id": "212c6277",
   "metadata": {},
   "source": [
    "- 범용함수(numpy함수)"
   ]
  },
  {
   "cell_type": "markdown",
   "id": "48806024",
   "metadata": {},
   "source": [
    "- np.sqrt()\n",
    "- np.abs()\n",
    "- np.sum()\n",
    "- np.max()\n",
    "- np.min()\n",
    "- np.mean()\n",
    "- np.std()\n",
    "- np.sort()"
   ]
  },
  {
   "cell_type": "code",
   "execution_count": 168,
   "id": "5110f8a9",
   "metadata": {},
   "outputs": [],
   "source": [
    "my_a=np.array([1,-9,16,-4,20])"
   ]
  },
  {
   "cell_type": "code",
   "execution_count": 169,
   "id": "57db877b",
   "metadata": {},
   "outputs": [
    {
     "data": {
      "text/plain": [
       "array([ 1,  9, 16,  4, 20])"
      ]
     },
     "execution_count": 169,
     "metadata": {},
     "output_type": "execute_result"
    }
   ],
   "source": [
    "my_abs=np.abs(my_a)\n",
    "my_abs"
   ]
  },
  {
   "cell_type": "code",
   "execution_count": 170,
   "id": "9e19eef5",
   "metadata": {},
   "outputs": [
    {
     "name": "stdout",
     "output_type": "stream",
     "text": [
      "[1.                nan 4.                nan 4.47213595]\n"
     ]
    },
    {
     "name": "stderr",
     "output_type": "stream",
     "text": [
      "C:\\Users\\Public\\Documents\\ESTsoft\\CreatorTemp\\ipykernel_33424\\467157276.py:1: RuntimeWarning: invalid value encountered in sqrt\n",
      "  print(np.sqrt(my_a))\n"
     ]
    }
   ],
   "source": [
    "print(np.sqrt(my_a))"
   ]
  },
  {
   "cell_type": "markdown",
   "id": "04ccf3e2",
   "metadata": {},
   "source": [
    "# Array의 계산과 좌표축"
   ]
  },
  {
   "cell_type": "markdown",
   "id": "e19f1cdc",
   "metadata": {},
   "source": [
    "- axis=0 적용 시, 열 축에 따라서 통계값 계산됨\n",
    "- axis=1 적용 시, 행 축에 따라서 통계값 계산됨"
   ]
  },
  {
   "cell_type": "markdown",
   "id": "445cf0ac",
   "metadata": {},
   "source": [
    "## "
   ]
  },
  {
   "cell_type": "code",
   "execution_count": 171,
   "id": "56e1dab0",
   "metadata": {},
   "outputs": [
    {
     "data": {
      "text/plain": [
       "array([[10, 11, 12, 13],\n",
       "       [14, 15, 16, 17],\n",
       "       [18, 19, 20, 21],\n",
       "       [22, 23, 24, 25]])"
      ]
     },
     "execution_count": 171,
     "metadata": {},
     "output_type": "execute_result"
    }
   ],
   "source": [
    "A=np.array([[10,11,12,13],\n",
    "           [14,15,16,17],\n",
    "           [18,19,20,21],\n",
    "           [22,23,24,25]])\n",
    "A"
   ]
  },
  {
   "cell_type": "code",
   "execution_count": 172,
   "id": "631f9b53",
   "metadata": {},
   "outputs": [
    {
     "data": {
      "text/plain": [
       "280"
      ]
     },
     "execution_count": 172,
     "metadata": {},
     "output_type": "execute_result"
    }
   ],
   "source": [
    "A.sum()"
   ]
  },
  {
   "cell_type": "code",
   "execution_count": 173,
   "id": "6fd856bb",
   "metadata": {},
   "outputs": [
    {
     "data": {
      "text/plain": [
       "array([64, 68, 72, 76])"
      ]
     },
     "execution_count": 173,
     "metadata": {},
     "output_type": "execute_result"
    }
   ],
   "source": [
    "A.sum(axis=0)"
   ]
  },
  {
   "cell_type": "code",
   "execution_count": 174,
   "id": "524d0128",
   "metadata": {},
   "outputs": [
    {
     "data": {
      "text/plain": [
       "array([64, 68, 72, 76])"
      ]
     },
     "execution_count": 174,
     "metadata": {},
     "output_type": "execute_result"
    }
   ],
   "source": [
    "np.sum(A,axis=0) #위와 동일 표현"
   ]
  },
  {
   "cell_type": "code",
   "execution_count": 175,
   "id": "3364bed0",
   "metadata": {},
   "outputs": [
    {
     "data": {
      "text/plain": [
       "array([11.5, 15.5, 19.5, 23.5])"
      ]
     },
     "execution_count": 175,
     "metadata": {},
     "output_type": "execute_result"
    }
   ],
   "source": [
    "A.mean(axis=1)"
   ]
  },
  {
   "cell_type": "code",
   "execution_count": 176,
   "id": "130dd18e",
   "metadata": {},
   "outputs": [
    {
     "data": {
      "text/plain": [
       "array([11.5, 15.5, 19.5, 23.5])"
      ]
     },
     "execution_count": 176,
     "metadata": {},
     "output_type": "execute_result"
    }
   ],
   "source": [
    "np.mean(A,axis=1)#위와 동일 표현"
   ]
  },
  {
   "cell_type": "markdown",
   "id": "e57ac1c9",
   "metadata": {},
   "source": [
    "## np.apply_over_axes"
   ]
  },
  {
   "cell_type": "markdown",
   "id": "807a2ba6",
   "metadata": {},
   "source": [
    "- 2차원배열 형태로 결과 도출 가능"
   ]
  },
  {
   "cell_type": "code",
   "execution_count": 179,
   "id": "536bb362",
   "metadata": {},
   "outputs": [
    {
     "data": {
      "text/plain": [
       "array([[11.5],\n",
       "       [15.5],\n",
       "       [19.5],\n",
       "       [23.5]])"
      ]
     },
     "execution_count": 179,
     "metadata": {},
     "output_type": "execute_result"
    }
   ],
   "source": [
    "np.apply_over_axes(np.mean,a=A,axes=1)"
   ]
  },
  {
   "cell_type": "code",
   "execution_count": 180,
   "id": "0c00010f",
   "metadata": {},
   "outputs": [
    {
     "data": {
      "text/plain": [
       "(4, 1)"
      ]
     },
     "execution_count": 180,
     "metadata": {},
     "output_type": "execute_result"
    }
   ],
   "source": [
    "(np.apply_over_axes(np.mean,a=A,axes=1)).shape"
   ]
  },
  {
   "cell_type": "code",
   "execution_count": 181,
   "id": "a64201b5",
   "metadata": {},
   "outputs": [
    {
     "data": {
      "text/plain": [
       "array([[16., 17., 18., 19.]])"
      ]
     },
     "execution_count": 181,
     "metadata": {},
     "output_type": "execute_result"
    }
   ],
   "source": [
    "np.apply_over_axes(np.mean,a=A,axes=0)"
   ]
  },
  {
   "cell_type": "code",
   "execution_count": 182,
   "id": "9c38c7ff",
   "metadata": {},
   "outputs": [
    {
     "data": {
      "text/plain": [
       "(1, 4)"
      ]
     },
     "execution_count": 182,
     "metadata": {},
     "output_type": "execute_result"
    }
   ],
   "source": [
    "(np.apply_over_axes(np.mean,a=A,axes=0)).shape"
   ]
  },
  {
   "cell_type": "code",
   "execution_count": 183,
   "id": "c3f46d25",
   "metadata": {},
   "outputs": [
    {
     "data": {
      "text/plain": [
       "array([[[1., 1., 1., 1.],\n",
       "        [1., 1., 1., 1.],\n",
       "        [1., 1., 1., 1.],\n",
       "        [1., 1., 1., 1.]],\n",
       "\n",
       "       [[1., 1., 1., 1.],\n",
       "        [1., 1., 1., 1.],\n",
       "        [1., 1., 1., 1.],\n",
       "        [1., 1., 1., 1.]],\n",
       "\n",
       "       [[1., 1., 1., 1.],\n",
       "        [1., 1., 1., 1.],\n",
       "        [1., 1., 1., 1.],\n",
       "        [1., 1., 1., 1.]],\n",
       "\n",
       "       [[1., 1., 1., 1.],\n",
       "        [1., 1., 1., 1.],\n",
       "        [1., 1., 1., 1.],\n",
       "        [1., 1., 1., 1.]]])"
      ]
     },
     "execution_count": 183,
     "metadata": {},
     "output_type": "execute_result"
    }
   ],
   "source": [
    "arr_3d=np.ones([4,4,4])\n",
    "arr_3d"
   ]
  },
  {
   "cell_type": "code",
   "execution_count": 184,
   "id": "d279e516",
   "metadata": {},
   "outputs": [],
   "source": [
    "arr_3d_z=np.apply_over_axes(np.sum,arr_3d,axes=[0,1])"
   ]
  },
  {
   "cell_type": "code",
   "execution_count": 185,
   "id": "343ce440",
   "metadata": {},
   "outputs": [
    {
     "name": "stdout",
     "output_type": "stream",
     "text": [
      "[[[16. 16. 16. 16.]]]\n"
     ]
    }
   ],
   "source": [
    "print(arr_3d_z)"
   ]
  },
  {
   "cell_type": "code",
   "execution_count": 186,
   "id": "1d285f7f",
   "metadata": {},
   "outputs": [
    {
     "data": {
      "text/plain": [
       "16.0"
      ]
     },
     "execution_count": 186,
     "metadata": {},
     "output_type": "execute_result"
    }
   ],
   "source": [
    "arr_3d_z[0,0,1]"
   ]
  },
  {
   "cell_type": "markdown",
   "id": "82263d3c",
   "metadata": {},
   "source": [
    "# 행렬 및 벡터 계산"
   ]
  },
  {
   "cell_type": "markdown",
   "id": "55e00ded",
   "metadata": {},
   "source": [
    "## 행렬곱(A·B)"
   ]
  },
  {
   "cell_type": "markdown",
   "id": "181bc443",
   "metadata": {},
   "source": [
    "- 두 행렬의 내적을 계산\n",
    "- 1번째 행렬의 열의 수와 2번째 행렬의 행의 수가 같아야 함"
   ]
  },
  {
   "cell_type": "code",
   "execution_count": 189,
   "id": "d2596776",
   "metadata": {},
   "outputs": [],
   "source": [
    "A=np.array([[1,10],[2,20],[3,30]])\n",
    "B=np.array([[1,2,3],[1,2,3]])\n",
    "C=np.dot(A,B)"
   ]
  },
  {
   "cell_type": "code",
   "execution_count": 190,
   "id": "675173a4",
   "metadata": {},
   "outputs": [
    {
     "name": "stdout",
     "output_type": "stream",
     "text": [
      "[[11 22 33]\n",
      " [22 44 66]\n",
      " [33 66 99]]\n"
     ]
    }
   ],
   "source": [
    "print(C)"
   ]
  },
  {
   "cell_type": "markdown",
   "id": "7c911da7",
   "metadata": {},
   "source": [
    "## 곱셈(A*B)"
   ]
  },
  {
   "cell_type": "markdown",
   "id": "3b96ac71",
   "metadata": {},
   "source": [
    "- 원소별 곱셈\n",
    "- 브로드캐스터\n",
    ":두 행렬의 행,열 크기 동일해야 함.\n",
    "-> 두 행과 열의 수가 맞지 않으면, 작은 행렬의 행이나 열을 늘려서 큰 행렬의 행과 열의 수와 같이 만든 후 연산처리\n",
    "-> 작은 행렬의 행이나 열의 수를 곱하면 큰 행렬의 행과 열의 수가 될 수 있어야 함"
   ]
  },
  {
   "cell_type": "code",
   "execution_count": 192,
   "id": "babdc65c",
   "metadata": {},
   "outputs": [],
   "source": [
    "A=np.array([[1,10],[2,20],[3,30]])\n",
    "B2=np.array([[1,2],[1,2]])"
   ]
  },
  {
   "cell_type": "code",
   "execution_count": 193,
   "id": "1668c70c",
   "metadata": {},
   "outputs": [
    {
     "ename": "ValueError",
     "evalue": "operands could not be broadcast together with shapes (3,2) (2,2) ",
     "output_type": "error",
     "traceback": [
      "\u001b[1;31m---------------------------------------------------------------------------\u001b[0m",
      "\u001b[1;31mValueError\u001b[0m                                Traceback (most recent call last)",
      "Input \u001b[1;32mIn [193]\u001b[0m, in \u001b[0;36m<cell line: 1>\u001b[1;34m()\u001b[0m\n\u001b[1;32m----> 1\u001b[0m C_prod\u001b[38;5;241m=\u001b[39m\u001b[43mA\u001b[49m\u001b[38;5;241;43m*\u001b[39;49m\u001b[43mB2\u001b[49m\n",
      "\u001b[1;31mValueError\u001b[0m: operands could not be broadcast together with shapes (3,2) (2,2) "
     ]
    }
   ],
   "source": [
    "C_prod=A*B2"
   ]
  },
  {
   "cell_type": "code",
   "execution_count": 194,
   "id": "b1d7bffd",
   "metadata": {},
   "outputs": [],
   "source": [
    "B3=np.array([[1,2]])"
   ]
  },
  {
   "cell_type": "code",
   "execution_count": 195,
   "id": "d8882fe8",
   "metadata": {},
   "outputs": [
    {
     "name": "stdout",
     "output_type": "stream",
     "text": [
      "[[ 1 20]\n",
      " [ 2 40]\n",
      " [ 3 60]]\n"
     ]
    }
   ],
   "source": [
    "C_prod=A*B3\n",
    "print(C_prod)"
   ]
  },
  {
   "cell_type": "markdown",
   "id": "5af80540",
   "metadata": {},
   "source": [
    "## 벡터의 크기(norm)"
   ]
  },
  {
   "cell_type": "markdown",
   "id": "9803c490",
   "metadata": {},
   "source": [
    "- n차원 공간에서 벡터의 길이\n",
    "- 요소의 제곱값을 더해서 제곱근 계산"
   ]
  },
  {
   "cell_type": "code",
   "execution_count": 198,
   "id": "cc5d3751",
   "metadata": {},
   "outputs": [
    {
     "data": {
      "text/plain": [
       "2.23606797749979"
      ]
     },
     "execution_count": 198,
     "metadata": {},
     "output_type": "execute_result"
    }
   ],
   "source": [
    "A=np.array([1,2])\n",
    "np.linalg.norm(A)"
   ]
  },
  {
   "cell_type": "markdown",
   "id": "e10c117a",
   "metadata": {},
   "source": [
    "# shape과 reshape"
   ]
  },
  {
   "cell_type": "markdown",
   "id": "a7a2b0eb",
   "metadata": {},
   "source": [
    "- .shape : 행&열 개수 나타내기\n",
    "- .reshape() : 행&열 개수 바꾸기"
   ]
  },
  {
   "cell_type": "code",
   "execution_count": 202,
   "id": "e338a973",
   "metadata": {},
   "outputs": [],
   "source": [
    "A=np.array([[1,10],[2,20],[3,30]])"
   ]
  },
  {
   "cell_type": "code",
   "execution_count": 204,
   "id": "93c04d11",
   "metadata": {},
   "outputs": [
    {
     "data": {
      "text/plain": [
       "(3, 2)"
      ]
     },
     "execution_count": 204,
     "metadata": {},
     "output_type": "execute_result"
    }
   ],
   "source": [
    "A.shape"
   ]
  },
  {
   "cell_type": "code",
   "execution_count": 208,
   "id": "7601ca50",
   "metadata": {},
   "outputs": [
    {
     "data": {
      "text/plain": [
       "array([[ 1, 10,  2],\n",
       "       [20,  3, 30]])"
      ]
     },
     "execution_count": 208,
     "metadata": {},
     "output_type": "execute_result"
    }
   ],
   "source": [
    "A.reshape(2,3) #reshape시 개수 안맞으면 에러"
   ]
  },
  {
   "cell_type": "code",
   "execution_count": 207,
   "id": "030b4fd9",
   "metadata": {},
   "outputs": [
    {
     "data": {
      "text/plain": [
       "array([[[ 1],\n",
       "        [10],\n",
       "        [ 2]],\n",
       "\n",
       "       [[20],\n",
       "        [ 3],\n",
       "        [30]]])"
      ]
     },
     "execution_count": 207,
     "metadata": {},
     "output_type": "execute_result"
    }
   ],
   "source": [
    "A.reshape(2,3,1)"
   ]
  },
  {
   "cell_type": "code",
   "execution_count": null,
   "id": "ec9b9ac2",
   "metadata": {},
   "outputs": [],
   "source": []
  }
 ],
 "metadata": {
  "kernelspec": {
   "display_name": "Python 3 (ipykernel)",
   "language": "python",
   "name": "python3"
  },
  "language_info": {
   "codemirror_mode": {
    "name": "ipython",
    "version": 3
   },
   "file_extension": ".py",
   "mimetype": "text/x-python",
   "name": "python",
   "nbconvert_exporter": "python",
   "pygments_lexer": "ipython3",
   "version": "3.9.12"
  },
  "toc": {
   "base_numbering": 1,
   "nav_menu": {},
   "number_sections": true,
   "sideBar": true,
   "skip_h1_title": false,
   "title_cell": "Table of Contents",
   "title_sidebar": "Contents",
   "toc_cell": false,
   "toc_position": {
    "height": "calc(100% - 180px)",
    "left": "10px",
    "top": "150px",
    "width": "165px"
   },
   "toc_section_display": true,
   "toc_window_display": true
  }
 },
 "nbformat": 4,
 "nbformat_minor": 5
}
