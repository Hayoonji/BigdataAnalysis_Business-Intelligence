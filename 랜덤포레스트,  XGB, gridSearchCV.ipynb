{
 "cells": [
  {
   "cell_type": "code",
   "execution_count": 5,
   "id": "139e35ed",
   "metadata": {},
   "outputs": [
    {
     "name": "stdout",
     "output_type": "stream",
     "text": [
      "(7450, 38)\n"
     ]
    },
    {
     "data": {
      "text/html": [
       "<div>\n",
       "<style scoped>\n",
       "    .dataframe tbody tr th:only-of-type {\n",
       "        vertical-align: middle;\n",
       "    }\n",
       "\n",
       "    .dataframe tbody tr th {\n",
       "        vertical-align: top;\n",
       "    }\n",
       "\n",
       "    .dataframe thead th {\n",
       "        text-align: right;\n",
       "    }\n",
       "</style>\n",
       "<table border=\"1\" class=\"dataframe\">\n",
       "  <thead>\n",
       "    <tr style=\"text-align: right;\">\n",
       "      <th></th>\n",
       "      <th>Q03_nb</th>\n",
       "      <th>sign</th>\n",
       "      <th>newid</th>\n",
       "      <th>AGE</th>\n",
       "      <th>Q01</th>\n",
       "      <th>Q03</th>\n",
       "      <th>Q051</th>\n",
       "      <th>Q131</th>\n",
       "      <th>Q131_1</th>\n",
       "      <th>Q131_2</th>\n",
       "      <th>...</th>\n",
       "      <th>Q08_2</th>\n",
       "      <th>Q08_3</th>\n",
       "      <th>Q08_4</th>\n",
       "      <th>Q08_5</th>\n",
       "      <th>Q08_6</th>\n",
       "      <th>Q08_7</th>\n",
       "      <th>Q11</th>\n",
       "      <th>Q12</th>\n",
       "      <th>JOB1</th>\n",
       "      <th>WT</th>\n",
       "    </tr>\n",
       "  </thead>\n",
       "  <tbody>\n",
       "    <tr>\n",
       "      <th>0</th>\n",
       "      <td>0</td>\n",
       "      <td>0</td>\n",
       "      <td>2892</td>\n",
       "      <td>47</td>\n",
       "      <td>4</td>\n",
       "      <td>3</td>\n",
       "      <td>1</td>\n",
       "      <td>1</td>\n",
       "      <td>1</td>\n",
       "      <td>0</td>\n",
       "      <td>...</td>\n",
       "      <td>0</td>\n",
       "      <td>0</td>\n",
       "      <td>0</td>\n",
       "      <td>0</td>\n",
       "      <td>0</td>\n",
       "      <td>1</td>\n",
       "      <td>0</td>\n",
       "      <td>0</td>\n",
       "      <td>1</td>\n",
       "      <td>1959.611111</td>\n",
       "    </tr>\n",
       "    <tr>\n",
       "      <th>1</th>\n",
       "      <td>0</td>\n",
       "      <td>0</td>\n",
       "      <td>4378</td>\n",
       "      <td>67</td>\n",
       "      <td>3</td>\n",
       "      <td>2</td>\n",
       "      <td>4</td>\n",
       "      <td>1</td>\n",
       "      <td>1</td>\n",
       "      <td>0</td>\n",
       "      <td>...</td>\n",
       "      <td>0</td>\n",
       "      <td>0</td>\n",
       "      <td>0</td>\n",
       "      <td>0</td>\n",
       "      <td>0</td>\n",
       "      <td>0</td>\n",
       "      <td>0</td>\n",
       "      <td>0</td>\n",
       "      <td>1</td>\n",
       "      <td>3883.823529</td>\n",
       "    </tr>\n",
       "    <tr>\n",
       "      <th>2</th>\n",
       "      <td>0</td>\n",
       "      <td>0</td>\n",
       "      <td>105</td>\n",
       "      <td>62</td>\n",
       "      <td>2</td>\n",
       "      <td>2</td>\n",
       "      <td>4</td>\n",
       "      <td>3</td>\n",
       "      <td>0</td>\n",
       "      <td>0</td>\n",
       "      <td>...</td>\n",
       "      <td>0</td>\n",
       "      <td>1</td>\n",
       "      <td>0</td>\n",
       "      <td>0</td>\n",
       "      <td>0</td>\n",
       "      <td>0</td>\n",
       "      <td>0</td>\n",
       "      <td>0</td>\n",
       "      <td>0</td>\n",
       "      <td>9410.586207</td>\n",
       "    </tr>\n",
       "    <tr>\n",
       "      <th>3</th>\n",
       "      <td>0</td>\n",
       "      <td>0</td>\n",
       "      <td>3342</td>\n",
       "      <td>50</td>\n",
       "      <td>2</td>\n",
       "      <td>2</td>\n",
       "      <td>2</td>\n",
       "      <td>2</td>\n",
       "      <td>0</td>\n",
       "      <td>1</td>\n",
       "      <td>...</td>\n",
       "      <td>0</td>\n",
       "      <td>0</td>\n",
       "      <td>0</td>\n",
       "      <td>0</td>\n",
       "      <td>0</td>\n",
       "      <td>1</td>\n",
       "      <td>0</td>\n",
       "      <td>0</td>\n",
       "      <td>1</td>\n",
       "      <td>11299.070710</td>\n",
       "    </tr>\n",
       "    <tr>\n",
       "      <th>4</th>\n",
       "      <td>0</td>\n",
       "      <td>0</td>\n",
       "      <td>1628</td>\n",
       "      <td>72</td>\n",
       "      <td>3</td>\n",
       "      <td>3</td>\n",
       "      <td>3</td>\n",
       "      <td>5</td>\n",
       "      <td>0</td>\n",
       "      <td>0</td>\n",
       "      <td>...</td>\n",
       "      <td>0</td>\n",
       "      <td>0</td>\n",
       "      <td>0</td>\n",
       "      <td>0</td>\n",
       "      <td>0</td>\n",
       "      <td>0</td>\n",
       "      <td>0</td>\n",
       "      <td>1</td>\n",
       "      <td>0</td>\n",
       "      <td>4397.861111</td>\n",
       "    </tr>\n",
       "    <tr>\n",
       "      <th>...</th>\n",
       "      <td>...</td>\n",
       "      <td>...</td>\n",
       "      <td>...</td>\n",
       "      <td>...</td>\n",
       "      <td>...</td>\n",
       "      <td>...</td>\n",
       "      <td>...</td>\n",
       "      <td>...</td>\n",
       "      <td>...</td>\n",
       "      <td>...</td>\n",
       "      <td>...</td>\n",
       "      <td>...</td>\n",
       "      <td>...</td>\n",
       "      <td>...</td>\n",
       "      <td>...</td>\n",
       "      <td>...</td>\n",
       "      <td>...</td>\n",
       "      <td>...</td>\n",
       "      <td>...</td>\n",
       "      <td>...</td>\n",
       "      <td>...</td>\n",
       "    </tr>\n",
       "    <tr>\n",
       "      <th>7445</th>\n",
       "      <td>1</td>\n",
       "      <td>1</td>\n",
       "      <td>7587</td>\n",
       "      <td>35</td>\n",
       "      <td>4</td>\n",
       "      <td>4</td>\n",
       "      <td>2</td>\n",
       "      <td>1</td>\n",
       "      <td>1</td>\n",
       "      <td>0</td>\n",
       "      <td>...</td>\n",
       "      <td>0</td>\n",
       "      <td>1</td>\n",
       "      <td>0</td>\n",
       "      <td>0</td>\n",
       "      <td>0</td>\n",
       "      <td>0</td>\n",
       "      <td>0</td>\n",
       "      <td>0</td>\n",
       "      <td>1</td>\n",
       "      <td>1771.705882</td>\n",
       "    </tr>\n",
       "    <tr>\n",
       "      <th>7446</th>\n",
       "      <td>1</td>\n",
       "      <td>1</td>\n",
       "      <td>2686</td>\n",
       "      <td>63</td>\n",
       "      <td>4</td>\n",
       "      <td>4</td>\n",
       "      <td>4</td>\n",
       "      <td>5</td>\n",
       "      <td>0</td>\n",
       "      <td>0</td>\n",
       "      <td>...</td>\n",
       "      <td>0</td>\n",
       "      <td>0</td>\n",
       "      <td>0</td>\n",
       "      <td>0</td>\n",
       "      <td>0</td>\n",
       "      <td>0</td>\n",
       "      <td>0</td>\n",
       "      <td>0</td>\n",
       "      <td>1</td>\n",
       "      <td>4164.371429</td>\n",
       "    </tr>\n",
       "    <tr>\n",
       "      <th>7447</th>\n",
       "      <td>1</td>\n",
       "      <td>1</td>\n",
       "      <td>6768</td>\n",
       "      <td>37</td>\n",
       "      <td>4</td>\n",
       "      <td>4</td>\n",
       "      <td>4</td>\n",
       "      <td>5</td>\n",
       "      <td>0</td>\n",
       "      <td>0</td>\n",
       "      <td>...</td>\n",
       "      <td>0</td>\n",
       "      <td>0</td>\n",
       "      <td>0</td>\n",
       "      <td>0</td>\n",
       "      <td>0</td>\n",
       "      <td>0</td>\n",
       "      <td>0</td>\n",
       "      <td>0</td>\n",
       "      <td>1</td>\n",
       "      <td>3220.148148</td>\n",
       "    </tr>\n",
       "    <tr>\n",
       "      <th>7448</th>\n",
       "      <td>1</td>\n",
       "      <td>1</td>\n",
       "      <td>1296</td>\n",
       "      <td>19</td>\n",
       "      <td>5</td>\n",
       "      <td>5</td>\n",
       "      <td>4</td>\n",
       "      <td>1</td>\n",
       "      <td>1</td>\n",
       "      <td>0</td>\n",
       "      <td>...</td>\n",
       "      <td>0</td>\n",
       "      <td>0</td>\n",
       "      <td>1</td>\n",
       "      <td>0</td>\n",
       "      <td>0</td>\n",
       "      <td>0</td>\n",
       "      <td>0</td>\n",
       "      <td>0</td>\n",
       "      <td>0</td>\n",
       "      <td>3563.937500</td>\n",
       "    </tr>\n",
       "    <tr>\n",
       "      <th>7449</th>\n",
       "      <td>1</td>\n",
       "      <td>1</td>\n",
       "      <td>1141</td>\n",
       "      <td>34</td>\n",
       "      <td>4</td>\n",
       "      <td>4</td>\n",
       "      <td>4</td>\n",
       "      <td>1</td>\n",
       "      <td>1</td>\n",
       "      <td>0</td>\n",
       "      <td>...</td>\n",
       "      <td>1</td>\n",
       "      <td>0</td>\n",
       "      <td>0</td>\n",
       "      <td>0</td>\n",
       "      <td>0</td>\n",
       "      <td>0</td>\n",
       "      <td>1</td>\n",
       "      <td>1</td>\n",
       "      <td>0</td>\n",
       "      <td>4152.735294</td>\n",
       "    </tr>\n",
       "  </tbody>\n",
       "</table>\n",
       "<p>7450 rows × 38 columns</p>\n",
       "</div>"
      ],
      "text/plain": [
       "      Q03_nb  sign  newid  AGE  Q01  Q03  Q051  Q131  Q131_1  Q131_2  ...  \\\n",
       "0          0     0   2892   47    4    3     1     1       1       0  ...   \n",
       "1          0     0   4378   67    3    2     4     1       1       0  ...   \n",
       "2          0     0    105   62    2    2     4     3       0       0  ...   \n",
       "3          0     0   3342   50    2    2     2     2       0       1  ...   \n",
       "4          0     0   1628   72    3    3     3     5       0       0  ...   \n",
       "...      ...   ...    ...  ...  ...  ...   ...   ...     ...     ...  ...   \n",
       "7445       1     1   7587   35    4    4     2     1       1       0  ...   \n",
       "7446       1     1   2686   63    4    4     4     5       0       0  ...   \n",
       "7447       1     1   6768   37    4    4     4     5       0       0  ...   \n",
       "7448       1     1   1296   19    5    5     4     1       1       0  ...   \n",
       "7449       1     1   1141   34    4    4     4     1       1       0  ...   \n",
       "\n",
       "      Q08_2  Q08_3  Q08_4  Q08_5  Q08_6  Q08_7  Q11  Q12  JOB1            WT  \n",
       "0         0      0      0      0      0      1    0    0     1   1959.611111  \n",
       "1         0      0      0      0      0      0    0    0     1   3883.823529  \n",
       "2         0      1      0      0      0      0    0    0     0   9410.586207  \n",
       "3         0      0      0      0      0      1    0    0     1  11299.070710  \n",
       "4         0      0      0      0      0      0    0    1     0   4397.861111  \n",
       "...     ...    ...    ...    ...    ...    ...  ...  ...   ...           ...  \n",
       "7445      0      1      0      0      0      0    0    0     1   1771.705882  \n",
       "7446      0      0      0      0      0      0    0    0     1   4164.371429  \n",
       "7447      0      0      0      0      0      0    0    0     1   3220.148148  \n",
       "7448      0      0      1      0      0      0    0    0     0   3563.937500  \n",
       "7449      1      0      0      0      0      0    1    1     0   4152.735294  \n",
       "\n",
       "[7450 rows x 38 columns]"
      ]
     },
     "execution_count": 5,
     "metadata": {},
     "output_type": "execute_result"
    }
   ],
   "source": [
    "import pandas as pd\n",
    "from sklearn.metrics import accuracy_score\n",
    "sports = pd.read_csv(\"plz2.csv\")\n",
    "print(sports.shape)\n",
    "sports"
   ]
  },
  {
   "cell_type": "code",
   "execution_count": 6,
   "id": "df25d57e",
   "metadata": {},
   "outputs": [],
   "source": [
    "features=sports[['Q03_nb','AGE','Q131_1','Q131_2','Q131_3','Q131_4','Q131_5','add0','add1','add2','else','Q08_1','Q08_2','Q08_3','Q08_4','Q08_5','Q08_6']]\n",
    "know=sports['Q32_b']\n",
    "from sklearn.model_selection import train_test_split\n",
    "X_train, X_test, y_train, y_test = train_test_split(features, know,random_state=0)"
   ]
  },
  {
   "cell_type": "code",
   "execution_count": 7,
   "id": "e79be113",
   "metadata": {},
   "outputs": [],
   "source": [
    "from sklearn.ensemble import RandomForestClassifier"
   ]
  },
  {
   "cell_type": "code",
   "execution_count": 4,
   "id": "8c5d6793",
   "metadata": {},
   "outputs": [],
   "source": [
    "rf=RandomForestClassifier(n_jobs=-1)"
   ]
  },
  {
   "cell_type": "code",
   "execution_count": 5,
   "id": "e6a29126",
   "metadata": {},
   "outputs": [
    {
     "data": {
      "text/plain": [
       "RandomForestClassifier()"
      ]
     },
     "execution_count": 5,
     "metadata": {},
     "output_type": "execute_result"
    }
   ],
   "source": [
    "rf.fit(X_train, y_train)"
   ]
  },
  {
   "cell_type": "code",
   "execution_count": 6,
   "id": "b98749e8",
   "metadata": {},
   "outputs": [],
   "source": [
    "features=X_train.columns.values"
   ]
  },
  {
   "cell_type": "code",
   "execution_count": 8,
   "id": "1d1e1ee2",
   "metadata": {},
   "outputs": [
    {
     "data": {
      "text/plain": [
       "0.8223295759527643"
      ]
     },
     "execution_count": 8,
     "metadata": {},
     "output_type": "execute_result"
    }
   ],
   "source": [
    "rf.score(X_test,y_test)"
   ]
  },
  {
   "cell_type": "code",
   "execution_count": 12,
   "id": "98eadc14",
   "metadata": {},
   "outputs": [
    {
     "data": {
      "application/vnd.plotly.v1+json": {
       "config": {
        "linkText": "Export to plot.ly",
        "plotlyServerURL": "https://plot.ly",
        "showLink": false
       },
       "data": [
        {
         "marker": {
          "color": [
           0.0048901236393060835,
           0.005699009595016722,
           0.0067380409603708825,
           0.009200342073621231,
           0.010489842210818166,
           0.0109085937302971,
           0.011021557896728578,
           0.01108072806591478,
           0.01131856530693345,
           0.012712908329730387,
           0.025050391916344963,
           0.06030858667986154,
           0.06798139804323373,
           0.11105696349205274,
           0.1340444003845513,
           0.1400774322542496,
           0.3674211154209687
          ],
          "colorscale": [
           [
            0,
            "#440154"
           ],
           [
            0.1111111111111111,
            "#482878"
           ],
           [
            0.2222222222222222,
            "#3e4989"
           ],
           [
            0.3333333333333333,
            "#31688e"
           ],
           [
            0.4444444444444444,
            "#26828e"
           ],
           [
            0.5555555555555556,
            "#1f9e89"
           ],
           [
            0.6666666666666666,
            "#35b779"
           ],
           [
            0.7777777777777778,
            "#6ece58"
           ],
           [
            0.8888888888888888,
            "#b5de2b"
           ],
           [
            1,
            "#fde725"
           ]
          ],
          "reversescale": true
         },
         "name": "Random Forest Feature Importance",
         "orientation": "h",
         "type": "bar",
         "x": [
          0.0048901236393060835,
          0.005699009595016722,
          0.0067380409603708825,
          0.009200342073621231,
          0.010489842210818166,
          0.0109085937302971,
          0.011021557896728578,
          0.01108072806591478,
          0.01131856530693345,
          0.012712908329730387,
          0.025050391916344963,
          0.06030858667986154,
          0.06798139804323373,
          0.11105696349205274,
          0.1340444003845513,
          0.1400774322542496,
          0.3674211154209687
         ],
         "y": [
          "Q131_3",
          "add0",
          "Q131_4",
          "add2",
          "Q08_5",
          "Q131_2",
          "Q131_5",
          "Q131_1",
          "add1",
          "else",
          "Q03_nb",
          "Q08_6",
          "Q08_4",
          "Q08_3",
          "Q08_2",
          "Q08_1",
          "AGE"
         ]
        }
       ],
       "layout": {
        "height": 1000,
        "template": {
         "data": {
          "bar": [
           {
            "error_x": {
             "color": "#2a3f5f"
            },
            "error_y": {
             "color": "#2a3f5f"
            },
            "marker": {
             "line": {
              "color": "#E5ECF6",
              "width": 0.5
             },
             "pattern": {
              "fillmode": "overlay",
              "size": 10,
              "solidity": 0.2
             }
            },
            "type": "bar"
           }
          ],
          "barpolar": [
           {
            "marker": {
             "line": {
              "color": "#E5ECF6",
              "width": 0.5
             },
             "pattern": {
              "fillmode": "overlay",
              "size": 10,
              "solidity": 0.2
             }
            },
            "type": "barpolar"
           }
          ],
          "carpet": [
           {
            "aaxis": {
             "endlinecolor": "#2a3f5f",
             "gridcolor": "white",
             "linecolor": "white",
             "minorgridcolor": "white",
             "startlinecolor": "#2a3f5f"
            },
            "baxis": {
             "endlinecolor": "#2a3f5f",
             "gridcolor": "white",
             "linecolor": "white",
             "minorgridcolor": "white",
             "startlinecolor": "#2a3f5f"
            },
            "type": "carpet"
           }
          ],
          "choropleth": [
           {
            "colorbar": {
             "outlinewidth": 0,
             "ticks": ""
            },
            "type": "choropleth"
           }
          ],
          "contour": [
           {
            "colorbar": {
             "outlinewidth": 0,
             "ticks": ""
            },
            "colorscale": [
             [
              0,
              "#0d0887"
             ],
             [
              0.1111111111111111,
              "#46039f"
             ],
             [
              0.2222222222222222,
              "#7201a8"
             ],
             [
              0.3333333333333333,
              "#9c179e"
             ],
             [
              0.4444444444444444,
              "#bd3786"
             ],
             [
              0.5555555555555556,
              "#d8576b"
             ],
             [
              0.6666666666666666,
              "#ed7953"
             ],
             [
              0.7777777777777778,
              "#fb9f3a"
             ],
             [
              0.8888888888888888,
              "#fdca26"
             ],
             [
              1,
              "#f0f921"
             ]
            ],
            "type": "contour"
           }
          ],
          "contourcarpet": [
           {
            "colorbar": {
             "outlinewidth": 0,
             "ticks": ""
            },
            "type": "contourcarpet"
           }
          ],
          "heatmap": [
           {
            "colorbar": {
             "outlinewidth": 0,
             "ticks": ""
            },
            "colorscale": [
             [
              0,
              "#0d0887"
             ],
             [
              0.1111111111111111,
              "#46039f"
             ],
             [
              0.2222222222222222,
              "#7201a8"
             ],
             [
              0.3333333333333333,
              "#9c179e"
             ],
             [
              0.4444444444444444,
              "#bd3786"
             ],
             [
              0.5555555555555556,
              "#d8576b"
             ],
             [
              0.6666666666666666,
              "#ed7953"
             ],
             [
              0.7777777777777778,
              "#fb9f3a"
             ],
             [
              0.8888888888888888,
              "#fdca26"
             ],
             [
              1,
              "#f0f921"
             ]
            ],
            "type": "heatmap"
           }
          ],
          "heatmapgl": [
           {
            "colorbar": {
             "outlinewidth": 0,
             "ticks": ""
            },
            "colorscale": [
             [
              0,
              "#0d0887"
             ],
             [
              0.1111111111111111,
              "#46039f"
             ],
             [
              0.2222222222222222,
              "#7201a8"
             ],
             [
              0.3333333333333333,
              "#9c179e"
             ],
             [
              0.4444444444444444,
              "#bd3786"
             ],
             [
              0.5555555555555556,
              "#d8576b"
             ],
             [
              0.6666666666666666,
              "#ed7953"
             ],
             [
              0.7777777777777778,
              "#fb9f3a"
             ],
             [
              0.8888888888888888,
              "#fdca26"
             ],
             [
              1,
              "#f0f921"
             ]
            ],
            "type": "heatmapgl"
           }
          ],
          "histogram": [
           {
            "marker": {
             "pattern": {
              "fillmode": "overlay",
              "size": 10,
              "solidity": 0.2
             }
            },
            "type": "histogram"
           }
          ],
          "histogram2d": [
           {
            "colorbar": {
             "outlinewidth": 0,
             "ticks": ""
            },
            "colorscale": [
             [
              0,
              "#0d0887"
             ],
             [
              0.1111111111111111,
              "#46039f"
             ],
             [
              0.2222222222222222,
              "#7201a8"
             ],
             [
              0.3333333333333333,
              "#9c179e"
             ],
             [
              0.4444444444444444,
              "#bd3786"
             ],
             [
              0.5555555555555556,
              "#d8576b"
             ],
             [
              0.6666666666666666,
              "#ed7953"
             ],
             [
              0.7777777777777778,
              "#fb9f3a"
             ],
             [
              0.8888888888888888,
              "#fdca26"
             ],
             [
              1,
              "#f0f921"
             ]
            ],
            "type": "histogram2d"
           }
          ],
          "histogram2dcontour": [
           {
            "colorbar": {
             "outlinewidth": 0,
             "ticks": ""
            },
            "colorscale": [
             [
              0,
              "#0d0887"
             ],
             [
              0.1111111111111111,
              "#46039f"
             ],
             [
              0.2222222222222222,
              "#7201a8"
             ],
             [
              0.3333333333333333,
              "#9c179e"
             ],
             [
              0.4444444444444444,
              "#bd3786"
             ],
             [
              0.5555555555555556,
              "#d8576b"
             ],
             [
              0.6666666666666666,
              "#ed7953"
             ],
             [
              0.7777777777777778,
              "#fb9f3a"
             ],
             [
              0.8888888888888888,
              "#fdca26"
             ],
             [
              1,
              "#f0f921"
             ]
            ],
            "type": "histogram2dcontour"
           }
          ],
          "mesh3d": [
           {
            "colorbar": {
             "outlinewidth": 0,
             "ticks": ""
            },
            "type": "mesh3d"
           }
          ],
          "parcoords": [
           {
            "line": {
             "colorbar": {
              "outlinewidth": 0,
              "ticks": ""
             }
            },
            "type": "parcoords"
           }
          ],
          "pie": [
           {
            "automargin": true,
            "type": "pie"
           }
          ],
          "scatter": [
           {
            "marker": {
             "colorbar": {
              "outlinewidth": 0,
              "ticks": ""
             }
            },
            "type": "scatter"
           }
          ],
          "scatter3d": [
           {
            "line": {
             "colorbar": {
              "outlinewidth": 0,
              "ticks": ""
             }
            },
            "marker": {
             "colorbar": {
              "outlinewidth": 0,
              "ticks": ""
             }
            },
            "type": "scatter3d"
           }
          ],
          "scattercarpet": [
           {
            "marker": {
             "colorbar": {
              "outlinewidth": 0,
              "ticks": ""
             }
            },
            "type": "scattercarpet"
           }
          ],
          "scattergeo": [
           {
            "marker": {
             "colorbar": {
              "outlinewidth": 0,
              "ticks": ""
             }
            },
            "type": "scattergeo"
           }
          ],
          "scattergl": [
           {
            "marker": {
             "colorbar": {
              "outlinewidth": 0,
              "ticks": ""
             }
            },
            "type": "scattergl"
           }
          ],
          "scattermapbox": [
           {
            "marker": {
             "colorbar": {
              "outlinewidth": 0,
              "ticks": ""
             }
            },
            "type": "scattermapbox"
           }
          ],
          "scatterpolar": [
           {
            "marker": {
             "colorbar": {
              "outlinewidth": 0,
              "ticks": ""
             }
            },
            "type": "scatterpolar"
           }
          ],
          "scatterpolargl": [
           {
            "marker": {
             "colorbar": {
              "outlinewidth": 0,
              "ticks": ""
             }
            },
            "type": "scatterpolargl"
           }
          ],
          "scatterternary": [
           {
            "marker": {
             "colorbar": {
              "outlinewidth": 0,
              "ticks": ""
             }
            },
            "type": "scatterternary"
           }
          ],
          "surface": [
           {
            "colorbar": {
             "outlinewidth": 0,
             "ticks": ""
            },
            "colorscale": [
             [
              0,
              "#0d0887"
             ],
             [
              0.1111111111111111,
              "#46039f"
             ],
             [
              0.2222222222222222,
              "#7201a8"
             ],
             [
              0.3333333333333333,
              "#9c179e"
             ],
             [
              0.4444444444444444,
              "#bd3786"
             ],
             [
              0.5555555555555556,
              "#d8576b"
             ],
             [
              0.6666666666666666,
              "#ed7953"
             ],
             [
              0.7777777777777778,
              "#fb9f3a"
             ],
             [
              0.8888888888888888,
              "#fdca26"
             ],
             [
              1,
              "#f0f921"
             ]
            ],
            "type": "surface"
           }
          ],
          "table": [
           {
            "cells": {
             "fill": {
              "color": "#EBF0F8"
             },
             "line": {
              "color": "white"
             }
            },
            "header": {
             "fill": {
              "color": "#C8D4E3"
             },
             "line": {
              "color": "white"
             }
            },
            "type": "table"
           }
          ]
         },
         "layout": {
          "annotationdefaults": {
           "arrowcolor": "#2a3f5f",
           "arrowhead": 0,
           "arrowwidth": 1
          },
          "autotypenumbers": "strict",
          "coloraxis": {
           "colorbar": {
            "outlinewidth": 0,
            "ticks": ""
           }
          },
          "colorscale": {
           "diverging": [
            [
             0,
             "#8e0152"
            ],
            [
             0.1,
             "#c51b7d"
            ],
            [
             0.2,
             "#de77ae"
            ],
            [
             0.3,
             "#f1b6da"
            ],
            [
             0.4,
             "#fde0ef"
            ],
            [
             0.5,
             "#f7f7f7"
            ],
            [
             0.6,
             "#e6f5d0"
            ],
            [
             0.7,
             "#b8e186"
            ],
            [
             0.8,
             "#7fbc41"
            ],
            [
             0.9,
             "#4d9221"
            ],
            [
             1,
             "#276419"
            ]
           ],
           "sequential": [
            [
             0,
             "#0d0887"
            ],
            [
             0.1111111111111111,
             "#46039f"
            ],
            [
             0.2222222222222222,
             "#7201a8"
            ],
            [
             0.3333333333333333,
             "#9c179e"
            ],
            [
             0.4444444444444444,
             "#bd3786"
            ],
            [
             0.5555555555555556,
             "#d8576b"
            ],
            [
             0.6666666666666666,
             "#ed7953"
            ],
            [
             0.7777777777777778,
             "#fb9f3a"
            ],
            [
             0.8888888888888888,
             "#fdca26"
            ],
            [
             1,
             "#f0f921"
            ]
           ],
           "sequentialminus": [
            [
             0,
             "#0d0887"
            ],
            [
             0.1111111111111111,
             "#46039f"
            ],
            [
             0.2222222222222222,
             "#7201a8"
            ],
            [
             0.3333333333333333,
             "#9c179e"
            ],
            [
             0.4444444444444444,
             "#bd3786"
            ],
            [
             0.5555555555555556,
             "#d8576b"
            ],
            [
             0.6666666666666666,
             "#ed7953"
            ],
            [
             0.7777777777777778,
             "#fb9f3a"
            ],
            [
             0.8888888888888888,
             "#fdca26"
            ],
            [
             1,
             "#f0f921"
            ]
           ]
          },
          "colorway": [
           "#636efa",
           "#EF553B",
           "#00cc96",
           "#ab63fa",
           "#FFA15A",
           "#19d3f3",
           "#FF6692",
           "#B6E880",
           "#FF97FF",
           "#FECB52"
          ],
          "font": {
           "color": "#2a3f5f"
          },
          "geo": {
           "bgcolor": "white",
           "lakecolor": "white",
           "landcolor": "#E5ECF6",
           "showlakes": true,
           "showland": true,
           "subunitcolor": "white"
          },
          "hoverlabel": {
           "align": "left"
          },
          "hovermode": "closest",
          "mapbox": {
           "style": "light"
          },
          "paper_bgcolor": "white",
          "plot_bgcolor": "#E5ECF6",
          "polar": {
           "angularaxis": {
            "gridcolor": "white",
            "linecolor": "white",
            "ticks": ""
           },
           "bgcolor": "#E5ECF6",
           "radialaxis": {
            "gridcolor": "white",
            "linecolor": "white",
            "ticks": ""
           }
          },
          "scene": {
           "xaxis": {
            "backgroundcolor": "#E5ECF6",
            "gridcolor": "white",
            "gridwidth": 2,
            "linecolor": "white",
            "showbackground": true,
            "ticks": "",
            "zerolinecolor": "white"
           },
           "yaxis": {
            "backgroundcolor": "#E5ECF6",
            "gridcolor": "white",
            "gridwidth": 2,
            "linecolor": "white",
            "showbackground": true,
            "ticks": "",
            "zerolinecolor": "white"
           },
           "zaxis": {
            "backgroundcolor": "#E5ECF6",
            "gridcolor": "white",
            "gridwidth": 2,
            "linecolor": "white",
            "showbackground": true,
            "ticks": "",
            "zerolinecolor": "white"
           }
          },
          "shapedefaults": {
           "line": {
            "color": "#2a3f5f"
           }
          },
          "ternary": {
           "aaxis": {
            "gridcolor": "white",
            "linecolor": "white",
            "ticks": ""
           },
           "baxis": {
            "gridcolor": "white",
            "linecolor": "white",
            "ticks": ""
           },
           "bgcolor": "#E5ECF6",
           "caxis": {
            "gridcolor": "white",
            "linecolor": "white",
            "ticks": ""
           }
          },
          "title": {
           "x": 0.05
          },
          "xaxis": {
           "automargin": true,
           "gridcolor": "white",
           "linecolor": "white",
           "ticks": "",
           "title": {
            "standoff": 15
           },
           "zerolinecolor": "white",
           "zerolinewidth": 2
          },
          "yaxis": {
           "automargin": true,
           "gridcolor": "white",
           "linecolor": "white",
           "ticks": "",
           "title": {
            "standoff": 15
           },
           "zerolinecolor": "white",
           "zerolinewidth": 2
          }
         }
        },
        "title": {
         "text": "Barplot of Feature Importance"
        },
        "width": 500,
        "yaxis": {
         "domain": [
          0,
          0.85
         ],
         "showgrid": false,
         "showline": false,
         "showticklabels": true
        }
       }
      },
      "text/html": [
       "<div>                            <div id=\"9d3446fd-ddbb-404d-8942-ee4acf43d7c4\" class=\"plotly-graph-div\" style=\"height:1000px; width:500px;\"></div>            <script type=\"text/javascript\">                require([\"plotly\"], function(Plotly) {                    window.PLOTLYENV=window.PLOTLYENV || {};                                    if (document.getElementById(\"9d3446fd-ddbb-404d-8942-ee4acf43d7c4\")) {                    Plotly.newPlot(                        \"9d3446fd-ddbb-404d-8942-ee4acf43d7c4\",                        [{\"marker\":{\"color\":[0.0048901236393060835,0.005699009595016722,0.0067380409603708825,0.009200342073621231,0.010489842210818166,0.0109085937302971,0.011021557896728578,0.01108072806591478,0.01131856530693345,0.012712908329730387,0.025050391916344963,0.06030858667986154,0.06798139804323373,0.11105696349205274,0.1340444003845513,0.1400774322542496,0.3674211154209687],\"colorscale\":[[0.0,\"#440154\"],[0.1111111111111111,\"#482878\"],[0.2222222222222222,\"#3e4989\"],[0.3333333333333333,\"#31688e\"],[0.4444444444444444,\"#26828e\"],[0.5555555555555556,\"#1f9e89\"],[0.6666666666666666,\"#35b779\"],[0.7777777777777778,\"#6ece58\"],[0.8888888888888888,\"#b5de2b\"],[1.0,\"#fde725\"]],\"reversescale\":true},\"name\":\"Random Forest Feature Importance\",\"orientation\":\"h\",\"x\":[0.0048901236393060835,0.005699009595016722,0.0067380409603708825,0.009200342073621231,0.010489842210818166,0.0109085937302971,0.011021557896728578,0.01108072806591478,0.01131856530693345,0.012712908329730387,0.025050391916344963,0.06030858667986154,0.06798139804323373,0.11105696349205274,0.1340444003845513,0.1400774322542496,0.3674211154209687],\"y\":[\"Q131_3\",\"add0\",\"Q131_4\",\"add2\",\"Q08_5\",\"Q131_2\",\"Q131_5\",\"Q131_1\",\"add1\",\"else\",\"Q03_nb\",\"Q08_6\",\"Q08_4\",\"Q08_3\",\"Q08_2\",\"Q08_1\",\"AGE\"],\"type\":\"bar\"}],                        {\"height\":1000,\"template\":{\"data\":{\"barpolar\":[{\"marker\":{\"line\":{\"color\":\"#E5ECF6\",\"width\":0.5},\"pattern\":{\"fillmode\":\"overlay\",\"size\":10,\"solidity\":0.2}},\"type\":\"barpolar\"}],\"bar\":[{\"error_x\":{\"color\":\"#2a3f5f\"},\"error_y\":{\"color\":\"#2a3f5f\"},\"marker\":{\"line\":{\"color\":\"#E5ECF6\",\"width\":0.5},\"pattern\":{\"fillmode\":\"overlay\",\"size\":10,\"solidity\":0.2}},\"type\":\"bar\"}],\"carpet\":[{\"aaxis\":{\"endlinecolor\":\"#2a3f5f\",\"gridcolor\":\"white\",\"linecolor\":\"white\",\"minorgridcolor\":\"white\",\"startlinecolor\":\"#2a3f5f\"},\"baxis\":{\"endlinecolor\":\"#2a3f5f\",\"gridcolor\":\"white\",\"linecolor\":\"white\",\"minorgridcolor\":\"white\",\"startlinecolor\":\"#2a3f5f\"},\"type\":\"carpet\"}],\"choropleth\":[{\"colorbar\":{\"outlinewidth\":0,\"ticks\":\"\"},\"type\":\"choropleth\"}],\"contourcarpet\":[{\"colorbar\":{\"outlinewidth\":0,\"ticks\":\"\"},\"type\":\"contourcarpet\"}],\"contour\":[{\"colorbar\":{\"outlinewidth\":0,\"ticks\":\"\"},\"colorscale\":[[0.0,\"#0d0887\"],[0.1111111111111111,\"#46039f\"],[0.2222222222222222,\"#7201a8\"],[0.3333333333333333,\"#9c179e\"],[0.4444444444444444,\"#bd3786\"],[0.5555555555555556,\"#d8576b\"],[0.6666666666666666,\"#ed7953\"],[0.7777777777777778,\"#fb9f3a\"],[0.8888888888888888,\"#fdca26\"],[1.0,\"#f0f921\"]],\"type\":\"contour\"}],\"heatmapgl\":[{\"colorbar\":{\"outlinewidth\":0,\"ticks\":\"\"},\"colorscale\":[[0.0,\"#0d0887\"],[0.1111111111111111,\"#46039f\"],[0.2222222222222222,\"#7201a8\"],[0.3333333333333333,\"#9c179e\"],[0.4444444444444444,\"#bd3786\"],[0.5555555555555556,\"#d8576b\"],[0.6666666666666666,\"#ed7953\"],[0.7777777777777778,\"#fb9f3a\"],[0.8888888888888888,\"#fdca26\"],[1.0,\"#f0f921\"]],\"type\":\"heatmapgl\"}],\"heatmap\":[{\"colorbar\":{\"outlinewidth\":0,\"ticks\":\"\"},\"colorscale\":[[0.0,\"#0d0887\"],[0.1111111111111111,\"#46039f\"],[0.2222222222222222,\"#7201a8\"],[0.3333333333333333,\"#9c179e\"],[0.4444444444444444,\"#bd3786\"],[0.5555555555555556,\"#d8576b\"],[0.6666666666666666,\"#ed7953\"],[0.7777777777777778,\"#fb9f3a\"],[0.8888888888888888,\"#fdca26\"],[1.0,\"#f0f921\"]],\"type\":\"heatmap\"}],\"histogram2dcontour\":[{\"colorbar\":{\"outlinewidth\":0,\"ticks\":\"\"},\"colorscale\":[[0.0,\"#0d0887\"],[0.1111111111111111,\"#46039f\"],[0.2222222222222222,\"#7201a8\"],[0.3333333333333333,\"#9c179e\"],[0.4444444444444444,\"#bd3786\"],[0.5555555555555556,\"#d8576b\"],[0.6666666666666666,\"#ed7953\"],[0.7777777777777778,\"#fb9f3a\"],[0.8888888888888888,\"#fdca26\"],[1.0,\"#f0f921\"]],\"type\":\"histogram2dcontour\"}],\"histogram2d\":[{\"colorbar\":{\"outlinewidth\":0,\"ticks\":\"\"},\"colorscale\":[[0.0,\"#0d0887\"],[0.1111111111111111,\"#46039f\"],[0.2222222222222222,\"#7201a8\"],[0.3333333333333333,\"#9c179e\"],[0.4444444444444444,\"#bd3786\"],[0.5555555555555556,\"#d8576b\"],[0.6666666666666666,\"#ed7953\"],[0.7777777777777778,\"#fb9f3a\"],[0.8888888888888888,\"#fdca26\"],[1.0,\"#f0f921\"]],\"type\":\"histogram2d\"}],\"histogram\":[{\"marker\":{\"pattern\":{\"fillmode\":\"overlay\",\"size\":10,\"solidity\":0.2}},\"type\":\"histogram\"}],\"mesh3d\":[{\"colorbar\":{\"outlinewidth\":0,\"ticks\":\"\"},\"type\":\"mesh3d\"}],\"parcoords\":[{\"line\":{\"colorbar\":{\"outlinewidth\":0,\"ticks\":\"\"}},\"type\":\"parcoords\"}],\"pie\":[{\"automargin\":true,\"type\":\"pie\"}],\"scatter3d\":[{\"line\":{\"colorbar\":{\"outlinewidth\":0,\"ticks\":\"\"}},\"marker\":{\"colorbar\":{\"outlinewidth\":0,\"ticks\":\"\"}},\"type\":\"scatter3d\"}],\"scattercarpet\":[{\"marker\":{\"colorbar\":{\"outlinewidth\":0,\"ticks\":\"\"}},\"type\":\"scattercarpet\"}],\"scattergeo\":[{\"marker\":{\"colorbar\":{\"outlinewidth\":0,\"ticks\":\"\"}},\"type\":\"scattergeo\"}],\"scattergl\":[{\"marker\":{\"colorbar\":{\"outlinewidth\":0,\"ticks\":\"\"}},\"type\":\"scattergl\"}],\"scattermapbox\":[{\"marker\":{\"colorbar\":{\"outlinewidth\":0,\"ticks\":\"\"}},\"type\":\"scattermapbox\"}],\"scatterpolargl\":[{\"marker\":{\"colorbar\":{\"outlinewidth\":0,\"ticks\":\"\"}},\"type\":\"scatterpolargl\"}],\"scatterpolar\":[{\"marker\":{\"colorbar\":{\"outlinewidth\":0,\"ticks\":\"\"}},\"type\":\"scatterpolar\"}],\"scatter\":[{\"marker\":{\"colorbar\":{\"outlinewidth\":0,\"ticks\":\"\"}},\"type\":\"scatter\"}],\"scatterternary\":[{\"marker\":{\"colorbar\":{\"outlinewidth\":0,\"ticks\":\"\"}},\"type\":\"scatterternary\"}],\"surface\":[{\"colorbar\":{\"outlinewidth\":0,\"ticks\":\"\"},\"colorscale\":[[0.0,\"#0d0887\"],[0.1111111111111111,\"#46039f\"],[0.2222222222222222,\"#7201a8\"],[0.3333333333333333,\"#9c179e\"],[0.4444444444444444,\"#bd3786\"],[0.5555555555555556,\"#d8576b\"],[0.6666666666666666,\"#ed7953\"],[0.7777777777777778,\"#fb9f3a\"],[0.8888888888888888,\"#fdca26\"],[1.0,\"#f0f921\"]],\"type\":\"surface\"}],\"table\":[{\"cells\":{\"fill\":{\"color\":\"#EBF0F8\"},\"line\":{\"color\":\"white\"}},\"header\":{\"fill\":{\"color\":\"#C8D4E3\"},\"line\":{\"color\":\"white\"}},\"type\":\"table\"}]},\"layout\":{\"annotationdefaults\":{\"arrowcolor\":\"#2a3f5f\",\"arrowhead\":0,\"arrowwidth\":1},\"autotypenumbers\":\"strict\",\"coloraxis\":{\"colorbar\":{\"outlinewidth\":0,\"ticks\":\"\"}},\"colorscale\":{\"diverging\":[[0,\"#8e0152\"],[0.1,\"#c51b7d\"],[0.2,\"#de77ae\"],[0.3,\"#f1b6da\"],[0.4,\"#fde0ef\"],[0.5,\"#f7f7f7\"],[0.6,\"#e6f5d0\"],[0.7,\"#b8e186\"],[0.8,\"#7fbc41\"],[0.9,\"#4d9221\"],[1,\"#276419\"]],\"sequential\":[[0.0,\"#0d0887\"],[0.1111111111111111,\"#46039f\"],[0.2222222222222222,\"#7201a8\"],[0.3333333333333333,\"#9c179e\"],[0.4444444444444444,\"#bd3786\"],[0.5555555555555556,\"#d8576b\"],[0.6666666666666666,\"#ed7953\"],[0.7777777777777778,\"#fb9f3a\"],[0.8888888888888888,\"#fdca26\"],[1.0,\"#f0f921\"]],\"sequentialminus\":[[0.0,\"#0d0887\"],[0.1111111111111111,\"#46039f\"],[0.2222222222222222,\"#7201a8\"],[0.3333333333333333,\"#9c179e\"],[0.4444444444444444,\"#bd3786\"],[0.5555555555555556,\"#d8576b\"],[0.6666666666666666,\"#ed7953\"],[0.7777777777777778,\"#fb9f3a\"],[0.8888888888888888,\"#fdca26\"],[1.0,\"#f0f921\"]]},\"colorway\":[\"#636efa\",\"#EF553B\",\"#00cc96\",\"#ab63fa\",\"#FFA15A\",\"#19d3f3\",\"#FF6692\",\"#B6E880\",\"#FF97FF\",\"#FECB52\"],\"font\":{\"color\":\"#2a3f5f\"},\"geo\":{\"bgcolor\":\"white\",\"lakecolor\":\"white\",\"landcolor\":\"#E5ECF6\",\"showlakes\":true,\"showland\":true,\"subunitcolor\":\"white\"},\"hoverlabel\":{\"align\":\"left\"},\"hovermode\":\"closest\",\"mapbox\":{\"style\":\"light\"},\"paper_bgcolor\":\"white\",\"plot_bgcolor\":\"#E5ECF6\",\"polar\":{\"angularaxis\":{\"gridcolor\":\"white\",\"linecolor\":\"white\",\"ticks\":\"\"},\"bgcolor\":\"#E5ECF6\",\"radialaxis\":{\"gridcolor\":\"white\",\"linecolor\":\"white\",\"ticks\":\"\"}},\"scene\":{\"xaxis\":{\"backgroundcolor\":\"#E5ECF6\",\"gridcolor\":\"white\",\"gridwidth\":2,\"linecolor\":\"white\",\"showbackground\":true,\"ticks\":\"\",\"zerolinecolor\":\"white\"},\"yaxis\":{\"backgroundcolor\":\"#E5ECF6\",\"gridcolor\":\"white\",\"gridwidth\":2,\"linecolor\":\"white\",\"showbackground\":true,\"ticks\":\"\",\"zerolinecolor\":\"white\"},\"zaxis\":{\"backgroundcolor\":\"#E5ECF6\",\"gridcolor\":\"white\",\"gridwidth\":2,\"linecolor\":\"white\",\"showbackground\":true,\"ticks\":\"\",\"zerolinecolor\":\"white\"}},\"shapedefaults\":{\"line\":{\"color\":\"#2a3f5f\"}},\"ternary\":{\"aaxis\":{\"gridcolor\":\"white\",\"linecolor\":\"white\",\"ticks\":\"\"},\"baxis\":{\"gridcolor\":\"white\",\"linecolor\":\"white\",\"ticks\":\"\"},\"bgcolor\":\"#E5ECF6\",\"caxis\":{\"gridcolor\":\"white\",\"linecolor\":\"white\",\"ticks\":\"\"}},\"title\":{\"x\":0.05},\"xaxis\":{\"automargin\":true,\"gridcolor\":\"white\",\"linecolor\":\"white\",\"ticks\":\"\",\"title\":{\"standoff\":15},\"zerolinecolor\":\"white\",\"zerolinewidth\":2},\"yaxis\":{\"automargin\":true,\"gridcolor\":\"white\",\"linecolor\":\"white\",\"ticks\":\"\",\"title\":{\"standoff\":15},\"zerolinecolor\":\"white\",\"zerolinewidth\":2}}},\"title\":{\"text\":\"Barplot of Feature Importance\"},\"width\":500,\"yaxis\":{\"domain\":[0,0.85],\"showgrid\":false,\"showline\":false,\"showticklabels\":true}},                        {\"responsive\": true}                    ).then(function(){\n",
       "                            \n",
       "var gd = document.getElementById('9d3446fd-ddbb-404d-8942-ee4acf43d7c4');\n",
       "var x = new MutationObserver(function (mutations, observer) {{\n",
       "        var display = window.getComputedStyle(gd).display;\n",
       "        if (!display || display === 'none') {{\n",
       "            console.log([gd, 'removed!']);\n",
       "            Plotly.purge(gd);\n",
       "            observer.disconnect();\n",
       "        }}\n",
       "}});\n",
       "\n",
       "// Listen for the removal of the full notebook cells\n",
       "var notebookContainer = gd.closest('#notebook-container');\n",
       "if (notebookContainer) {{\n",
       "    x.observe(notebookContainer, {childList: true});\n",
       "}}\n",
       "\n",
       "// Listen for the clearing of the current output cell\n",
       "var outputEl = gd.closest('.output');\n",
       "if (outputEl) {{\n",
       "    x.observe(outputEl, {childList: true});\n",
       "}}\n",
       "\n",
       "                        })                };                });            </script>        </div>"
      ]
     },
     "metadata": {},
     "output_type": "display_data"
    }
   ],
   "source": [
    "import plotly.graph_objs as go\n",
    "import plotly.offline as py\n",
    "x,y=(list(x) for x in zip(*sorted(zip(rf.feature_importances_,features),reverse=False)))\n",
    "trace2=go.Bar(x=x,\n",
    "             y=y,\n",
    "             marker=dict(\n",
    "             color=x,\n",
    "             colorscale='Viridis',\n",
    "             reversescale=True\n",
    "             ),\n",
    "             name='Random Forest Feature Importance',\n",
    "             orientation='h',\n",
    "             )\n",
    "layout=dict(\n",
    "    title='Barplot of Feature Importance',\n",
    "    width=500,height=1000,\n",
    "    yaxis=dict(\n",
    "    showgrid=False,\n",
    "    showline=False,\n",
    "    showticklabels=True,\n",
    "    domain=[0,0.85],\n",
    "    ))\n",
    "fig1=go.Figure(data=[trace2])\n",
    "fig1['layout'].update(layout)\n",
    "py.iplot(fig1,filename='plots')\n",
    "    \n"
   ]
  },
  {
   "cell_type": "markdown",
   "id": "15682c1a",
   "metadata": {},
   "source": [
    "# 랜덤포레스트-gridsearch"
   ]
  },
  {
   "cell_type": "code",
   "execution_count": 8,
   "id": "22a9421b",
   "metadata": {},
   "outputs": [
    {
     "name": "stdout",
     "output_type": "stream",
     "text": [
      "랜덤 포레스트 정확도: 0.8170\n"
     ]
    }
   ],
   "source": [
    "# 랜덤 포레스트 학습 및 별도의 테스트 세트로 예측 성능 평가\n",
    "rf_clf = RandomForestClassifier(random_state=0)\n",
    "rf_clf.fit(X_train, y_train)\n",
    "pred = rf_clf.predict(X_test)\n",
    "accuracy = accuracy_score(y_test, pred)\n",
    "print('랜덤 포레스트 정확도: {:.4f}'.format(accuracy))"
   ]
  },
  {
   "cell_type": "code",
   "execution_count": 9,
   "id": "82b94025",
   "metadata": {},
   "outputs": [
    {
     "name": "stdout",
     "output_type": "stream",
     "text": [
      "최적 하이퍼 파라미터:  {'max_depth': 10, 'min_samples_leaf': 8, 'min_samples_split': 8, 'n_estimators': 10}\n",
      "최고 예측 정확도: 0.8575\n"
     ]
    }
   ],
   "source": [
    "from sklearn.model_selection import GridSearchCV\n",
    "\n",
    "params = { 'n_estimators' : [10, 100],\n",
    "           'max_depth' : [6, 8, 10, 12],\n",
    "           'min_samples_leaf' : [8, 12, 18],\n",
    "           'min_samples_split' : [8, 16, 20]\n",
    "            }\n",
    "\n",
    "# RandomForestClassifier 객체 생성 후 GridSearchCV 수행\n",
    "rf_clf = RandomForestClassifier(random_state = 0, n_jobs = -1)\n",
    "grid_cv = GridSearchCV(rf_clf, param_grid = params, cv = 3, n_jobs = -1)\n",
    "grid_cv.fit(X_train, y_train)\n",
    "\n",
    "print('최적 하이퍼 파라미터: ', grid_cv.best_params_)\n",
    "print('최고 예측 정확도: {:.4f}'.format(grid_cv.best_score_))"
   ]
  },
  {
   "cell_type": "code",
   "execution_count": 10,
   "id": "722bb619",
   "metadata": {},
   "outputs": [
    {
     "name": "stdout",
     "output_type": "stream",
     "text": [
      "예측 정확도: 0.8626\n"
     ]
    }
   ],
   "source": [
    "#위의 결과로 나온 최적 하이퍼 파라미터로 다시 모델을 학습하여 테스트 세트 데이터에서 예측 성능을 측정\n",
    "rf_clf1 = RandomForestClassifier(n_estimators = 10, \n",
    "                                max_depth = 10,\n",
    "                                min_samples_leaf = 8,\n",
    "                                min_samples_split = 8,\n",
    "                                random_state = 0,\n",
    "                                n_jobs = -1)\n",
    "rf_clf1.fit(X_train, y_train)\n",
    "pred = rf_clf1.predict(X_test)\n",
    "print('예측 정확도: {:.4f}'.format(accuracy_score(y_test,pred)))"
   ]
  },
  {
   "cell_type": "code",
   "execution_count": 11,
   "id": "c04731cd",
   "metadata": {},
   "outputs": [
    {
     "data": {
      "image/png": "[encoded data removed]",
      "text/plain": [
       "<Figure size 576x432 with 1 Axes>"
      ]
     },
     "metadata": {
      "needs_background": "light"
     },
     "output_type": "display_data"
    }
   ],
   "source": [
    "import matplotlib.pyplot as plt\n",
    "import seaborn as sns\n",
    "%matplotlib inline\n",
    "\n",
    "ftr_importances_values = rf_clf1.feature_importances_\n",
    "ftr_importances = pd.Series(ftr_importances_values, index = X_train.columns)\n",
    "ftr_top20 = ftr_importances.sort_values(ascending=False)[:20]\n",
    "\n",
    "plt.figure(figsize=(8,6))\n",
    "plt.title('Top 20 Feature Importances')\n",
    "sns.barplot(x=ftr_top20, y=ftr_top20.index)\n",
    "plt.show()"
   ]
  },
  {
   "cell_type": "markdown",
   "id": "96133cc0",
   "metadata": {},
   "source": [
    "# XGB - GridSearchCV"
   ]
  },
  {
   "cell_type": "code",
   "execution_count": 18,
   "id": "44fe01ca",
   "metadata": {},
   "outputs": [],
   "source": [
    "import xgboost as xgb ## XGBoost 불러오기\n",
    "from xgboost import plot_importance ## Feature Importance를 불러오기 위함\n",
    "import pandas as pd\n",
    "import numpy as np\n",
    "from sklearn.datasets import load_breast_cancer\n",
    "from sklearn.model_selection import train_test_split\n",
    "from sklearn.metrics import confusion_matrix, accuracy_score, precision_score, recall_score\n",
    "from sklearn.metrics import confusion_matrix, f1_score, roc_auc_score\n",
    "import warnings"
   ]
  },
  {
   "cell_type": "code",
   "execution_count": 14,
   "id": "e1c3164d",
   "metadata": {},
   "outputs": [],
   "source": [
    "from xgboost import XGBClassifier\n",
    "\n",
    "xgb_wrapper = XGBClassifier(n_estimators = 400, learning_rate = 0.1, max_depth = 3)\n",
    "xgb_wrapper.fit(X_train, y_train)\n",
    "w_preds = xgb_wrapper.predict(X_test)"
   ]
  },
  {
   "cell_type": "code",
   "execution_count": 19,
   "id": "ee66e0e3",
   "metadata": {},
   "outputs": [],
   "source": [
    "# 혼동행렬, 정확도, 정밀도, 재현율, F1, AUC 불러오기\n",
    "def get_clf_eval(y_test, y_pred):\n",
    "    confusion = confusion_matrix(y_test, y_pred)\n",
    "    accuracy = accuracy_score(y_test, y_pred)\n",
    "    precision = precision_score(y_test, y_pred)\n",
    "    recall = recall_score(y_test, y_pred)\n",
    "    F1 = f1_score(y_test, y_pred)\n",
    "    AUC = roc_auc_score(y_test, y_pred)\n",
    "    print('오차행렬:\\n', confusion)\n",
    "    print('\\n정확도: {:.4f}'.format(accuracy))\n",
    "    print('정밀도: {:.4f}'.format(precision))\n",
    "    print('재현율: {:.4f}'.format(recall))\n",
    "    print('F1: {:.4f}'.format(F1))\n",
    "    print('AUC: {:.4f}'.format(AUC))"
   ]
  },
  {
   "cell_type": "code",
   "execution_count": 20,
   "id": "9a1e01a1",
   "metadata": {},
   "outputs": [
    {
     "name": "stdout",
     "output_type": "stream",
     "text": [
      "오차행렬:\n",
      " [[ 517  184]\n",
      " [  68 1094]]\n",
      "\n",
      "정확도: 0.8647\n",
      "정밀도: 0.8560\n",
      "재현율: 0.9415\n",
      "F1: 0.8967\n",
      "AUC: 0.8395\n"
     ]
    }
   ],
   "source": [
    "# 예측 결과 확인\n",
    "get_clf_eval(y_test, w_preds)"
   ]
  },
  {
   "cell_type": "code",
   "execution_count": 21,
   "id": "dd2a120c",
   "metadata": {},
   "outputs": [
    {
     "name": "stdout",
     "output_type": "stream",
     "text": [
      "[0]\tvalidation_0-logloss:0.66273\n",
      "[1]\tvalidation_0-logloss:0.63787\n",
      "[2]\tvalidation_0-logloss:0.61740\n",
      "[3]\tvalidation_0-logloss:0.60049\n",
      "[4]\tvalidation_0-logloss:0.58489\n",
      "[5]\tvalidation_0-logloss:0.57283\n",
      "[6]\tvalidation_0-logloss:0.56013\n",
      "[7]\tvalidation_0-logloss:0.55011\n",
      "[8]\tvalidation_0-logloss:0.53932\n"
     ]
    },
    {
     "name": "stderr",
     "output_type": "stream",
     "text": [
      "C:\\Users\\user\\anaconda3\\lib\\site-packages\\xgboost\\sklearn.py:861: UserWarning: `eval_metric` in `fit` method is deprecated for better compatibility with scikit-learn, use `eval_metric` in constructor or`set_params` instead.\n",
      "  warnings.warn(\n",
      "C:\\Users\\user\\anaconda3\\lib\\site-packages\\xgboost\\sklearn.py:861: UserWarning: `early_stopping_rounds` in `fit` method is deprecated for better compatibility with scikit-learn, use `early_stopping_rounds` in constructor or`set_params` instead.\n",
      "  warnings.warn(\n"
     ]
    },
    {
     "name": "stdout",
     "output_type": "stream",
     "text": [
      "[9]\tvalidation_0-logloss:0.53058\n",
      "[10]\tvalidation_0-logloss:0.52083\n",
      "[11]\tvalidation_0-logloss:0.51352\n",
      "[12]\tvalidation_0-logloss:0.50558\n",
      "[13]\tvalidation_0-logloss:0.49881\n",
      "[14]\tvalidation_0-logloss:0.49181\n",
      "[15]\tvalidation_0-logloss:0.48560\n",
      "[16]\tvalidation_0-logloss:0.47956\n",
      "[17]\tvalidation_0-logloss:0.47456\n",
      "[18]\tvalidation_0-logloss:0.46864\n",
      "[19]\tvalidation_0-logloss:0.46444\n",
      "[20]\tvalidation_0-logloss:0.45994\n",
      "[21]\tvalidation_0-logloss:0.45563\n",
      "[22]\tvalidation_0-logloss:0.45183\n",
      "[23]\tvalidation_0-logloss:0.44741\n",
      "[24]\tvalidation_0-logloss:0.44451\n",
      "[25]\tvalidation_0-logloss:0.44071\n",
      "[26]\tvalidation_0-logloss:0.43831\n",
      "[27]\tvalidation_0-logloss:0.43485\n",
      "[28]\tvalidation_0-logloss:0.43196\n",
      "[29]\tvalidation_0-logloss:0.42968\n",
      "[30]\tvalidation_0-logloss:0.42718\n",
      "[31]\tvalidation_0-logloss:0.42463\n",
      "[32]\tvalidation_0-logloss:0.42232\n",
      "[33]\tvalidation_0-logloss:0.42070\n",
      "[34]\tvalidation_0-logloss:0.41799\n",
      "[35]\tvalidation_0-logloss:0.41578\n",
      "[36]\tvalidation_0-logloss:0.41438\n",
      "[37]\tvalidation_0-logloss:0.41267\n",
      "[38]\tvalidation_0-logloss:0.41117\n",
      "[39]\tvalidation_0-logloss:0.40966\n",
      "[40]\tvalidation_0-logloss:0.40793\n",
      "[41]\tvalidation_0-logloss:0.40695\n",
      "[42]\tvalidation_0-logloss:0.40510\n",
      "[43]\tvalidation_0-logloss:0.40370\n",
      "[44]\tvalidation_0-logloss:0.40257\n",
      "[45]\tvalidation_0-logloss:0.40133\n",
      "[46]\tvalidation_0-logloss:0.40042\n",
      "[47]\tvalidation_0-logloss:0.39940\n",
      "[48]\tvalidation_0-logloss:0.39801\n",
      "[49]\tvalidation_0-logloss:0.39710\n",
      "[50]\tvalidation_0-logloss:0.39626\n",
      "[51]\tvalidation_0-logloss:0.39546\n",
      "[52]\tvalidation_0-logloss:0.39449\n",
      "[53]\tvalidation_0-logloss:0.39367\n",
      "[54]\tvalidation_0-logloss:0.39309\n",
      "[55]\tvalidation_0-logloss:0.39197\n",
      "[56]\tvalidation_0-logloss:0.39160\n",
      "[57]\tvalidation_0-logloss:0.39093\n",
      "[58]\tvalidation_0-logloss:0.39064\n",
      "[59]\tvalidation_0-logloss:0.39011\n",
      "[60]\tvalidation_0-logloss:0.38929\n",
      "[61]\tvalidation_0-logloss:0.38860\n",
      "[62]\tvalidation_0-logloss:0.38796\n",
      "[63]\tvalidation_0-logloss:0.38776\n",
      "[64]\tvalidation_0-logloss:0.38730\n",
      "[65]\tvalidation_0-logloss:0.38691\n",
      "[66]\tvalidation_0-logloss:0.38663\n",
      "[67]\tvalidation_0-logloss:0.38640\n",
      "[68]\tvalidation_0-logloss:0.38563\n",
      "[69]\tvalidation_0-logloss:0.38499\n",
      "[70]\tvalidation_0-logloss:0.38458\n",
      "[71]\tvalidation_0-logloss:0.38427\n",
      "[72]\tvalidation_0-logloss:0.38389\n",
      "[73]\tvalidation_0-logloss:0.38362\n",
      "[74]\tvalidation_0-logloss:0.38350\n",
      "[75]\tvalidation_0-logloss:0.38295\n",
      "[76]\tvalidation_0-logloss:0.38237\n",
      "[77]\tvalidation_0-logloss:0.38230\n",
      "[78]\tvalidation_0-logloss:0.38195\n",
      "[79]\tvalidation_0-logloss:0.38141\n",
      "[80]\tvalidation_0-logloss:0.38141\n",
      "[81]\tvalidation_0-logloss:0.38117\n",
      "[82]\tvalidation_0-logloss:0.38100\n",
      "[83]\tvalidation_0-logloss:0.38097\n",
      "[84]\tvalidation_0-logloss:0.38074\n",
      "[85]\tvalidation_0-logloss:0.38062\n",
      "[86]\tvalidation_0-logloss:0.38045\n",
      "[87]\tvalidation_0-logloss:0.38042\n",
      "[88]\tvalidation_0-logloss:0.38020\n",
      "[89]\tvalidation_0-logloss:0.37991\n",
      "[90]\tvalidation_0-logloss:0.37968\n",
      "[91]\tvalidation_0-logloss:0.37946\n",
      "[92]\tvalidation_0-logloss:0.37951\n",
      "[93]\tvalidation_0-logloss:0.37956\n",
      "[94]\tvalidation_0-logloss:0.37934\n",
      "[95]\tvalidation_0-logloss:0.37895\n",
      "[96]\tvalidation_0-logloss:0.37871\n",
      "[97]\tvalidation_0-logloss:0.37872\n",
      "[98]\tvalidation_0-logloss:0.37863\n",
      "[99]\tvalidation_0-logloss:0.37855\n",
      "[100]\tvalidation_0-logloss:0.37820\n",
      "[101]\tvalidation_0-logloss:0.37813\n",
      "[102]\tvalidation_0-logloss:0.37803\n",
      "[103]\tvalidation_0-logloss:0.37786\n",
      "[104]\tvalidation_0-logloss:0.37774\n",
      "[105]\tvalidation_0-logloss:0.37765\n",
      "[106]\tvalidation_0-logloss:0.37736\n",
      "[107]\tvalidation_0-logloss:0.37743\n",
      "[108]\tvalidation_0-logloss:0.37727\n",
      "[109]\tvalidation_0-logloss:0.37715\n",
      "[110]\tvalidation_0-logloss:0.37720\n",
      "[111]\tvalidation_0-logloss:0.37722\n",
      "[112]\tvalidation_0-logloss:0.37688\n",
      "[113]\tvalidation_0-logloss:0.37688\n",
      "[114]\tvalidation_0-logloss:0.37686\n",
      "[115]\tvalidation_0-logloss:0.37662\n",
      "[116]\tvalidation_0-logloss:0.37661\n",
      "[117]\tvalidation_0-logloss:0.37661\n",
      "[118]\tvalidation_0-logloss:0.37651\n",
      "[119]\tvalidation_0-logloss:0.37640\n",
      "[120]\tvalidation_0-logloss:0.37641\n",
      "[121]\tvalidation_0-logloss:0.37632\n",
      "[122]\tvalidation_0-logloss:0.37638\n",
      "[123]\tvalidation_0-logloss:0.37632\n",
      "[124]\tvalidation_0-logloss:0.37639\n",
      "[125]\tvalidation_0-logloss:0.37617\n",
      "[126]\tvalidation_0-logloss:0.37612\n",
      "[127]\tvalidation_0-logloss:0.37604\n",
      "[128]\tvalidation_0-logloss:0.37603\n",
      "[129]\tvalidation_0-logloss:0.37614\n",
      "[130]\tvalidation_0-logloss:0.37609\n",
      "[131]\tvalidation_0-logloss:0.37603\n",
      "[132]\tvalidation_0-logloss:0.37606\n",
      "[133]\tvalidation_0-logloss:0.37591\n",
      "[134]\tvalidation_0-logloss:0.37591\n",
      "[135]\tvalidation_0-logloss:0.37586\n",
      "[136]\tvalidation_0-logloss:0.37591\n",
      "[137]\tvalidation_0-logloss:0.37587\n",
      "[138]\tvalidation_0-logloss:0.37587\n",
      "[139]\tvalidation_0-logloss:0.37559\n",
      "[140]\tvalidation_0-logloss:0.37547\n",
      "[141]\tvalidation_0-logloss:0.37547\n",
      "[142]\tvalidation_0-logloss:0.37558\n",
      "[143]\tvalidation_0-logloss:0.37556\n",
      "[144]\tvalidation_0-logloss:0.37548\n",
      "[145]\tvalidation_0-logloss:0.37536\n",
      "[146]\tvalidation_0-logloss:0.37542\n",
      "[147]\tvalidation_0-logloss:0.37530\n",
      "[148]\tvalidation_0-logloss:0.37513\n",
      "[149]\tvalidation_0-logloss:0.37506\n",
      "[150]\tvalidation_0-logloss:0.37517\n",
      "[151]\tvalidation_0-logloss:0.37531\n",
      "[152]\tvalidation_0-logloss:0.37522\n",
      "[153]\tvalidation_0-logloss:0.37516\n",
      "[154]\tvalidation_0-logloss:0.37499\n",
      "[155]\tvalidation_0-logloss:0.37496\n",
      "[156]\tvalidation_0-logloss:0.37503\n",
      "[157]\tvalidation_0-logloss:0.37502\n",
      "[158]\tvalidation_0-logloss:0.37495\n",
      "[159]\tvalidation_0-logloss:0.37494\n",
      "[160]\tvalidation_0-logloss:0.37483\n",
      "[161]\tvalidation_0-logloss:0.37480\n",
      "[162]\tvalidation_0-logloss:0.37488\n",
      "[163]\tvalidation_0-logloss:0.37473\n",
      "[164]\tvalidation_0-logloss:0.37479\n",
      "[165]\tvalidation_0-logloss:0.37463\n",
      "[166]\tvalidation_0-logloss:0.37470\n",
      "[167]\tvalidation_0-logloss:0.37444\n",
      "[168]\tvalidation_0-logloss:0.37443\n",
      "[169]\tvalidation_0-logloss:0.37439\n",
      "[170]\tvalidation_0-logloss:0.37444\n",
      "[171]\tvalidation_0-logloss:0.37457\n",
      "[172]\tvalidation_0-logloss:0.37444\n",
      "[173]\tvalidation_0-logloss:0.37446\n",
      "[174]\tvalidation_0-logloss:0.37454\n",
      "[175]\tvalidation_0-logloss:0.37450\n",
      "[176]\tvalidation_0-logloss:0.37442\n",
      "[177]\tvalidation_0-logloss:0.37445\n",
      "[178]\tvalidation_0-logloss:0.37429\n",
      "[179]\tvalidation_0-logloss:0.37424\n",
      "[180]\tvalidation_0-logloss:0.37433\n",
      "[181]\tvalidation_0-logloss:0.37438\n",
      "[182]\tvalidation_0-logloss:0.37451\n",
      "[183]\tvalidation_0-logloss:0.37461\n",
      "[184]\tvalidation_0-logloss:0.37455\n",
      "[185]\tvalidation_0-logloss:0.37462\n",
      "[186]\tvalidation_0-logloss:0.37455\n",
      "[187]\tvalidation_0-logloss:0.37436\n",
      "[188]\tvalidation_0-logloss:0.37427\n",
      "[189]\tvalidation_0-logloss:0.37430\n",
      "[190]\tvalidation_0-logloss:0.37430\n",
      "[191]\tvalidation_0-logloss:0.37421\n",
      "[192]\tvalidation_0-logloss:0.37417\n",
      "[193]\tvalidation_0-logloss:0.37419\n",
      "[194]\tvalidation_0-logloss:0.37415\n",
      "[195]\tvalidation_0-logloss:0.37395\n",
      "[196]\tvalidation_0-logloss:0.37385\n",
      "[197]\tvalidation_0-logloss:0.37391\n",
      "[198]\tvalidation_0-logloss:0.37387\n",
      "[199]\tvalidation_0-logloss:0.37384\n",
      "[200]\tvalidation_0-logloss:0.37390\n",
      "[201]\tvalidation_0-logloss:0.37388\n",
      "[202]\tvalidation_0-logloss:0.37394\n",
      "[203]\tvalidation_0-logloss:0.37388\n",
      "[204]\tvalidation_0-logloss:0.37392\n",
      "[205]\tvalidation_0-logloss:0.37390\n",
      "[206]\tvalidation_0-logloss:0.37400\n",
      "[207]\tvalidation_0-logloss:0.37357\n",
      "[208]\tvalidation_0-logloss:0.37367\n",
      "[209]\tvalidation_0-logloss:0.37360\n",
      "[210]\tvalidation_0-logloss:0.37346\n",
      "[211]\tvalidation_0-logloss:0.37336\n",
      "[212]\tvalidation_0-logloss:0.37346\n",
      "[213]\tvalidation_0-logloss:0.37352\n",
      "[214]\tvalidation_0-logloss:0.37364\n",
      "[215]\tvalidation_0-logloss:0.37355\n",
      "[216]\tvalidation_0-logloss:0.37319\n",
      "[217]\tvalidation_0-logloss:0.37318\n",
      "[218]\tvalidation_0-logloss:0.37315\n",
      "[219]\tvalidation_0-logloss:0.37317\n",
      "[220]\tvalidation_0-logloss:0.37310\n",
      "[221]\tvalidation_0-logloss:0.37311\n",
      "[222]\tvalidation_0-logloss:0.37304\n",
      "[223]\tvalidation_0-logloss:0.37301\n",
      "[224]\tvalidation_0-logloss:0.37296\n",
      "[225]\tvalidation_0-logloss:0.37311\n",
      "[226]\tvalidation_0-logloss:0.37314\n",
      "[227]\tvalidation_0-logloss:0.37317\n",
      "[228]\tvalidation_0-logloss:0.37309\n",
      "[229]\tvalidation_0-logloss:0.37304\n",
      "[230]\tvalidation_0-logloss:0.37305\n",
      "[231]\tvalidation_0-logloss:0.37304\n",
      "[232]\tvalidation_0-logloss:0.37308\n",
      "[233]\tvalidation_0-logloss:0.37308\n",
      "[234]\tvalidation_0-logloss:0.37303\n",
      "[235]\tvalidation_0-logloss:0.37303\n",
      "[236]\tvalidation_0-logloss:0.37307\n",
      "[237]\tvalidation_0-logloss:0.37313\n",
      "[238]\tvalidation_0-logloss:0.37326\n",
      "[239]\tvalidation_0-logloss:0.37336\n",
      "[240]\tvalidation_0-logloss:0.37338\n",
      "[241]\tvalidation_0-logloss:0.37348\n",
      "[242]\tvalidation_0-logloss:0.37347\n",
      "[243]\tvalidation_0-logloss:0.37348\n",
      "[244]\tvalidation_0-logloss:0.37340\n"
     ]
    },
    {
     "name": "stdout",
     "output_type": "stream",
     "text": [
      "[245]\tvalidation_0-logloss:0.37334\n",
      "[246]\tvalidation_0-logloss:0.37335\n",
      "[247]\tvalidation_0-logloss:0.37343\n",
      "[248]\tvalidation_0-logloss:0.37346\n",
      "[249]\tvalidation_0-logloss:0.37344\n",
      "[250]\tvalidation_0-logloss:0.37339\n",
      "[251]\tvalidation_0-logloss:0.37307\n",
      "[252]\tvalidation_0-logloss:0.37324\n",
      "[253]\tvalidation_0-logloss:0.37307\n",
      "[254]\tvalidation_0-logloss:0.37313\n",
      "[255]\tvalidation_0-logloss:0.37319\n",
      "[256]\tvalidation_0-logloss:0.37324\n",
      "[257]\tvalidation_0-logloss:0.37326\n",
      "[258]\tvalidation_0-logloss:0.37330\n",
      "[259]\tvalidation_0-logloss:0.37340\n",
      "[260]\tvalidation_0-logloss:0.37340\n",
      "[261]\tvalidation_0-logloss:0.37346\n",
      "[262]\tvalidation_0-logloss:0.37348\n",
      "[263]\tvalidation_0-logloss:0.37350\n",
      "[264]\tvalidation_0-logloss:0.37352\n",
      "[265]\tvalidation_0-logloss:0.37352\n",
      "[266]\tvalidation_0-logloss:0.37370\n",
      "[267]\tvalidation_0-logloss:0.37370\n",
      "[268]\tvalidation_0-logloss:0.37371\n",
      "[269]\tvalidation_0-logloss:0.37366\n",
      "[270]\tvalidation_0-logloss:0.37366\n",
      "[271]\tvalidation_0-logloss:0.37374\n",
      "[272]\tvalidation_0-logloss:0.37375\n",
      "[273]\tvalidation_0-logloss:0.37372\n",
      "[274]\tvalidation_0-logloss:0.37382\n",
      "[275]\tvalidation_0-logloss:0.37368\n",
      "[276]\tvalidation_0-logloss:0.37362\n",
      "[277]\tvalidation_0-logloss:0.37366\n",
      "[278]\tvalidation_0-logloss:0.37366\n",
      "[279]\tvalidation_0-logloss:0.37355\n",
      "[280]\tvalidation_0-logloss:0.37350\n",
      "[281]\tvalidation_0-logloss:0.37351\n",
      "[282]\tvalidation_0-logloss:0.37351\n",
      "[283]\tvalidation_0-logloss:0.37355\n",
      "[284]\tvalidation_0-logloss:0.37351\n",
      "[285]\tvalidation_0-logloss:0.37358\n",
      "[286]\tvalidation_0-logloss:0.37356\n",
      "[287]\tvalidation_0-logloss:0.37342\n",
      "[288]\tvalidation_0-logloss:0.37343\n",
      "[289]\tvalidation_0-logloss:0.37338\n",
      "[290]\tvalidation_0-logloss:0.37344\n",
      "[291]\tvalidation_0-logloss:0.37358\n",
      "[292]\tvalidation_0-logloss:0.37356\n",
      "[293]\tvalidation_0-logloss:0.37356\n",
      "[294]\tvalidation_0-logloss:0.37351\n",
      "[295]\tvalidation_0-logloss:0.37357\n",
      "[296]\tvalidation_0-logloss:0.37360\n",
      "[297]\tvalidation_0-logloss:0.37361\n",
      "[298]\tvalidation_0-logloss:0.37347\n",
      "[299]\tvalidation_0-logloss:0.37344\n",
      "[300]\tvalidation_0-logloss:0.37349\n",
      "[301]\tvalidation_0-logloss:0.37328\n",
      "[302]\tvalidation_0-logloss:0.37322\n",
      "[303]\tvalidation_0-logloss:0.37323\n",
      "[304]\tvalidation_0-logloss:0.37338\n",
      "[305]\tvalidation_0-logloss:0.37341\n",
      "[306]\tvalidation_0-logloss:0.37342\n",
      "[307]\tvalidation_0-logloss:0.37346\n",
      "[308]\tvalidation_0-logloss:0.37346\n",
      "[309]\tvalidation_0-logloss:0.37352\n",
      "[310]\tvalidation_0-logloss:0.37347\n",
      "[311]\tvalidation_0-logloss:0.37357\n",
      "[312]\tvalidation_0-logloss:0.37360\n",
      "[313]\tvalidation_0-logloss:0.37335\n",
      "[314]\tvalidation_0-logloss:0.37337\n",
      "[315]\tvalidation_0-logloss:0.37316\n",
      "[316]\tvalidation_0-logloss:0.37314\n",
      "[317]\tvalidation_0-logloss:0.37303\n",
      "[318]\tvalidation_0-logloss:0.37297\n",
      "[319]\tvalidation_0-logloss:0.37298\n",
      "[320]\tvalidation_0-logloss:0.37296\n",
      "[321]\tvalidation_0-logloss:0.37288\n",
      "[322]\tvalidation_0-logloss:0.37304\n",
      "[323]\tvalidation_0-logloss:0.37307\n",
      "[324]\tvalidation_0-logloss:0.37307\n",
      "[325]\tvalidation_0-logloss:0.37306\n",
      "[326]\tvalidation_0-logloss:0.37321\n",
      "[327]\tvalidation_0-logloss:0.37332\n",
      "[328]\tvalidation_0-logloss:0.37329\n",
      "[329]\tvalidation_0-logloss:0.37334\n",
      "[330]\tvalidation_0-logloss:0.37327\n",
      "[331]\tvalidation_0-logloss:0.37326\n",
      "[332]\tvalidation_0-logloss:0.37324\n",
      "[333]\tvalidation_0-logloss:0.37321\n",
      "[334]\tvalidation_0-logloss:0.37327\n",
      "[335]\tvalidation_0-logloss:0.37329\n",
      "[336]\tvalidation_0-logloss:0.37331\n",
      "[337]\tvalidation_0-logloss:0.37334\n",
      "[338]\tvalidation_0-logloss:0.37326\n",
      "[339]\tvalidation_0-logloss:0.37317\n",
      "[340]\tvalidation_0-logloss:0.37318\n",
      "[341]\tvalidation_0-logloss:0.37324\n",
      "[342]\tvalidation_0-logloss:0.37337\n",
      "[343]\tvalidation_0-logloss:0.37348\n",
      "[344]\tvalidation_0-logloss:0.37361\n",
      "[345]\tvalidation_0-logloss:0.37372\n",
      "[346]\tvalidation_0-logloss:0.37373\n",
      "[347]\tvalidation_0-logloss:0.37379\n",
      "[348]\tvalidation_0-logloss:0.37389\n",
      "[349]\tvalidation_0-logloss:0.37380\n",
      "[350]\tvalidation_0-logloss:0.37383\n",
      "[351]\tvalidation_0-logloss:0.37381\n",
      "[352]\tvalidation_0-logloss:0.37390\n",
      "[353]\tvalidation_0-logloss:0.37390\n",
      "[354]\tvalidation_0-logloss:0.37398\n",
      "[355]\tvalidation_0-logloss:0.37397\n",
      "[356]\tvalidation_0-logloss:0.37399\n",
      "[357]\tvalidation_0-logloss:0.37394\n",
      "[358]\tvalidation_0-logloss:0.37392\n",
      "[359]\tvalidation_0-logloss:0.37408\n",
      "[360]\tvalidation_0-logloss:0.37407\n",
      "[361]\tvalidation_0-logloss:0.37411\n",
      "[362]\tvalidation_0-logloss:0.37407\n",
      "[363]\tvalidation_0-logloss:0.37410\n",
      "[364]\tvalidation_0-logloss:0.37407\n",
      "[365]\tvalidation_0-logloss:0.37408\n",
      "[366]\tvalidation_0-logloss:0.37407\n",
      "[367]\tvalidation_0-logloss:0.37408\n",
      "[368]\tvalidation_0-logloss:0.37405\n",
      "[369]\tvalidation_0-logloss:0.37406\n",
      "[370]\tvalidation_0-logloss:0.37416\n",
      "[371]\tvalidation_0-logloss:0.37419\n",
      "[372]\tvalidation_0-logloss:0.37423\n",
      "[373]\tvalidation_0-logloss:0.37421\n",
      "[374]\tvalidation_0-logloss:0.37424\n",
      "[375]\tvalidation_0-logloss:0.37417\n",
      "[376]\tvalidation_0-logloss:0.37410\n",
      "[377]\tvalidation_0-logloss:0.37413\n",
      "[378]\tvalidation_0-logloss:0.37417\n",
      "[379]\tvalidation_0-logloss:0.37414\n",
      "[380]\tvalidation_0-logloss:0.37417\n",
      "[381]\tvalidation_0-logloss:0.37410\n",
      "[382]\tvalidation_0-logloss:0.37417\n",
      "[383]\tvalidation_0-logloss:0.37425\n",
      "[384]\tvalidation_0-logloss:0.37427\n",
      "[385]\tvalidation_0-logloss:0.37418\n",
      "[386]\tvalidation_0-logloss:0.37435\n",
      "[387]\tvalidation_0-logloss:0.37435\n",
      "[388]\tvalidation_0-logloss:0.37439\n",
      "[389]\tvalidation_0-logloss:0.37446\n",
      "[390]\tvalidation_0-logloss:0.37445\n",
      "[391]\tvalidation_0-logloss:0.37446\n",
      "[392]\tvalidation_0-logloss:0.37461\n",
      "[393]\tvalidation_0-logloss:0.37458\n",
      "[394]\tvalidation_0-logloss:0.37456\n",
      "[395]\tvalidation_0-logloss:0.37453\n",
      "[396]\tvalidation_0-logloss:0.37469\n",
      "[397]\tvalidation_0-logloss:0.37466\n",
      "[398]\tvalidation_0-logloss:0.37466\n",
      "[399]\tvalidation_0-logloss:0.37469\n"
     ]
    }
   ],
   "source": [
    "xgb_wrapper = XGBClassifier(n_estimators = 400, learning_rate = 0.1 , max_depth = 3)\n",
    "evals = [(X_test, y_test)]\n",
    "xgb_wrapper.fit(X_train, y_train, early_stopping_rounds = 100, \n",
    "                eval_metric=\"logloss\", eval_set = evals, verbose=True)\n",
    "ws100_preds = xgb_wrapper.predict(X_test)"
   ]
  },
  {
   "cell_type": "code",
   "execution_count": 22,
   "id": "20687730",
   "metadata": {},
   "outputs": [
    {
     "name": "stdout",
     "output_type": "stream",
     "text": [
      "오차행렬:\n",
      " [[ 516  185]\n",
      " [  65 1097]]\n",
      "\n",
      "정확도: 0.8658\n",
      "정밀도: 0.8557\n",
      "재현율: 0.9441\n",
      "F1: 0.8977\n",
      "AUC: 0.8401\n"
     ]
    }
   ],
   "source": [
    "get_clf_eval(y_test, ws100_preds)"
   ]
  },
  {
   "cell_type": "code",
   "execution_count": 23,
   "id": "1f8d105b",
   "metadata": {},
   "outputs": [
    {
     "data": {
      "text/plain": [
       "<AxesSubplot:title={'center':'Feature importance'}, xlabel='F score', ylabel='Features'>"
      ]
     },
     "execution_count": 23,
     "metadata": {},
     "output_type": "execute_result"
    },
    {
     "data": {
      "image/png": "[encoded data removed]",
      "text/plain": [
       "<Figure size 720x864 with 1 Axes>"
      ]
     },
     "metadata": {
      "needs_background": "light"
     },
     "output_type": "display_data"
    }
   ],
   "source": [
    "from xgboost import plot_importance\n",
    "import matplotlib.pyplot as plt\n",
    "%matplotlib inline\n",
    "\n",
    "fig, ax = plt.subplots(figsize=(10, 12))\n",
    "\n",
    "plot_importance(xgb_wrapper, ax=ax)"
   ]
  },
  {
   "cell_type": "code",
   "execution_count": 24,
   "id": "84880413",
   "metadata": {},
   "outputs": [],
   "source": [
    "from xgboost import XGBClassifier"
   ]
  },
  {
   "cell_type": "code",
   "execution_count": 25,
   "id": "e33ca55a",
   "metadata": {},
   "outputs": [],
   "source": [
    "xgb = XGBClassifier()"
   ]
  },
  {
   "cell_type": "code",
   "execution_count": 26,
   "id": "320da3a1",
   "metadata": {},
   "outputs": [],
   "source": [
    "param_xgb = {\"max_depth\": [10,30,50],\n",
    "              \"min_child_weight\" : [1,3,6,10],\n",
    "              \"n_estimators\": [200,300,500,1000]\n",
    "              }    "
   ]
  },
  {
   "cell_type": "code",
   "execution_count": 27,
   "id": "7eaca8f6",
   "metadata": {},
   "outputs": [],
   "source": [
    "gscv_xgb = GridSearchCV (estimator = xgb, param_grid = param_xgb, scoring ='accuracy', cv = 3, refit=True, n_jobs=1, verbose=2)"
   ]
  },
  {
   "cell_type": "code",
   "execution_count": 28,
   "id": "033b89a1",
   "metadata": {},
   "outputs": [
    {
     "name": "stdout",
     "output_type": "stream",
     "text": [
      "Fitting 3 folds for each of 48 candidates, totalling 144 fits\n",
      "[CV] END .max_depth=10, min_child_weight=1, n_estimators=200; total time=   1.1s\n",
      "[CV] END .max_depth=10, min_child_weight=1, n_estimators=200; total time=   1.1s\n",
      "[CV] END .max_depth=10, min_child_weight=1, n_estimators=200; total time=   1.0s\n",
      "[CV] END .max_depth=10, min_child_weight=1, n_estimators=300; total time=   1.5s\n",
      "[CV] END .max_depth=10, min_child_weight=1, n_estimators=300; total time=   1.6s\n",
      "[CV] END .max_depth=10, min_child_weight=1, n_estimators=300; total time=   1.5s\n",
      "[CV] END .max_depth=10, min_child_weight=1, n_estimators=500; total time=   2.5s\n",
      "[CV] END .max_depth=10, min_child_weight=1, n_estimators=500; total time=   2.7s\n",
      "[CV] END .max_depth=10, min_child_weight=1, n_estimators=500; total time=   2.7s\n",
      "[CV] END max_depth=10, min_child_weight=1, n_estimators=1000; total time=   5.4s\n",
      "[CV] END max_depth=10, min_child_weight=1, n_estimators=1000; total time=   5.4s\n",
      "[CV] END max_depth=10, min_child_weight=1, n_estimators=1000; total time=   5.2s\n",
      "[CV] END .max_depth=10, min_child_weight=3, n_estimators=200; total time=   1.0s\n",
      "[CV] END .max_depth=10, min_child_weight=3, n_estimators=200; total time=   1.0s\n",
      "[CV] END .max_depth=10, min_child_weight=3, n_estimators=200; total time=   1.0s\n",
      "[CV] END .max_depth=10, min_child_weight=3, n_estimators=300; total time=   1.8s\n",
      "[CV] END .max_depth=10, min_child_weight=3, n_estimators=300; total time=   2.1s\n",
      "[CV] END .max_depth=10, min_child_weight=3, n_estimators=300; total time=   1.7s\n",
      "[CV] END .max_depth=10, min_child_weight=3, n_estimators=500; total time=   2.8s\n",
      "[CV] END .max_depth=10, min_child_weight=3, n_estimators=500; total time=   3.0s\n",
      "[CV] END .max_depth=10, min_child_weight=3, n_estimators=500; total time=   2.7s\n",
      "[CV] END max_depth=10, min_child_weight=3, n_estimators=1000; total time=   4.9s\n",
      "[CV] END max_depth=10, min_child_weight=3, n_estimators=1000; total time=   5.0s\n",
      "[CV] END max_depth=10, min_child_weight=3, n_estimators=1000; total time=   5.1s\n",
      "[CV] END .max_depth=10, min_child_weight=6, n_estimators=200; total time=   1.4s\n",
      "[CV] END .max_depth=10, min_child_weight=6, n_estimators=200; total time=   1.2s\n",
      "[CV] END .max_depth=10, min_child_weight=6, n_estimators=200; total time=   1.4s\n",
      "[CV] END .max_depth=10, min_child_weight=6, n_estimators=300; total time=   1.8s\n",
      "[CV] END .max_depth=10, min_child_weight=6, n_estimators=300; total time=   1.4s\n",
      "[CV] END .max_depth=10, min_child_weight=6, n_estimators=300; total time=   1.4s\n",
      "[CV] END .max_depth=10, min_child_weight=6, n_estimators=500; total time=   2.4s\n",
      "[CV] END .max_depth=10, min_child_weight=6, n_estimators=500; total time=   2.4s\n",
      "[CV] END .max_depth=10, min_child_weight=6, n_estimators=500; total time=   2.4s\n",
      "[CV] END max_depth=10, min_child_weight=6, n_estimators=1000; total time=   5.2s\n",
      "[CV] END max_depth=10, min_child_weight=6, n_estimators=1000; total time=   5.2s\n",
      "[CV] END max_depth=10, min_child_weight=6, n_estimators=1000; total time=   5.0s\n",
      "[CV] END max_depth=10, min_child_weight=10, n_estimators=200; total time=   1.0s\n",
      "[CV] END max_depth=10, min_child_weight=10, n_estimators=200; total time=   1.0s\n",
      "[CV] END max_depth=10, min_child_weight=10, n_estimators=200; total time=   0.9s\n",
      "[CV] END max_depth=10, min_child_weight=10, n_estimators=300; total time=   1.7s\n",
      "[CV] END max_depth=10, min_child_weight=10, n_estimators=300; total time=   1.7s\n",
      "[CV] END max_depth=10, min_child_weight=10, n_estimators=300; total time=   1.5s\n",
      "[CV] END max_depth=10, min_child_weight=10, n_estimators=500; total time=   2.5s\n",
      "[CV] END max_depth=10, min_child_weight=10, n_estimators=500; total time=   2.3s\n",
      "[CV] END max_depth=10, min_child_weight=10, n_estimators=500; total time=   2.3s\n",
      "[CV] END max_depth=10, min_child_weight=10, n_estimators=1000; total time=   5.1s\n",
      "[CV] END max_depth=10, min_child_weight=10, n_estimators=1000; total time=   5.0s\n",
      "[CV] END max_depth=10, min_child_weight=10, n_estimators=1000; total time=   4.8s\n",
      "[CV] END .max_depth=30, min_child_weight=1, n_estimators=200; total time=   1.9s\n",
      "[CV] END .max_depth=30, min_child_weight=1, n_estimators=200; total time=   2.7s\n",
      "[CV] END .max_depth=30, min_child_weight=1, n_estimators=200; total time=   2.6s\n",
      "[CV] END .max_depth=30, min_child_weight=1, n_estimators=300; total time=   3.8s\n",
      "[CV] END .max_depth=30, min_child_weight=1, n_estimators=300; total time=   3.5s\n",
      "[CV] END .max_depth=30, min_child_weight=1, n_estimators=300; total time=   3.2s\n",
      "[CV] END .max_depth=30, min_child_weight=1, n_estimators=500; total time=   4.7s\n",
      "[CV] END .max_depth=30, min_child_weight=1, n_estimators=500; total time=   4.8s\n",
      "[CV] END .max_depth=30, min_child_weight=1, n_estimators=500; total time=   5.7s\n",
      "[CV] END max_depth=30, min_child_weight=1, n_estimators=1000; total time=   9.0s\n",
      "[CV] END max_depth=30, min_child_weight=1, n_estimators=1000; total time=   9.0s\n",
      "[CV] END max_depth=30, min_child_weight=1, n_estimators=1000; total time=   9.5s\n",
      "[CV] END .max_depth=30, min_child_weight=3, n_estimators=200; total time=   1.6s\n",
      "[CV] END .max_depth=30, min_child_weight=3, n_estimators=200; total time=   1.4s\n",
      "[CV] END .max_depth=30, min_child_weight=3, n_estimators=200; total time=   1.6s\n",
      "[CV] END .max_depth=30, min_child_weight=3, n_estimators=300; total time=   2.3s\n",
      "[CV] END .max_depth=30, min_child_weight=3, n_estimators=300; total time=   2.3s\n",
      "[CV] END .max_depth=30, min_child_weight=3, n_estimators=300; total time=   2.3s\n",
      "[CV] END .max_depth=30, min_child_weight=3, n_estimators=500; total time=   3.7s\n",
      "[CV] END .max_depth=30, min_child_weight=3, n_estimators=500; total time=   3.6s\n",
      "[CV] END .max_depth=30, min_child_weight=3, n_estimators=500; total time=   3.7s\n",
      "[CV] END max_depth=30, min_child_weight=3, n_estimators=1000; total time=   6.9s\n",
      "[CV] END max_depth=30, min_child_weight=3, n_estimators=1000; total time=   7.1s\n",
      "[CV] END max_depth=30, min_child_weight=3, n_estimators=1000; total time=   7.1s\n",
      "[CV] END .max_depth=30, min_child_weight=6, n_estimators=200; total time=   1.3s\n",
      "[CV] END .max_depth=30, min_child_weight=6, n_estimators=200; total time=   1.3s\n",
      "[CV] END .max_depth=30, min_child_weight=6, n_estimators=200; total time=   1.3s\n",
      "[CV] END .max_depth=30, min_child_weight=6, n_estimators=300; total time=   1.8s\n",
      "[CV] END .max_depth=30, min_child_weight=6, n_estimators=300; total time=   1.9s\n",
      "[CV] END .max_depth=30, min_child_weight=6, n_estimators=300; total time=   1.9s\n",
      "[CV] END .max_depth=30, min_child_weight=6, n_estimators=500; total time=   3.0s\n",
      "[CV] END .max_depth=30, min_child_weight=6, n_estimators=500; total time=   3.0s\n",
      "[CV] END .max_depth=30, min_child_weight=6, n_estimators=500; total time=   3.0s\n",
      "[CV] END max_depth=30, min_child_weight=6, n_estimators=1000; total time=   5.9s\n",
      "[CV] END max_depth=30, min_child_weight=6, n_estimators=1000; total time=   5.8s\n",
      "[CV] END max_depth=30, min_child_weight=6, n_estimators=1000; total time=   5.7s\n",
      "[CV] END max_depth=30, min_child_weight=10, n_estimators=200; total time=   1.1s\n",
      "[CV] END max_depth=30, min_child_weight=10, n_estimators=200; total time=   1.0s\n",
      "[CV] END max_depth=30, min_child_weight=10, n_estimators=200; total time=   1.0s\n",
      "[CV] END max_depth=30, min_child_weight=10, n_estimators=300; total time=   1.6s\n",
      "[CV] END max_depth=30, min_child_weight=10, n_estimators=300; total time=   1.5s\n",
      "[CV] END max_depth=30, min_child_weight=10, n_estimators=300; total time=   1.6s\n",
      "[CV] END max_depth=30, min_child_weight=10, n_estimators=500; total time=   2.6s\n",
      "[CV] END max_depth=30, min_child_weight=10, n_estimators=500; total time=   2.5s\n",
      "[CV] END max_depth=30, min_child_weight=10, n_estimators=500; total time=   2.6s\n",
      "[CV] END max_depth=30, min_child_weight=10, n_estimators=1000; total time=   4.9s\n",
      "[CV] END max_depth=30, min_child_weight=10, n_estimators=1000; total time=   4.9s\n",
      "[CV] END max_depth=30, min_child_weight=10, n_estimators=1000; total time=   5.0s\n",
      "[CV] END .max_depth=50, min_child_weight=1, n_estimators=200; total time=   1.9s\n",
      "[CV] END .max_depth=50, min_child_weight=1, n_estimators=200; total time=   2.1s\n",
      "[CV] END .max_depth=50, min_child_weight=1, n_estimators=200; total time=   2.6s\n",
      "[CV] END .max_depth=50, min_child_weight=1, n_estimators=300; total time=   3.2s\n",
      "[CV] END .max_depth=50, min_child_weight=1, n_estimators=300; total time=   3.3s\n"
     ]
    },
    {
     "name": "stdout",
     "output_type": "stream",
     "text": [
      "[CV] END .max_depth=50, min_child_weight=1, n_estimators=300; total time=   3.4s\n",
      "[CV] END .max_depth=50, min_child_weight=1, n_estimators=500; total time=   5.2s\n",
      "[CV] END .max_depth=50, min_child_weight=1, n_estimators=500; total time=   4.8s\n",
      "[CV] END .max_depth=50, min_child_weight=1, n_estimators=500; total time=   4.6s\n",
      "[CV] END max_depth=50, min_child_weight=1, n_estimators=1000; total time=   9.2s\n",
      "[CV] END max_depth=50, min_child_weight=1, n_estimators=1000; total time=   9.3s\n",
      "[CV] END max_depth=50, min_child_weight=1, n_estimators=1000; total time=   9.0s\n",
      "[CV] END .max_depth=50, min_child_weight=3, n_estimators=200; total time=   1.5s\n",
      "[CV] END .max_depth=50, min_child_weight=3, n_estimators=200; total time=   1.6s\n",
      "[CV] END .max_depth=50, min_child_weight=3, n_estimators=200; total time=   1.5s\n",
      "[CV] END .max_depth=50, min_child_weight=3, n_estimators=300; total time=   2.6s\n",
      "[CV] END .max_depth=50, min_child_weight=3, n_estimators=300; total time=   2.4s\n",
      "[CV] END .max_depth=50, min_child_weight=3, n_estimators=300; total time=   2.3s\n",
      "[CV] END .max_depth=50, min_child_weight=3, n_estimators=500; total time=   3.6s\n",
      "[CV] END .max_depth=50, min_child_weight=3, n_estimators=500; total time=   3.6s\n",
      "[CV] END .max_depth=50, min_child_weight=3, n_estimators=500; total time=   3.7s\n",
      "[CV] END max_depth=50, min_child_weight=3, n_estimators=1000; total time=   6.8s\n",
      "[CV] END max_depth=50, min_child_weight=3, n_estimators=1000; total time=   7.5s\n",
      "[CV] END max_depth=50, min_child_weight=3, n_estimators=1000; total time=   7.0s\n",
      "[CV] END .max_depth=50, min_child_weight=6, n_estimators=200; total time=   1.4s\n",
      "[CV] END .max_depth=50, min_child_weight=6, n_estimators=200; total time=   1.3s\n",
      "[CV] END .max_depth=50, min_child_weight=6, n_estimators=200; total time=   1.2s\n",
      "[CV] END .max_depth=50, min_child_weight=6, n_estimators=300; total time=   1.8s\n",
      "[CV] END .max_depth=50, min_child_weight=6, n_estimators=300; total time=   1.8s\n",
      "[CV] END .max_depth=50, min_child_weight=6, n_estimators=300; total time=   1.9s\n",
      "[CV] END .max_depth=50, min_child_weight=6, n_estimators=500; total time=   3.0s\n",
      "[CV] END .max_depth=50, min_child_weight=6, n_estimators=500; total time=   3.0s\n",
      "[CV] END .max_depth=50, min_child_weight=6, n_estimators=500; total time=   3.0s\n",
      "[CV] END max_depth=50, min_child_weight=6, n_estimators=1000; total time=   5.8s\n",
      "[CV] END max_depth=50, min_child_weight=6, n_estimators=1000; total time=   6.8s\n",
      "[CV] END max_depth=50, min_child_weight=6, n_estimators=1000; total time=   6.7s\n",
      "[CV] END max_depth=50, min_child_weight=10, n_estimators=200; total time=   1.0s\n",
      "[CV] END max_depth=50, min_child_weight=10, n_estimators=200; total time=   1.0s\n",
      "[CV] END max_depth=50, min_child_weight=10, n_estimators=200; total time=   1.0s\n",
      "[CV] END max_depth=50, min_child_weight=10, n_estimators=300; total time=   1.5s\n",
      "[CV] END max_depth=50, min_child_weight=10, n_estimators=300; total time=   1.5s\n",
      "[CV] END max_depth=50, min_child_weight=10, n_estimators=300; total time=   1.6s\n",
      "[CV] END max_depth=50, min_child_weight=10, n_estimators=500; total time=   2.5s\n",
      "[CV] END max_depth=50, min_child_weight=10, n_estimators=500; total time=   2.5s\n",
      "[CV] END max_depth=50, min_child_weight=10, n_estimators=500; total time=   2.5s\n",
      "[CV] END max_depth=50, min_child_weight=10, n_estimators=1000; total time=   4.9s\n",
      "[CV] END max_depth=50, min_child_weight=10, n_estimators=1000; total time=   4.9s\n",
      "[CV] END max_depth=50, min_child_weight=10, n_estimators=1000; total time=   5.1s\n"
     ]
    },
    {
     "data": {
      "text/plain": [
       "GridSearchCV(cv=3,\n",
       "             estimator=XGBClassifier(base_score=None, booster=None,\n",
       "                                     callbacks=None, colsample_bylevel=None,\n",
       "                                     colsample_bynode=None,\n",
       "                                     colsample_bytree=None,\n",
       "                                     early_stopping_rounds=None,\n",
       "                                     enable_categorical=False, eval_metric=None,\n",
       "                                     feature_types=None, gamma=None,\n",
       "                                     gpu_id=None, grow_policy=None,\n",
       "                                     importance_type=None,\n",
       "                                     interaction_constraints=None,\n",
       "                                     learning_rate=None,...\n",
       "                                     max_cat_to_onehot=None,\n",
       "                                     max_delta_step=None, max_depth=None,\n",
       "                                     max_leaves=None, min_child_weight=None,\n",
       "                                     missing=nan, monotone_constraints=None,\n",
       "                                     n_estimators=100, n_jobs=None,\n",
       "                                     num_parallel_tree=None, predictor=None,\n",
       "                                     random_state=None, ...),\n",
       "             n_jobs=1,\n",
       "             param_grid={'max_depth': [10, 30, 50],\n",
       "                         'min_child_weight': [1, 3, 6, 10],\n",
       "                         'n_estimators': [200, 300, 500, 1000]},\n",
       "             scoring='accuracy', verbose=2)"
      ]
     },
     "execution_count": 28,
     "metadata": {},
     "output_type": "execute_result"
    }
   ],
   "source": [
    "gscv_xgb.fit(X_train, y_train)"
   ]
  },
  {
   "cell_type": "code",
   "execution_count": 29,
   "id": "2c2689de",
   "metadata": {},
   "outputs": [
    {
     "name": "stdout",
     "output_type": "stream",
     "text": [
      "==============================\n",
      "XGB 파라미터:  {'max_depth': 10, 'min_child_weight': 10, 'n_estimators': 200}\n",
      "XGB 예측 정확도: 0.8396\n"
     ]
    }
   ],
   "source": [
    "print(\"=\"*30)\n",
    "print('XGB 파라미터: ', gscv_xgb.best_params_)\n",
    "print('XGB 예측 정확도: {:.4f}'.format(gscv_xgb.best_score_))"
   ]
  },
  {
   "cell_type": "code",
   "execution_count": 30,
   "id": "348defee",
   "metadata": {},
   "outputs": [
    {
     "name": "stdout",
     "output_type": "stream",
     "text": [
      "[0]\tvalidation_0-logloss:0.64249\n",
      "[1]\tvalidation_0-logloss:0.60102\n",
      "[2]\tvalidation_0-logloss:0.56688\n",
      "[3]\tvalidation_0-logloss:0.53829\n"
     ]
    },
    {
     "name": "stderr",
     "output_type": "stream",
     "text": [
      "C:\\Users\\user\\anaconda3\\lib\\site-packages\\xgboost\\sklearn.py:861: UserWarning: `eval_metric` in `fit` method is deprecated for better compatibility with scikit-learn, use `eval_metric` in constructor or`set_params` instead.\n",
      "  warnings.warn(\n",
      "C:\\Users\\user\\anaconda3\\lib\\site-packages\\xgboost\\sklearn.py:861: UserWarning: `early_stopping_rounds` in `fit` method is deprecated for better compatibility with scikit-learn, use `early_stopping_rounds` in constructor or`set_params` instead.\n",
      "  warnings.warn(\n"
     ]
    },
    {
     "name": "stdout",
     "output_type": "stream",
     "text": [
      "[4]\tvalidation_0-logloss:0.51429\n",
      "[5]\tvalidation_0-logloss:0.49369\n",
      "[6]\tvalidation_0-logloss:0.47636\n",
      "[7]\tvalidation_0-logloss:0.46117\n",
      "[8]\tvalidation_0-logloss:0.44855\n",
      "[9]\tvalidation_0-logloss:0.43753\n",
      "[10]\tvalidation_0-logloss:0.42844\n",
      "[11]\tvalidation_0-logloss:0.42056\n",
      "[12]\tvalidation_0-logloss:0.41409\n",
      "[13]\tvalidation_0-logloss:0.40856\n",
      "[14]\tvalidation_0-logloss:0.40377\n",
      "[15]\tvalidation_0-logloss:0.39996\n",
      "[16]\tvalidation_0-logloss:0.39620\n",
      "[17]\tvalidation_0-logloss:0.39334\n",
      "[18]\tvalidation_0-logloss:0.39063\n",
      "[19]\tvalidation_0-logloss:0.38885\n",
      "[20]\tvalidation_0-logloss:0.38713\n",
      "[21]\tvalidation_0-logloss:0.38582\n",
      "[22]\tvalidation_0-logloss:0.38444\n",
      "[23]\tvalidation_0-logloss:0.38362\n",
      "[24]\tvalidation_0-logloss:0.38277\n",
      "[25]\tvalidation_0-logloss:0.38219\n",
      "[26]\tvalidation_0-logloss:0.38164\n",
      "[27]\tvalidation_0-logloss:0.38131\n",
      "[28]\tvalidation_0-logloss:0.38107\n",
      "[29]\tvalidation_0-logloss:0.38063\n",
      "[30]\tvalidation_0-logloss:0.38043\n",
      "[31]\tvalidation_0-logloss:0.38041\n",
      "[32]\tvalidation_0-logloss:0.38017\n",
      "[33]\tvalidation_0-logloss:0.38015\n",
      "[34]\tvalidation_0-logloss:0.37962\n",
      "[35]\tvalidation_0-logloss:0.37962\n",
      "[36]\tvalidation_0-logloss:0.37942\n",
      "[37]\tvalidation_0-logloss:0.37916\n",
      "[38]\tvalidation_0-logloss:0.37900\n",
      "[39]\tvalidation_0-logloss:0.37916\n",
      "[40]\tvalidation_0-logloss:0.37928\n",
      "[41]\tvalidation_0-logloss:0.37919\n",
      "[42]\tvalidation_0-logloss:0.37902\n",
      "[43]\tvalidation_0-logloss:0.37914\n",
      "[44]\tvalidation_0-logloss:0.37908\n",
      "[45]\tvalidation_0-logloss:0.37908\n",
      "[46]\tvalidation_0-logloss:0.37909\n",
      "[47]\tvalidation_0-logloss:0.37902\n",
      "[48]\tvalidation_0-logloss:0.37898\n",
      "[49]\tvalidation_0-logloss:0.37898\n",
      "[50]\tvalidation_0-logloss:0.37913\n",
      "[51]\tvalidation_0-logloss:0.37921\n",
      "[52]\tvalidation_0-logloss:0.37920\n",
      "[53]\tvalidation_0-logloss:0.37890\n",
      "[54]\tvalidation_0-logloss:0.37893\n",
      "[55]\tvalidation_0-logloss:0.37884\n",
      "[56]\tvalidation_0-logloss:0.37848\n",
      "[57]\tvalidation_0-logloss:0.37826\n",
      "[58]\tvalidation_0-logloss:0.37824\n",
      "[59]\tvalidation_0-logloss:0.37840\n",
      "[60]\tvalidation_0-logloss:0.37839\n",
      "[61]\tvalidation_0-logloss:0.37857\n",
      "[62]\tvalidation_0-logloss:0.37859\n",
      "[63]\tvalidation_0-logloss:0.37869\n",
      "[64]\tvalidation_0-logloss:0.37894\n",
      "[65]\tvalidation_0-logloss:0.37904\n",
      "[66]\tvalidation_0-logloss:0.37922\n",
      "[67]\tvalidation_0-logloss:0.37940\n",
      "[68]\tvalidation_0-logloss:0.37965\n",
      "[69]\tvalidation_0-logloss:0.37978\n",
      "[70]\tvalidation_0-logloss:0.37991\n",
      "[71]\tvalidation_0-logloss:0.38012\n",
      "[72]\tvalidation_0-logloss:0.38018\n",
      "[73]\tvalidation_0-logloss:0.38049\n",
      "[74]\tvalidation_0-logloss:0.38068\n",
      "[75]\tvalidation_0-logloss:0.38073\n",
      "[76]\tvalidation_0-logloss:0.38090\n",
      "[77]\tvalidation_0-logloss:0.38101\n",
      "[78]\tvalidation_0-logloss:0.38096\n",
      "[79]\tvalidation_0-logloss:0.38105\n",
      "[80]\tvalidation_0-logloss:0.38108\n",
      "[81]\tvalidation_0-logloss:0.38123\n",
      "[82]\tvalidation_0-logloss:0.38157\n",
      "[83]\tvalidation_0-logloss:0.38168\n",
      "[84]\tvalidation_0-logloss:0.38142\n",
      "[85]\tvalidation_0-logloss:0.38149\n",
      "[86]\tvalidation_0-logloss:0.38198\n",
      "[87]\tvalidation_0-logloss:0.38208\n",
      "[88]\tvalidation_0-logloss:0.38209\n",
      "[89]\tvalidation_0-logloss:0.38203\n",
      "[90]\tvalidation_0-logloss:0.38219\n",
      "[91]\tvalidation_0-logloss:0.38256\n",
      "[92]\tvalidation_0-logloss:0.38251\n",
      "[93]\tvalidation_0-logloss:0.38256\n",
      "[94]\tvalidation_0-logloss:0.38257\n",
      "[95]\tvalidation_0-logloss:0.38259\n",
      "[96]\tvalidation_0-logloss:0.38255\n",
      "[97]\tvalidation_0-logloss:0.38275\n",
      "[98]\tvalidation_0-logloss:0.38301\n",
      "[99]\tvalidation_0-logloss:0.38304\n",
      "[100]\tvalidation_0-logloss:0.38320\n",
      "[101]\tvalidation_0-logloss:0.38310\n",
      "[102]\tvalidation_0-logloss:0.38314\n",
      "[103]\tvalidation_0-logloss:0.38319\n",
      "[104]\tvalidation_0-logloss:0.38319\n",
      "[105]\tvalidation_0-logloss:0.38341\n",
      "[106]\tvalidation_0-logloss:0.38350\n",
      "[107]\tvalidation_0-logloss:0.38352\n",
      "[108]\tvalidation_0-logloss:0.38317\n",
      "[109]\tvalidation_0-logloss:0.38320\n",
      "[110]\tvalidation_0-logloss:0.38330\n",
      "[111]\tvalidation_0-logloss:0.38333\n",
      "[112]\tvalidation_0-logloss:0.38339\n",
      "[113]\tvalidation_0-logloss:0.38336\n",
      "[114]\tvalidation_0-logloss:0.38347\n",
      "[115]\tvalidation_0-logloss:0.38356\n",
      "[116]\tvalidation_0-logloss:0.38373\n",
      "[117]\tvalidation_0-logloss:0.38408\n",
      "[118]\tvalidation_0-logloss:0.38415\n",
      "[119]\tvalidation_0-logloss:0.38424\n",
      "[120]\tvalidation_0-logloss:0.38438\n",
      "[121]\tvalidation_0-logloss:0.38443\n",
      "[122]\tvalidation_0-logloss:0.38447\n",
      "[123]\tvalidation_0-logloss:0.38462\n",
      "[124]\tvalidation_0-logloss:0.38461\n",
      "[125]\tvalidation_0-logloss:0.38468\n",
      "[126]\tvalidation_0-logloss:0.38468\n",
      "[127]\tvalidation_0-logloss:0.38475\n",
      "[128]\tvalidation_0-logloss:0.38501\n",
      "[129]\tvalidation_0-logloss:0.38509\n",
      "[130]\tvalidation_0-logloss:0.38515\n",
      "[131]\tvalidation_0-logloss:0.38511\n",
      "[132]\tvalidation_0-logloss:0.38533\n",
      "[133]\tvalidation_0-logloss:0.38525\n",
      "[134]\tvalidation_0-logloss:0.38525\n",
      "[135]\tvalidation_0-logloss:0.38536\n",
      "[136]\tvalidation_0-logloss:0.38533\n",
      "[137]\tvalidation_0-logloss:0.38526\n",
      "[138]\tvalidation_0-logloss:0.38535\n",
      "[139]\tvalidation_0-logloss:0.38540\n",
      "[140]\tvalidation_0-logloss:0.38566\n",
      "[141]\tvalidation_0-logloss:0.38560\n",
      "[142]\tvalidation_0-logloss:0.38543\n",
      "[143]\tvalidation_0-logloss:0.38563\n",
      "[144]\tvalidation_0-logloss:0.38556\n",
      "[145]\tvalidation_0-logloss:0.38558\n",
      "[146]\tvalidation_0-logloss:0.38561\n",
      "[147]\tvalidation_0-logloss:0.38554\n",
      "[148]\tvalidation_0-logloss:0.38568\n",
      "[149]\tvalidation_0-logloss:0.38590\n",
      "[150]\tvalidation_0-logloss:0.38617\n",
      "[151]\tvalidation_0-logloss:0.38614\n",
      "[152]\tvalidation_0-logloss:0.38626\n",
      "[153]\tvalidation_0-logloss:0.38610\n",
      "[154]\tvalidation_0-logloss:0.38628\n",
      "[155]\tvalidation_0-logloss:0.38611\n",
      "[156]\tvalidation_0-logloss:0.38627\n",
      "[157]\tvalidation_0-logloss:0.38655\n"
     ]
    }
   ],
   "source": [
    "xgb_wrapper = XGBClassifier(n_estimators = 200, learning_rate = 0.1 , max_depth = 10,min_child_weight= 10)\n",
    "evals = [(X_test, y_test)]\n",
    "xgb_wrapper.fit(X_train, y_train, early_stopping_rounds = 100, \n",
    "                eval_metric=\"logloss\", eval_set = evals, verbose=True)\n",
    "ws100_preds = xgb_wrapper.predict(X_test)"
   ]
  },
  {
   "cell_type": "code",
   "execution_count": 31,
   "id": "5e47733c",
   "metadata": {},
   "outputs": [
    {
     "name": "stdout",
     "output_type": "stream",
     "text": [
      "오차행렬:\n",
      " [[ 516  185]\n",
      " [  74 1088]]\n",
      "\n",
      "정확도: 0.8610\n",
      "정밀도: 0.8547\n",
      "재현율: 0.9363\n",
      "F1: 0.8936\n",
      "AUC: 0.8362\n"
     ]
    }
   ],
   "source": [
    "get_clf_eval(y_test, ws100_preds)"
   ]
  },
  {
   "cell_type": "code",
   "execution_count": 32,
   "id": "ac2fd704",
   "metadata": {},
   "outputs": [
    {
     "data": {
      "text/plain": [
       "<AxesSubplot:title={'center':'Feature importance'}, xlabel='F score', ylabel='Features'>"
      ]
     },
     "execution_count": 32,
     "metadata": {},
     "output_type": "execute_result"
    },
    {
     "data": {
      "image/png": "[encoded data removed]",
      "text/plain": [
       "<Figure size 720x864 with 1 Axes>"
      ]
     },
     "metadata": {
      "needs_background": "light"
     },
     "output_type": "display_data"
    }
   ],
   "source": [
    "from xgboost import plot_importance\n",
    "import matplotlib.pyplot as plt\n",
    "%matplotlib inline\n",
    "\n",
    "fig, ax = plt.subplots(figsize=(10, 12))\n",
    "\n",
    "plot_importance(xgb_wrapper, ax=ax)"
   ]
  },
  {
   "cell_type": "markdown",
   "id": "8843bc51",
   "metadata": {},
   "source": [
    "# Gradient Boosting-gridSearchCV"
   ]
  },
  {
   "cell_type": "code",
   "execution_count": 45,
   "id": "c71063dd",
   "metadata": {},
   "outputs": [
    {
     "name": "stdout",
     "output_type": "stream",
     "text": [
      "GBM 정확도: 0.8663\n",
      "GBM 수행 시간: 0.6초\n"
     ]
    }
   ],
   "source": [
    "# Gradient Boosting Classifier 불러오기\n",
    "from sklearn.ensemble import GradientBoostingClassifier \n",
    "from sklearn.metrics import accuracy_score\n",
    "import time\n",
    "\n",
    "# GBM 수행시간 측정을 위함. 시작시간 설정\n",
    "start_time = time.time()\n",
    "\n",
    "# 예시 데이터셋 불러오기\n",
    "gb_clf = GradientBoostingClassifier(random_state=0)\n",
    "gb_clf.fit(X_train, y_train.values)\n",
    "gb_pred = gb_clf.predict(X_test)\n",
    "gb_accuracy = accuracy_score(y_test, gb_pred)\n",
    "\n",
    "print('GBM 정확도: {:.4f}'.format(gb_accuracy))\n",
    "print('GBM 수행 시간: {:.1f}초'.format(time.time() - start_time))"
   ]
  },
  {
   "cell_type": "code",
   "execution_count": 51,
   "id": "68352b36",
   "metadata": {},
   "outputs": [
    {
     "name": "stdout",
     "output_type": "stream",
     "text": [
      "Fitting 2 folds for each of 300 candidates, totalling 600 fits\n",
      "최적 하이퍼 파라미터: \n",
      " {'learning_rate': 0.30000000000000004, 'max_depth': 3, 'max_features': 3, 'n_estimators': 35}\n",
      "최고 예측 정확도: 0.8613\n"
     ]
    }
   ],
   "source": [
    "from sklearn.model_selection import GridSearchCV\n",
    "import numpy as np\n",
    "param = {\"max_depth\" : range(3,5),\n",
    "             \"learning_rate\" : np.linspace(0.1,1,10),\n",
    "             \"n_estimators\" :range(5,50,10),\n",
    "             \"max_features\":range(1,4)\n",
    "              }\n",
    "#Gradient객체 생성후 GridSearchCV수행\n",
    "gb_clf = GradientBoostingClassifier(random_state=0)\n",
    "grid_cv = GridSearchCV(gb_clf, param_grid=param, cv=2, verbose=1, n_jobs=-1)\n",
    "grid_cv.fit(X_train, y_train.values)\n",
    "print('최적 하이퍼 파라미터: \\n', grid_cv.best_params_)\n",
    "print('최고 예측 정확도: {0:.4f}'.format(grid_cv.best_score_))"
   ]
  },
  {
   "cell_type": "code",
   "execution_count": 54,
   "id": "e2fa6f0e",
   "metadata": {},
   "outputs": [
    {
     "name": "stdout",
     "output_type": "stream",
     "text": [
      "GBM 정확도: 0.8647\n"
     ]
    }
   ],
   "source": [
    "# GridSearchCV를 이용해 최적으로 학습된 estimators로 예측 수행\n",
    "gb_clf1=GradientBoostingClassifier(learning_rate= 0.30000000000000004,\n",
    "                                   max_depth= 3,\n",
    "                                   n_estimators= 35,\n",
    "                                   max_features=3,\n",
    "                                   random_state=0)\n",
    "gb_clf1.fit(X_train, y_train.values)\n",
    "gb_pred = gb_clf1.predict(X_test)\n",
    "gb_accuracy = accuracy_score(y_test, gb_pred)\n",
    "print('GBM 정확도: {0:.4f}'.format(gb_accuracy))"
   ]
  },
  {
   "cell_type": "code",
   "execution_count": 53,
   "id": "bf66c6c7",
   "metadata": {},
   "outputs": [
    {
     "data": {
      "image/png": "[encoded data removed]",
      "text/plain": [
       "<Figure size 576x432 with 1 Axes>"
      ]
     },
     "metadata": {
      "needs_background": "light"
     },
     "output_type": "display_data"
    }
   ],
   "source": [
    "import matplotlib.pyplot as plt\n",
    "import seaborn as sns\n",
    "%matplotlib inline\n",
    "\n",
    "ftr_importances_values = grid_cv.best_estimator_.feature_importances_\n",
    "ftr_importances = pd.Series(ftr_importances_values, index = X_train.columns)\n",
    "ftr_top20 = ftr_importances.sort_values(ascending=False)[:20]\n",
    "\n",
    "plt.figure(figsize=(8,6))\n",
    "plt.title('Top 20 Feature Importances')\n",
    "sns.barplot(x=ftr_top20, y=ftr_top20.index)\n",
    "plt.show()"
   ]
  },
  {
   "cell_type": "code",
   "execution_count": null,
   "id": "69da4ef6",
   "metadata": {},
   "outputs": [],
   "source": []
  }
 ],
 "metadata": {
  "kernelspec": {
   "display_name": "Python 3 (ipykernel)",
   "language": "python",
   "name": "python3"
  },
  "language_info": {
   "codemirror_mode": {
    "name": "ipython",
    "version": 3
   },
   "file_extension": ".py",
   "mimetype": "text/x-python",
   "name": "python",
   "nbconvert_exporter": "python",
   "pygments_lexer": "ipython3",
   "version": "3.9.12"
  },
  "toc": {
   "base_numbering": 1,
   "nav_menu": {},
   "number_sections": true,
   "sideBar": true,
   "skip_h1_title": false,
   "title_cell": "Table of Contents",
   "title_sidebar": "Contents",
   "toc_cell": false,
   "toc_position": {
    "height": "calc(100% - 180px)",
    "left": "10px",
    "top": "150px",
    "width": "294.55px"
   },
   "toc_section_display": true,
   "toc_window_display": true
  }
 },
 "nbformat": 4,
 "nbformat_minor": 5
}
