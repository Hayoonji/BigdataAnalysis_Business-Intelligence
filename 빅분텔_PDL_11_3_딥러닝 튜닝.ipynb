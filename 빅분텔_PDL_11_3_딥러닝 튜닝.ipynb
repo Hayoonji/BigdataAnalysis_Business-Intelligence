{
 "cells": [
  {
   "cell_type": "markdown",
   "id": "7b79465e",
   "metadata": {},
   "source": [
    "# 심층 신경망 모형의 하이퍼 파라미터들"
   ]
  },
  {
   "cell_type": "markdown",
   "id": "2fae45c4",
   "metadata": {},
   "source": [
    "- 네트워크 구조 : 레이어의 수와 노드 수\n",
    "- 드롭 아웃\n",
    "- 활성화 함수\n",
    "- 손실 함수(loss)\n",
    "- 최적화 함수(optimizer)\n",
    "- 학습률\n",
    "- 미니배치 크기\n",
    "- 반복학습 횟수"
   ]
  },
  {
   "cell_type": "markdown",
   "id": "20ee5802",
   "metadata": {},
   "source": [
    "## 네트워크 구조"
   ]
  },
  {
   "cell_type": "markdown",
   "id": "1402e1dc",
   "metadata": {},
   "source": [
    "### 레이어의 수와 노드(뉴런, 유닛)수"
   ]
  },
  {
   "cell_type": "markdown",
   "id": "36ed82d2",
   "metadata": {},
   "source": [
    "- 레이어의 수가 많아지면,\n",
    "> 가중치 갱신(역전파)이 어려워짐\n",
    "> 학습이 느려짐\n",
    "- 노드의 수가 많아지면\n",
    "> 과학습이 이루어질 가능성 높음"
   ]
  },
  {
   "cell_type": "markdown",
   "id": "644bfb29",
   "metadata": {},
   "source": [
    "### 적절한 레이어의 수 및 노드 수"
   ]
  },
  {
   "cell_type": "markdown",
   "id": "3f69c781",
   "metadata": {},
   "source": [
    "- 유사한 예를 참조\n",
    "- 여러모형 테스트"
   ]
  },
  {
   "cell_type": "markdown",
   "id": "e6fbfe76",
   "metadata": {},
   "source": [
    "## 드롭 아웃"
   ]
  },
  {
   "cell_type": "markdown",
   "id": "2c6b1201",
   "metadata": {},
   "source": [
    "- 레이어들 사이의 연결링크의 일부를 의도적으로 제거함\n",
    "> 파라미터 w를 0으로 바꿈\n",
    "==> 과학습 막는 방안의 하나: 모형의 복잡도 감소시키고, 일반성 향상\n",
    "    \n",
    "- **마지막 레이어에 대해서는 드롭아웃 하면 안됨"
   ]
  },
  {
   "cell_type": "markdown",
   "id": "be280e31",
   "metadata": {},
   "source": [
    "## 활성화 함수"
   ]
  },
  {
   "cell_type": "markdown",
   "id": "3d63aee0",
   "metadata": {},
   "source": [
    "- sigmoid\n",
    "- Tanh\n",
    "- Relu\n",
    "- softmax: 분류 시 필요, 분류 아닐땐 필요 X"
   ]
  },
  {
   "cell_type": "markdown",
   "id": "1123c6ba",
   "metadata": {},
   "source": [
    "## 손실 함수(비용 함수)"
   ]
  },
  {
   "cell_type": "markdown",
   "id": "1b02467a",
   "metadata": {},
   "source": [
    "- Mean square error\n",
    "- Cross-entropy\n",
    "\n",
    "> Binary cross-entropy : 더미변수 일때 사용(이진분류)\n",
    "\n",
    "> Categorical cross-entropy : 회귀분석 시 사용"
   ]
  },
  {
   "cell_type": "markdown",
   "id": "057ec97c",
   "metadata": {},
   "source": [
    "### 모형 선택 기준"
   ]
  },
  {
   "cell_type": "markdown",
   "id": "04fdc9e4",
   "metadata": {},
   "source": [
    "- Training 데이터를 사용하여 훈련시키나, 목적은 test데이터에서 가장 우수한 성과를 낼 것으로 예상되는 모형 선택\n",
    "- 이를 위해선 training 데이터의 비용 뿐 아니라, 모형의 일반성 또한 고려해야 함"
   ]
  },
  {
   "cell_type": "markdown",
   "id": "fdf2fc6f",
   "metadata": {},
   "source": [
    "### 모형의 일반성"
   ]
  },
  {
   "cell_type": "markdown",
   "id": "d4979e97",
   "metadata": {},
   "source": [
    "- 가능한 단순한 모형이 일반성 높은 모형\n",
    "- 비용함수에 단순성을 반영하는 값 추가 -> 이를 'regularization'이라고 함\n",
    "\n",
    "> 예) 의사결정나무의 경우, 단말 노드의 수를 가능한 적게 하기 위해서 전체비용에 단말노드의 수를 포함시키는 것이 regularization에 해당"
   ]
  },
  {
   "cell_type": "markdown",
   "id": "ce1f3923",
   "metadata": {},
   "source": [
    "## 학습률"
   ]
  },
  {
   "cell_type": "markdown",
   "id": "5b47f8a1",
   "metadata": {},
   "source": [
    "- 너무 작으면: 학습 속도가 느림, 부분 최적값에 갇힘\n",
    "- 너무 크면: 최적값을 건너띄어 왔다갔다함, 수렴하는데 시간 오래 걸림\n",
    "- 더 크면 : 발산 -> 최적값 찾지 못함"
   ]
  },
  {
   "cell_type": "markdown",
   "id": "b071ee0c",
   "metadata": {},
   "source": [
    "## 미니배치"
   ]
  },
  {
   "cell_type": "markdown",
   "id": "574d5a5f",
   "metadata": {},
   "source": [
    "- 학습 데이터 전체를 1개의 배치로 학습\n",
    "\n",
    "> 모형 파라미터(가중치들) 갱신에 시간이 오래걸림\n",
    "- 미니배치accuracy: 얼마나 맞았나, loss=손실\n",
    "    val_loss를 가지고 학습이 잘 이루어지는지 안이루어지는지 확인\n",
    "    validation data : 검증 시 반드시 필요\n",
    "> 학습 데이터 중 일부를 추출해서 그것들을 학습 한 후 모형 파라미터들 갱신\n",
    "- 온라인 학습\n",
    "> 1개의 데이터를 학습한 후, 모형 파라미터들 갱신"
   ]
  },
  {
   "cell_type": "markdown",
   "id": "6948a634",
   "metadata": {},
   "source": [
    "## 반복 학습"
   ]
  },
  {
   "cell_type": "markdown",
   "id": "104ec76e",
   "metadata": {},
   "source": [
    "- 학습을 위한 학습 데이터의 사용횟수\n",
    "\n",
    "> 과학습이 일어날때까지 학습해야, 어디가 최적점인지 알수있음\n",
    "- 학습 실행 시, 과학습의 발생횟수를 callback에 포함시킬수있음"
   ]
  },
  {
   "cell_type": "code",
   "execution_count": null,
   "id": "4ccd67e4",
   "metadata": {},
   "outputs": [],
   "source": []
  }
 ],
 "metadata": {
  "kernelspec": {
   "display_name": "Python 3 (ipykernel)",
   "language": "python",
   "name": "python3"
  },
  "language_info": {
   "codemirror_mode": {
    "name": "ipython",
    "version": 3
   },
   "file_extension": ".py",
   "mimetype": "text/x-python",
   "name": "python",
   "nbconvert_exporter": "python",
   "pygments_lexer": "ipython3",
   "version": "3.9.12"
  },
  "toc": {
   "base_numbering": 1,
   "nav_menu": {},
   "number_sections": true,
   "sideBar": true,
   "skip_h1_title": false,
   "title_cell": "Table of Contents",
   "title_sidebar": "Contents",
   "toc_cell": false,
   "toc_position": {
    "height": "calc(100% - 180px)",
    "left": "10px",
    "top": "150px",
    "width": "331.014px"
   },
   "toc_section_display": true,
   "toc_window_display": true
  }
 },
 "nbformat": 4,
 "nbformat_minor": 5
}
