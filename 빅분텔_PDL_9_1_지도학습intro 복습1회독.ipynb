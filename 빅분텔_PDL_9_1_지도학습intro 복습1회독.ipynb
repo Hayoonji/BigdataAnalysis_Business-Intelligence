{
 "cells": [
  {
   "cell_type": "markdown",
   "id": "15f24fe2",
   "metadata": {},
   "source": [
    "# 학습의 종류"
   ]
  },
  {
   "cell_type": "markdown",
   "id": "2dc8c0b7",
   "metadata": {},
   "source": [
    "## 지도학습 (과거 데이터O)"
   ]
  },
  {
   "cell_type": "markdown",
   "id": "bc419579",
   "metadata": {},
   "source": [
    "- \"과거 데이터\" 필수(정답을 알고 있는 샘플 데이터 사용하여 학습)\n",
    "- 회귀모형(미래데이터 예측), 분류모형(분류), 사물인식\n",
    "- **과거 데이터 전부 줘서 법칙 찾아내라"
   ]
  },
  {
   "cell_type": "markdown",
   "id": "868a828b",
   "metadata": {},
   "source": [
    "## 비지도학습 (과거 데이터X)"
   ]
  },
  {
   "cell_type": "markdown",
   "id": "a65c9b49",
   "metadata": {},
   "source": [
    "- 정답을 알고있는 샘플데이터 사용X(ex. 키, 몸무게 등으로 관계성 파악)\n",
    "- 데이터로부터 관계성 파악(ex. 군집화: 분류데이터들을 군집으로 분류)"
   ]
  },
  {
   "cell_type": "markdown",
   "id": "ef8a48cf",
   "metadata": {},
   "source": [
    "## 강화학습 (행동에 대한 보상)"
   ]
  },
  {
   "cell_type": "markdown",
   "id": "3e43a9ab",
   "metadata": {},
   "source": [
    "- 행동에 대한 보상을 바탕으로, 보상을 최대화하도록 학습시킴\n",
    "- ex. 체스, 바둑, 게임, 자율주행 ..."
   ]
  },
  {
   "cell_type": "markdown",
   "id": "b145f794",
   "metadata": {},
   "source": [
    "# 학습의 과정"
   ]
  },
  {
   "cell_type": "markdown",
   "id": "498786f4",
   "metadata": {},
   "source": [
    "## 학습의 단계"
   ]
  },
  {
   "cell_type": "markdown",
   "id": "36da64ed",
   "metadata": {},
   "source": [
    "0. 문제정의 및 데이터 수집\n",
    "1. 데이터 전처리\n",
    "2. 모형 선택\n",
    "3. 모형학습/튜닝(모형의 파라미터들(파이퍼 파라미터)선택/파라미터 튜닝)\n",
    "4. 모형 수정 및 보완 활용"
   ]
  },
  {
   "cell_type": "markdown",
   "id": "8e473732",
   "metadata": {},
   "source": [
    "# 머신러닝 작업흐름"
   ]
  },
  {
   "cell_type": "markdown",
   "id": "05351836",
   "metadata": {},
   "source": [
    "## 문제정의 및 데이터 수집"
   ]
  },
  {
   "cell_type": "markdown",
   "id": "9216d353",
   "metadata": {},
   "source": [
    "### 문제 정의"
   ]
  },
  {
   "cell_type": "markdown",
   "id": "8b69d9d9",
   "metadata": {},
   "source": [
    "-(문제 정의 -> 모형 개발)\n",
    "- 입력데이터 : 입력 데이터가 무엇? 입력데이터로부터 무엇 예측?\n",
    "- 문제의 종류 : binary classification? 등등"
   ]
  },
  {
   "cell_type": "markdown",
   "id": "6c3e2edc",
   "metadata": {},
   "source": [
    "### 평가지표"
   ]
  },
  {
   "cell_type": "markdown",
   "id": "0d731e3f",
   "metadata": {},
   "source": [
    "- accuaracy, precision, recall, mae(mean_absolute_error:차이가 얼마나 되나? - 이걸로 정확성 측정)\n",
    "- 참조 : confusion matrix 참조(분류에서)"
   ]
  },
  {
   "cell_type": "markdown",
   "id": "da978f54",
   "metadata": {},
   "source": [
    "### 기계학습에서 필요한 데이터 양"
   ]
  },
  {
   "cell_type": "markdown",
   "id": "71200b75",
   "metadata": {},
   "source": [
    "#### 데이터 수집"
   ]
  },
  {
   "cell_type": "markdown",
   "id": "c4f28b31",
   "metadata": {},
   "source": [
    "- 기계학습의 1번째 성공 요인 : 많은 양의 좋은 데이터 사용한 훈련\n",
    "- 편향되지 않은 데이터 수집"
   ]
  },
  {
   "cell_type": "code",
   "execution_count": null,
   "id": "8169e8a3",
   "metadata": {},
   "outputs": [],
   "source": []
  }
 ],
 "metadata": {
  "kernelspec": {
   "display_name": "Python 3 (ipykernel)",
   "language": "python",
   "name": "python3"
  },
  "language_info": {
   "codemirror_mode": {
    "name": "ipython",
    "version": 3
   },
   "file_extension": ".py",
   "mimetype": "text/x-python",
   "name": "python",
   "nbconvert_exporter": "python",
   "pygments_lexer": "ipython3",
   "version": "3.9.12"
  },
  "toc": {
   "base_numbering": 1,
   "nav_menu": {},
   "number_sections": true,
   "sideBar": true,
   "skip_h1_title": false,
   "title_cell": "Table of Contents",
   "title_sidebar": "Contents",
   "toc_cell": false,
   "toc_position": {},
   "toc_section_display": true,
   "toc_window_display": false
  }
 },
 "nbformat": 4,
 "nbformat_minor": 5
}
