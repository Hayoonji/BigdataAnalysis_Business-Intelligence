{
 "cells": [
  {
   "cell_type": "markdown",
   "id": "ab48fe68",
   "metadata": {},
   "source": [
    "# 파이썬의 특성"
   ]
  },
  {
   "cell_type": "markdown",
   "id": "3dc4468b",
   "metadata": {},
   "source": [
    "1. 많은 라이브러리 지님\n",
    "2. 인터프리터 언어 : 컴파일 되어 기계어로 바꾸어지지 않고, 바로 실행되는 언어\n"
   ]
  },
  {
   "cell_type": "markdown",
   "id": "cb41f3ac",
   "metadata": {},
   "source": [
    "# 파이썬 대화형 개발환경"
   ]
  },
  {
   "cell_type": "markdown",
   "id": "5ca67dfb",
   "metadata": {},
   "source": [
    "# 단축키"
   ]
  },
  {
   "cell_type": "markdown",
   "id": "cf776ac9",
   "metadata": {},
   "source": [
    "1. Tab키: object이름 자동완성\n",
    "2. Shift+Tab키 : object나 object의 method에 대한 설명"
   ]
  },
  {
   "cell_type": "markdown",
   "id": "1c033698",
   "metadata": {},
   "source": [
    "# Type"
   ]
  },
  {
   "cell_type": "markdown",
   "id": "3fe9ff40",
   "metadata": {},
   "source": [
    "int, str, float, complex"
   ]
  },
  {
   "cell_type": "code",
   "execution_count": 7,
   "id": "547bc4c8",
   "metadata": {},
   "outputs": [
    {
     "data": {
      "text/plain": [
       "float"
      ]
     },
     "execution_count": 7,
     "metadata": {},
     "output_type": "execute_result"
    }
   ],
   "source": [
    "a=3.0\n",
    "type(a)"
   ]
  },
  {
   "cell_type": "markdown",
   "id": "70dd5715",
   "metadata": {},
   "source": [
    "**R에서 str()함수의 기능? \n",
    ": 데이터셋의 구조 확인 및 출력"
   ]
  },
  {
   "cell_type": "markdown",
   "id": "eaa02359",
   "metadata": {},
   "source": [
    "# 파이썬 사칙 연산자"
   ]
  },
  {
   "cell_type": "markdown",
   "id": "5c204736",
   "metadata": {},
   "source": [
    "+=, -=, *=, /=, %=, **=, //="
   ]
  },
  {
   "cell_type": "markdown",
   "id": "0138a575",
   "metadata": {},
   "source": [
    "# 파이썬 비교 연산자"
   ]
  },
  {
   "cell_type": "markdown",
   "id": "3420e7d8",
   "metadata": {},
   "source": [
    "==, !=, <>, >, <, >=, <="
   ]
  },
  {
   "cell_type": "markdown",
   "id": "75be239a",
   "metadata": {},
   "source": [
    "# 출력 및 입력"
   ]
  },
  {
   "cell_type": "markdown",
   "id": "2b4bc6e6",
   "metadata": {},
   "source": [
    "1. print : 터미널에 내용을 출력\n",
    "2. input : 터미널로부터 입력되는 내용 읽어들임"
   ]
  },
  {
   "cell_type": "code",
   "execution_count": 11,
   "id": "a8da2842",
   "metadata": {},
   "outputs": [
    {
     "name": "stdout",
     "output_type": "stream",
     "text": [
      "Type in your name:yj\n"
     ]
    }
   ],
   "source": [
    "name=input('Type in your name:')"
   ]
  },
  {
   "cell_type": "code",
   "execution_count": 12,
   "id": "c36d53b4",
   "metadata": {},
   "outputs": [
    {
     "name": "stdout",
     "output_type": "stream",
     "text": [
      "My name is yj\n"
     ]
    }
   ],
   "source": [
    "print('My name is',name)"
   ]
  },
  {
   "cell_type": "markdown",
   "id": "499f459c",
   "metadata": {},
   "source": [
    "# if문"
   ]
  },
  {
   "cell_type": "markdown",
   "id": "ff1b0502",
   "metadata": {},
   "source": [
    "조건을 검사하여, 조건이 만족될 경우에만 특정 작업들 실행"
   ]
  },
  {
   "cell_type": "code",
   "execution_count": 15,
   "id": "a73995ac",
   "metadata": {},
   "outputs": [],
   "source": [
    "n=2000"
   ]
  },
  {
   "cell_type": "code",
   "execution_count": 16,
   "id": "2c528538",
   "metadata": {},
   "outputs": [
    {
     "name": "stdout",
     "output_type": "stream",
     "text": [
      "2000  은 중간 숫자네요\n"
     ]
    }
   ],
   "source": [
    "if(n>10000):\n",
    "    print(n,' 은 큰 숫자네요')\n",
    "elif(n>100):\n",
    "    print(n,' 은 중간 숫자네요')\n",
    "else:\n",
    "    print(n,' 은 작은 숫자네요')"
   ]
  },
  {
   "cell_type": "code",
   "execution_count": null,
   "id": "5f8869c2",
   "metadata": {},
   "outputs": [],
   "source": []
  }
 ],
 "metadata": {
  "kernelspec": {
   "display_name": "Python 3 (ipykernel)",
   "language": "python",
   "name": "python3"
  },
  "language_info": {
   "codemirror_mode": {
    "name": "ipython",
    "version": 3
   },
   "file_extension": ".py",
   "mimetype": "text/x-python",
   "name": "python",
   "nbconvert_exporter": "python",
   "pygments_lexer": "ipython3",
   "version": "3.9.12"
  },
  "toc": {
   "base_numbering": 1,
   "nav_menu": {},
   "number_sections": true,
   "sideBar": true,
   "skip_h1_title": false,
   "title_cell": "Table of Contents",
   "title_sidebar": "Contents",
   "toc_cell": false,
   "toc_position": {
    "height": "calc(100% - 180px)",
    "left": "10px",
    "top": "150px",
    "width": "165px"
   },
   "toc_section_display": true,
   "toc_window_display": false
  }
 },
 "nbformat": 4,
 "nbformat_minor": 5
}
