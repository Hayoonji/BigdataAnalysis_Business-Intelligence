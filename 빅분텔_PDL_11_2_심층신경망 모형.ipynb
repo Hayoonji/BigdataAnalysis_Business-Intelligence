{
 "cells": [
  {
   "cell_type": "markdown",
   "id": "0a143be1",
   "metadata": {},
   "source": [
    "# Tensorflow 레이어들"
   ]
  },
  {
   "cell_type": "markdown",
   "id": "40a31106",
   "metadata": {},
   "source": [
    "## 레이어 종류"
   ]
  },
  {
   "cell_type": "markdown",
   "id": "e6542efd",
   "metadata": {},
   "source": [
    "### 단층/다층(심층)신경망 모형"
   ]
  },
  {
   "cell_type": "markdown",
   "id": "7a3f4b04",
   "metadata": {},
   "source": [
    "- Dense 레이어: 전결합층, 완전 연결층, 밀집 연결층"
   ]
  },
  {
   "cell_type": "markdown",
   "id": "3bb26d0c",
   "metadata": {},
   "source": [
    "#### Dense레이어에서 파라미터 수의 계산"
   ]
  },
  {
   "cell_type": "markdown",
   "id": "e526ccac",
   "metadata": {},
   "source": [
    "##### 2번째 Dense레이어의 파라미터 수"
   ]
  },
  {
   "cell_type": "markdown",
   "id": "adfa4059",
   "metadata": {},
   "source": [
    "- 입력 레이어의 변수노드(784개)와 Dense레이어의 노드 256개 연결됨\n",
    "- 2번째 레이어의 각 노드에 대해,\n",
    "> 입력 노드별로 가중치 파라미터가 784개,\n",
    "> 절편을 나타내는 파라미터가 1개 있음\n",
    "\n",
    "- 256*(784+1)=200,960"
   ]
  },
  {
   "cell_type": "markdown",
   "id": "e43672a4",
   "metadata": {},
   "source": [
    "##### 3번째 Dense레이어의 파라미터 수"
   ]
  },
  {
   "cell_type": "markdown",
   "id": "f26d0012",
   "metadata": {},
   "source": [
    "- 2번째 Dense레이어의 노드 256개가 3번째 Dense레이어의 노드(128개)와 연결\n",
    "- 3번째 레이어의 각 노드 별로,\n",
    "> 2번째 레이어의 256개 노드로부터 입력되는 가중치를 나타내는 256개, 파라미터와 절편을 나타내는 1개의 파라미터 도합 257개의 파라미터가 잇음\n",
    "\n",
    "- 128*(256+1)=32896"
   ]
  },
  {
   "cell_type": "markdown",
   "id": "eaed8a24",
   "metadata": {},
   "source": [
    "### 합성곱 신경망 모형"
   ]
  },
  {
   "cell_type": "markdown",
   "id": "151db984",
   "metadata": {},
   "source": [
    "- Convolution 레이어(이미지가 가지고 있는 것) : 합성곱 층\n",
    "- Conv1D, Conv2D, Conv3D\n",
    "- Pooling 레이어(풀링 층)"
   ]
  },
  {
   "cell_type": "markdown",
   "id": "9732a74e",
   "metadata": {},
   "source": [
    "### 순환 신경망 모형(예측)"
   ]
  },
  {
   "cell_type": "markdown",
   "id": "c242fc7b",
   "metadata": {},
   "source": [
    "- LSTM레이어(Long Short Term Memory)\n",
    "- GTM"
   ]
  },
  {
   "cell_type": "markdown",
   "id": "ad2aab2d",
   "metadata": {},
   "source": [
    "## 레이어 특징"
   ]
  },
  {
   "cell_type": "markdown",
   "id": "cdf0e0e7",
   "metadata": {},
   "source": [
    "- 각 레이어들은 텐서 변환 기능 수행\n",
    "> y=X*W+b (기본적으로 각각의 노드들은 선형변환 함)"
   ]
  },
  {
   "cell_type": "markdown",
   "id": "086ad80e",
   "metadata": {},
   "source": [
    "# Tensorflow의 모형개발 API"
   ]
  },
  {
   "cell_type": "markdown",
   "id": "380bb450",
   "metadata": {},
   "source": [
    "- Keras의 표준 레이어들 사용"
   ]
  },
  {
   "cell_type": "markdown",
   "id": "ba0f568f",
   "metadata": {},
   "source": [
    "## 레이어 모형 구성법"
   ]
  },
  {
   "cell_type": "markdown",
   "id": "f02c52c3",
   "metadata": {},
   "source": [
    "### Sequential 모형"
   ]
  },
  {
   "cell_type": "markdown",
   "id": "20fbcdf0",
   "metadata": {},
   "source": [
    "- 레이어를 계속 쌓아서 모형 구성\n",
    "> Model.add()\n",
    "- 하나의 입력자료와 하나의 출력 값에 대해서만 모델링 가능"
   ]
  },
  {
   "cell_type": "markdown",
   "id": "6d9a9058",
   "metadata": {},
   "source": [
    "- Sequential()모형 함수의 ()안에 추가될 레이어들을 리스트로 표시"
   ]
  },
  {
   "cell_type": "code",
   "execution_count": 48,
   "id": "111f76b2",
   "metadata": {},
   "outputs": [],
   "source": [
    "model2=tf.keras.Sequential(\n",
    "    [tf.keras.layers.Dense(256,input_shape=(784, ),activation='sigmoid'),\n",
    "     tf.keras.layers.Dense(128,activation='relu'),\n",
    "     tf.keras.layers.Dense(10,activation='softmax')])"
   ]
  },
  {
   "cell_type": "markdown",
   "id": "ac529534",
   "metadata": {},
   "source": [
    "### Functional 모형"
   ]
  },
  {
   "cell_type": "markdown",
   "id": "19536695",
   "metadata": {},
   "source": [
    "- Tensor를 레이어의 인자로 넘겨줌\n",
    "- 여러개의 입력자료와 여러개의 출력 값 모델링 가능"
   ]
  },
  {
   "cell_type": "markdown",
   "id": "f0b18d89",
   "metadata": {},
   "source": [
    "# 심층 신경망 모형"
   ]
  },
  {
   "cell_type": "code",
   "execution_count": 1,
   "id": "1d2b5fe3",
   "metadata": {},
   "outputs": [],
   "source": [
    "import numpy as np\n",
    "import tensorflow as tf"
   ]
  },
  {
   "cell_type": "code",
   "execution_count": 2,
   "id": "4348c6c5",
   "metadata": {},
   "outputs": [],
   "source": [
    "model=tf.keras.models.Sequential()"
   ]
  },
  {
   "cell_type": "code",
   "execution_count": 3,
   "id": "e5736df1",
   "metadata": {},
   "outputs": [],
   "source": [
    "#input레이어에서 입력데이터의 shape를 표시해주어야 함/ 샘플 수는 표시하지 않고, 특성 수만 표시\n",
    "#각 레이어에서 활성화 함수 별도 지정\n",
    "model.add(tf.keras.layers.Dense(256,input_shape=(784, ),activation='sigmoid'))"
   ]
  },
  {
   "cell_type": "code",
   "execution_count": 4,
   "id": "3dc216d6",
   "metadata": {},
   "outputs": [],
   "source": [
    "model.add(tf.keras.layers.Dense(128,activation='relu'))"
   ]
  },
  {
   "cell_type": "code",
   "execution_count": 5,
   "id": "09082588",
   "metadata": {},
   "outputs": [],
   "source": [
    "model.add(tf.keras.layers.Dense(10,activation='softmax'))"
   ]
  },
  {
   "cell_type": "code",
   "execution_count": 6,
   "id": "6b5305a5",
   "metadata": {},
   "outputs": [
    {
     "name": "stdout",
     "output_type": "stream",
     "text": [
      "Model: \"sequential\"\n",
      "_________________________________________________________________\n",
      " Layer (type)                Output Shape              Param #   \n",
      "=================================================================\n",
      " dense (Dense)               (None, 256)               200960    \n",
      "                                                                 \n",
      " dense_1 (Dense)             (None, 128)               32896     \n",
      "                                                                 \n",
      " dense_2 (Dense)             (None, 10)                1290      \n",
      "                                                                 \n",
      "=================================================================\n",
      "Total params: 235,146\n",
      "Trainable params: 235,146\n",
      "Non-trainable params: 0\n",
      "_________________________________________________________________\n"
     ]
    }
   ],
   "source": [
    "model.summary()"
   ]
  },
  {
   "cell_type": "markdown",
   "id": "560ebb54",
   "metadata": {},
   "source": [
    "## 심층 신경망 모형 입력 데이터"
   ]
  },
  {
   "cell_type": "markdown",
   "id": "9fabfde7",
   "metadata": {},
   "source": [
    "### 입력데이터 준비"
   ]
  },
  {
   "cell_type": "markdown",
   "id": "84d0c3c5",
   "metadata": {},
   "source": [
    "- 훈련 데이터와 테스트 데이터 분리"
   ]
  },
  {
   "cell_type": "markdown",
   "id": "74d38c4d",
   "metadata": {},
   "source": [
    "### 입력데이터 분리방법"
   ]
  },
  {
   "cell_type": "markdown",
   "id": "af2635c6",
   "metadata": {},
   "source": [
    "- Scikit-learn의 train_test_split( ) 함수 사용\n",
    "- 이미 만들어진 입력 데이터 셋의 경우 load_data( ) 함수를 사용\n",
    " "
   ]
  },
  {
   "cell_type": "code",
   "execution_count": 26,
   "id": "e17981fb",
   "metadata": {},
   "outputs": [],
   "source": [
    "(X_train, Y_train),(X_test,Y_test)=tf.keras.datasets.mnist.load_data()"
   ]
  },
  {
   "cell_type": "code",
   "execution_count": 14,
   "id": "a46c75f7",
   "metadata": {},
   "outputs": [
    {
     "name": "stdout",
     "output_type": "stream",
     "text": [
      "[[  0   0   0   0   0   0   0   0   0   0   0   0   0   0   0   0   0   0\n",
      "    0   0   0   0   0   0   0   0   0   0]\n",
      " [  0   0   0   0   0   0   0   0   0   0   0   0   0   0   0   0   0   0\n",
      "    0   0   0   0   0   0   0   0   0   0]\n",
      " [  0   0   0   0   0   0   0   0   0   0   0   0   0   0   0   0   0   0\n",
      "    0   0   0   0   0   0   0   0   0   0]\n",
      " [  0   0   0   0   0   0   0   0   0   0   0   0   0   0   0   0   0   0\n",
      "    0   0   0   0   0   0   0   0   0   0]\n",
      " [  0   0   0   0   0   0   0   0   0   0   0   0   0   0   0   0   0   0\n",
      "    0   0   0   0   0   0   0   0   0   0]\n",
      " [  0   0   0   0   0   0   0   0   0   0   0   0   3  18  18  18 126 136\n",
      "  175  26 166 255 247 127   0   0   0   0]\n",
      " [  0   0   0   0   0   0   0   0  30  36  94 154 170 253 253 253 253 253\n",
      "  225 172 253 242 195  64   0   0   0   0]\n",
      " [  0   0   0   0   0   0   0  49 238 253 253 253 253 253 253 253 253 251\n",
      "   93  82  82  56  39   0   0   0   0   0]\n",
      " [  0   0   0   0   0   0   0  18 219 253 253 253 253 253 198 182 247 241\n",
      "    0   0   0   0   0   0   0   0   0   0]\n",
      " [  0   0   0   0   0   0   0   0  80 156 107 253 253 205  11   0  43 154\n",
      "    0   0   0   0   0   0   0   0   0   0]\n",
      " [  0   0   0   0   0   0   0   0   0  14   1 154 253  90   0   0   0   0\n",
      "    0   0   0   0   0   0   0   0   0   0]\n",
      " [  0   0   0   0   0   0   0   0   0   0   0 139 253 190   2   0   0   0\n",
      "    0   0   0   0   0   0   0   0   0   0]\n",
      " [  0   0   0   0   0   0   0   0   0   0   0  11 190 253  70   0   0   0\n",
      "    0   0   0   0   0   0   0   0   0   0]\n",
      " [  0   0   0   0   0   0   0   0   0   0   0   0  35 241 225 160 108   1\n",
      "    0   0   0   0   0   0   0   0   0   0]\n",
      " [  0   0   0   0   0   0   0   0   0   0   0   0   0  81 240 253 253 119\n",
      "   25   0   0   0   0   0   0   0   0   0]\n",
      " [  0   0   0   0   0   0   0   0   0   0   0   0   0   0  45 186 253 253\n",
      "  150  27   0   0   0   0   0   0   0   0]\n",
      " [  0   0   0   0   0   0   0   0   0   0   0   0   0   0   0  16  93 252\n",
      "  253 187   0   0   0   0   0   0   0   0]\n",
      " [  0   0   0   0   0   0   0   0   0   0   0   0   0   0   0   0   0 249\n",
      "  253 249  64   0   0   0   0   0   0   0]\n",
      " [  0   0   0   0   0   0   0   0   0   0   0   0   0   0  46 130 183 253\n",
      "  253 207   2   0   0   0   0   0   0   0]\n",
      " [  0   0   0   0   0   0   0   0   0   0   0   0  39 148 229 253 253 253\n",
      "  250 182   0   0   0   0   0   0   0   0]\n",
      " [  0   0   0   0   0   0   0   0   0   0  24 114 221 253 253 253 253 201\n",
      "   78   0   0   0   0   0   0   0   0   0]\n",
      " [  0   0   0   0   0   0   0   0  23  66 213 253 253 253 253 198  81   2\n",
      "    0   0   0   0   0   0   0   0   0   0]\n",
      " [  0   0   0   0   0   0  18 171 219 253 253 253 253 195  80   9   0   0\n",
      "    0   0   0   0   0   0   0   0   0   0]\n",
      " [  0   0   0   0  55 172 226 253 253 253 253 244 133  11   0   0   0   0\n",
      "    0   0   0   0   0   0   0   0   0   0]\n",
      " [  0   0   0   0 136 253 253 253 212 135 132  16   0   0   0   0   0   0\n",
      "    0   0   0   0   0   0   0   0   0   0]\n",
      " [  0   0   0   0   0   0   0   0   0   0   0   0   0   0   0   0   0   0\n",
      "    0   0   0   0   0   0   0   0   0   0]\n",
      " [  0   0   0   0   0   0   0   0   0   0   0   0   0   0   0   0   0   0\n",
      "    0   0   0   0   0   0   0   0   0   0]\n",
      " [  0   0   0   0   0   0   0   0   0   0   0   0   0   0   0   0   0   0\n",
      "    0   0   0   0   0   0   0   0   0   0]]\n"
     ]
    }
   ],
   "source": [
    "print(X_train[0])"
   ]
  },
  {
   "cell_type": "markdown",
   "id": "f4ab3904",
   "metadata": {},
   "source": [
    "## 데이터 전처리"
   ]
  },
  {
   "cell_type": "markdown",
   "id": "422144e7",
   "metadata": {},
   "source": [
    "### 모든 데이터를 텐서(배열)로 변환"
   ]
  },
  {
   "cell_type": "markdown",
   "id": "dd98bda5",
   "metadata": {},
   "source": [
    "- (28,28)의 2차원 이미지를 (784,)의 1차원 배열로 변환\n",
    "- 입력데이터는 [샘플수, 784(열의 개수)]의 2차원 배열로 표시"
   ]
  },
  {
   "cell_type": "code",
   "execution_count": 16,
   "id": "d63c4370",
   "metadata": {},
   "outputs": [],
   "source": [
    "RESHPAED=28*28"
   ]
  },
  {
   "cell_type": "code",
   "execution_count": 17,
   "id": "a0ca6279",
   "metadata": {},
   "outputs": [],
   "source": [
    "X_train=X_train.reshape(-1,RESHPAED)"
   ]
  },
  {
   "cell_type": "code",
   "execution_count": 18,
   "id": "b0a05e0a",
   "metadata": {},
   "outputs": [
    {
     "name": "stdout",
     "output_type": "stream",
     "text": [
      "[  0   0   0   0   0   0   0   0   0   0   0   0   0   0   0   0   0   0\n",
      "   0   0   0   0   0   0   0   0   0   0   0   0   0   0   0   0   0   0\n",
      "   0   0   0   0   0   0   0   0   0   0   0   0   0   0   0   0   0   0\n",
      "   0   0   0   0   0   0   0   0   0   0   0   0   0   0   0   0   0   0\n",
      "   0   0   0   0   0   0   0   0   0   0   0   0   0   0   0   0   0   0\n",
      "   0   0   0   0   0   0   0   0   0   0   0   0   0   0   0   0   0   0\n",
      "   0   0   0   0   0   0   0   0   0   0   0   0   0   0   0   0   0   0\n",
      "   0   0   0   0   0   0   0   0   0   0   0   0   0   0   0   0   0   0\n",
      "   0   0   0   0   0   0   0   0   3  18  18  18 126 136 175  26 166 255\n",
      " 247 127   0   0   0   0   0   0   0   0   0   0   0   0  30  36  94 154\n",
      " 170 253 253 253 253 253 225 172 253 242 195  64   0   0   0   0   0   0\n",
      "   0   0   0   0   0  49 238 253 253 253 253 253 253 253 253 251  93  82\n",
      "  82  56  39   0   0   0   0   0   0   0   0   0   0   0   0  18 219 253\n",
      " 253 253 253 253 198 182 247 241   0   0   0   0   0   0   0   0   0   0\n",
      "   0   0   0   0   0   0   0   0  80 156 107 253 253 205  11   0  43 154\n",
      "   0   0   0   0   0   0   0   0   0   0   0   0   0   0   0   0   0   0\n",
      "   0  14   1 154 253  90   0   0   0   0   0   0   0   0   0   0   0   0\n",
      "   0   0   0   0   0   0   0   0   0   0   0   0   0 139 253 190   2   0\n",
      "   0   0   0   0   0   0   0   0   0   0   0   0   0   0   0   0   0   0\n",
      "   0   0   0   0   0  11 190 253  70   0   0   0   0   0   0   0   0   0\n",
      "   0   0   0   0   0   0   0   0   0   0   0   0   0   0   0   0  35 241\n",
      " 225 160 108   1   0   0   0   0   0   0   0   0   0   0   0   0   0   0\n",
      "   0   0   0   0   0   0   0   0   0  81 240 253 253 119  25   0   0   0\n",
      "   0   0   0   0   0   0   0   0   0   0   0   0   0   0   0   0   0   0\n",
      "   0   0  45 186 253 253 150  27   0   0   0   0   0   0   0   0   0   0\n",
      "   0   0   0   0   0   0   0   0   0   0   0   0   0  16  93 252 253 187\n",
      "   0   0   0   0   0   0   0   0   0   0   0   0   0   0   0   0   0   0\n",
      "   0   0   0   0   0   0   0 249 253 249  64   0   0   0   0   0   0   0\n",
      "   0   0   0   0   0   0   0   0   0   0   0   0   0   0  46 130 183 253\n",
      " 253 207   2   0   0   0   0   0   0   0   0   0   0   0   0   0   0   0\n",
      "   0   0   0   0  39 148 229 253 253 253 250 182   0   0   0   0   0   0\n",
      "   0   0   0   0   0   0   0   0   0   0   0   0  24 114 221 253 253 253\n",
      " 253 201  78   0   0   0   0   0   0   0   0   0   0   0   0   0   0   0\n",
      "   0   0  23  66 213 253 253 253 253 198  81   2   0   0   0   0   0   0\n",
      "   0   0   0   0   0   0   0   0   0   0  18 171 219 253 253 253 253 195\n",
      "  80   9   0   0   0   0   0   0   0   0   0   0   0   0   0   0   0   0\n",
      "  55 172 226 253 253 253 253 244 133  11   0   0   0   0   0   0   0   0\n",
      "   0   0   0   0   0   0   0   0   0   0 136 253 253 253 212 135 132  16\n",
      "   0   0   0   0   0   0   0   0   0   0   0   0   0   0   0   0   0   0\n",
      "   0   0   0   0   0   0   0   0   0   0   0   0   0   0   0   0   0   0\n",
      "   0   0   0   0   0   0   0   0   0   0   0   0   0   0   0   0   0   0\n",
      "   0   0   0   0   0   0   0   0   0   0   0   0   0   0   0   0   0   0\n",
      "   0   0   0   0   0   0   0   0   0   0   0   0   0   0   0   0   0   0\n",
      "   0   0   0   0   0   0   0   0   0   0]\n"
     ]
    }
   ],
   "source": [
    "print(X_train[0])"
   ]
  },
  {
   "cell_type": "code",
   "execution_count": 10,
   "id": "ae4b0dc6",
   "metadata": {},
   "outputs": [],
   "source": [
    "X_test=X_test.reshape(-1,RESHPAED)"
   ]
  },
  {
   "cell_type": "markdown",
   "id": "0a62e7e2",
   "metadata": {},
   "source": [
    "## 데이터 정규화"
   ]
  },
  {
   "cell_type": "markdown",
   "id": "ec4191c4",
   "metadata": {},
   "source": [
    "- (0,255)의 정수값을 (0,1)의 실수값으로 변환"
   ]
  },
  {
   "cell_type": "code",
   "execution_count": 19,
   "id": "1a896445",
   "metadata": {},
   "outputs": [],
   "source": [
    "X_train=X_train/255.0"
   ]
  },
  {
   "cell_type": "code",
   "execution_count": 20,
   "id": "23b9068f",
   "metadata": {},
   "outputs": [],
   "source": [
    "X_test=X_test/255.0"
   ]
  },
  {
   "cell_type": "markdown",
   "id": "ecf615cb",
   "metadata": {},
   "source": [
    "## Y값 분류를 위한 노드로 변환(one-hot 인코딩)"
   ]
  },
  {
   "cell_type": "markdown",
   "id": "3c15d0d5",
   "metadata": {},
   "source": [
    "- y값이 5\n",
    "- 4번째 원소가 1인 벡터로 변환"
   ]
  },
  {
   "cell_type": "code",
   "execution_count": 28,
   "id": "1625a53f",
   "metadata": {},
   "outputs": [],
   "source": [
    "Y_train=tf.keras.utils.to_categorical(Y_train,10)#10개의 카테고리값으로 바꿔라"
   ]
  },
  {
   "cell_type": "code",
   "execution_count": 29,
   "id": "befe9b06",
   "metadata": {},
   "outputs": [
    {
     "name": "stdout",
     "output_type": "stream",
     "text": [
      "[[0. 0. 0. ... 0. 0. 0.]\n",
      " [1. 0. 0. ... 0. 0. 0.]\n",
      " [0. 0. 0. ... 0. 0. 0.]\n",
      " ...\n",
      " [0. 0. 0. ... 0. 0. 0.]\n",
      " [0. 0. 0. ... 0. 0. 0.]\n",
      " [0. 0. 0. ... 0. 1. 0.]]\n"
     ]
    }
   ],
   "source": [
    "print(Y_train[:])"
   ]
  },
  {
   "cell_type": "code",
   "execution_count": 44,
   "id": "09eca6a0",
   "metadata": {},
   "outputs": [],
   "source": [
    "Y_test=tf.keras.utils.to_categorical(Y_test,10)"
   ]
  },
  {
   "cell_type": "markdown",
   "id": "2efef770",
   "metadata": {},
   "source": [
    "## 모형 컴파일"
   ]
  },
  {
   "cell_type": "markdown",
   "id": "12f0a1b6",
   "metadata": {},
   "source": [
    "- 모형의 최적화 기법과 비용함수(손실함수) 지정"
   ]
  },
  {
   "cell_type": "code",
   "execution_count": 54,
   "id": "e0b56978",
   "metadata": {},
   "outputs": [],
   "source": [
    "model.compile(optimizer=tf.keras.optimizers.RMSprop(learning_rate=0.001),#모형최적화 기법\n",
    "             loss=tf.keras.losses.CategoricalCrossentropy(),#비용함수 지정\n",
    "             metrics=['accuracy'])"
   ]
  },
  {
   "cell_type": "markdown",
   "id": "fd50e4f2",
   "metadata": {},
   "source": [
    "### 최적화 기법"
   ]
  },
  {
   "cell_type": "markdown",
   "id": "4bd6b9b6",
   "metadata": {},
   "source": [
    "- '가중치의 변화'에 따른 '출력값의 변화율(미분값)'계산\n",
    "> 미분값>0 : 가중치(계수) 줄임\n",
    "> 미분값<0 : 가중치(계수) 크게 함"
   ]
  },
  {
   "cell_type": "markdown",
   "id": "6cafa3eb",
   "metadata": {},
   "source": [
    "#### Gradient Descent Optimizer"
   ]
  },
  {
   "cell_type": "markdown",
   "id": "922c5459",
   "metadata": {},
   "source": [
    "- 손실함수(loss, cost)의 크기 최소화\n",
    "- 오차를 나타내는 함수값을 최소화하도록 모형계수(w,b)변화시킴"
   ]
  },
  {
   "cell_type": "markdown",
   "id": "e1018d80",
   "metadata": {},
   "source": [
    "- 변화시키는 방법: 모형계수의 값이 변함에 따라 하는 손실 함수값의 변화를 계산해서,(이것이 해당 지점의 gradient(=미분값))\n",
    "> Gradient가 +이면, 모형계수의 값을 감소하는 방향 조정,\n",
    "> Gradient가 -이면, 모형계수의 값을 증가하는 방향 조정"
   ]
  },
  {
   "cell_type": "markdown",
   "id": "a8bc66d2",
   "metadata": {},
   "source": [
    "- 문제점 : 제일 큰 골짜기를 찾아야 되는데, 얕은 골짜기에서 여기가 골짜기다! 하는 것"
   ]
  },
  {
   "cell_type": "markdown",
   "id": "33317581",
   "metadata": {},
   "source": [
    "#### 학습율(learning-rate)"
   ]
  },
  {
   "cell_type": "markdown",
   "id": "d334f7bc",
   "metadata": {},
   "source": [
    "- 미분값에 따른 가중치의 변경 크기"
   ]
  },
  {
   "cell_type": "markdown",
   "id": "6c45cd62",
   "metadata": {},
   "source": [
    "##### 학습율에 따른 학습의 성과\n",
    "- 너무 작은 학습율 : 학습 시간이 너무 오래걸림\n",
    "- 너무 큰 학습율 : 최적점을 건너 뛰고 계속 왔다갔다 할 수 있음\n",
    "\n",
    "- 문제점 : 제일 큰 골짜기를 찾아야 되는데, 얕은 골짜기에서 여기가 골짜기다! 하는 것"
   ]
  },
  {
   "cell_type": "markdown",
   "id": "8e0c0ed8",
   "metadata": {},
   "source": [
    "### 비용함수"
   ]
  },
  {
   "cell_type": "markdown",
   "id": "d28ec6a2",
   "metadata": {},
   "source": [
    "- 분류모형의 경우, cross-entropy계산하여, '예측의 부정확성' 측정"
   ]
  },
  {
   "cell_type": "markdown",
   "id": "a67549c3",
   "metadata": {},
   "source": [
    "# 예측값의 종류와 활성화 함수 및 비용함수"
   ]
  },
  {
   "cell_type": "markdown",
   "id": "58ab773b",
   "metadata": {},
   "source": [
    "## 예측값의 종류"
   ]
  },
  {
   "cell_type": "markdown",
   "id": "ccd32bf0",
   "metadata": {},
   "source": [
    "- 실수 값\n",
    "- 이진분류 : 특정 사건이 발생할 확률\n",
    "- 단일 레이블 다중분류 : 여러 유형 중 1개가 발생할 확률\n",
    "- 다중 레이블 다중분류 : 여러 유형 중 여러개가 발생할 확률\n",
    "- 0과 1사이 실수값"
   ]
  },
  {
   "cell_type": "markdown",
   "id": "bf623dc0",
   "metadata": {},
   "source": [
    "## 마지막 레이어의 활성화 함수"
   ]
  },
  {
   "cell_type": "markdown",
   "id": "52e34e99",
   "metadata": {},
   "source": [
    "- 없음\n",
    "- sigmoid\n",
    "- softmax : 여러 유형의 활성화 값의 합이 1이 되도록 하는 활성화 함수\n",
    "- sigmoid\n",
    "- sigmoid"
   ]
  },
  {
   "cell_type": "markdown",
   "id": "76b5fb39",
   "metadata": {},
   "source": [
    "## 비용함수"
   ]
  },
  {
   "cell_type": "markdown",
   "id": "d5bf28ed",
   "metadata": {},
   "source": [
    "- mean_square_error: 값예측/ 정확도 예측\n",
    "- binary_crossentropy : 카테고리가 포함되지 않느냐\n",
    "- categorical_crossentropy : 카테고리 여러개가 포함되지 않느냐\n",
    "- binary_crossentropy\n",
    "- mean_sqare_error : 값예측/ 정확도 예측"
   ]
  },
  {
   "cell_type": "markdown",
   "id": "c7e38226",
   "metadata": {},
   "source": [
    "### entropy"
   ]
  },
  {
   "cell_type": "markdown",
   "id": "74dc90b1",
   "metadata": {},
   "source": [
    "- 정보의 불확실성(복잡도)을 측정하는 값\n",
    "- 발생 가능한 상태(유형)이 K개 이고, \n",
    "- 이들 중 하나가 발생할 경우, 특정 정보를 통해서 알 수 있는 각 상태가 발생할 확률이 다음과 같음\n",
    "> p1, p2, ... ,pk\n",
    "- 이 정보의 불확실성은 다음과 같으며,\n",
    "> -(p1log(p1)+p2log(p2)+...+pklog(pk))\n",
    "\n",
    "--> 이를 엔트로피라고 함"
   ]
  },
  {
   "cell_type": "markdown",
   "id": "00da91b8",
   "metadata": {},
   "source": [
    "### cross entropy"
   ]
  },
  {
   "cell_type": "markdown",
   "id": "926b9ccd",
   "metadata": {},
   "source": [
    "- 예측 확률의 부정확성을 측정하는 값\n",
    "- 발생 가능한 상태(유형)이 K개이고, \n",
    "- 이들이 발생할 실제 확률은 다음과 같을때(이들 중 하나만1, 나머지0)\n",
    "> p1,p2,...,pk\n",
    "- 예측값은 다음과 같을 경우,\n",
    "> p1^,p2^,...,pk^\n",
    "- 예측값의 부정확성은 다음과 같으며,\n",
    "> -(p1log(p1^)+p2log(p2^)+...+pklog(pk^))\n",
    "\n",
    "--> 이를 교차 엔트로피라고 함"
   ]
  },
  {
   "cell_type": "markdown",
   "id": "a4f2edc5",
   "metadata": {},
   "source": [
    "# 다층 신경망 모형 학습"
   ]
  },
  {
   "cell_type": "markdown",
   "id": "d7d093ac",
   "metadata": {},
   "source": [
    "## Tensorboard"
   ]
  },
  {
   "cell_type": "markdown",
   "id": "f13ad180",
   "metadata": {},
   "source": [
    "모형 학습 분석 위한 도구"
   ]
  },
  {
   "cell_type": "markdown",
   "id": "5b438d14",
   "metadata": {},
   "source": [
    "사용 절차: Tensorboard의 로그 디렉토리 지정->모형 훈련시, Tensorboard의 로그 디렉토리를 callback에 표시"
   ]
  },
  {
   "cell_type": "code",
   "execution_count": 72,
   "id": "5a8ed934",
   "metadata": {},
   "outputs": [],
   "source": [
    "tensorboard=tf.keras.callbacks.TensorBoard(log_dir=\"D:/tb_dir/mnist_digital_images\")"
   ]
  },
  {
   "cell_type": "code",
   "execution_count": 75,
   "id": "be5e7c4b",
   "metadata": {},
   "outputs": [
    {
     "name": "stdout",
     "output_type": "stream",
     "text": [
      "Epoch 1/50\n"
     ]
    },
    {
     "ename": "ValueError",
     "evalue": "in user code:\n\n    File \"C:\\Users\\user\\anaconda3\\lib\\site-packages\\keras\\engine\\training.py\", line 1249, in train_function  *\n        return step_function(self, iterator)\n    File \"C:\\Users\\user\\anaconda3\\lib\\site-packages\\keras\\engine\\training.py\", line 1233, in step_function  **\n        outputs = model.distribute_strategy.run(run_step, args=(data,))\n    File \"C:\\Users\\user\\anaconda3\\lib\\site-packages\\keras\\engine\\training.py\", line 1222, in run_step  **\n        outputs = model.train_step(data)\n    File \"C:\\Users\\user\\anaconda3\\lib\\site-packages\\keras\\engine\\training.py\", line 1024, in train_step\n        loss = self.compute_loss(x, y, y_pred, sample_weight)\n    File \"C:\\Users\\user\\anaconda3\\lib\\site-packages\\keras\\engine\\training.py\", line 1082, in compute_loss\n        return self.compiled_loss(\n    File \"C:\\Users\\user\\anaconda3\\lib\\site-packages\\keras\\engine\\compile_utils.py\", line 265, in __call__\n        loss_value = loss_obj(y_t, y_p, sample_weight=sw)\n    File \"C:\\Users\\user\\anaconda3\\lib\\site-packages\\keras\\losses.py\", line 152, in __call__\n        losses = call_fn(y_true, y_pred)\n    File \"C:\\Users\\user\\anaconda3\\lib\\site-packages\\keras\\losses.py\", line 284, in call  **\n        return ag_fn(y_true, y_pred, **self._fn_kwargs)\n    File \"C:\\Users\\user\\anaconda3\\lib\\site-packages\\keras\\losses.py\", line 2004, in categorical_crossentropy\n        return backend.categorical_crossentropy(\n    File \"C:\\Users\\user\\anaconda3\\lib\\site-packages\\keras\\backend.py\", line 5532, in categorical_crossentropy\n        target.shape.assert_is_compatible_with(output.shape)\n\n    ValueError: Shapes (128, 10, 10) and (128, 10) are incompatible\n",
     "output_type": "error",
     "traceback": [
      "\u001b[1;31m---------------------------------------------------------------------------\u001b[0m",
      "\u001b[1;31mValueError\u001b[0m                                Traceback (most recent call last)",
      "Input \u001b[1;32mIn [75]\u001b[0m, in \u001b[0;36m<cell line: 2>\u001b[1;34m()\u001b[0m\n\u001b[0;32m      1\u001b[0m \u001b[38;5;66;03m#학습 시키기\u001b[39;00m\n\u001b[1;32m----> 2\u001b[0m history\u001b[38;5;241m=\u001b[39m\u001b[43mmodel\u001b[49m\u001b[38;5;241;43m.\u001b[39;49m\u001b[43mfit\u001b[49m\u001b[43m(\u001b[49m\u001b[43mX_train\u001b[49m\u001b[43m,\u001b[49m\u001b[43mY_train\u001b[49m\u001b[43m,\u001b[49m\n\u001b[0;32m      3\u001b[0m \u001b[43m                 \u001b[49m\u001b[43mbatch_size\u001b[49m\u001b[38;5;241;43m=\u001b[39;49m\u001b[38;5;241;43m128\u001b[39;49m\u001b[43m,\u001b[49m\n\u001b[0;32m      4\u001b[0m \u001b[43m                 \u001b[49m\u001b[43mepochs\u001b[49m\u001b[38;5;241;43m=\u001b[39;49m\u001b[38;5;241;43m50\u001b[39;49m\u001b[43m,\u001b[49m\n\u001b[0;32m      5\u001b[0m \u001b[43m                 \u001b[49m\u001b[43mverbose\u001b[49m\u001b[38;5;241;43m=\u001b[39;49m\u001b[38;5;241;43m1\u001b[39;49m\u001b[43m,\u001b[49m\n\u001b[0;32m      6\u001b[0m \u001b[43m                 \u001b[49m\u001b[43mvalidation_split\u001b[49m\u001b[38;5;241;43m=\u001b[39;49m\u001b[38;5;241;43m0.2\u001b[39;49m\u001b[43m,\u001b[49m\n\u001b[0;32m      7\u001b[0m \u001b[43m                \u001b[49m\u001b[43mcallbacks\u001b[49m\u001b[38;5;241;43m=\u001b[39;49m\u001b[43m[\u001b[49m\u001b[43mtensorboard\u001b[49m\u001b[43m,\u001b[49m\n\u001b[0;32m      8\u001b[0m \u001b[43m                            \u001b[49m\u001b[43mtf\u001b[49m\u001b[38;5;241;43m.\u001b[39;49m\u001b[43mkeras\u001b[49m\u001b[38;5;241;43m.\u001b[39;49m\u001b[43mcallbacks\u001b[49m\u001b[38;5;241;43m.\u001b[39;49m\u001b[43mEarlyStopping\u001b[49m\u001b[43m(\u001b[49m\u001b[43mmonitor\u001b[49m\u001b[38;5;241;43m=\u001b[39;49m\u001b[38;5;124;43m'\u001b[39;49m\u001b[38;5;124;43mval_loss\u001b[39;49m\u001b[38;5;124;43m'\u001b[39;49m\u001b[43m,\u001b[49m\u001b[43mpatience\u001b[49m\u001b[38;5;241;43m=\u001b[39;49m\u001b[38;5;241;43m5\u001b[39;49m\u001b[43m)\u001b[49m\u001b[43m]\u001b[49m\u001b[43m)\u001b[49m\n",
      "File \u001b[1;32m~\\anaconda3\\lib\\site-packages\\keras\\utils\\traceback_utils.py:70\u001b[0m, in \u001b[0;36mfilter_traceback.<locals>.error_handler\u001b[1;34m(*args, **kwargs)\u001b[0m\n\u001b[0;32m     67\u001b[0m     filtered_tb \u001b[38;5;241m=\u001b[39m _process_traceback_frames(e\u001b[38;5;241m.\u001b[39m__traceback__)\n\u001b[0;32m     68\u001b[0m     \u001b[38;5;66;03m# To get the full stack trace, call:\u001b[39;00m\n\u001b[0;32m     69\u001b[0m     \u001b[38;5;66;03m# `tf.debugging.disable_traceback_filtering()`\u001b[39;00m\n\u001b[1;32m---> 70\u001b[0m     \u001b[38;5;28;01mraise\u001b[39;00m e\u001b[38;5;241m.\u001b[39mwith_traceback(filtered_tb) \u001b[38;5;28;01mfrom\u001b[39;00m \u001b[38;5;28mNone\u001b[39m\n\u001b[0;32m     71\u001b[0m \u001b[38;5;28;01mfinally\u001b[39;00m:\n\u001b[0;32m     72\u001b[0m     \u001b[38;5;28;01mdel\u001b[39;00m filtered_tb\n",
      "File \u001b[1;32mC:\\Users\\Public\\Documents\\ESTsoft\\CreatorTemp\\__autograph_generated_fileh9lxq4iy.py:15\u001b[0m, in \u001b[0;36mouter_factory.<locals>.inner_factory.<locals>.tf__train_function\u001b[1;34m(iterator)\u001b[0m\n\u001b[0;32m     13\u001b[0m \u001b[38;5;28;01mtry\u001b[39;00m:\n\u001b[0;32m     14\u001b[0m     do_return \u001b[38;5;241m=\u001b[39m \u001b[38;5;28;01mTrue\u001b[39;00m\n\u001b[1;32m---> 15\u001b[0m     retval_ \u001b[38;5;241m=\u001b[39m ag__\u001b[38;5;241m.\u001b[39mconverted_call(ag__\u001b[38;5;241m.\u001b[39mld(step_function), (ag__\u001b[38;5;241m.\u001b[39mld(\u001b[38;5;28mself\u001b[39m), ag__\u001b[38;5;241m.\u001b[39mld(iterator)), \u001b[38;5;28;01mNone\u001b[39;00m, fscope)\n\u001b[0;32m     16\u001b[0m \u001b[38;5;28;01mexcept\u001b[39;00m:\n\u001b[0;32m     17\u001b[0m     do_return \u001b[38;5;241m=\u001b[39m \u001b[38;5;28;01mFalse\u001b[39;00m\n",
      "\u001b[1;31mValueError\u001b[0m: in user code:\n\n    File \"C:\\Users\\user\\anaconda3\\lib\\site-packages\\keras\\engine\\training.py\", line 1249, in train_function  *\n        return step_function(self, iterator)\n    File \"C:\\Users\\user\\anaconda3\\lib\\site-packages\\keras\\engine\\training.py\", line 1233, in step_function  **\n        outputs = model.distribute_strategy.run(run_step, args=(data,))\n    File \"C:\\Users\\user\\anaconda3\\lib\\site-packages\\keras\\engine\\training.py\", line 1222, in run_step  **\n        outputs = model.train_step(data)\n    File \"C:\\Users\\user\\anaconda3\\lib\\site-packages\\keras\\engine\\training.py\", line 1024, in train_step\n        loss = self.compute_loss(x, y, y_pred, sample_weight)\n    File \"C:\\Users\\user\\anaconda3\\lib\\site-packages\\keras\\engine\\training.py\", line 1082, in compute_loss\n        return self.compiled_loss(\n    File \"C:\\Users\\user\\anaconda3\\lib\\site-packages\\keras\\engine\\compile_utils.py\", line 265, in __call__\n        loss_value = loss_obj(y_t, y_p, sample_weight=sw)\n    File \"C:\\Users\\user\\anaconda3\\lib\\site-packages\\keras\\losses.py\", line 152, in __call__\n        losses = call_fn(y_true, y_pred)\n    File \"C:\\Users\\user\\anaconda3\\lib\\site-packages\\keras\\losses.py\", line 284, in call  **\n        return ag_fn(y_true, y_pred, **self._fn_kwargs)\n    File \"C:\\Users\\user\\anaconda3\\lib\\site-packages\\keras\\losses.py\", line 2004, in categorical_crossentropy\n        return backend.categorical_crossentropy(\n    File \"C:\\Users\\user\\anaconda3\\lib\\site-packages\\keras\\backend.py\", line 5532, in categorical_crossentropy\n        target.shape.assert_is_compatible_with(output.shape)\n\n    ValueError: Shapes (128, 10, 10) and (128, 10) are incompatible\n"
     ]
    }
   ],
   "source": [
    "#학습 시키기\n",
    "history=model.fit(X_train,Y_train,\n",
    "                 batch_size=128,\n",
    "                 epochs=50,\n",
    "                 verbose=1,\n",
    "                 validation_split=0.2,\n",
    "                callbacks=[tensorboard,\n",
    "                            tf.keras.callbacks.EarlyStopping(monitor='val_loss',patience=5)])"
   ]
  },
  {
   "cell_type": "markdown",
   "id": "1c467074",
   "metadata": {},
   "source": [
    "## 학습 파라미터들"
   ]
  },
  {
   "cell_type": "markdown",
   "id": "95ff0c79",
   "metadata": {},
   "source": [
    "- 전체 학습 횟수\n",
    "- Batch의 크기 : 학습 데이터들을 1번에 다 학습하는 것이 아니라, 작은 샘플(=미니배치)로 나누어 학습\n",
    "- 검증 데이터의 비율\n",
    "- 학습 종료 기준\n",
    "-> 척도 : 보통 검증 데이터의 비용함수 사용 \n",
    "-> 과적합 횟수"
   ]
  },
  {
   "cell_type": "code",
   "execution_count": null,
   "id": "d0a7b633",
   "metadata": {},
   "outputs": [],
   "source": []
  }
 ],
 "metadata": {
  "kernelspec": {
   "display_name": "Python 3 (ipykernel)",
   "language": "python",
   "name": "python3"
  },
  "language_info": {
   "codemirror_mode": {
    "name": "ipython",
    "version": 3
   },
   "file_extension": ".py",
   "mimetype": "text/x-python",
   "name": "python",
   "nbconvert_exporter": "python",
   "pygments_lexer": "ipython3",
   "version": "3.9.12"
  },
  "toc": {
   "base_numbering": 1,
   "nav_menu": {},
   "number_sections": true,
   "sideBar": true,
   "skip_h1_title": false,
   "title_cell": "Table of Contents",
   "title_sidebar": "Contents",
   "toc_cell": false,
   "toc_position": {
    "height": "calc(100% - 180px)",
    "left": "10px",
    "top": "150px",
    "width": "220px"
   },
   "toc_section_display": true,
   "toc_window_display": true
  }
 },
 "nbformat": 4,
 "nbformat_minor": 5
}
