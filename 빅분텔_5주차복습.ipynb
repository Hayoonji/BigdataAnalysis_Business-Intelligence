{
 "cells": [
  {
   "cell_type": "code",
   "execution_count": 19,
   "id": "bb40aa85",
   "metadata": {},
   "outputs": [],
   "source": [
    "from pandasql import sqldf"
   ]
  },
  {
   "cell_type": "code",
   "execution_count": 20,
   "id": "cff4e459",
   "metadata": {},
   "outputs": [],
   "source": [
    "mysql=lambda q: sqldf(q,globals())"
   ]
  },
  {
   "cell_type": "markdown",
   "id": "b03efab1",
   "metadata": {},
   "source": [
    "# 테이블의 구조 및 데이터"
   ]
  },
  {
   "cell_type": "markdown",
   "id": "f6917373",
   "metadata": {},
   "source": [
    "# 릴레이션이 아닌 예시"
   ]
  },
  {
   "cell_type": "markdown",
   "id": "146cbe90",
   "metadata": {},
   "source": [
    "# 릴레이션의 구조"
   ]
  },
  {
   "cell_type": "markdown",
   "id": "d6df116f",
   "metadata": {},
   "source": [
    "# 외래키의 예제"
   ]
  },
  {
   "cell_type": "markdown",
   "id": "a2e81c1f",
   "metadata": {},
   "source": [
    "# SQL의 문장 구조"
   ]
  },
  {
   "cell_type": "markdown",
   "id": "1afb2b29",
   "metadata": {},
   "source": [
    "## OR조건의 검색"
   ]
  },
  {
   "cell_type": "markdown",
   "id": "71d1aa5a",
   "metadata": {},
   "source": [
    "## AND조건의 검색"
   ]
  },
  {
   "cell_type": "code",
   "execution_count": 9,
   "id": "146220d5",
   "metadata": {},
   "outputs": [
    {
     "ename": "SyntaxError",
     "evalue": "invalid syntax (169773306.py, line 1)",
     "output_type": "error",
     "traceback": [
      "\u001b[1;36m  Input \u001b[1;32mIn [9]\u001b[1;36m\u001b[0m\n\u001b[1;33m    ''SELECT 도서명, 판매가\u001b[0m\n\u001b[1;37m      ^\u001b[0m\n\u001b[1;31mSyntaxError\u001b[0m\u001b[1;31m:\u001b[0m invalid syntax\n"
     ]
    }
   ],
   "source": [
    "SELECT 도서명, 판매가 \n",
    "FROM 도서\n",
    "WHERE 저자명='이춘열'\n",
    "AND 저자명='김인재';"
   ]
  },
  {
   "cell_type": "code",
   "execution_count": 10,
   "id": "927dea8b",
   "metadata": {},
   "outputs": [
    {
     "ename": "SyntaxError",
     "evalue": "invalid syntax (2593699385.py, line 2)",
     "output_type": "error",
     "traceback": [
      "\u001b[1;36m  Input \u001b[1;32mIn [10]\u001b[1;36m\u001b[0m\n\u001b[1;33m    (SELECT 도서명, 판매가\u001b[0m\n\u001b[1;37m            ^\u001b[0m\n\u001b[1;31mSyntaxError\u001b[0m\u001b[1;31m:\u001b[0m invalid syntax\n"
     ]
    }
   ],
   "source": [
    "#INTERSECT로 교집합 구하기(Mysql은 intersect지원안함)\n",
    "(SELECT 도서명, 판매가\n",
    "FROM 도서\n",
    "WHERE 저자명='이춘열')\n",
    "\n",
    "INTERSECT\n",
    "\n",
    "(SELECT 도서명, 판매가\n",
    "FROM 도서\n",
    "WHERE 저자명='김인재')"
   ]
  },
  {
   "cell_type": "code",
   "execution_count": null,
   "id": "9a7de4fd",
   "metadata": {},
   "outputs": [],
   "source": [
    "#대신사용가능 방법_서브쿼리 이용\n",
    "SELECT 도서명, 판매가\n",
    "FROM 도서\n",
    "WHERE 저자명='이춘열'\n",
    "AND 도서명 in(SELECT 도서명\n",
    "              FROM 도서\n",
    "              WHERE 저자명='김인재')"
   ]
  },
  {
   "cell_type": "markdown",
   "id": "de1cbe65",
   "metadata": {},
   "source": [
    "# SQL명령어들"
   ]
  },
  {
   "cell_type": "markdown",
   "id": "cf5d80ae",
   "metadata": {},
   "source": [
    "## Join"
   ]
  },
  {
   "cell_type": "code",
   "execution_count": null,
   "id": "c606f4e2",
   "metadata": {},
   "outputs": [],
   "source": [
    "- (INNTER)JOIN\n",
    "- OUTER JOIN"
   ]
  },
  {
   "cell_type": "markdown",
   "id": "b82603d0",
   "metadata": {},
   "source": [
    "### Join 예시"
   ]
  },
  {
   "cell_type": "code",
   "execution_count": 22,
   "id": "aa073937",
   "metadata": {},
   "outputs": [
    {
     "data": {
      "text/html": [
       "<div>\n",
       "<style scoped>\n",
       "    .dataframe tbody tr th:only-of-type {\n",
       "        vertical-align: middle;\n",
       "    }\n",
       "\n",
       "    .dataframe tbody tr th {\n",
       "        vertical-align: top;\n",
       "    }\n",
       "\n",
       "    .dataframe thead th {\n",
       "        text-align: right;\n",
       "    }\n",
       "</style>\n",
       "<table border=\"1\" class=\"dataframe\">\n",
       "  <thead>\n",
       "    <tr style=\"text-align: right;\">\n",
       "      <th></th>\n",
       "      <th>id</th>\n",
       "      <th>name</th>\n",
       "      <th>price</th>\n",
       "      <th>kcal</th>\n",
       "    </tr>\n",
       "  </thead>\n",
       "  <tbody>\n",
       "    <tr>\n",
       "      <th>0</th>\n",
       "      <td>D0</td>\n",
       "      <td>Chocolate Parfeit</td>\n",
       "      <td>4900</td>\n",
       "      <td>420</td>\n",
       "    </tr>\n",
       "    <tr>\n",
       "      <th>1</th>\n",
       "      <td>D1</td>\n",
       "      <td>Pudding Parfeit</td>\n",
       "      <td>5300</td>\n",
       "      <td>380</td>\n",
       "    </tr>\n",
       "    <tr>\n",
       "      <th>2</th>\n",
       "      <td>D2</td>\n",
       "      <td>Strawberry Parfeit</td>\n",
       "      <td>5200</td>\n",
       "      <td>380</td>\n",
       "    </tr>\n",
       "    <tr>\n",
       "      <th>3</th>\n",
       "      <td>D3</td>\n",
       "      <td>Panna Cotta</td>\n",
       "      <td>4200</td>\n",
       "      <td>283</td>\n",
       "    </tr>\n",
       "    <tr>\n",
       "      <th>4</th>\n",
       "      <td>D4</td>\n",
       "      <td>Cheese Mousse</td>\n",
       "      <td>5800</td>\n",
       "      <td>288</td>\n",
       "    </tr>\n",
       "    <tr>\n",
       "      <th>5</th>\n",
       "      <td>D5</td>\n",
       "      <td>Affogato</td>\n",
       "      <td>3000</td>\n",
       "      <td>248</td>\n",
       "    </tr>\n",
       "    <tr>\n",
       "      <th>6</th>\n",
       "      <td>D6</td>\n",
       "      <td>Tiramisu</td>\n",
       "      <td>6000</td>\n",
       "      <td>251</td>\n",
       "    </tr>\n",
       "    <tr>\n",
       "      <th>7</th>\n",
       "      <td>D7</td>\n",
       "      <td>Greentea Parfeit</td>\n",
       "      <td>4500</td>\n",
       "      <td>380</td>\n",
       "    </tr>\n",
       "    <tr>\n",
       "      <th>8</th>\n",
       "      <td>D8</td>\n",
       "      <td>Vanilla Gelato</td>\n",
       "      <td>3600</td>\n",
       "      <td>131</td>\n",
       "    </tr>\n",
       "    <tr>\n",
       "      <th>9</th>\n",
       "      <td>D9</td>\n",
       "      <td>Caramel Pancake</td>\n",
       "      <td>3900</td>\n",
       "      <td>440</td>\n",
       "    </tr>\n",
       "    <tr>\n",
       "      <th>10</th>\n",
       "      <td>D10</td>\n",
       "      <td>Apple Pie</td>\n",
       "      <td>4400</td>\n",
       "      <td>350</td>\n",
       "    </tr>\n",
       "  </tbody>\n",
       "</table>\n",
       "</div>"
      ],
      "text/plain": [
       "     id                name  price  kcal\n",
       "0    D0   Chocolate Parfeit   4900   420\n",
       "1    D1     Pudding Parfeit   5300   380\n",
       "2    D2  Strawberry Parfeit   5200   380\n",
       "3    D3         Panna Cotta   4200   283\n",
       "4    D4       Cheese Mousse   5800   288\n",
       "5    D5            Affogato   3000   248\n",
       "6    D6            Tiramisu   6000   251\n",
       "7    D7    Greentea Parfeit   4500   380\n",
       "8    D8      Vanilla Gelato   3600   131\n",
       "9    D9     Caramel Pancake   3900   440\n",
       "10  D10           Apple Pie   4400   350"
      ]
     },
     "execution_count": 22,
     "metadata": {},
     "output_type": "execute_result"
    }
   ],
   "source": [
    "import pandas as pd\n",
    "menu_df=pd.read_csv('Downloads/menu.txt')\n",
    "menu_df"
   ]
  },
  {
   "cell_type": "code",
   "execution_count": 23,
   "id": "596ad8da",
   "metadata": {},
   "outputs": [
    {
     "data": {
      "text/html": [
       "<div>\n",
       "<style scoped>\n",
       "    .dataframe tbody tr th:only-of-type {\n",
       "        vertical-align: middle;\n",
       "    }\n",
       "\n",
       "    .dataframe tbody tr th {\n",
       "        vertical-align: top;\n",
       "    }\n",
       "\n",
       "    .dataframe thead th {\n",
       "        text-align: right;\n",
       "    }\n",
       "</style>\n",
       "<table border=\"1\" class=\"dataframe\">\n",
       "  <thead>\n",
       "    <tr style=\"text-align: right;\">\n",
       "      <th></th>\n",
       "      <th>id</th>\n",
       "      <th>menuid</th>\n",
       "      <th>qty</th>\n",
       "    </tr>\n",
       "  </thead>\n",
       "  <tbody>\n",
       "    <tr>\n",
       "      <th>0</th>\n",
       "      <td>S1</td>\n",
       "      <td>D0</td>\n",
       "      <td>2</td>\n",
       "    </tr>\n",
       "    <tr>\n",
       "      <th>1</th>\n",
       "      <td>S1</td>\n",
       "      <td>D1</td>\n",
       "      <td>1</td>\n",
       "    </tr>\n",
       "    <tr>\n",
       "      <th>2</th>\n",
       "      <td>S1</td>\n",
       "      <td>D8</td>\n",
       "      <td>2</td>\n",
       "    </tr>\n",
       "    <tr>\n",
       "      <th>3</th>\n",
       "      <td>S2</td>\n",
       "      <td>D10</td>\n",
       "      <td>4</td>\n",
       "    </tr>\n",
       "    <tr>\n",
       "      <th>4</th>\n",
       "      <td>S2</td>\n",
       "      <td>D5</td>\n",
       "      <td>1</td>\n",
       "    </tr>\n",
       "    <tr>\n",
       "      <th>5</th>\n",
       "      <td>S3</td>\n",
       "      <td>D8</td>\n",
       "      <td>2</td>\n",
       "    </tr>\n",
       "    <tr>\n",
       "      <th>6</th>\n",
       "      <td>S3</td>\n",
       "      <td>D2</td>\n",
       "      <td>1</td>\n",
       "    </tr>\n",
       "    <tr>\n",
       "      <th>7</th>\n",
       "      <td>S4</td>\n",
       "      <td>D5</td>\n",
       "      <td>3</td>\n",
       "    </tr>\n",
       "    <tr>\n",
       "      <th>8</th>\n",
       "      <td>S5</td>\n",
       "      <td>D8</td>\n",
       "      <td>2</td>\n",
       "    </tr>\n",
       "  </tbody>\n",
       "</table>\n",
       "</div>"
      ],
      "text/plain": [
       "   id menuid  qty\n",
       "0  S1     D0    2\n",
       "1  S1     D1    1\n",
       "2  S1     D8    2\n",
       "3  S2    D10    4\n",
       "4  S2     D5    1\n",
       "5  S3     D8    2\n",
       "6  S3     D2    1\n",
       "7  S4     D5    3\n",
       "8  S5     D8    2"
      ]
     },
     "execution_count": 23,
     "metadata": {},
     "output_type": "execute_result"
    }
   ],
   "source": [
    "order_df=pd.read_csv('Downloads/orders.txt',header=None,names=['id','menuid','qty'] )\n",
    "order_df"
   ]
  },
  {
   "cell_type": "markdown",
   "id": "65e465c8",
   "metadata": {},
   "source": [
    "### OUTER JOIN"
   ]
  },
  {
   "cell_type": "code",
   "execution_count": 31,
   "id": "df9d7c5b",
   "metadata": {},
   "outputs": [
    {
     "data": {
      "text/html": [
       "<div>\n",
       "<style scoped>\n",
       "    .dataframe tbody tr th:only-of-type {\n",
       "        vertical-align: middle;\n",
       "    }\n",
       "\n",
       "    .dataframe tbody tr th {\n",
       "        vertical-align: top;\n",
       "    }\n",
       "\n",
       "    .dataframe thead th {\n",
       "        text-align: right;\n",
       "    }\n",
       "</style>\n",
       "<table border=\"1\" class=\"dataframe\">\n",
       "  <thead>\n",
       "    <tr style=\"text-align: right;\">\n",
       "      <th></th>\n",
       "      <th>id</th>\n",
       "      <th>name</th>\n",
       "      <th>price</th>\n",
       "      <th>kcal</th>\n",
       "      <th>id</th>\n",
       "      <th>menuid</th>\n",
       "      <th>qty</th>\n",
       "    </tr>\n",
       "  </thead>\n",
       "  <tbody>\n",
       "    <tr>\n",
       "      <th>0</th>\n",
       "      <td>D0</td>\n",
       "      <td>Chocolate Parfeit</td>\n",
       "      <td>4900</td>\n",
       "      <td>420</td>\n",
       "      <td>S1</td>\n",
       "      <td>D0</td>\n",
       "      <td>2.0</td>\n",
       "    </tr>\n",
       "    <tr>\n",
       "      <th>1</th>\n",
       "      <td>D1</td>\n",
       "      <td>Pudding Parfeit</td>\n",
       "      <td>5300</td>\n",
       "      <td>380</td>\n",
       "      <td>S1</td>\n",
       "      <td>D1</td>\n",
       "      <td>1.0</td>\n",
       "    </tr>\n",
       "    <tr>\n",
       "      <th>2</th>\n",
       "      <td>D2</td>\n",
       "      <td>Strawberry Parfeit</td>\n",
       "      <td>5200</td>\n",
       "      <td>380</td>\n",
       "      <td>S3</td>\n",
       "      <td>D2</td>\n",
       "      <td>1.0</td>\n",
       "    </tr>\n",
       "    <tr>\n",
       "      <th>3</th>\n",
       "      <td>D3</td>\n",
       "      <td>Panna Cotta</td>\n",
       "      <td>4200</td>\n",
       "      <td>283</td>\n",
       "      <td>None</td>\n",
       "      <td>None</td>\n",
       "      <td>NaN</td>\n",
       "    </tr>\n",
       "    <tr>\n",
       "      <th>4</th>\n",
       "      <td>D4</td>\n",
       "      <td>Cheese Mousse</td>\n",
       "      <td>5800</td>\n",
       "      <td>288</td>\n",
       "      <td>None</td>\n",
       "      <td>None</td>\n",
       "      <td>NaN</td>\n",
       "    </tr>\n",
       "    <tr>\n",
       "      <th>5</th>\n",
       "      <td>D5</td>\n",
       "      <td>Affogato</td>\n",
       "      <td>3000</td>\n",
       "      <td>248</td>\n",
       "      <td>S2</td>\n",
       "      <td>D5</td>\n",
       "      <td>1.0</td>\n",
       "    </tr>\n",
       "    <tr>\n",
       "      <th>6</th>\n",
       "      <td>D5</td>\n",
       "      <td>Affogato</td>\n",
       "      <td>3000</td>\n",
       "      <td>248</td>\n",
       "      <td>S4</td>\n",
       "      <td>D5</td>\n",
       "      <td>3.0</td>\n",
       "    </tr>\n",
       "    <tr>\n",
       "      <th>7</th>\n",
       "      <td>D6</td>\n",
       "      <td>Tiramisu</td>\n",
       "      <td>6000</td>\n",
       "      <td>251</td>\n",
       "      <td>None</td>\n",
       "      <td>None</td>\n",
       "      <td>NaN</td>\n",
       "    </tr>\n",
       "    <tr>\n",
       "      <th>8</th>\n",
       "      <td>D7</td>\n",
       "      <td>Greentea Parfeit</td>\n",
       "      <td>4500</td>\n",
       "      <td>380</td>\n",
       "      <td>None</td>\n",
       "      <td>None</td>\n",
       "      <td>NaN</td>\n",
       "    </tr>\n",
       "    <tr>\n",
       "      <th>9</th>\n",
       "      <td>D8</td>\n",
       "      <td>Vanilla Gelato</td>\n",
       "      <td>3600</td>\n",
       "      <td>131</td>\n",
       "      <td>S1</td>\n",
       "      <td>D8</td>\n",
       "      <td>2.0</td>\n",
       "    </tr>\n",
       "    <tr>\n",
       "      <th>10</th>\n",
       "      <td>D8</td>\n",
       "      <td>Vanilla Gelato</td>\n",
       "      <td>3600</td>\n",
       "      <td>131</td>\n",
       "      <td>S3</td>\n",
       "      <td>D8</td>\n",
       "      <td>2.0</td>\n",
       "    </tr>\n",
       "    <tr>\n",
       "      <th>11</th>\n",
       "      <td>D8</td>\n",
       "      <td>Vanilla Gelato</td>\n",
       "      <td>3600</td>\n",
       "      <td>131</td>\n",
       "      <td>S5</td>\n",
       "      <td>D8</td>\n",
       "      <td>2.0</td>\n",
       "    </tr>\n",
       "    <tr>\n",
       "      <th>12</th>\n",
       "      <td>D9</td>\n",
       "      <td>Caramel Pancake</td>\n",
       "      <td>3900</td>\n",
       "      <td>440</td>\n",
       "      <td>None</td>\n",
       "      <td>None</td>\n",
       "      <td>NaN</td>\n",
       "    </tr>\n",
       "    <tr>\n",
       "      <th>13</th>\n",
       "      <td>D10</td>\n",
       "      <td>Apple Pie</td>\n",
       "      <td>4400</td>\n",
       "      <td>350</td>\n",
       "      <td>S2</td>\n",
       "      <td>D10</td>\n",
       "      <td>4.0</td>\n",
       "    </tr>\n",
       "  </tbody>\n",
       "</table>\n",
       "</div>"
      ],
      "text/plain": [
       "     id                name  price  kcal    id menuid  qty\n",
       "0    D0   Chocolate Parfeit   4900   420    S1     D0  2.0\n",
       "1    D1     Pudding Parfeit   5300   380    S1     D1  1.0\n",
       "2    D2  Strawberry Parfeit   5200   380    S3     D2  1.0\n",
       "3    D3         Panna Cotta   4200   283  None   None  NaN\n",
       "4    D4       Cheese Mousse   5800   288  None   None  NaN\n",
       "5    D5            Affogato   3000   248    S2     D5  1.0\n",
       "6    D5            Affogato   3000   248    S4     D5  3.0\n",
       "7    D6            Tiramisu   6000   251  None   None  NaN\n",
       "8    D7    Greentea Parfeit   4500   380  None   None  NaN\n",
       "9    D8      Vanilla Gelato   3600   131    S1     D8  2.0\n",
       "10   D8      Vanilla Gelato   3600   131    S3     D8  2.0\n",
       "11   D8      Vanilla Gelato   3600   131    S5     D8  2.0\n",
       "12   D9     Caramel Pancake   3900   440  None   None  NaN\n",
       "13  D10           Apple Pie   4400   350    S2    D10  4.0"
      ]
     },
     "execution_count": 31,
     "metadata": {},
     "output_type": "execute_result"
    }
   ],
   "source": [
    "#조인 조건을 만족시키지 않는 레코드들도 표시\n",
    "# LEFT(OUTER)JOIN, RIGHT (OUTER)JOIN\n",
    "mysql(\"\"\"select menu_df.*,order_df.*\n",
    "        from menu_df left join order_df\n",
    "        on(menu_df.id=order_df.menuid)\"\"\")"
   ]
  },
  {
   "cell_type": "markdown",
   "id": "cab8d408",
   "metadata": {},
   "source": [
    "## 집합관련 명령어들"
   ]
  },
  {
   "cell_type": "code",
   "execution_count": null,
   "id": "07addf6a",
   "metadata": {},
   "outputs": [],
   "source": [
    "- UNION(합집합)\n",
    "- INTERSECT(교집합):어떤 SQL은 INTERSECT명령어 지원안함\n",
    "- MINUS(차집합): 어떤 SQL은 MINUS명령어 지원안함"
   ]
  },
  {
   "cell_type": "markdown",
   "id": "cc4de131",
   "metadata": {},
   "source": [
    "## 서브쿼리"
   ]
  },
  {
   "cell_type": "code",
   "execution_count": null,
   "id": "7b01ae92",
   "metadata": {},
   "outputs": [],
   "source": [
    "# 다른 쿼리에 포함된 SQL쿼리\n",
    "# 중첩쿼리\n",
    "# ()안에만 표시"
   ]
  },
  {
   "cell_type": "code",
   "execution_count": 37,
   "id": "8ff5239c",
   "metadata": {},
   "outputs": [
    {
     "data": {
      "text/html": [
       "<div>\n",
       "<style scoped>\n",
       "    .dataframe tbody tr th:only-of-type {\n",
       "        vertical-align: middle;\n",
       "    }\n",
       "\n",
       "    .dataframe tbody tr th {\n",
       "        vertical-align: top;\n",
       "    }\n",
       "\n",
       "    .dataframe thead th {\n",
       "        text-align: right;\n",
       "    }\n",
       "</style>\n",
       "<table border=\"1\" class=\"dataframe\">\n",
       "  <thead>\n",
       "    <tr style=\"text-align: right;\">\n",
       "      <th></th>\n",
       "      <th>id</th>\n",
       "      <th>name</th>\n",
       "      <th>price</th>\n",
       "    </tr>\n",
       "  </thead>\n",
       "  <tbody>\n",
       "    <tr>\n",
       "      <th>0</th>\n",
       "      <td>D3</td>\n",
       "      <td>Panna Cotta</td>\n",
       "      <td>4200</td>\n",
       "    </tr>\n",
       "    <tr>\n",
       "      <th>1</th>\n",
       "      <td>D5</td>\n",
       "      <td>Affogato</td>\n",
       "      <td>3000</td>\n",
       "    </tr>\n",
       "    <tr>\n",
       "      <th>2</th>\n",
       "      <td>D7</td>\n",
       "      <td>Greentea Parfeit</td>\n",
       "      <td>4500</td>\n",
       "    </tr>\n",
       "    <tr>\n",
       "      <th>3</th>\n",
       "      <td>D8</td>\n",
       "      <td>Vanilla Gelato</td>\n",
       "      <td>3600</td>\n",
       "    </tr>\n",
       "    <tr>\n",
       "      <th>4</th>\n",
       "      <td>D9</td>\n",
       "      <td>Caramel Pancake</td>\n",
       "      <td>3900</td>\n",
       "    </tr>\n",
       "    <tr>\n",
       "      <th>5</th>\n",
       "      <td>D10</td>\n",
       "      <td>Apple Pie</td>\n",
       "      <td>4400</td>\n",
       "    </tr>\n",
       "  </tbody>\n",
       "</table>\n",
       "</div>"
      ],
      "text/plain": [
       "    id              name  price\n",
       "0   D3       Panna Cotta   4200\n",
       "1   D5          Affogato   3000\n",
       "2   D7  Greentea Parfeit   4500\n",
       "3   D8    Vanilla Gelato   3600\n",
       "4   D9   Caramel Pancake   3900\n",
       "5  D10         Apple Pie   4400"
      ]
     },
     "execution_count": 37,
     "metadata": {},
     "output_type": "execute_result"
    }
   ],
   "source": [
    "#값이 평균보다 싼 메뉴들은?\n",
    "mysql(\"\"\"select id, name, price\n",
    "        from menu_df\n",
    "        where price<(select avg(price)\n",
    "                    from menu_df)\"\"\")"
   ]
  },
  {
   "cell_type": "markdown",
   "id": "03ee2304",
   "metadata": {},
   "source": [
    "## GROUP BY"
   ]
  },
  {
   "cell_type": "code",
   "execution_count": 25,
   "id": "7763e54a",
   "metadata": {},
   "outputs": [],
   "source": [
    "#order_df와 menu_df로부터, 메뉴별 판매 금액 계산하고자 함\n",
    "#1. 주문을 메뉴id별로 모아서(groupby명령어)\n",
    "#2. 주문 수량과 메뉴 가격을 곱하고\n",
    "#3. 곱한 금액을 다 합하여 계산"
   ]
  },
  {
   "cell_type": "code",
   "execution_count": 27,
   "id": "a651185e",
   "metadata": {},
   "outputs": [
    {
     "data": {
      "text/html": [
       "<div>\n",
       "<style scoped>\n",
       "    .dataframe tbody tr th:only-of-type {\n",
       "        vertical-align: middle;\n",
       "    }\n",
       "\n",
       "    .dataframe tbody tr th {\n",
       "        vertical-align: top;\n",
       "    }\n",
       "\n",
       "    .dataframe thead th {\n",
       "        text-align: right;\n",
       "    }\n",
       "</style>\n",
       "<table border=\"1\" class=\"dataframe\">\n",
       "  <thead>\n",
       "    <tr style=\"text-align: right;\">\n",
       "      <th></th>\n",
       "      <th>menuid</th>\n",
       "      <th>name</th>\n",
       "      <th>sales_money</th>\n",
       "    </tr>\n",
       "  </thead>\n",
       "  <tbody>\n",
       "    <tr>\n",
       "      <th>0</th>\n",
       "      <td>D0</td>\n",
       "      <td>Chocolate Parfeit</td>\n",
       "      <td>9800</td>\n",
       "    </tr>\n",
       "    <tr>\n",
       "      <th>1</th>\n",
       "      <td>D1</td>\n",
       "      <td>Pudding Parfeit</td>\n",
       "      <td>5300</td>\n",
       "    </tr>\n",
       "    <tr>\n",
       "      <th>2</th>\n",
       "      <td>D10</td>\n",
       "      <td>Apple Pie</td>\n",
       "      <td>17600</td>\n",
       "    </tr>\n",
       "    <tr>\n",
       "      <th>3</th>\n",
       "      <td>D2</td>\n",
       "      <td>Strawberry Parfeit</td>\n",
       "      <td>5200</td>\n",
       "    </tr>\n",
       "    <tr>\n",
       "      <th>4</th>\n",
       "      <td>D5</td>\n",
       "      <td>Affogato</td>\n",
       "      <td>12000</td>\n",
       "    </tr>\n",
       "    <tr>\n",
       "      <th>5</th>\n",
       "      <td>D8</td>\n",
       "      <td>Vanilla Gelato</td>\n",
       "      <td>21600</td>\n",
       "    </tr>\n",
       "  </tbody>\n",
       "</table>\n",
       "</div>"
      ],
      "text/plain": [
       "  menuid                name  sales_money\n",
       "0     D0   Chocolate Parfeit         9800\n",
       "1     D1     Pudding Parfeit         5300\n",
       "2    D10           Apple Pie        17600\n",
       "3     D2  Strawberry Parfeit         5200\n",
       "4     D5            Affogato        12000\n",
       "5     D8      Vanilla Gelato        21600"
      ]
     },
     "execution_count": 27,
     "metadata": {},
     "output_type": "execute_result"
    }
   ],
   "source": [
    "sales_menu=mysql(\"\"\"select menu_df.id as menuid,menu_df.name as name,\n",
    "                        sum(order_df.qty*menu_df.price) as sales_money\n",
    "                    from order_df join menu_df\n",
    "                    on(order_df.menuid=menu_df.id)\n",
    "                    group by menu_df.id\"\"\")\n",
    "sales_menu"
   ]
  },
  {
   "cell_type": "markdown",
   "id": "a72332ae",
   "metadata": {},
   "source": [
    "### Having"
   ]
  },
  {
   "cell_type": "code",
   "execution_count": 28,
   "id": "f21dbef8",
   "metadata": {},
   "outputs": [],
   "source": [
    "#order_df와 menu_df로부터 판매액이 10000원 이상인 메뉴 찾고자함\n",
    "#1. 주문을 메뉴id별로 모아서(groupby명렁어)\n",
    "#2. 주문 수량과 메뉴가격을 곱하고\n",
    "#3. 곱한 금액을 다 합한 후\n",
    "#4. 합계가 10000원이상인 메뉴를 검색(having명령어)\n"
   ]
  },
  {
   "cell_type": "code",
   "execution_count": 29,
   "id": "1d6365dc",
   "metadata": {},
   "outputs": [
    {
     "data": {
      "text/html": [
       "<div>\n",
       "<style scoped>\n",
       "    .dataframe tbody tr th:only-of-type {\n",
       "        vertical-align: middle;\n",
       "    }\n",
       "\n",
       "    .dataframe tbody tr th {\n",
       "        vertical-align: top;\n",
       "    }\n",
       "\n",
       "    .dataframe thead th {\n",
       "        text-align: right;\n",
       "    }\n",
       "</style>\n",
       "<table border=\"1\" class=\"dataframe\">\n",
       "  <thead>\n",
       "    <tr style=\"text-align: right;\">\n",
       "      <th></th>\n",
       "      <th>menuid</th>\n",
       "      <th>name</th>\n",
       "      <th>sales_money</th>\n",
       "    </tr>\n",
       "  </thead>\n",
       "  <tbody>\n",
       "    <tr>\n",
       "      <th>0</th>\n",
       "      <td>D10</td>\n",
       "      <td>Apple Pie</td>\n",
       "      <td>17600</td>\n",
       "    </tr>\n",
       "    <tr>\n",
       "      <th>1</th>\n",
       "      <td>D5</td>\n",
       "      <td>Affogato</td>\n",
       "      <td>12000</td>\n",
       "    </tr>\n",
       "    <tr>\n",
       "      <th>2</th>\n",
       "      <td>D8</td>\n",
       "      <td>Vanilla Gelato</td>\n",
       "      <td>21600</td>\n",
       "    </tr>\n",
       "  </tbody>\n",
       "</table>\n",
       "</div>"
      ],
      "text/plain": [
       "  menuid            name  sales_money\n",
       "0    D10       Apple Pie        17600\n",
       "1     D5        Affogato        12000\n",
       "2     D8  Vanilla Gelato        21600"
      ]
     },
     "execution_count": 29,
     "metadata": {},
     "output_type": "execute_result"
    }
   ],
   "source": [
    "sales_menu_good=mysql(\"\"\"select menu_df.id as menuid,menu_df.name as name,\n",
    "                        sum(order_df.qty*menu_df.price) as sales_money\n",
    "                    from order_df join menu_df\n",
    "                    on(order_df.menuid=menu_df.id)\n",
    "                    group by menu_df.id\n",
    "                    having sales_money>=10000\"\"\")\n",
    "sales_menu_good"
   ]
  },
  {
   "cell_type": "code",
   "execution_count": 35,
   "id": "a193d894",
   "metadata": {},
   "outputs": [],
   "source": [
    "#잘 안팔리는 메뉴들: 메뉴별 판매수량이 적은(<2) 메뉴들\n",
    "#1. 전체 판매량이 <2, 즉 2개도 안팔린 메뉴\n",
    "#판매량이 0인 메뉴는 어디로?-> null을 0으로 자동변환해주지 않음"
   ]
  },
  {
   "cell_type": "code",
   "execution_count": 36,
   "id": "357e2b2e",
   "metadata": {},
   "outputs": [
    {
     "data": {
      "text/html": [
       "<div>\n",
       "<style scoped>\n",
       "    .dataframe tbody tr th:only-of-type {\n",
       "        vertical-align: middle;\n",
       "    }\n",
       "\n",
       "    .dataframe tbody tr th {\n",
       "        vertical-align: top;\n",
       "    }\n",
       "\n",
       "    .dataframe thead th {\n",
       "        text-align: right;\n",
       "    }\n",
       "</style>\n",
       "<table border=\"1\" class=\"dataframe\">\n",
       "  <thead>\n",
       "    <tr style=\"text-align: right;\">\n",
       "      <th></th>\n",
       "      <th>id</th>\n",
       "      <th>name</th>\n",
       "      <th>price</th>\n",
       "      <th>kcal</th>\n",
       "      <th>orderTotal</th>\n",
       "    </tr>\n",
       "  </thead>\n",
       "  <tbody>\n",
       "    <tr>\n",
       "      <th>0</th>\n",
       "      <td>D1</td>\n",
       "      <td>Pudding Parfeit</td>\n",
       "      <td>5300</td>\n",
       "      <td>380</td>\n",
       "      <td>1</td>\n",
       "    </tr>\n",
       "    <tr>\n",
       "      <th>1</th>\n",
       "      <td>D2</td>\n",
       "      <td>Strawberry Parfeit</td>\n",
       "      <td>5200</td>\n",
       "      <td>380</td>\n",
       "      <td>1</td>\n",
       "    </tr>\n",
       "  </tbody>\n",
       "</table>\n",
       "</div>"
      ],
      "text/plain": [
       "   id                name  price  kcal  orderTotal\n",
       "0  D1     Pudding Parfeit   5300   380           1\n",
       "1  D2  Strawberry Parfeit   5200   380           1"
      ]
     },
     "execution_count": 36,
     "metadata": {},
     "output_type": "execute_result"
    }
   ],
   "source": [
    "mysql(\"\"\"select menu_df.*,sum(order_df.qty) as orderTotal\n",
    "        from menu_df left join order_df\n",
    "        on (menu_df.id=order_df.menuid)\n",
    "        group by menu_df.id\n",
    "        having orderTotal<2\"\"\")"
   ]
  },
  {
   "cell_type": "markdown",
   "id": "e0bb097c",
   "metadata": {},
   "source": [
    "## IS NULL"
   ]
  },
  {
   "cell_type": "code",
   "execution_count": 34,
   "id": "b73c2ce5",
   "metadata": {},
   "outputs": [
    {
     "data": {
      "text/html": [
       "<div>\n",
       "<style scoped>\n",
       "    .dataframe tbody tr th:only-of-type {\n",
       "        vertical-align: middle;\n",
       "    }\n",
       "\n",
       "    .dataframe tbody tr th {\n",
       "        vertical-align: top;\n",
       "    }\n",
       "\n",
       "    .dataframe thead th {\n",
       "        text-align: right;\n",
       "    }\n",
       "</style>\n",
       "<table border=\"1\" class=\"dataframe\">\n",
       "  <thead>\n",
       "    <tr style=\"text-align: right;\">\n",
       "      <th></th>\n",
       "      <th>id</th>\n",
       "      <th>name</th>\n",
       "      <th>price</th>\n",
       "      <th>kcal</th>\n",
       "    </tr>\n",
       "  </thead>\n",
       "  <tbody>\n",
       "    <tr>\n",
       "      <th>0</th>\n",
       "      <td>D3</td>\n",
       "      <td>Panna Cotta</td>\n",
       "      <td>4200</td>\n",
       "      <td>283</td>\n",
       "    </tr>\n",
       "    <tr>\n",
       "      <th>1</th>\n",
       "      <td>D4</td>\n",
       "      <td>Cheese Mousse</td>\n",
       "      <td>5800</td>\n",
       "      <td>288</td>\n",
       "    </tr>\n",
       "    <tr>\n",
       "      <th>2</th>\n",
       "      <td>D6</td>\n",
       "      <td>Tiramisu</td>\n",
       "      <td>6000</td>\n",
       "      <td>251</td>\n",
       "    </tr>\n",
       "    <tr>\n",
       "      <th>3</th>\n",
       "      <td>D7</td>\n",
       "      <td>Greentea Parfeit</td>\n",
       "      <td>4500</td>\n",
       "      <td>380</td>\n",
       "    </tr>\n",
       "    <tr>\n",
       "      <th>4</th>\n",
       "      <td>D9</td>\n",
       "      <td>Caramel Pancake</td>\n",
       "      <td>3900</td>\n",
       "      <td>440</td>\n",
       "    </tr>\n",
       "  </tbody>\n",
       "</table>\n",
       "</div>"
      ],
      "text/plain": [
       "   id              name  price  kcal\n",
       "0  D3       Panna Cotta   4200   283\n",
       "1  D4     Cheese Mousse   5800   288\n",
       "2  D6          Tiramisu   6000   251\n",
       "3  D7  Greentea Parfeit   4500   380\n",
       "4  D9   Caramel Pancake   3900   440"
      ]
     },
     "execution_count": 34,
     "metadata": {},
     "output_type": "execute_result"
    }
   ],
   "source": [
    "#주문이 없는 메뉴\n",
    "# OUTER JOIN한 칼럼의 값이 NULL인 레코드들\n",
    "mysql(\"\"\"select menu_df.*\n",
    "        from menu_df left join order_df\n",
    "        on(menu_df.id=order_df.menuid)\n",
    "        where order_df.menuid is null\"\"\")"
   ]
  },
  {
   "cell_type": "code",
   "execution_count": null,
   "id": "74c29ebd",
   "metadata": {},
   "outputs": [],
   "source": []
  }
 ],
 "metadata": {
  "kernelspec": {
   "display_name": "Python 3 (ipykernel)",
   "language": "python",
   "name": "python3"
  },
  "language_info": {
   "codemirror_mode": {
    "name": "ipython",
    "version": 3
   },
   "file_extension": ".py",
   "mimetype": "text/x-python",
   "name": "python",
   "nbconvert_exporter": "python",
   "pygments_lexer": "ipython3",
   "version": "3.9.12"
  },
  "toc": {
   "base_numbering": 1,
   "nav_menu": {},
   "number_sections": true,
   "sideBar": true,
   "skip_h1_title": false,
   "title_cell": "Table of Contents",
   "title_sidebar": "Contents",
   "toc_cell": false,
   "toc_position": {
    "height": "calc(100% - 180px)",
    "left": "10px",
    "top": "150px",
    "width": "173px"
   },
   "toc_section_display": true,
   "toc_window_display": false
  }
 },
 "nbformat": 4,
 "nbformat_minor": 5
}
