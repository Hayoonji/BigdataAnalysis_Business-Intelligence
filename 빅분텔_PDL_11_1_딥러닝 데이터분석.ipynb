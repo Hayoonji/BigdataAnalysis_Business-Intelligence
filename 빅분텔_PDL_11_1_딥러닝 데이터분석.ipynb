{
 "cells": [
  {
   "cell_type": "markdown",
   "id": "00e6f1bb",
   "metadata": {},
   "source": [
    "<딥러닝 데이터 분석>"
   ]
  },
  {
   "cell_type": "markdown",
   "id": "4aeeff4c",
   "metadata": {},
   "source": [
    "## 법칙의 학습 방법"
   ]
  },
  {
   "cell_type": "markdown",
   "id": "2f86c231",
   "metadata": {},
   "source": [
    "- 데이터로부터 법칙을 찾아내기 위해서는 \"데이터의 변환작업\"을 연속적으로 수행하는데, 이를 레이어라고 함\n",
    "- 딥러닝 모형(심층 신경망 모형): 레이어의 개수가 많은 모형\n",
    "> 입력층, 출력층, 은닉층 들로 구성\n",
    "\n",
    "> 각 레이어는 '인공뉴런'들로 구성되며, \"정보전달\"을 '인공 뉴런의(Perception)'의 활성화로 묘사\n",
    "\n",
    "> \"정보의 예측\"은 '출력층 뉴런의 활성화 값'으로 설명\n",
    "    "
   ]
  },
  {
   "cell_type": "markdown",
   "id": "3289b290",
   "metadata": {},
   "source": [
    "- 회귀식: 레이어 1개(변환 1번)-딥X, shallow learning-모형형태 만들어줘야 됨\n",
    "- 딥러닝: 레이어 여러개, 모형형태 안만들어줘도됨"
   ]
  },
  {
   "cell_type": "markdown",
   "id": "124793a2",
   "metadata": {},
   "source": [
    "## 딥러닝 모형 예시"
   ]
  },
  {
   "cell_type": "markdown",
   "id": "01c94d9c",
   "metadata": {},
   "source": [
    "### 단층 신경망 모형(일반적 회귀식)"
   ]
  },
  {
   "cell_type": "markdown",
   "id": "20dd95b8",
   "metadata": {},
   "source": [
    "#### 입력층 노드 여러개, 출력층 노드 1개"
   ]
  },
  {
   "cell_type": "markdown",
   "id": "95f581f8",
   "metadata": {},
   "source": [
    "- 단층 신경망 모형(일반적 회귀식): 입력층과 출력층으로 구성된 인공신경망\n",
    "- 입력층 노드 여러개, 출력층 노드 1개인 경우 -> 선형회귀식과 같은 구조\n",
    "- 모형의 형태 만들어줘야 됨"
   ]
  },
  {
   "cell_type": "markdown",
   "id": "9be2f6a2",
   "metadata": {},
   "source": [
    "#### 입력층 노드 여러개, 출력층 노드 k개"
   ]
  },
  {
   "cell_type": "markdown",
   "id": "f348ed3e",
   "metadata": {},
   "source": [
    "- 입력층 노드 여러개, 출력층 노드 k개인 경우 -> k개로의 분류모형과 같은 구조"
   ]
  },
  {
   "cell_type": "markdown",
   "id": "80e2a073",
   "metadata": {},
   "source": [
    "### 필기체 인식 심층 신경망 모형"
   ]
  },
  {
   "cell_type": "markdown",
   "id": "c13d540a",
   "metadata": {},
   "source": [
    "- 예를 들어, 가로*세로=(28*28)=784개 셀이 있음\n",
    "- 모든 각 셀들을 입력층에 하나씩 넣음\n",
    "- 오차 있으면, 틀린 값들에 대해 가중치 값이랑 오차값이랑 바꿈\n",
    "- 더 크게 중가시킬지 감소시킬지 정해서 다시 계산\n",
    "\n",
    "- 오차의 합 또 나오면 a1을 크게할것인가 작게할 것인가 계속 반복해서 오차가 작아지도록 반복\n",
    "- 결과와 참값을 비교\n",
    "- 비용함수=오차함수=loss"
   ]
  },
  {
   "cell_type": "markdown",
   "id": "aba7f5c0",
   "metadata": {},
   "source": [
    "## 딥러닝에서 각 노드(뉴런)의 역할"
   ]
  },
  {
   "cell_type": "markdown",
   "id": "5318e279",
   "metadata": {},
   "source": [
    "### 각 신경세포(뉴런, 노드)의 작동원리"
   ]
  },
  {
   "cell_type": "markdown",
   "id": "82baa214",
   "metadata": {},
   "source": [
    "- 신경세포(뉴런, 노드)에 '입력되는 전체 신호의 크기': 입력 데이터의 '선형 결합값'\n",
    "- 신경세포의 활성화 값(='출력되는 신호의 크기'):\n",
    "-> '활성화 함수 값'\n",
    "-> 노드의 출력 값은 입력값을 '변환'하여 산출하는데, 이 변환함수를 '활성화 함수'라고 함"
   ]
  },
  {
   "cell_type": "markdown",
   "id": "6f29a935",
   "metadata": {},
   "source": [
    "#### 활성화 함수"
   ]
  },
  {
   "cell_type": "markdown",
   "id": "75fa8c10",
   "metadata": {},
   "source": [
    "- 변환시키는 함수\n",
    "- u=x1*w1+x2*w2+b\n",
    "- u=X*W(내적계산)+b (시험문제 가능성!!!!!!!!!!!!!!!!!!!!!!!)"
   ]
  },
  {
   "cell_type": "markdown",
   "id": "610e3f59",
   "metadata": {},
   "source": [
    "## 활성화 함수"
   ]
  },
  {
   "cell_type": "markdown",
   "id": "3840af39",
   "metadata": {},
   "source": [
    "### 활성화 함수 종류"
   ]
  },
  {
   "cell_type": "markdown",
   "id": "15386933",
   "metadata": {},
   "source": [
    "#### Step함수"
   ]
  },
  {
   "cell_type": "markdown",
   "id": "556dbd74",
   "metadata": {},
   "source": [
    "- 0.5보다 크면 1, 작으면 0"
   ]
  },
  {
   "cell_type": "markdown",
   "id": "408ab4c3",
   "metadata": {},
   "source": [
    "#### Sigmoid 함수"
   ]
  },
  {
   "cell_type": "markdown",
   "id": "8932739f",
   "metadata": {},
   "source": [
    "- 0.5를 중심으로 조금씩 커짐; 확률계산 시 유용한 함수"
   ]
  },
  {
   "cell_type": "markdown",
   "id": "f99f0b1e",
   "metadata": {},
   "source": [
    "#### tanh 함수"
   ]
  },
  {
   "cell_type": "markdown",
   "id": "a9cec6a0",
   "metadata": {},
   "source": [
    "- 음수 값을 가지는 경우(0보다 크면 1에 수렴, 작으면 -1에 수렴)"
   ]
  },
  {
   "cell_type": "markdown",
   "id": "b0649f34",
   "metadata": {},
   "source": [
    "#### ReLU 함수"
   ]
  },
  {
   "cell_type": "markdown",
   "id": "4bc76116",
   "metadata": {},
   "source": [
    "- 0보다 크면, 값그대로, 작으면 0으로(=양수값만 가짐)\n",
    "- 성능이 제일 좋음"
   ]
  },
  {
   "cell_type": "markdown",
   "id": "34edeed4",
   "metadata": {},
   "source": [
    "##### Leaky ReLU"
   ]
  },
  {
   "cell_type": "markdown",
   "id": "52ff5f72",
   "metadata": {},
   "source": [
    "- y값에 따라서, 아주 작은 음수 값 가지게 함"
   ]
  },
  {
   "cell_type": "markdown",
   "id": "38a3849e",
   "metadata": {},
   "source": [
    "### 활성화 함수 특성"
   ]
  },
  {
   "cell_type": "markdown",
   "id": "f789b1a4",
   "metadata": {},
   "source": [
    "#### Sigmoid 함수"
   ]
  },
  {
   "cell_type": "markdown",
   "id": "f17fe3f5",
   "metadata": {},
   "source": [
    "- 양의 큰 값의 미분값 : 0\n",
    "- 음의 큰 값의 미분값 : 0\n",
    "- 항상 양의 값 가짐"
   ]
  },
  {
   "cell_type": "markdown",
   "id": "14c5b994",
   "metadata": {},
   "source": [
    "#### Tanh"
   ]
  },
  {
   "cell_type": "markdown",
   "id": "662907c6",
   "metadata": {},
   "source": [
    "- 양의 큰 값 미분 값 : 0\n",
    "- 음의 큰 값 미분 값 : 0"
   ]
  },
  {
   "cell_type": "markdown",
   "id": "d5dfdc32",
   "metadata": {},
   "source": [
    "#### Relu 함수"
   ]
  },
  {
   "cell_type": "markdown",
   "id": "6ad00662",
   "metadata": {},
   "source": [
    "- 계산 값의 절반인 음의 영역에서는 미분 값 : 0\n",
    "- Leaky Relu, PRelu "
   ]
  },
  {
   "cell_type": "markdown",
   "id": "11b0f827",
   "metadata": {},
   "source": [
    "## 딥러닝 개발 환경들"
   ]
  },
  {
   "cell_type": "markdown",
   "id": "368013fe",
   "metadata": {},
   "source": [
    "- Theano -> TensorFlow(Google)\n",
    "- Torch -> PyTorch(Facebook)\n",
    "- Caffe -> Caffe2(Facebook)"
   ]
  },
  {
   "cell_type": "markdown",
   "id": "57be8d88",
   "metadata": {},
   "source": [
    "- 경영의사결정: decision tree랑 회귀모형 하는게 좋음(어떤걸 기준으로 분류하는지 알 수 있어서; 영업성과가 우수한 사원이 어떤걸 잘해서 하는지 알 수 있음)\n",
    "- 딥러닝: 과정 모르고 결과만 알려줌; 비슷한 애들끼리 비교해서 결과만 알려주는 것\n",
    "-> 딥러닝한테 왜 그렇게 계산했냐하면 모름 -> 답만 알려줌(=답만 알고싶을때 딥러닝 하면 좋음)  "
   ]
  },
  {
   "cell_type": "markdown",
   "id": "68ae010a",
   "metadata": {},
   "source": [
    "## 딥러닝 모형 개발"
   ]
  },
  {
   "cell_type": "markdown",
   "id": "cef9f7b1",
   "metadata": {},
   "source": [
    "### Tensorflow 1"
   ]
  },
  {
   "cell_type": "markdown",
   "id": "6b615c81",
   "metadata": {},
   "source": [
    "- 모델링: computational graph 작성: 인공 신경망의 설계\n",
    "- execution : 데이터 입력 및 실행"
   ]
  },
  {
   "cell_type": "markdown",
   "id": "5f76f641",
   "metadata": {},
   "source": [
    "### Tensorflow 2"
   ]
  },
  {
   "cell_type": "markdown",
   "id": "f91be1e8",
   "metadata": {},
   "source": [
    "- Keras 인터페이스 통해 사용\n",
    "- Lego block처럼 각각의 layer를 모델이 추가하여 모형 구성"
   ]
  },
  {
   "cell_type": "markdown",
   "id": "01248700",
   "metadata": {},
   "source": [
    "## 머신러닝 진보의 요인"
   ]
  },
  {
   "cell_type": "markdown",
   "id": "76b85115",
   "metadata": {},
   "source": [
    "### 하드웨어의 발전"
   ]
  },
  {
   "cell_type": "markdown",
   "id": "59c443af",
   "metadata": {},
   "source": [
    "- CPU(자기처리속도 늘리기)->GPU(그래픽;병렬체제)->TPU"
   ]
  },
  {
   "cell_type": "markdown",
   "id": "aff83d36",
   "metadata": {},
   "source": [
    "### 학습 데이터"
   ]
  },
  {
   "cell_type": "markdown",
   "id": "0e924069",
   "metadata": {},
   "source": [
    "- 이미지 태그"
   ]
  },
  {
   "cell_type": "markdown",
   "id": "a0df3964",
   "metadata": {},
   "source": [
    "### 알고리즘"
   ]
  },
  {
   "cell_type": "markdown",
   "id": "f0f0d2da",
   "metadata": {},
   "source": [
    "- 비용함수의 최적화 알고리즘 :RMSProp, Adam,\n",
    "- 딥러닝 도구: Tensorflow, PyTorch"
   ]
  },
  {
   "cell_type": "code",
   "execution_count": null,
   "id": "872cc47c",
   "metadata": {},
   "outputs": [],
   "source": []
  }
 ],
 "metadata": {
  "kernelspec": {
   "display_name": "Python 3 (ipykernel)",
   "language": "python",
   "name": "python3"
  },
  "language_info": {
   "codemirror_mode": {
    "name": "ipython",
    "version": 3
   },
   "file_extension": ".py",
   "mimetype": "text/x-python",
   "name": "python",
   "nbconvert_exporter": "python",
   "pygments_lexer": "ipython3",
   "version": "3.9.12"
  },
  "toc": {
   "base_numbering": 1,
   "nav_menu": {},
   "number_sections": true,
   "sideBar": true,
   "skip_h1_title": false,
   "title_cell": "Table of Contents",
   "title_sidebar": "Contents",
   "toc_cell": false,
   "toc_position": {
    "height": "calc(100% - 180px)",
    "left": "10px",
    "top": "150px",
    "width": "211.472px"
   },
   "toc_section_display": true,
   "toc_window_display": true
  }
 },
 "nbformat": 4,
 "nbformat_minor": 5
}
