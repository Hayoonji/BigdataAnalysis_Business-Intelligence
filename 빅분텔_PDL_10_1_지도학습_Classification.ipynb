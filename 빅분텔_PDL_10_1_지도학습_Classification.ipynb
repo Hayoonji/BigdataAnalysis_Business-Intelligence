{
 "cells": [
  {
   "cell_type": "markdown",
   "id": "d27e452d",
   "metadata": {},
   "source": [
    "# 분류의 종류"
   ]
  },
  {
   "cell_type": "markdown",
   "id": "a17c5dbd",
   "metadata": {},
   "source": [
    "## 2항 분류"
   ]
  },
  {
   "cell_type": "markdown",
   "id": "654d935d",
   "metadata": {},
   "source": [
    "- 첫번째 집단일 확률: p예측\n",
    "=> 두번째 집단일 확률: 1-p"
   ]
  },
  {
   "cell_type": "markdown",
   "id": "225918ef",
   "metadata": {},
   "source": [
    "## 3항 이상의 분류"
   ]
  },
  {
   "cell_type": "markdown",
   "id": "919dbe1e",
   "metadata": {},
   "source": [
    "- 각각의 집단별로 p와 (1-p) 계산\n",
    "- 계산된 p값이 가장 큰 집단으로 분류\n",
    "- 예: 눈 앞의 꽃이 장미, 백합, 수국?"
   ]
  },
  {
   "cell_type": "markdown",
   "id": "80394d2d",
   "metadata": {},
   "source": [
    "# 분류 모형의 종류"
   ]
  },
  {
   "cell_type": "markdown",
   "id": "7bd1b459",
   "metadata": {},
   "source": [
    "## 모형"
   ]
  },
  {
   "cell_type": "markdown",
   "id": "702de7f3",
   "metadata": {},
   "source": [
    "- 로지스틱 회귀모형\n",
    "- SVM\n",
    "- 의사결정 나무\n",
    "- 나이브 베이즈 분류\n",
    "- 랜덤 포레스트"
   ]
  },
  {
   "cell_type": "markdown",
   "id": "aa1234b1",
   "metadata": {},
   "source": [
    "## Shallow Learning 모형"
   ]
  },
  {
   "cell_type": "markdown",
   "id": "ad6cd027",
   "metadata": {},
   "source": [
    "- 모형의 형태를 사전에 정의\n",
    "- 모형을 포함하는 계층의 수가 많지 않음"
   ]
  },
  {
   "cell_type": "markdown",
   "id": "b2650290",
   "metadata": {},
   "source": [
    "# 로지스틱 회귀모형"
   ]
  },
  {
   "cell_type": "markdown",
   "id": "c0440e30",
   "metadata": {},
   "source": [
    "- 분류하기 위한 확률 p를 구하는 과정"
   ]
  },
  {
   "cell_type": "markdown",
   "id": "5da9c8e7",
   "metadata": {},
   "source": [
    "## 특정사건이 발생할 확률(p) 예측"
   ]
  },
  {
   "cell_type": "markdown",
   "id": "793cd520",
   "metadata": {},
   "source": [
    "- 회귀모형의 예측값 p -> [0,1] 의 값 가짐\n",
    "- 당첨비율(오즈비율)=p/1-p -> [0,무한대]의 값 가짐\n",
    "> p=0 odds=0, p=1/2 odds=1 , p=1 odds=무한대\n",
    "- log(p/1-p):[-무한대,무한대]"
   ]
  },
  {
   "cell_type": "markdown",
   "id": "3c59d426",
   "metadata": {},
   "source": [
    "## p를 예측하기보단 로그를 예측하기 쉬움"
   ]
  },
  {
   "cell_type": "markdown",
   "id": "6f455e0a",
   "metadata": {},
   "source": [
    "- 로그 예측 후, 이로부터 p산출"
   ]
  },
  {
   "cell_type": "markdown",
   "id": "18a305bf",
   "metadata": {},
   "source": [
    "# Logit함수"
   ]
  },
  {
   "cell_type": "markdown",
   "id": "8a94a7f0",
   "metadata": {},
   "source": [
    "- y가 0또는 1에 가까운지에 따라 분류"
   ]
  },
  {
   "cell_type": "markdown",
   "id": "893be52e",
   "metadata": {},
   "source": [
    "## 발생확률 p의 계산"
   ]
  },
  {
   "cell_type": "markdown",
   "id": "cff28c0a",
   "metadata": {},
   "source": [
    "- 예측값 log(p/1-p)로부터 p계산하기 위해서는, 예측값을 sigmod변환 하면됨\n",
    "(딥러닝 모형에서는 활성화함수를 sigmoid로 지정)"
   ]
  },
  {
   "cell_type": "markdown",
   "id": "409aee39",
   "metadata": {},
   "source": [
    "- 분류가 잘 이루어지기 위해서는\n",
    ": 로지스틱 회귀식의 예측값 BX를 x축으로 하고, \n",
    "    이로부터 계산되는 p를 y축으로 하는 좌표계에서 p값이 다음과 같이 분포되도록 하는 회귀함수(BX)가 좋은 회귀 함수임.\n",
    "- 1은 오른편 상단 끝 주변, 0은 왼편 하단 끝 주변"
   ]
  },
  {
   "cell_type": "markdown",
   "id": "4d198460",
   "metadata": {},
   "source": [
    "## 비용 함수"
   ]
  },
  {
   "cell_type": "markdown",
   "id": "d0928d7c",
   "metadata": {},
   "source": [
    "- p값이 0 또는 1인 샘플들의 예측된 p가 1이나 0으로부터 얼마나 떨어져있는 가 측정"
   ]
  },
  {
   "cell_type": "markdown",
   "id": "4434507d",
   "metadata": {},
   "source": [
    "## Logit 회귀모형 예제"
   ]
  },
  {
   "cell_type": "markdown",
   "id": "3761bc12",
   "metadata": {},
   "source": [
    "### 1) 100개의 샘플데이터 생성"
   ]
  },
  {
   "cell_type": "code",
   "execution_count": 26,
   "id": "7a10f19d",
   "metadata": {},
   "outputs": [],
   "source": [
    "import numpy as np\n",
    "import pandas as pd\n",
    "import matplotlib.pyplot as plt\n",
    "import seaborn as sns\n",
    "%matplotlib inline"
   ]
  },
  {
   "cell_type": "code",
   "execution_count": 27,
   "id": "20e8f959",
   "metadata": {},
   "outputs": [],
   "source": [
    "from sklearn.datasets import make_classification"
   ]
  },
  {
   "cell_type": "code",
   "execution_count": 28,
   "id": "3a2d1b98",
   "metadata": {},
   "outputs": [],
   "source": [
    "X,y=make_classification(n_samples=100,n_features=2,\n",
    "                        n_classes=2,n_redundant=0,random_state=42)"
   ]
  },
  {
   "cell_type": "code",
   "execution_count": 29,
   "id": "e9a8a5f8",
   "metadata": {},
   "outputs": [
    {
     "name": "stdout",
     "output_type": "stream",
     "text": [
      "[0.55942643 2.38869353] 0\n"
     ]
    }
   ],
   "source": [
    "print(X[0],y[0])"
   ]
  },
  {
   "cell_type": "code",
   "execution_count": 5,
   "id": "da1e0ab5",
   "metadata": {},
   "outputs": [
    {
     "data": {
      "image/png": "[encoded data removed]",
      "text/plain": [
       "<Figure size 432x288 with 1 Axes>"
      ]
     },
     "metadata": {
      "needs_background": "light"
     },
     "output_type": "display_data"
    }
   ],
   "source": [
    "plt.scatter(X[:,0],X[:,1],c=y)\n",
    "plt.grid(True)\n",
    "plt.show()"
   ]
  },
  {
   "cell_type": "markdown",
   "id": "40a4dd8f",
   "metadata": {},
   "source": [
    "### 2) Train data와 test data 분리"
   ]
  },
  {
   "cell_type": "code",
   "execution_count": 6,
   "id": "a24c8079",
   "metadata": {},
   "outputs": [],
   "source": [
    "from sklearn.model_selection import train_test_split"
   ]
  },
  {
   "cell_type": "code",
   "execution_count": 7,
   "id": "59eb50fe",
   "metadata": {},
   "outputs": [],
   "source": [
    "train_X,test_X,train_y,test_y=train_test_split(X,y,random_state=42)"
   ]
  },
  {
   "cell_type": "code",
   "execution_count": 8,
   "id": "bef0f4d8",
   "metadata": {},
   "outputs": [],
   "source": [
    "from sklearn.linear_model import LogisticRegression"
   ]
  },
  {
   "cell_type": "markdown",
   "id": "58c5fb0b",
   "metadata": {},
   "source": [
    "### 3) 모형지정"
   ]
  },
  {
   "cell_type": "code",
   "execution_count": 9,
   "id": "abb60de2",
   "metadata": {},
   "outputs": [],
   "source": [
    "model=LogisticRegression(random_state=42)"
   ]
  },
  {
   "cell_type": "markdown",
   "id": "5f63fc75",
   "metadata": {},
   "source": [
    "### 4) 모형학습(.fit)"
   ]
  },
  {
   "cell_type": "code",
   "execution_count": 10,
   "id": "e4525024",
   "metadata": {},
   "outputs": [
    {
     "data": {
      "text/plain": [
       "LogisticRegression(random_state=42)"
      ]
     },
     "execution_count": 10,
     "metadata": {},
     "output_type": "execute_result"
    }
   ],
   "source": [
    "model.fit(train_X,train_y)"
   ]
  },
  {
   "cell_type": "markdown",
   "id": "f360033b",
   "metadata": {},
   "source": [
    "### 5) 분류값 예측"
   ]
  },
  {
   "cell_type": "code",
   "execution_count": 11,
   "id": "d03b9c54",
   "metadata": {},
   "outputs": [],
   "source": [
    "pred_y=model.predict(test_X)"
   ]
  },
  {
   "cell_type": "code",
   "execution_count": 12,
   "id": "0ff2f7e1",
   "metadata": {},
   "outputs": [
    {
     "name": "stdout",
     "output_type": "stream",
     "text": [
      "[0 1 1 0 1 0 0 0 1 1 1 0 1 0 0 1 1 1 0 0 0 0 1 0 1]\n"
     ]
    }
   ],
   "source": [
    "print(pred_y)"
   ]
  },
  {
   "cell_type": "code",
   "execution_count": 13,
   "id": "a30da099",
   "metadata": {},
   "outputs": [
    {
     "name": "stdout",
     "output_type": "stream",
     "text": [
      "[0 1 1 0 1 0 0 0 1 0 1 0 1 0 0 1 1 1 0 0 0 0 1 0 1]\n"
     ]
    }
   ],
   "source": [
    "print(test_y)"
   ]
  },
  {
   "cell_type": "code",
   "execution_count": 14,
   "id": "56845b2b",
   "metadata": {},
   "outputs": [
    {
     "data": {
      "text/plain": [
       "0.96"
      ]
     },
     "execution_count": 14,
     "metadata": {},
     "output_type": "execute_result"
    }
   ],
   "source": [
    "model.score(test_X,test_y) #정확도"
   ]
  },
  {
   "cell_type": "markdown",
   "id": "68a781de",
   "metadata": {},
   "source": [
    "### 6) 모형결과 검토"
   ]
  },
  {
   "cell_type": "code",
   "execution_count": 15,
   "id": "385fd688",
   "metadata": {},
   "outputs": [
    {
     "data": {
      "text/plain": [
       "array([ 3.00390095, -0.65618988])"
      ]
     },
     "execution_count": 15,
     "metadata": {},
     "output_type": "execute_result"
    }
   ],
   "source": [
    "model.coef_[0] #b0와 b1(=계수)"
   ]
  },
  {
   "cell_type": "code",
   "execution_count": 19,
   "id": "e0516e61",
   "metadata": {},
   "outputs": [
    {
     "data": {
      "text/plain": [
       "array([0.23722177])"
      ]
     },
     "execution_count": 19,
     "metadata": {},
     "output_type": "execute_result"
    }
   ],
   "source": [
    "model.intercept_ #a(=절편)"
   ]
  },
  {
   "cell_type": "markdown",
   "id": "1ed7f212",
   "metadata": {},
   "source": [
    "- 모형 가중치들 출력\n",
    "- 분류식의 계산\n",
    "-> y=a+b0X[0]+b1X[1]\n",
    "-> y=0.23722177+3.00390095*X[0]-0.65618988*X[1]"
   ]
  },
  {
   "cell_type": "markdown",
   "id": "3ade9c73",
   "metadata": {},
   "source": [
    "- 테스트 데이터의 결과 검증"
   ]
  },
  {
   "cell_type": "markdown",
   "id": "8401022d",
   "metadata": {},
   "source": [
    "### 7) 모형 결과 시각화"
   ]
  },
  {
   "cell_type": "code",
   "execution_count": 20,
   "id": "fc8e53ba",
   "metadata": {
    "scrolled": true
   },
   "outputs": [
    {
     "data": {
      "text/plain": [
       "array([-2.58590856, -2.48025248, -2.3745964 , -2.26894031, -2.16328423,\n",
       "       -2.05762815, -1.95197207, -1.84631599, -1.7406599 , -1.63500382,\n",
       "       -1.52934774, -1.42369166, -1.31803558, -1.21237949, -1.10672341,\n",
       "       -1.00106733, -0.89541125, -0.78975516, -0.68409908, -0.578443  ,\n",
       "       -0.47278692, -0.36713084, -0.26147475, -0.15581867, -0.05016259,\n",
       "        0.05549349,  0.16114957,  0.26680566,  0.37246174,  0.47811782,\n",
       "        0.5837739 ,  0.68942998,  0.79508607,  0.90074215,  1.00639823,\n",
       "        1.11205431,  1.2177104 ,  1.32336648,  1.42902256,  1.53467864,\n",
       "        1.64033472,  1.74599081,  1.85164689,  1.95730297,  2.06295905,\n",
       "        2.16861513,  2.27427122,  2.3799273 ,  2.48558338,  2.59123946])"
      ]
     },
     "execution_count": 20,
     "metadata": {},
     "output_type": "execute_result"
    }
   ],
   "source": [
    "line_x=np.linspace(min(X[:,0]),max(X[:,0]))\n",
    "line_x"
   ]
  },
  {
   "cell_type": "code",
   "execution_count": 435,
   "id": "272e798f",
   "metadata": {},
   "outputs": [
    {
     "data": {
      "text/plain": [
       "array([ 2.38869353, -0.7173148 , -1.92487377, -0.1368559 , -0.42795824,\n",
       "        1.19664076, -2.25553963,  0.54914434, -1.26898369, -1.79532002,\n",
       "        0.24472415,  0.49429823, -1.20592943,  0.68811892, -0.35885569,\n",
       "       -1.56826626, -1.08324727, -0.6795874 , -0.38919817, -0.04862909,\n",
       "       -1.42922002, -0.11708689, -1.5332749 , -0.40925706, -1.05383855,\n",
       "        0.08896214, -1.32933233, -0.43131517,  1.25896077,  0.13979096,\n",
       "        1.85605469, -2.52343407,  0.06194498, -1.57127256,  1.28938375,\n",
       "        0.55600276,  0.23085877,  1.10009583, -0.86023823,  0.01722979,\n",
       "        0.62453032,  0.55448398,  1.48052803,  1.02703224, -0.98021491,\n",
       "       -1.72067112, -1.14658127, -1.73597973, -0.53355799, -1.20946429,\n",
       "        0.4176729 ,  0.88629356,  1.09180466,  1.25291095,  1.06173727,\n",
       "       -1.43534875,  1.56931739, -1.50077611, -1.14054824,  0.89075877,\n",
       "       -0.72427983, -1.00544254,  0.53479393,  0.57304248,  0.73019848,\n",
       "       -0.71352532, -1.64060704, -0.17593681,  1.56010259,  0.73644435,\n",
       "        1.4991983 , -1.61453273,  0.94800532,  2.30450019,  1.74147706,\n",
       "       -1.42695838, -0.48949935,  2.25661188, -1.36716377,  1.18739045,\n",
       "       -1.51042899, -0.02185231,  1.99805321, -2.39955005,  1.94087643,\n",
       "        1.35970566,  1.15509316, -0.92169432,  0.25995672, -0.9311259 ,\n",
       "        1.20852705, -2.24181979,  1.07954187, -0.3751207 ,  1.59488828,\n",
       "       -0.14994102, -0.95548162,  1.38991764,  0.86561977,  0.36016958])"
      ]
     },
     "execution_count": 435,
     "metadata": {},
     "output_type": "execute_result"
    }
   ],
   "source": [
    "X[:,1]"
   ]
  },
  {
   "cell_type": "code",
   "execution_count": 424,
   "id": "c17948df",
   "metadata": {},
   "outputs": [
    {
     "data": {
      "text/plain": [
       "array([ 0.55942643,  1.31217492, -1.5598485 , -2.2813861 ,  1.56070438,\n",
       "       -0.80804463, -0.27062383,  0.480502  , -1.20757158,  0.25415746,\n",
       "        2.59123946,  0.07123641, -1.17762637,  0.93343952,  1.65214494,\n",
       "       -1.40735658,  1.02255619, -0.81680628,  1.50575249, -2.17105282,\n",
       "        0.71479373, -0.15013844, -1.4117586 , -2.58590856,  0.82600732,\n",
       "       -0.07133524,  0.6273745 ,  1.65882246,  1.2798899 ,  0.25058844,\n",
       "       -0.05319823, -2.05832072, -2.02632079, -1.65830375,  1.28008347,\n",
       "        0.96423311, -1.87653774, -0.94275087, -1.09831681, -0.38566776,\n",
       "        0.32725188,  1.03110238, -0.50833095,  0.68057323,  1.08266027,\n",
       "       -1.40210053,  0.85239186,  0.06845616,  1.53703587,  0.77861318,\n",
       "       -1.64832073,  0.66530077,  1.17869556,  1.09885263, -0.91916686,\n",
       "       -1.54851014, -0.3313761 ,  0.4505902 , -1.00634985, -1.13207427,\n",
       "       -0.53963044,  1.08659413,  0.82584805,  0.34129395, -1.28568005,\n",
       "        1.15199146, -1.36045573, -2.3279946 , -0.34898484,  1.17329352,\n",
       "        1.57233676, -1.69302842, -1.03223274,  1.83991037,  1.53313849,\n",
       "       -1.43483867,  1.46830827,  2.36867367, -1.21722043, -0.78736523,\n",
       "       -1.54446032,  1.98522348,  0.15513175, -2.00347738,  2.52983424,\n",
       "        0.86199147,  1.35536951,  1.03967019, -1.82037691, -0.79371387,\n",
       "       -0.78284083, -2.00918545,  1.3727107 , -0.57500215,  1.86378908,\n",
       "        1.80474148,  1.15466088, -0.56772453, -1.15806823, -1.75518644])"
      ]
     },
     "execution_count": 424,
     "metadata": {},
     "output_type": "execute_result"
    }
   ],
   "source": [
    "X[:,0]"
   ]
  },
  {
   "cell_type": "code",
   "execution_count": 21,
   "id": "c6ad14d6",
   "metadata": {},
   "outputs": [],
   "source": [
    "line_y= -model.coef_[0][0]/model.coef_[0][1]*line_x \\\n",
    "        - model.intercept_/model.coef_[0][1]"
   ]
  },
  {
   "cell_type": "code",
   "execution_count": 22,
   "id": "c680a9d5",
   "metadata": {},
   "outputs": [
    {
     "data": {
      "text/plain": [
       "array([-11.4762382 , -10.99256661, -10.50889502, -10.02522343,\n",
       "        -9.54155183,  -9.05788024,  -8.57420865,  -8.09053706,\n",
       "        -7.60686547,  -7.12319388,  -6.63952229,  -6.1558507 ,\n",
       "        -5.6721791 ,  -5.18850751,  -4.70483592,  -4.22116433,\n",
       "        -3.73749274,  -3.25382115,  -2.77014956,  -2.28647797,\n",
       "        -1.80280638,  -1.31913478,  -0.83546319,  -0.3517916 ,\n",
       "         0.13187999,   0.61555158,   1.09922317,   1.58289476,\n",
       "         2.06656635,   2.55023795,   3.03390954,   3.51758113,\n",
       "         4.00125272,   4.48492431,   4.9685959 ,   5.45226749,\n",
       "         5.93593908,   6.41961067,   6.90328227,   7.38695386,\n",
       "         7.87062545,   8.35429704,   8.83796863,   9.32164022,\n",
       "         9.80531181,  10.2889834 ,  10.772655  ,  11.25632659,\n",
       "        11.73999818,  12.22366977])"
      ]
     },
     "execution_count": 22,
     "metadata": {},
     "output_type": "execute_result"
    }
   ],
   "source": [
    "line_y"
   ]
  },
  {
   "cell_type": "code",
   "execution_count": 23,
   "id": "03cf54e7",
   "metadata": {},
   "outputs": [
    {
     "data": {
      "text/plain": [
       "array([1.05674309, 7.88322672])"
      ]
     },
     "execution_count": 23,
     "metadata": {},
     "output_type": "execute_result"
    }
   ],
   "source": [
    "0.2372+3.0039*X[0]-0.6561*X[1]"
   ]
  },
  {
   "cell_type": "code",
   "execution_count": 24,
   "id": "700c4286",
   "metadata": {},
   "outputs": [
    {
     "data": {
      "text/plain": [
       "array([ 0.34993575,  4.64829153, -3.18411537, -6.52401131,  5.20477865,\n",
       "       -2.97447404,  0.90437619,  1.31985392, -2.55655727,  2.17834433,\n",
       "        7.85812859,  0.12681387, -2.50800168,  2.58884406,  5.43403647,\n",
       "       -2.96015231,  4.01865476, -1.76979197,  5.01432763, -6.25056607,\n",
       "        3.32143682, -0.13684502, -2.99632941, -7.25976985,  3.40912345,\n",
       "       -0.03538779,  2.99338058,  5.50162974,  3.2547052 ,  0.89800022,\n",
       "       -1.14031178, -4.28831201, -5.88848344, -3.71177424,  3.23532597,\n",
       "        2.76799862, -5.54950926, -3.31565373, -2.49664309, -0.93226474,\n",
       "        0.81018306,  2.9698035 , -2.26069228,  1.60712555,  4.13154779,\n",
       "       -2.84437556,  3.54920471,  1.58175014,  5.2029861 ,  3.3689049 ,\n",
       "       -4.98674233,  1.65360102,  3.06048972,  2.71501958, -3.21966392,\n",
       "       -3.47124364, -1.78755156,  2.57498156, -2.0365549 , -3.74684587,\n",
       "       -0.9081102 ,  4.15991301,  2.36634339,  0.88613255, -4.10278041,\n",
       "        4.16477431, -2.77184628, -6.63833564, -1.83438479,  3.27741931,\n",
       "        3.97530329, -3.78766943, -3.48458121,  4.25046826,  3.69863178,\n",
       "       -3.13539314,  4.96769027,  5.86976396, -2.52111681, -2.90630467,\n",
       "       -3.40982188,  6.21316342, -0.60786206, -4.20489779,  6.5608832 ,\n",
       "        1.93365749,  3.54951801,  3.96405323, -5.39994945, -1.53541105,\n",
       "       -2.90658562, -4.32552593,  3.6511628 , -1.24341475,  4.7877524 ,\n",
       "        5.75521497,  4.33153812, -2.37960171, -3.80841204, -5.26993215])"
      ]
     },
     "execution_count": 24,
     "metadata": {},
     "output_type": "execute_result"
    }
   ],
   "source": [
    "0.2372+3.003*X[:,0]+(-0.6561)*X[:,1]"
   ]
  },
  {
   "cell_type": "code",
   "execution_count": 25,
   "id": "c6838d85",
   "metadata": {},
   "outputs": [
    {
     "data": {
      "image/png": "[encoded data removed]",
      "text/plain": [
       "<Figure size 432x288 with 1 Axes>"
      ]
     },
     "metadata": {
      "needs_background": "light"
     },
     "output_type": "display_data"
    }
   ],
   "source": [
    "plt.scatter(X[:,0],X[:,1],c=y)\n",
    "plt.plot(line_x,line_y,color='b')\n",
    "plt.grid(True)\n",
    "plt.xlabel('X[0]-axis')\n",
    "plt.ylabel('X[1]=axis')\n",
    "plt.xlim(min(X[:,0])-0.5,max(X[:,0])+0.5)\n",
    "plt.ylim(min(X[:,1])-0.5,max(X[:,1])+0.5)\n",
    "plt.show()"
   ]
  },
  {
   "cell_type": "markdown",
   "id": "77f98896",
   "metadata": {},
   "source": [
    "# 성능평가 방법"
   ]
  },
  {
   "cell_type": "markdown",
   "id": "39a483e6",
   "metadata": {},
   "source": [
    "## 분류의 성능평가 방법"
   ]
  },
  {
   "cell_type": "markdown",
   "id": "462791bc",
   "metadata": {},
   "source": [
    "### 정오분류표"
   ]
  },
  {
   "cell_type": "markdown",
   "id": "2731c926",
   "metadata": {},
   "source": [
    "- accuracy vs precision vs recall"
   ]
  },
  {
   "cell_type": "markdown",
   "id": "05310ef9",
   "metadata": {},
   "source": [
    "## 로지스틱 회귀모형의 성과분석"
   ]
  },
  {
   "cell_type": "markdown",
   "id": "7007d0f6",
   "metadata": {},
   "source": [
    "### 정오분류표"
   ]
  },
  {
   "cell_type": "markdown",
   "id": "92baf044",
   "metadata": {},
   "source": [
    "- 분류 성과 표시"
   ]
  },
  {
   "cell_type": "code",
   "execution_count": 80,
   "id": "58e14f3e",
   "metadata": {},
   "outputs": [],
   "source": [
    "from sklearn import metrics"
   ]
  },
  {
   "cell_type": "code",
   "execution_count": 82,
   "id": "1459ec4d",
   "metadata": {},
   "outputs": [
    {
     "data": {
      "text/plain": [
       "array([[13,  0],\n",
       "       [ 1, 11]], dtype=int64)"
      ]
     },
     "execution_count": 82,
     "metadata": {},
     "output_type": "execute_result"
    }
   ],
   "source": [
    "cm=metrics.confusion_matrix(pred_y,test_y)\n",
    "cm"
   ]
  },
  {
   "cell_type": "code",
   "execution_count": 84,
   "id": "3b99cb7c",
   "metadata": {},
   "outputs": [
    {
     "data": {
      "image/png": "[encoded data removed]",
      "text/plain": [
       "<Figure size 288x216 with 2 Axes>"
      ]
     },
     "metadata": {
      "needs_background": "light"
     },
     "output_type": "display_data"
    }
   ],
   "source": [
    "plt.figure(figsize=(4,3))\n",
    "sns.heatmap(cm,annot=True)\n",
    "plt.xlabel('Truth')\n",
    "plt.ylabel('Predicted')\n",
    "plt.show()"
   ]
  },
  {
   "cell_type": "markdown",
   "id": "3d1150cf",
   "metadata": {},
   "source": [
    "# 나이베이즈 분류"
   ]
  },
  {
   "cell_type": "markdown",
   "id": "c9f8e552",
   "metadata": {},
   "source": [
    "- 조건부 확률 사용하여, 특정 조건 발생했을 경우, 사건 A가 발생할 확률 계산"
   ]
  },
  {
   "cell_type": "markdown",
   "id": "2356c5dd",
   "metadata": {},
   "source": [
    "- P(A|B)=P(B|A)*P(A)/P(B)"
   ]
  },
  {
   "cell_type": "markdown",
   "id": "9a66df69",
   "metadata": {},
   "source": [
    "## 파이썬의 나이베이즈 분류 모형들"
   ]
  },
  {
   "cell_type": "markdown",
   "id": "b5d436e5",
   "metadata": {},
   "source": [
    "### 모형 종류"
   ]
  },
  {
   "cell_type": "markdown",
   "id": "d5aba5e2",
   "metadata": {},
   "source": [
    "- GaussianNB:정규분포\n",
    "- BernoulliNB:이항분포(결과가 2개 중 1개)\n",
    "- MultinomialNB: 다항 분포(결과가 여러개 중 1개)\n",
    "- CategoricalNB:독립변수들이 categorical값들 가질때"
   ]
  },
  {
   "cell_type": "markdown",
   "id": "dc3ba6f8",
   "metadata": {},
   "source": [
    "### 나이베이즈 분류 예시"
   ]
  },
  {
   "cell_type": "markdown",
   "id": "b0445f4e",
   "metadata": {},
   "source": [
    "- 모형의 계수는 회귀식의 계수와 의미가 다름"
   ]
  },
  {
   "cell_type": "markdown",
   "id": "a375a5ef",
   "metadata": {},
   "source": [
    "- 일종의 가중치\n",
    "- 회귀식과 같이 그래프의 계수로 활용X"
   ]
  },
  {
   "cell_type": "code",
   "execution_count": 91,
   "id": "d5e96b65",
   "metadata": {},
   "outputs": [],
   "source": [
    "from sklearn.naive_bayes import BernoulliNB"
   ]
  },
  {
   "cell_type": "code",
   "execution_count": 92,
   "id": "81ae6370",
   "metadata": {},
   "outputs": [],
   "source": [
    "model=BernoulliNB()"
   ]
  },
  {
   "cell_type": "code",
   "execution_count": 93,
   "id": "c1dbd1fd",
   "metadata": {},
   "outputs": [
    {
     "data": {
      "text/plain": [
       "BernoulliNB()"
      ]
     },
     "execution_count": 93,
     "metadata": {},
     "output_type": "execute_result"
    }
   ],
   "source": [
    "model.fit(train_X,train_y)"
   ]
  },
  {
   "cell_type": "code",
   "execution_count": 94,
   "id": "97ca6de3",
   "metadata": {},
   "outputs": [],
   "source": [
    "nb_y_pred=model.predict(test_X)"
   ]
  },
  {
   "cell_type": "code",
   "execution_count": 95,
   "id": "cfbd7ddf",
   "metadata": {},
   "outputs": [
    {
     "name": "stdout",
     "output_type": "stream",
     "text": [
      "[0 1 1 0 1 0 0 0 1 1 1 0 1 0 0 1 1 1 0 0 0 0 1 0 1]\n"
     ]
    }
   ],
   "source": [
    "print(nb_y_pred)"
   ]
  },
  {
   "cell_type": "code",
   "execution_count": 96,
   "id": "b9200dc6",
   "metadata": {},
   "outputs": [
    {
     "name": "stdout",
     "output_type": "stream",
     "text": [
      "[0 1 1 0 1 0 0 0 1 0 1 0 1 0 0 1 1 1 0 0 0 0 1 0 1]\n"
     ]
    }
   ],
   "source": [
    "print(test_y)"
   ]
  },
  {
   "cell_type": "code",
   "execution_count": 97,
   "id": "01c547ef",
   "metadata": {},
   "outputs": [
    {
     "data": {
      "text/plain": [
       "0.96"
      ]
     },
     "execution_count": 97,
     "metadata": {},
     "output_type": "execute_result"
    }
   ],
   "source": [
    "model.score(test_X,test_y)"
   ]
  },
  {
   "cell_type": "code",
   "execution_count": 98,
   "id": "39b6d1a5",
   "metadata": {},
   "outputs": [
    {
     "name": "stderr",
     "output_type": "stream",
     "text": [
      "C:\\Users\\user\\anaconda3\\lib\\site-packages\\sklearn\\utils\\deprecation.py:103: FutureWarning: Attribute `coef_` was deprecated in version 0.24 and will be removed in 1.1 (renaming of 0.26).\n",
      "  warnings.warn(msg, category=FutureWarning)\n"
     ]
    },
    {
     "data": {
      "text/plain": [
       "array([[-0.07598591, -0.71783979]])"
      ]
     },
     "execution_count": 98,
     "metadata": {},
     "output_type": "execute_result"
    }
   ],
   "source": [
    "model.coef_[:]"
   ]
  },
  {
   "cell_type": "code",
   "execution_count": 99,
   "id": "e64ebd43",
   "metadata": {},
   "outputs": [
    {
     "name": "stderr",
     "output_type": "stream",
     "text": [
      "C:\\Users\\user\\anaconda3\\lib\\site-packages\\sklearn\\utils\\deprecation.py:103: FutureWarning: Attribute `intercept_` was deprecated in version 0.24 and will be removed in 1.1 (renaming of 0.26).\n",
      "  warnings.warn(msg, category=FutureWarning)\n"
     ]
    },
    {
     "data": {
      "text/plain": [
       "array([-0.65392647])"
      ]
     },
     "execution_count": 99,
     "metadata": {},
     "output_type": "execute_result"
    }
   ],
   "source": [
    "model.intercept_[:]"
   ]
  },
  {
   "cell_type": "markdown",
   "id": "155c472b",
   "metadata": {},
   "source": [
    "# Super Vector Machine"
   ]
  },
  {
   "cell_type": "markdown",
   "id": "31cec127",
   "metadata": {},
   "source": [
    "- 데이터군을 분리해내는 초 평면을 찾음\n",
    "- 이들 초평면(2차원의 경우, 선)과 샘플들 사이의 거리가 최대되는 초평면 찾음\n",
    ": 즉, 분리된 군들사이의 거리가 최대 되도록 함"
   ]
  },
  {
   "cell_type": "markdown",
   "id": "f1fee855",
   "metadata": {},
   "source": [
    "# 선형 SVC"
   ]
  },
  {
   "cell_type": "markdown",
   "id": "0e44b096",
   "metadata": {},
   "source": [
    "- 앞에서 소개한 분류 샘플에 대한 선형SVM 분류모형(support Vector Classifier)적용\n",
    "- 선형 회귀식과 동일 의미로 해석 가능\n",
    "- 데이터 군을 분리해내는 초 평면 찾음\n",
    "> 데이터 군을 분리하는 초평면, 또는 선이 선형(직선)이 아닌 경우, 데이터들을 변환하여 선형 분류되도록 실행"
   ]
  },
  {
   "cell_type": "code",
   "execution_count": 30,
   "id": "b57bfb10",
   "metadata": {},
   "outputs": [],
   "source": [
    "from sklearn.svm import LinearSVC"
   ]
  },
  {
   "cell_type": "code",
   "execution_count": 31,
   "id": "c28e66af",
   "metadata": {},
   "outputs": [],
   "source": [
    "model = LinearSVC()"
   ]
  },
  {
   "cell_type": "code",
   "execution_count": 32,
   "id": "c5e43bf9",
   "metadata": {},
   "outputs": [
    {
     "data": {
      "text/plain": [
       "LinearSVC()"
      ]
     },
     "execution_count": 32,
     "metadata": {},
     "output_type": "execute_result"
    }
   ],
   "source": [
    "model.fit(train_X,train_y)"
   ]
  },
  {
   "cell_type": "code",
   "execution_count": 33,
   "id": "3ab0c400",
   "metadata": {},
   "outputs": [
    {
     "name": "stdout",
     "output_type": "stream",
     "text": [
      "[0 1 1 0 1 0 0 0 1 0 1 0 1 0 0 1 1 1 0 0 0 0 1 0 1]\n",
      "[0 1 1 0 1 0 0 0 1 0 1 0 1 0 0 1 1 1 0 0 0 0 1 0 1]\n"
     ]
    },
    {
     "data": {
      "text/plain": [
       "1.0"
      ]
     },
     "execution_count": 33,
     "metadata": {},
     "output_type": "execute_result"
    }
   ],
   "source": [
    "y_pred=model.predict(test_X)\n",
    "print(y_pred)\n",
    "print(test_y)\n",
    "model.score(test_X,test_y)"
   ]
  },
  {
   "cell_type": "markdown",
   "id": "7b9ed5b6",
   "metadata": {},
   "source": [
    "## 모형결과 검토 및 시각화"
   ]
  },
  {
   "cell_type": "markdown",
   "id": "c8c77f4f",
   "metadata": {},
   "source": [
    "- 선형 회귀식과 동일 의미로 해석가능"
   ]
  },
  {
   "cell_type": "code",
   "execution_count": 34,
   "id": "28408f9f",
   "metadata": {},
   "outputs": [
    {
     "name": "stdout",
     "output_type": "stream",
     "text": [
      "[[ 1.90086154 -0.53057185]]\n",
      "[0.13540041]\n"
     ]
    }
   ],
   "source": [
    "print(model.coef_)\n",
    "print(model.intercept_)"
   ]
  },
  {
   "cell_type": "markdown",
   "id": "9d760131",
   "metadata": {},
   "source": [
    "## 선형 SVC와 비선형 SVC 성능비교"
   ]
  },
  {
   "cell_type": "markdown",
   "id": "6a33ab65",
   "metadata": {},
   "source": [
    "- 일반적으로 (비선형)SVC사용하는 것이 안전"
   ]
  },
  {
   "cell_type": "code",
   "execution_count": 35,
   "id": "adbfaf60",
   "metadata": {},
   "outputs": [],
   "source": [
    "from sklearn.datasets import make_gaussian_quantiles"
   ]
  },
  {
   "cell_type": "code",
   "execution_count": 36,
   "id": "d4074dfc",
   "metadata": {},
   "outputs": [],
   "source": [
    "X,y=make_gaussian_quantiles(n_samples=1000,n_features=2,n_classes=2,\n",
    "                           random_state=42)"
   ]
  },
  {
   "cell_type": "code",
   "execution_count": 37,
   "id": "adc22b94",
   "metadata": {},
   "outputs": [],
   "source": [
    "train_X,test_X,train_y,test_y=train_test_split(X,y,random_state=42)"
   ]
  },
  {
   "cell_type": "code",
   "execution_count": 38,
   "id": "40c0cd2e",
   "metadata": {},
   "outputs": [
    {
     "data": {
      "image/png": "[encoded data removed]",
      "text/plain": [
       "<Figure size 216x216 with 1 Axes>"
      ]
     },
     "metadata": {
      "needs_background": "light"
     },
     "output_type": "display_data"
    }
   ],
   "source": [
    "plt.figure(figsize=(3,3))\n",
    "plt.scatter(X[:,0],X[:,1],c=y)\n",
    "plt.grid(True)\n",
    "plt.show()"
   ]
  },
  {
   "cell_type": "markdown",
   "id": "e5704dca",
   "metadata": {},
   "source": [
    "### 비선형 샘플에 선형SVC 적용"
   ]
  },
  {
   "cell_type": "markdown",
   "id": "becc45fd",
   "metadata": {},
   "source": [
    "- 성능저조: 일반적으로 비선형SVC사용하는게 안전"
   ]
  },
  {
   "cell_type": "code",
   "execution_count": 39,
   "id": "eb0a590a",
   "metadata": {},
   "outputs": [],
   "source": [
    "model_svc_linear=LinearSVC()"
   ]
  },
  {
   "cell_type": "code",
   "execution_count": 40,
   "id": "f6d2046b",
   "metadata": {},
   "outputs": [
    {
     "data": {
      "text/plain": [
       "LinearSVC()"
      ]
     },
     "execution_count": 40,
     "metadata": {},
     "output_type": "execute_result"
    }
   ],
   "source": [
    "model_svc_linear.fit(train_X,train_y)"
   ]
  },
  {
   "cell_type": "code",
   "execution_count": 41,
   "id": "1c188855",
   "metadata": {},
   "outputs": [
    {
     "data": {
      "text/plain": [
       "array([0, 0, 0, 0, 0, 0, 1, 1, 1, 1, 0, 0, 1, 1, 1, 1, 0, 1, 0, 1])"
      ]
     },
     "execution_count": 41,
     "metadata": {},
     "output_type": "execute_result"
    }
   ],
   "source": [
    "pred_y_linear=model_svc_linear.predict(test_X)\n",
    "pred_y_linear[:20]"
   ]
  },
  {
   "cell_type": "code",
   "execution_count": 42,
   "id": "b5298d14",
   "metadata": {},
   "outputs": [
    {
     "data": {
      "text/plain": [
       "array([0, 0, 1, 0, 1, 0, 0, 1, 1, 0, 1, 0, 1, 1, 0, 1, 0, 0, 0, 1])"
      ]
     },
     "execution_count": 42,
     "metadata": {},
     "output_type": "execute_result"
    }
   ],
   "source": [
    "test_y[:20]"
   ]
  },
  {
   "cell_type": "code",
   "execution_count": 43,
   "id": "2fa786a8",
   "metadata": {},
   "outputs": [
    {
     "data": {
      "text/plain": [
       "0.528"
      ]
     },
     "execution_count": 43,
     "metadata": {},
     "output_type": "execute_result"
    }
   ],
   "source": [
    "model_svc_linear.score(test_X,test_y)"
   ]
  },
  {
   "cell_type": "code",
   "execution_count": 44,
   "id": "fd743075",
   "metadata": {},
   "outputs": [
    {
     "name": "stdout",
     "output_type": "stream",
     "text": [
      "[[0.06450336 0.07224471]]\n",
      "[0.00026422]\n"
     ]
    }
   ],
   "source": [
    "print(model_svc_linear.coef_)\n",
    "print(model_svc_linear.intercept_)"
   ]
  },
  {
   "cell_type": "code",
   "execution_count": 45,
   "id": "602ad97a",
   "metadata": {},
   "outputs": [],
   "source": [
    "### 비선형 샘플에 비선형 SVC적용"
   ]
  },
  {
   "cell_type": "code",
   "execution_count": 46,
   "id": "9ff5566f",
   "metadata": {},
   "outputs": [],
   "source": [
    "from sklearn.svm import SVC"
   ]
  },
  {
   "cell_type": "code",
   "execution_count": 47,
   "id": "0d5707fe",
   "metadata": {},
   "outputs": [],
   "source": [
    "model_svc=SVC()"
   ]
  },
  {
   "cell_type": "code",
   "execution_count": 48,
   "id": "ac04c0db",
   "metadata": {},
   "outputs": [
    {
     "data": {
      "text/plain": [
       "SVC()"
      ]
     },
     "execution_count": 48,
     "metadata": {},
     "output_type": "execute_result"
    }
   ],
   "source": [
    "model_svc.fit(train_X,train_y)"
   ]
  },
  {
   "cell_type": "code",
   "execution_count": 53,
   "id": "709b0b61",
   "metadata": {},
   "outputs": [],
   "source": [
    "pred_y=model_svc.predict(test_X)"
   ]
  },
  {
   "cell_type": "code",
   "execution_count": 54,
   "id": "c7a380a6",
   "metadata": {},
   "outputs": [
    {
     "data": {
      "text/plain": [
       "array([0, 0, 1, 0, 1, 0, 0, 1, 1, 0, 1, 0, 1, 1, 0, 1, 0, 0, 0, 1])"
      ]
     },
     "execution_count": 54,
     "metadata": {},
     "output_type": "execute_result"
    }
   ],
   "source": [
    "pred_y[:20]"
   ]
  },
  {
   "cell_type": "code",
   "execution_count": 55,
   "id": "b5dd157f",
   "metadata": {},
   "outputs": [
    {
     "data": {
      "text/plain": [
       "array([0, 0, 1, 0, 1, 0, 0, 1, 1, 0, 1, 0, 1, 1, 0, 1, 0, 0, 0, 1])"
      ]
     },
     "execution_count": 55,
     "metadata": {},
     "output_type": "execute_result"
    }
   ],
   "source": [
    "test_y[:20]"
   ]
  },
  {
   "cell_type": "code",
   "execution_count": 56,
   "id": "8f2cb943",
   "metadata": {},
   "outputs": [
    {
     "data": {
      "text/plain": [
       "0.976"
      ]
     },
     "execution_count": 56,
     "metadata": {},
     "output_type": "execute_result"
    }
   ],
   "source": [
    "model_svc.score(test_X,test_y)"
   ]
  },
  {
   "cell_type": "markdown",
   "id": "04589f19",
   "metadata": {},
   "source": [
    "# 의사결정 나무"
   ]
  },
  {
   "cell_type": "markdown",
   "id": "aaf5e851",
   "metadata": {},
   "source": [
    "- 수직선(또는 수평선)을 사용하여 대상 데이터 집합을 2개의 부분집단으로 구분(이진트리)->그 다음 또 다른 수직선 사용하여 구분을 반복적 실행"
   ]
  },
  {
   "cell_type": "markdown",
   "id": "15be4644",
   "metadata": {},
   "source": [
    "## 회귀모형과의 비교"
   ]
  },
  {
   "cell_type": "markdown",
   "id": "e29ae2e4",
   "metadata": {},
   "source": [
    "- 로지스틱 회귀모형\n",
    ">단순 선형회귀모형: y-ax+b\n",
    ">다중 선형회귀모형: y=a1x1+a2x2+...anxn+b\n",
    "-특징\n",
    ">1개의 식으로 전체집합 구분"
   ]
  },
  {
   "cell_type": "markdown",
   "id": "1b102f1f",
   "metadata": {},
   "source": [
    "## 파이썬에서 의사결정나무 사용한 분류"
   ]
  },
  {
   "cell_type": "markdown",
   "id": "df8674b0",
   "metadata": {},
   "source": [
    "### 1) Train data와 test data로 분리"
   ]
  },
  {
   "cell_type": "code",
   "execution_count": 60,
   "id": "dafb4acf",
   "metadata": {},
   "outputs": [],
   "source": [
    "from sklearn.datasets import make_classification"
   ]
  },
  {
   "cell_type": "code",
   "execution_count": 57,
   "id": "03f7fe30",
   "metadata": {},
   "outputs": [],
   "source": [
    "X,y=make_classification(n_samples=50,n_features=2,n_classes=2,\n",
    "                       n_redundant=0,random_state=42)"
   ]
  },
  {
   "cell_type": "code",
   "execution_count": 58,
   "id": "ff31e559",
   "metadata": {},
   "outputs": [],
   "source": [
    "from sklearn.model_selection import train_test_split"
   ]
  },
  {
   "cell_type": "code",
   "execution_count": 59,
   "id": "b4e02524",
   "metadata": {},
   "outputs": [],
   "source": [
    "train_X,test_X,train_y,test_y=train_test_split(X,y,random_state=42)"
   ]
  },
  {
   "cell_type": "markdown",
   "id": "450d760e",
   "metadata": {},
   "source": [
    "### 2) 모형지정 및 학습"
   ]
  },
  {
   "cell_type": "code",
   "execution_count": 61,
   "id": "a613e17b",
   "metadata": {},
   "outputs": [],
   "source": [
    "from sklearn.tree import DecisionTreeClassifier"
   ]
  },
  {
   "cell_type": "code",
   "execution_count": 62,
   "id": "c2a08eb1",
   "metadata": {},
   "outputs": [],
   "source": [
    "model=DecisionTreeClassifier()"
   ]
  },
  {
   "cell_type": "code",
   "execution_count": 63,
   "id": "4d0e33f0",
   "metadata": {},
   "outputs": [
    {
     "data": {
      "text/plain": [
       "DecisionTreeClassifier()"
      ]
     },
     "execution_count": 63,
     "metadata": {},
     "output_type": "execute_result"
    }
   ],
   "source": [
    "model.fit(train_X,train_y)"
   ]
  },
  {
   "cell_type": "code",
   "execution_count": 64,
   "id": "3b00230b",
   "metadata": {},
   "outputs": [],
   "source": [
    "pred_y=model.predict(test_X)"
   ]
  },
  {
   "cell_type": "code",
   "execution_count": 65,
   "id": "e45a5a06",
   "metadata": {},
   "outputs": [
    {
     "name": "stdout",
     "output_type": "stream",
     "text": [
      "[1 0 1 1 1 1 1 1 1 0 0 0 0]\n"
     ]
    }
   ],
   "source": [
    "print(pred_y) #교안에는 샘플 50개로 결과출력함"
   ]
  },
  {
   "cell_type": "code",
   "execution_count": 66,
   "id": "4fa29c01",
   "metadata": {},
   "outputs": [
    {
     "name": "stdout",
     "output_type": "stream",
     "text": [
      "[1 0 1 1 1 1 1 1 1 0 0 0 0]\n"
     ]
    }
   ],
   "source": [
    "print(test_y)"
   ]
  },
  {
   "cell_type": "code",
   "execution_count": 67,
   "id": "fb392a7e",
   "metadata": {},
   "outputs": [
    {
     "data": {
      "text/plain": [
       "1.0"
      ]
     },
     "execution_count": 67,
     "metadata": {},
     "output_type": "execute_result"
    }
   ],
   "source": [
    "model.score(test_X,test_y)"
   ]
  },
  {
   "cell_type": "markdown",
   "id": "31902256",
   "metadata": {},
   "source": [
    "### 모형의 설명 가능성"
   ]
  },
  {
   "cell_type": "markdown",
   "id": "17fee259",
   "metadata": {},
   "source": [
    "- 각 단계별로 구분 기준 알 수 있음\n",
    "- 왜 그러한 결과 산출됐는지 알수잇음"
   ]
  },
  {
   "cell_type": "code",
   "execution_count": 246,
   "id": "563ad081",
   "metadata": {},
   "outputs": [
    {
     "data": {
      "image/png": "[encoded data removed]",
      "text/plain": [
       "<Figure size 1296x432 with 1 Axes>"
      ]
     },
     "metadata": {
      "needs_background": "light"
     },
     "output_type": "display_data"
    }
   ],
   "source": [
    "from sklearn.tree import plot_tree\n",
    "plt.figure(figsize=(18,6)) \n",
    "plot_tree(model,filled=True) #교안에는 샘플 100개로 결과출력함\n",
    "plt.show()"
   ]
  },
  {
   "cell_type": "code",
   "execution_count": 238,
   "id": "1b73393e",
   "metadata": {},
   "outputs": [
    {
     "data": {
      "image/png": "[encoded data removed]",
      "text/plain": [
       "<Figure size 432x288 with 1 Axes>"
      ]
     },
     "metadata": {
      "needs_background": "light"
     },
     "output_type": "display_data"
    }
   ],
   "source": [
    "plt.scatter(train_X[:,0],train_X[:,1],c=train_y)\n",
    "plt.grid(True)\n",
    "plt.show()"
   ]
  },
  {
   "cell_type": "markdown",
   "id": "56e4ddeb",
   "metadata": {},
   "source": [
    "## 의사결정나무를 사용한 예측"
   ]
  },
  {
   "cell_type": "markdown",
   "id": "1fe58a14",
   "metadata": {},
   "source": [
    "### 의사결정나무의 생성방법"
   ]
  },
  {
   "cell_type": "markdown",
   "id": "43e6ae2e",
   "metadata": {},
   "source": [
    "#### Tree의 생성"
   ]
  },
  {
   "cell_type": "markdown",
   "id": "6ec1e53f",
   "metadata": {},
   "source": [
    "- 분할변수와 분할점의 결정\n",
    "- 비용함수를 최소화하도록 현재 집합을 2개의 세부집합으로 분할\n",
    "- 분할을 통해 줄어든 비용값(원래 집합의 비용값-분할된 2집합의 비용 합친값)이 가장 커지도록 분할 실행\n",
    ": 비용함수가 Entropy일 경우, 이를 Information Gain이라고 함"
   ]
  },
  {
   "cell_type": "markdown",
   "id": "4d8307f8",
   "metadata": {},
   "source": [
    "#### 비용함수"
   ]
  },
  {
   "cell_type": "markdown",
   "id": "ce413a71",
   "metadata": {},
   "source": [
    "##### 분류트리 Classification Tree"
   ]
  },
  {
   "cell_type": "markdown",
   "id": "ab8e0114",
   "metadata": {},
   "source": [
    "- Entropy, Gini\n",
    "- 해당 마지막 노드에 포함된 분류값들 중에서 '가장 다수의 값'을 예측값으로 사용"
   ]
  },
  {
   "cell_type": "markdown",
   "id": "1fd13713",
   "metadata": {},
   "source": [
    "##### 회귀트리 Regression Tree"
   ]
  },
  {
   "cell_type": "markdown",
   "id": "29fd3298",
   "metadata": {},
   "source": [
    "- Mean Square Error\n",
    "- 해당 마지막 노드에 포함된 샘플들의 '평균값'을 예측값으로 사용"
   ]
  },
  {
   "cell_type": "markdown",
   "id": "92287c5f",
   "metadata": {},
   "source": [
    "### 엔트로피(Entropy)"
   ]
  },
  {
   "cell_type": "markdown",
   "id": "4202fec5",
   "metadata": {},
   "source": [
    "- 무질서의 수준(무질서도)을 측정하는 값\n",
    "- ex. 학력차이가 많이나면 무질서한것, 많이 안나면 질서적인 것\n",
    "- 발생가능한 상태(유형)이 K개이고, 이들 각 상태가 발생할 확률이\n",
    "p1,p2,...pk일 경우, \n",
    "- 이 상태의 무질서수준은 -(p1log(p1)+p2log(p2)+..+pklog(pk))\n",
    "- 위를 엔트로피라고 함"
   ]
  },
  {
   "cell_type": "markdown",
   "id": "38beb842",
   "metadata": {},
   "source": [
    "### Gini"
   ]
  },
  {
   "cell_type": "markdown",
   "id": "67a20c91",
   "metadata": {},
   "source": [
    "- 무질서도를 측정하기 위한 엔트로피보다 간단한 계산지표"
   ]
  },
  {
   "cell_type": "markdown",
   "id": "d3e25262",
   "metadata": {},
   "source": [
    "## 과적합(Overfitting)"
   ]
  },
  {
   "cell_type": "markdown",
   "id": "8f47d27e",
   "metadata": {},
   "source": [
    "- 의사결정나무는 가지분할을 계속하면(무질서도를 가장 많이 줄이면), 단말노드(leaf node)들이 같은 값을 갖는 샘플들만 포함하는 트리 만들수있음\n",
    "- (=비용함수 값 :0)\n",
    "- 샘플 데이터(훈련데이터)들을 대상으로 할 경우: 최적의 의사결정나무\n",
    "- 훈련되지 않은 데이터(test data)로 할경우, 예측값(분류값)의 오차 커짐(=과적합)"
   ]
  },
  {
   "cell_type": "markdown",
   "id": "ca3baddb",
   "metadata": {},
   "source": [
    "### 과적합 줄이기 위한 방법\n"
   ]
  },
  {
   "cell_type": "markdown",
   "id": "4c61ed23",
   "metadata": {},
   "source": [
    "모형의 복잡도를 낮추기"
   ]
  },
  {
   "cell_type": "markdown",
   "id": "72fb1daa",
   "metadata": {},
   "source": [
    "#### 의사결정나무"
   ]
  },
  {
   "cell_type": "markdown",
   "id": "69002257",
   "metadata": {},
   "source": [
    "-단말노드의 수 줄임(=마지막 노드에 포함된 샘플 데이터수 크게함/ \n",
    "-노드 하나에 포함되는 샘플의 개수를 수동지정가능하니까 지정하기)"
   ]
  },
  {
   "cell_type": "markdown",
   "id": "8cea8735",
   "metadata": {},
   "source": [
    "#### 다중선형 회귀모형"
   ]
  },
  {
   "cell_type": "markdown",
   "id": "1559c43e",
   "metadata": {},
   "source": [
    "- 모형 입력 변수의 수 줄임"
   ]
  },
  {
   "cell_type": "markdown",
   "id": "a5062640",
   "metadata": {},
   "source": [
    "#### 인공신경망 모형"
   ]
  },
  {
   "cell_type": "markdown",
   "id": "02c5cf53",
   "metadata": {},
   "source": [
    "- 모형 파라미터(인공 뉴런)의 수 줄임"
   ]
  },
  {
   "cell_type": "markdown",
   "id": "8ab44f7c",
   "metadata": {},
   "source": [
    "### 의사결정나무 과적합 해소법"
   ]
  },
  {
   "cell_type": "markdown",
   "id": "ab2a9048",
   "metadata": {},
   "source": [
    "#### 비용함수에 단말노드의 수 추가"
   ]
  },
  {
   "cell_type": "markdown",
   "id": "1b80fdda",
   "metadata": {},
   "source": [
    "- 복잡도를 반영한 비용(Cost Complexity) = 비용함수(무질서도) + a*(단말노드의 수)\n",
    ": a=복잡도 가중치"
   ]
  },
  {
   "cell_type": "markdown",
   "id": "c1cbe041",
   "metadata": {},
   "source": [
    "#### 가지치기(Pruning a Tree)"
   ]
  },
  {
   "cell_type": "markdown",
   "id": "bfe99bb3",
   "metadata": {},
   "source": [
    "- 비용함수의 값을 최소화하는 의사결정 나무 생성\n",
    "- 복잡도를 반영한 비용을 사용하여 합칠 수 있는 단말노드들을 합쳐서 의사결정 나무의 단말노드 수 줄임"
   ]
  },
  {
   "cell_type": "markdown",
   "id": "f13f197a",
   "metadata": {},
   "source": [
    "# 랜덤 포레스트(Random Forest)"
   ]
  },
  {
   "cell_type": "markdown",
   "id": "b39730a5",
   "metadata": {},
   "source": [
    "## 앙상블"
   ]
  },
  {
   "cell_type": "markdown",
   "id": "f1eb9e6a",
   "metadata": {},
   "source": [
    "- 앙상블 모형 중 하나\n",
    "- 앙상블: 여러개의 예측 모형 만든 후, 이들을 조합해 하나의 최적화된 최종 예측 모델 만드는 방법\n",
    "- 앙상블 종류\n",
    "-> 배깅(Bootstrap aggregating):전체 훈련 데이터로부터(중복 샘플링 통하여)여러개의 샘플 만들어서 이들 각 샘플 사용한 모형 생성\n",
    "-> 부스팅(Boosting): 잘못 분류된 표본에 더 큰 가중치 부여하여 새로운 분류규칙(=의사결정나무) 만들어냄"
   ]
  },
  {
   "cell_type": "markdown",
   "id": "277d72bb",
   "metadata": {},
   "source": [
    "### 부스팅(Boosting)"
   ]
  },
  {
   "cell_type": "markdown",
   "id": "9a4c9d58",
   "metadata": {},
   "source": [
    "- 배깅과 유사\n",
    "- 배깅(중의 하나인 랜덤포레스트): 학습 중 각 표본에 대해 동일 확률 부여\n",
    "- 부스팅: 잘못 분류된 표본에 더 큰 가중치 부여하여 새로운 분류규칙(=의사결정나무) 만들어냄\n",
    "- 세부모형들: AdaBoost, GBM"
   ]
  },
  {
   "cell_type": "markdown",
   "id": "97aa88e0",
   "metadata": {},
   "source": [
    "### AdaBoost"
   ]
  },
  {
   "cell_type": "code",
   "execution_count": 314,
   "id": "c0ceccec",
   "metadata": {},
   "outputs": [],
   "source": [
    "from sklearn.ensemble import AdaBoostClassifier"
   ]
  },
  {
   "cell_type": "code",
   "execution_count": 315,
   "id": "ffcb08d7",
   "metadata": {},
   "outputs": [],
   "source": [
    "model=AdaBoostClassifier()"
   ]
  },
  {
   "cell_type": "code",
   "execution_count": 316,
   "id": "f01d93ae",
   "metadata": {},
   "outputs": [
    {
     "data": {
      "text/plain": [
       "AdaBoostClassifier()"
      ]
     },
     "execution_count": 316,
     "metadata": {},
     "output_type": "execute_result"
    }
   ],
   "source": [
    "model.fit(train_X,train_y)"
   ]
  },
  {
   "cell_type": "code",
   "execution_count": 317,
   "id": "a4babedb",
   "metadata": {},
   "outputs": [],
   "source": [
    "pred_y=model.predict(test_X)"
   ]
  },
  {
   "cell_type": "code",
   "execution_count": 318,
   "id": "951a0f74",
   "metadata": {},
   "outputs": [
    {
     "name": "stdout",
     "output_type": "stream",
     "text": [
      "[0 1 1 0 1 0 0 0 1 0 1 0 1 0 0 1 1 1 0 0 0 0 1 0 1]\n"
     ]
    }
   ],
   "source": [
    "print(test_y)"
   ]
  },
  {
   "cell_type": "code",
   "execution_count": 319,
   "id": "26f9c121",
   "metadata": {},
   "outputs": [
    {
     "name": "stdout",
     "output_type": "stream",
     "text": [
      "[0 1 1 0 1 0 0 0 1 1 1 0 1 0 0 1 1 1 0 0 0 0 1 0 1]\n"
     ]
    }
   ],
   "source": [
    "print(pred_y)"
   ]
  },
  {
   "cell_type": "code",
   "execution_count": 320,
   "id": "a4f06e99",
   "metadata": {},
   "outputs": [
    {
     "data": {
      "text/plain": [
       "0.96"
      ]
     },
     "execution_count": 320,
     "metadata": {},
     "output_type": "execute_result"
    }
   ],
   "source": [
    "model.score(test_X,test_y)"
   ]
  },
  {
   "cell_type": "markdown",
   "id": "03e07f2c",
   "metadata": {},
   "source": [
    "### GBM"
   ]
  },
  {
   "cell_type": "code",
   "execution_count": 334,
   "id": "cd44cc6e",
   "metadata": {},
   "outputs": [
    {
     "ename": "SyntaxError",
     "evalue": "invalid syntax (3435143141.py, line 1)",
     "output_type": "error",
     "traceback": [
      "\u001b[1;36m  Input \u001b[1;32mIn [334]\u001b[1;36m\u001b[0m\n\u001b[1;33m    from sklearn.ensemble import Gradient BoostClassifier\u001b[0m\n\u001b[1;37m                                          ^\u001b[0m\n\u001b[1;31mSyntaxError\u001b[0m\u001b[1;31m:\u001b[0m invalid syntax\n"
     ]
    }
   ],
   "source": [
    "from sklearn.ensemble import GradientBoostClassifier"
   ]
  },
  {
   "cell_type": "markdown",
   "id": "94aebebb",
   "metadata": {},
   "source": [
    "## 랜덤포레스트"
   ]
  },
  {
   "cell_type": "markdown",
   "id": "3f0e5bf5",
   "metadata": {},
   "source": [
    "## 랜덤 포레스트 특징"
   ]
  },
  {
   "cell_type": "markdown",
   "id": "6fee6ac0",
   "metadata": {},
   "source": [
    "- 배깅을 의사결정나무에 적용한 알고리즘\n",
    "- 전체 훈련 데이터로부터(중복 샘플링 통해)여러개의 샘플 만들고, 이들 각 샘플을 사용하여 의사결정나무 모형 생성\n",
    "- 랜덤 포레스트의 예측값은 각 나무의 예측값들을 모아서 평균값 사용\n",
    "- 추가적인 무작위성 보장 방안:입력변수들 중에서 일부만을 사용하여 트리 생성"
   ]
  },
  {
   "cell_type": "markdown",
   "id": "648f93f1",
   "metadata": {},
   "source": [
    "## 랜덤포레스트 사용 분류프로그램"
   ]
  },
  {
   "cell_type": "markdown",
   "id": "eaeeec0f",
   "metadata": {},
   "source": [
    "- Random Forest파라미터들: Forest구성하는 트리 수, 비용함수, 단말 노드의 최소 샘플수 등"
   ]
  },
  {
   "cell_type": "code",
   "execution_count": 305,
   "id": "c37f22fe",
   "metadata": {},
   "outputs": [],
   "source": [
    "from sklearn.datasets import make_classification\n",
    "X,y=make_classification(n_samples=100,n_features=2,n_classes=2,\n",
    "                       n_redundant=0,random_state=42)\n",
    "from sklearn.model_selection import train_test_split\n",
    "train_X,test_X,train_y,test_y=train_test_split(X,y,random_state=42)"
   ]
  },
  {
   "cell_type": "code",
   "execution_count": 306,
   "id": "20011bdd",
   "metadata": {},
   "outputs": [],
   "source": [
    "from sklearn.ensemble import RandomForestClassifier"
   ]
  },
  {
   "cell_type": "code",
   "execution_count": 307,
   "id": "b09ff87b",
   "metadata": {},
   "outputs": [],
   "source": [
    "model=RandomForestClassifier()"
   ]
  },
  {
   "cell_type": "code",
   "execution_count": 308,
   "id": "c225e453",
   "metadata": {},
   "outputs": [
    {
     "data": {
      "text/plain": [
       "RandomForestClassifier()"
      ]
     },
     "execution_count": 308,
     "metadata": {},
     "output_type": "execute_result"
    }
   ],
   "source": [
    "model.fit(train_X,train_y)"
   ]
  },
  {
   "cell_type": "code",
   "execution_count": 309,
   "id": "af1cedc0",
   "metadata": {},
   "outputs": [],
   "source": [
    "pred_y=model.predict(test_X)"
   ]
  },
  {
   "cell_type": "code",
   "execution_count": 310,
   "id": "c13fb7c9",
   "metadata": {},
   "outputs": [
    {
     "data": {
      "text/plain": [
       "0.96"
      ]
     },
     "execution_count": 310,
     "metadata": {},
     "output_type": "execute_result"
    }
   ],
   "source": [
    "model.score(test_X,test_y)"
   ]
  },
  {
   "cell_type": "code",
   "execution_count": 313,
   "id": "8e352f37",
   "metadata": {},
   "outputs": [
    {
     "data": {
      "image/png": "[encoded data removed]",
      "text/plain": [
       "<Figure size 1296x432 with 1 Axes>"
      ]
     },
     "metadata": {
      "needs_background": "light"
     },
     "output_type": "display_data"
    }
   ],
   "source": [
    "from sklearn.tree import plot_tree\n",
    "plt.figure(figsize=(18,6))\n",
    "plot_tree(model.estimators_[98],filled=True)\n",
    "plt.show()"
   ]
  },
  {
   "cell_type": "markdown",
   "id": "6bc3a83b",
   "metadata": {},
   "source": [
    "## K-NN 분류"
   ]
  },
  {
   "cell_type": "markdown",
   "id": "b9256b73",
   "metadata": {},
   "source": [
    "- 데이터를 직접 참조해서, 새로운 데이터와 가까운 데이터들의 값으로 새로운 데이터의 값 추정\n",
    "- 모형 학습X\n",
    "- 가까운 데이터 찾기 위해 거리함수 사용"
   ]
  },
  {
   "cell_type": "markdown",
   "id": "ab96cad8",
   "metadata": {},
   "source": [
    "## K-NN 분류예제"
   ]
  },
  {
   "cell_type": "markdown",
   "id": "2d6158f3",
   "metadata": {},
   "source": [
    "- 특별한 지정없으면, K=5, 거리함수: 기하학적거리"
   ]
  },
  {
   "cell_type": "code",
   "execution_count": 198,
   "id": "a4dc5dbd",
   "metadata": {},
   "outputs": [],
   "source": [
    "from sklearn.neighbors import KNeighborsClassifier"
   ]
  },
  {
   "cell_type": "code",
   "execution_count": 199,
   "id": "674ec6df",
   "metadata": {},
   "outputs": [],
   "source": [
    "model=KNeighborsClassifier()"
   ]
  },
  {
   "cell_type": "code",
   "execution_count": 200,
   "id": "768d7fde",
   "metadata": {},
   "outputs": [
    {
     "data": {
      "text/plain": [
       "KNeighborsClassifier()"
      ]
     },
     "execution_count": 200,
     "metadata": {},
     "output_type": "execute_result"
    }
   ],
   "source": [
    "model.fit(train_X,train_y)"
   ]
  },
  {
   "cell_type": "code",
   "execution_count": 201,
   "id": "a46aa50e",
   "metadata": {},
   "outputs": [],
   "source": [
    "pred_y=model.predict(test_X)"
   ]
  },
  {
   "cell_type": "code",
   "execution_count": 202,
   "id": "a044cea4",
   "metadata": {},
   "outputs": [
    {
     "data": {
      "text/plain": [
       "1.0"
      ]
     },
     "execution_count": 202,
     "metadata": {},
     "output_type": "execute_result"
    }
   ],
   "source": [
    "model.score(test_X,test_y)"
   ]
  },
  {
   "cell_type": "markdown",
   "id": "85bc74a2",
   "metadata": {},
   "source": [
    "## 거리 측정방법"
   ]
  },
  {
   "cell_type": "markdown",
   "id": "65942335",
   "metadata": {},
   "source": [
    "- Euclidian distance\n",
    "- Manhattan distance\n",
    "- Mahalanobis distance"
   ]
  },
  {
   "cell_type": "markdown",
   "id": "fc89d104",
   "metadata": {},
   "source": [
    "# 복잡한 다항분류 예제"
   ]
  },
  {
   "cell_type": "markdown",
   "id": "fd87a661",
   "metadata": {},
   "source": [
    "100000개 데이터를 5개 집단으로 분류하는 예제"
   ]
  },
  {
   "cell_type": "code",
   "execution_count": 340,
   "id": "e910c118",
   "metadata": {},
   "outputs": [],
   "source": [
    "X,y=make_classification(n_samples=100000,n_features=20,n_classes=5,\n",
    "                       n_informative=5,n_redundant=0,random_state=42)\n",
    "from sklearn.model_selection import train_test_split\n",
    "train_LX,test_LX,train_Ly,test_Ly=train_test_split(X,y,random_state=42)"
   ]
  },
  {
   "cell_type": "code",
   "execution_count": 332,
   "id": "60cec7fc",
   "metadata": {},
   "outputs": [
    {
     "data": {
      "image/png": "[encoded data removed]",
      "text/plain": [
       "<Figure size 432x288 with 1 Axes>"
      ]
     },
     "metadata": {
      "needs_background": "light"
     },
     "output_type": "display_data"
    }
   ],
   "source": [
    "plt.scatter(X[:,0],X[:,1],c=y)\n",
    "plt.grid(True)\n",
    "plt.show()"
   ]
  },
  {
   "cell_type": "markdown",
   "id": "ec26a48a",
   "metadata": {},
   "source": [
    "## 분류모형 비교"
   ]
  },
  {
   "cell_type": "markdown",
   "id": "f04d04fa",
   "metadata": {},
   "source": [
    "### 1) 나이베이즈"
   ]
  },
  {
   "cell_type": "code",
   "execution_count": 337,
   "id": "63b334d5",
   "metadata": {},
   "outputs": [],
   "source": [
    "from sklearn.naive_bayes import GaussianNB"
   ]
  },
  {
   "cell_type": "code",
   "execution_count": 338,
   "id": "3a391d26",
   "metadata": {},
   "outputs": [],
   "source": [
    "NBmodel=GaussianNB()"
   ]
  },
  {
   "cell_type": "code",
   "execution_count": 342,
   "id": "43606896",
   "metadata": {},
   "outputs": [
    {
     "data": {
      "text/plain": [
       "GaussianNB()"
      ]
     },
     "execution_count": 342,
     "metadata": {},
     "output_type": "execute_result"
    }
   ],
   "source": [
    "NBmodel.fit(train_LX,train_Ly)"
   ]
  },
  {
   "cell_type": "code",
   "execution_count": 343,
   "id": "794b796a",
   "metadata": {},
   "outputs": [],
   "source": [
    "nb_y_pred=NBmodel.predict(test_LX)"
   ]
  },
  {
   "cell_type": "code",
   "execution_count": 344,
   "id": "2e9e4e23",
   "metadata": {},
   "outputs": [
    {
     "name": "stdout",
     "output_type": "stream",
     "text": [
      "[4 0 4 ... 1 2 4]\n"
     ]
    }
   ],
   "source": [
    "print(nb_y_pred)"
   ]
  },
  {
   "cell_type": "code",
   "execution_count": 345,
   "id": "fcf7c76e",
   "metadata": {},
   "outputs": [
    {
     "name": "stdout",
     "output_type": "stream",
     "text": [
      "[4 0 4 ... 1 4 0]\n"
     ]
    }
   ],
   "source": [
    "print(test_Ly)"
   ]
  },
  {
   "cell_type": "code",
   "execution_count": 346,
   "id": "a0b3733d",
   "metadata": {},
   "outputs": [
    {
     "data": {
      "text/plain": [
       "0.59628"
      ]
     },
     "execution_count": 346,
     "metadata": {},
     "output_type": "execute_result"
    }
   ],
   "source": [
    "NBmodel.score(test_LX,test_Ly)"
   ]
  },
  {
   "cell_type": "code",
   "execution_count": 348,
   "id": "61025103",
   "metadata": {},
   "outputs": [
    {
     "data": {
      "text/plain": [
       "array([[2937,  248,  958, 1020,  242],\n",
       "       [ 496, 4124,   67,  597,  457],\n",
       "       [ 559,  280, 2864,  691,  475],\n",
       "       [ 328,  294,  384, 1536,  401],\n",
       "       [ 654,   17,  762, 1163, 3446]], dtype=int64)"
      ]
     },
     "execution_count": 348,
     "metadata": {},
     "output_type": "execute_result"
    }
   ],
   "source": [
    "from sklearn.metrics import confusion_matrix\n",
    "cm=confusion_matrix(nb_y_pred,test_Ly)\n",
    "cm"
   ]
  },
  {
   "cell_type": "markdown",
   "id": "93f1e17e",
   "metadata": {},
   "source": [
    "### 2) 랜덤포레스트"
   ]
  },
  {
   "cell_type": "code",
   "execution_count": 367,
   "id": "910783af",
   "metadata": {},
   "outputs": [],
   "source": [
    "X,y=make_classification(n_samples=100000,n_features=20,n_classes=5,\n",
    "                       n_informative=5,n_redundant=0,random_state=42)\n",
    "from sklearn.model_selection import train_test_split\n",
    "train_LX,test_LX,train_Ly,test_Ly=train_test_split(X,y,random_state=42)"
   ]
  },
  {
   "cell_type": "code",
   "execution_count": 368,
   "id": "a8ef7315",
   "metadata": {},
   "outputs": [],
   "source": [
    "from sklearn.ensemble import RandomForestClassifier"
   ]
  },
  {
   "cell_type": "code",
   "execution_count": 369,
   "id": "bb9ea3ac",
   "metadata": {},
   "outputs": [],
   "source": [
    "RFmodel=RandomForestClassifier()"
   ]
  },
  {
   "cell_type": "code",
   "execution_count": 373,
   "id": "dd295887",
   "metadata": {},
   "outputs": [
    {
     "data": {
      "text/plain": [
       "RandomForestClassifier()"
      ]
     },
     "execution_count": 373,
     "metadata": {},
     "output_type": "execute_result"
    }
   ],
   "source": [
    "RFmodel.fit(train_LX,train_Ly)"
   ]
  },
  {
   "cell_type": "code",
   "execution_count": 374,
   "id": "031a28e1",
   "metadata": {},
   "outputs": [],
   "source": [
    "pred_Ly=RFmodel.predict(test_LX)"
   ]
  },
  {
   "cell_type": "code",
   "execution_count": 375,
   "id": "1c686d8e",
   "metadata": {},
   "outputs": [
    {
     "name": "stdout",
     "output_type": "stream",
     "text": [
      "[4 0 4 ... 1 4 0]\n"
     ]
    }
   ],
   "source": [
    "print(pred_Ly)"
   ]
  },
  {
   "cell_type": "code",
   "execution_count": 376,
   "id": "270faf8a",
   "metadata": {},
   "outputs": [
    {
     "name": "stdout",
     "output_type": "stream",
     "text": [
      "[4 0 4 ... 1 4 0]\n"
     ]
    }
   ],
   "source": [
    "print(test_Ly)"
   ]
  },
  {
   "cell_type": "code",
   "execution_count": 377,
   "id": "c8410694",
   "metadata": {},
   "outputs": [
    {
     "data": {
      "text/plain": [
       "0.85604"
      ]
     },
     "execution_count": 377,
     "metadata": {},
     "output_type": "execute_result"
    }
   ],
   "source": [
    "RFmodel.score(test_LX,test_Ly)"
   ]
  },
  {
   "cell_type": "code",
   "execution_count": 378,
   "id": "d317a65d",
   "metadata": {},
   "outputs": [
    {
     "data": {
      "text/plain": [
       "array([[3987,  129,  169,  332,   71],\n",
       "       [ 217, 4555,   73,   61,  193],\n",
       "       [ 265,  148, 4227,  301,  127],\n",
       "       [ 178,   83,  260, 4153,  151],\n",
       "       [ 327,   48,  306,  160, 4479]], dtype=int64)"
      ]
     },
     "execution_count": 378,
     "metadata": {},
     "output_type": "execute_result"
    }
   ],
   "source": [
    "from sklearn.metrics import confusion_matrix\n",
    "confusion_matrix(pred_Ly, test_Ly)"
   ]
  }
 ],
 "metadata": {
  "kernelspec": {
   "display_name": "Python 3 (ipykernel)",
   "language": "python",
   "name": "python3"
  },
  "language_info": {
   "codemirror_mode": {
    "name": "ipython",
    "version": 3
   },
   "file_extension": ".py",
   "mimetype": "text/x-python",
   "name": "python",
   "nbconvert_exporter": "python",
   "pygments_lexer": "ipython3",
   "version": "3.9.12"
  },
  "toc": {
   "base_numbering": 1,
   "nav_menu": {},
   "number_sections": true,
   "sideBar": true,
   "skip_h1_title": false,
   "title_cell": "Table of Contents",
   "title_sidebar": "Contents",
   "toc_cell": false,
   "toc_position": {
    "height": "calc(100% - 180px)",
    "left": "10px",
    "top": "150px",
    "width": "266px"
   },
   "toc_section_display": true,
   "toc_window_display": true
  }
 },
 "nbformat": 4,
 "nbformat_minor": 5
}
