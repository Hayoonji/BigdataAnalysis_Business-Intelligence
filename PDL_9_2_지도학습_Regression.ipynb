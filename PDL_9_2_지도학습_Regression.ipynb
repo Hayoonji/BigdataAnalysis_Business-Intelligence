{
 "cells": [
  {
   "cell_type": "markdown",
   "id": "64306e8c",
   "metadata": {},
   "source": [
    "# 회귀 모형"
   ]
  },
  {
   "cell_type": "markdown",
   "id": "de13a8d3",
   "metadata": {},
   "source": [
    "## 회귀식"
   ]
  },
  {
   "cell_type": "markdown",
   "id": "b72f9285",
   "metadata": {},
   "source": [
    "- 독립변수(입력변수)\n",
    "- 종속변수(출력변수)\n",
    "- 식의 형태(선형식 : y=bx+a1x1+a2x2+a3x3+...)\n",
    "            (비선형식 : 다차함수) y=b+logx1)\n",
    "                        지수함수) y=a1x1+a2x2+a3x1^2x2\n",
    "        "
   ]
  },
  {
   "cell_type": "markdown",
   "id": "15850062",
   "metadata": {},
   "source": [
    "## 회귀식의 구현"
   ]
  },
  {
   "cell_type": "markdown",
   "id": "4193cbbe",
   "metadata": {},
   "source": [
    "### 일반 회귀식"
   ]
  },
  {
   "cell_type": "markdown",
   "id": "0624c5a0",
   "metadata": {},
   "source": [
    "- 식의 형태 알려줌\n",
    "- 회귀식의 모형 지정함"
   ]
  },
  {
   "cell_type": "markdown",
   "id": "a50b0b49",
   "metadata": {},
   "source": [
    "### 딥러닝"
   ]
  },
  {
   "cell_type": "markdown",
   "id": "b76c9e1f",
   "metadata": {},
   "source": [
    "- 입, 출력 변수값만 알려줌. 기계가 알아서 학습\n",
    "- 회귀식의 모형 지정 X\n",
    "- ex. 이미지 분류 음성, 필기체 인식"
   ]
  },
  {
   "cell_type": "markdown",
   "id": "de923765",
   "metadata": {},
   "source": [
    "# 상관 분석"
   ]
  },
  {
   "cell_type": "markdown",
   "id": "36abee19",
   "metadata": {},
   "source": [
    "- 머신러닝 학습 전 이해를 위해\n",
    "- 변수들 사이의 연관성 분석 (상관계수, 산포도)"
   ]
  },
  {
   "cell_type": "code",
   "execution_count": 1,
   "id": "6794f787",
   "metadata": {},
   "outputs": [],
   "source": [
    "import numpy as np\n",
    "import pandas as pd\n",
    "import matplotlib.pyplot as plt\n",
    "import seaborn as sns"
   ]
  },
  {
   "cell_type": "code",
   "execution_count": 2,
   "id": "748c6122",
   "metadata": {},
   "outputs": [
    {
     "data": {
      "text/html": [
       "<div>\n",
       "<style scoped>\n",
       "    .dataframe tbody tr th:only-of-type {\n",
       "        vertical-align: middle;\n",
       "    }\n",
       "\n",
       "    .dataframe tbody tr th {\n",
       "        vertical-align: top;\n",
       "    }\n",
       "\n",
       "    .dataframe thead th {\n",
       "        text-align: right;\n",
       "    }\n",
       "</style>\n",
       "<table border=\"1\" class=\"dataframe\">\n",
       "  <thead>\n",
       "    <tr style=\"text-align: right;\">\n",
       "      <th></th>\n",
       "      <th>chick_nm</th>\n",
       "      <th>weight</th>\n",
       "      <th>egg_weight</th>\n",
       "      <th>movement</th>\n",
       "      <th>food</th>\n",
       "    </tr>\n",
       "  </thead>\n",
       "  <tbody>\n",
       "    <tr>\n",
       "      <th>0</th>\n",
       "      <td>a01</td>\n",
       "      <td>140</td>\n",
       "      <td>65</td>\n",
       "      <td>146</td>\n",
       "      <td>14</td>\n",
       "    </tr>\n",
       "    <tr>\n",
       "      <th>1</th>\n",
       "      <td>a02</td>\n",
       "      <td>128</td>\n",
       "      <td>62</td>\n",
       "      <td>153</td>\n",
       "      <td>12</td>\n",
       "    </tr>\n",
       "  </tbody>\n",
       "</table>\n",
       "</div>"
      ],
      "text/plain": [
       "  chick_nm  weight  egg_weight  movement  food\n",
       "0      a01     140          65       146    14\n",
       "1      a02     128          62       153    12"
      ]
     },
     "execution_count": 2,
     "metadata": {},
     "output_type": "execute_result"
    }
   ],
   "source": [
    "w=pd.read_csv('chi_weight.txt')\n",
    "w.head(2)"
   ]
  },
  {
   "cell_type": "markdown",
   "id": "811166ec",
   "metadata": {},
   "source": [
    "## 상관계수"
   ]
  },
  {
   "cell_type": "code",
   "execution_count": 15,
   "id": "78d51347",
   "metadata": {},
   "outputs": [
    {
     "data": {
      "text/html": [
       "<div>\n",
       "<style scoped>\n",
       "    .dataframe tbody tr th:only-of-type {\n",
       "        vertical-align: middle;\n",
       "    }\n",
       "\n",
       "    .dataframe tbody tr th {\n",
       "        vertical-align: top;\n",
       "    }\n",
       "\n",
       "    .dataframe thead th {\n",
       "        text-align: right;\n",
       "    }\n",
       "</style>\n",
       "<table border=\"1\" class=\"dataframe\">\n",
       "  <thead>\n",
       "    <tr style=\"text-align: right;\">\n",
       "      <th></th>\n",
       "      <th>weight</th>\n",
       "      <th>egg_weight</th>\n",
       "      <th>movement</th>\n",
       "      <th>food</th>\n",
       "    </tr>\n",
       "  </thead>\n",
       "  <tbody>\n",
       "    <tr>\n",
       "      <th>weight</th>\n",
       "      <td>1.000000</td>\n",
       "      <td>0.957169</td>\n",
       "      <td>0.380719</td>\n",
       "      <td>0.877574</td>\n",
       "    </tr>\n",
       "    <tr>\n",
       "      <th>egg_weight</th>\n",
       "      <td>0.957169</td>\n",
       "      <td>1.000000</td>\n",
       "      <td>0.428246</td>\n",
       "      <td>0.808147</td>\n",
       "    </tr>\n",
       "    <tr>\n",
       "      <th>movement</th>\n",
       "      <td>0.380719</td>\n",
       "      <td>0.428246</td>\n",
       "      <td>1.000000</td>\n",
       "      <td>0.319011</td>\n",
       "    </tr>\n",
       "    <tr>\n",
       "      <th>food</th>\n",
       "      <td>0.877574</td>\n",
       "      <td>0.808147</td>\n",
       "      <td>0.319011</td>\n",
       "      <td>1.000000</td>\n",
       "    </tr>\n",
       "  </tbody>\n",
       "</table>\n",
       "</div>"
      ],
      "text/plain": [
       "              weight  egg_weight  movement      food\n",
       "weight      1.000000    0.957169  0.380719  0.877574\n",
       "egg_weight  0.957169    1.000000  0.428246  0.808147\n",
       "movement    0.380719    0.428246  1.000000  0.319011\n",
       "food        0.877574    0.808147  0.319011  1.000000"
      ]
     },
     "execution_count": 15,
     "metadata": {},
     "output_type": "execute_result"
    }
   ],
   "source": [
    "w.corr() #상관계수 보기(병아리의 몸무게가 어떤 것에 영향 많이 받는가?)"
   ]
  },
  {
   "cell_type": "code",
   "execution_count": 17,
   "id": "0bb2b381",
   "metadata": {},
   "outputs": [
    {
     "data": {
      "image/png": "[encoded data removed]",
      "text/plain": [
       "<Figure size 432x288 with 2 Axes>"
      ]
     },
     "metadata": {
      "needs_background": "light"
     },
     "output_type": "display_data"
    }
   ],
   "source": [
    "sns.heatmap(w.corr(),annot=True,cmap='Accent')\n",
    "plt.show()"
   ]
  },
  {
   "cell_type": "markdown",
   "id": "5514515c",
   "metadata": {},
   "source": [
    "## 산포도"
   ]
  },
  {
   "cell_type": "code",
   "execution_count": 19,
   "id": "7f7c09fe",
   "metadata": {},
   "outputs": [
    {
     "data": {
      "image/png": "[encoded data removed]",
      "text/plain": [
       "<Figure size 720x720 with 20 Axes>"
      ]
     },
     "metadata": {
      "needs_background": "light"
     },
     "output_type": "display_data"
    }
   ],
   "source": [
    "sns.pairplot(w)\n",
    "plt.show()"
   ]
  },
  {
   "cell_type": "code",
   "execution_count": 20,
   "id": "ca4f42e2",
   "metadata": {},
   "outputs": [
    {
     "data": {
      "image/png": "[encoded data removed]",
      "text/plain": [
       "<Figure size 720x720 with 20 Axes>"
      ]
     },
     "metadata": {
      "needs_background": "light"
     },
     "output_type": "display_data"
    }
   ],
   "source": [
    "sns.pairplot(w[['weight','egg_weight','movement','food']])\n",
    "plt.show()"
   ]
  },
  {
   "cell_type": "markdown",
   "id": "4680d498",
   "metadata": {},
   "source": [
    "# 회귀식의 추정"
   ]
  },
  {
   "cell_type": "markdown",
   "id": "873569c1",
   "metadata": {},
   "source": [
    "## 회귀식"
   ]
  },
  {
   "cell_type": "markdown",
   "id": "3ef9c060",
   "metadata": {},
   "source": [
    "- 실제값과 예측값 사이의 오차를 최소화하는 식"
   ]
  },
  {
   "cell_type": "markdown",
   "id": "57d0b302",
   "metadata": {},
   "source": [
    "## 전체 샘플에 대한 오차의 측정방법"
   ]
  },
  {
   "cell_type": "markdown",
   "id": "cd7b480d",
   "metadata": {},
   "source": [
    "- 오차의 합(평균) : e1+e2+e3+e4\n",
    "- 오차 절대값의 합 평균 : |e1|+|e2|+|e3|+|e4|\n",
    "- 오차 자승값의 합 평균 : (e1)^2+(e2)^2+(e3)^3+(e4)^2  -> 멀리 떨어진 것에 대해 벌점 더 부여"
   ]
  },
  {
   "cell_type": "markdown",
   "id": "55244875",
   "metadata": {},
   "source": [
    "# scikit-learn 패키지 사용"
   ]
  },
  {
   "cell_type": "markdown",
   "id": "8b8f5e8a",
   "metadata": {},
   "source": [
    "## 회귀모형"
   ]
  },
  {
   "cell_type": "markdown",
   "id": "3d692946",
   "metadata": {},
   "source": [
    "## 개발 과정"
   ]
  },
  {
   "cell_type": "markdown",
   "id": "fb8eae33",
   "metadata": {},
   "source": [
    "1. 훈련 데이터, 테스트 데이터 분리\n",
    "2. 회귀 모형 훈련\n",
    "3. 훈련 결과 검증\n",
    "4. 테스트 데이터 적용"
   ]
  },
  {
   "cell_type": "markdown",
   "id": "b4b78bec",
   "metadata": {},
   "source": [
    "### 1) 훈련데이터, 테스트 데이터 분리"
   ]
  },
  {
   "cell_type": "code",
   "execution_count": 3,
   "id": "21d59539",
   "metadata": {},
   "outputs": [],
   "source": [
    "X=w[['egg_weight','movement','food']]\n",
    "y=w['weight']\n",
    "from sklearn.model_selection import train_test_split\n",
    "X_train,X_test,y_train, y_test=train_test_split(X,y,test_size=0.2,random_state=0)"
   ]
  },
  {
   "cell_type": "code",
   "execution_count": null,
   "id": "d1c5b640",
   "metadata": {},
   "outputs": [],
   "source": []
  },
  {
   "cell_type": "markdown",
   "id": "99c3dc6e",
   "metadata": {},
   "source": [
    "### 2) 회귀 모형 훈련"
   ]
  },
  {
   "cell_type": "code",
   "execution_count": 17,
   "id": "6d75fd80",
   "metadata": {},
   "outputs": [
    {
     "data": {
      "text/plain": [
       "LinearRegression()"
      ]
     },
     "execution_count": 17,
     "metadata": {},
     "output_type": "execute_result"
    }
   ],
   "source": [
    "from sklearn import linear_model\n",
    "lr=linear_model.LinearRegression()\n",
    "lr.fit(X_train,y_train)"
   ]
  },
  {
   "cell_type": "markdown",
   "id": "cb3e1569",
   "metadata": {},
   "source": [
    "### 3) 훈련 결과 검증"
   ]
  },
  {
   "cell_type": "code",
   "execution_count": 18,
   "id": "bc34de9b",
   "metadata": {},
   "outputs": [
    {
     "name": "stdout",
     "output_type": "stream",
     "text": [
      "-0.3446936591654435 [ 1.86699127 -0.0120331   1.39646562] 0.957826623850879\n"
     ]
    }
   ],
   "source": [
    "print(lr.intercept_,lr.coef_,lr.score(X_train,y_train))"
   ]
  },
  {
   "cell_type": "markdown",
   "id": "df3eddf7",
   "metadata": {},
   "source": [
    "### 4) 테스트 데이터 적용"
   ]
  },
  {
   "cell_type": "code",
   "execution_count": 19,
   "id": "48558f3d",
   "metadata": {},
   "outputs": [
    {
     "data": {
      "text/plain": [
       "0.7525750678490816"
      ]
     },
     "execution_count": 19,
     "metadata": {},
     "output_type": "execute_result"
    }
   ],
   "source": [
    "lr.score(X_test,y_test)"
   ]
  },
  {
   "cell_type": "code",
   "execution_count": 20,
   "id": "800bab4e",
   "metadata": {},
   "outputs": [
    {
     "data": {
      "text/plain": [
       "array([137.74388602, 130.31325496, 141.32143825, 141.45380236,\n",
       "       136.2752218 , 138.53869659])"
      ]
     },
     "execution_count": 20,
     "metadata": {},
     "output_type": "execute_result"
    }
   ],
   "source": [
    "lr.predict(X_test)"
   ]
  },
  {
   "cell_type": "markdown",
   "id": "8ef8ec57",
   "metadata": {},
   "source": [
    "# statsmodel 패키지 사용"
   ]
  },
  {
   "cell_type": "markdown",
   "id": "1db3f7de",
   "metadata": {},
   "source": [
    "## 회귀모형"
   ]
  },
  {
   "cell_type": "markdown",
   "id": "042522c1",
   "metadata": {},
   "source": [
    "## 개발 과정"
   ]
  },
  {
   "cell_type": "markdown",
   "id": "a5e2d564",
   "metadata": {},
   "source": [
    "1. 훈련데이터, 테스트 데이터 분리\n",
    "2. 회귀 모형 훈련\n",
    "3. 훈련 결과 검증\n",
    "4. 테스트 데이터 적용"
   ]
  },
  {
   "cell_type": "markdown",
   "id": "c815a451",
   "metadata": {},
   "source": [
    "### 1) 훈련데이터, 테스트 데이터 분리"
   ]
  },
  {
   "cell_type": "code",
   "execution_count": 4,
   "id": "851c3e0b",
   "metadata": {},
   "outputs": [],
   "source": [
    "import statsmodels.api as sm"
   ]
  },
  {
   "cell_type": "code",
   "execution_count": 5,
   "id": "37fe1766",
   "metadata": {},
   "outputs": [],
   "source": [
    "X_train_add_constant=sm.add_constant(X_train)"
   ]
  },
  {
   "cell_type": "code",
   "execution_count": 24,
   "id": "49b087c2",
   "metadata": {},
   "outputs": [
    {
     "ename": "AttributeError",
     "evalue": "type object 'OLS' has no attribute 'dtype'",
     "output_type": "error",
     "traceback": [
      "\u001b[1;31m---------------------------------------------------------------------------\u001b[0m",
      "\u001b[1;31mAttributeError\u001b[0m                            Traceback (most recent call last)",
      "Input \u001b[1;32mIn [24]\u001b[0m, in \u001b[0;36m<cell line: 1>\u001b[1;34m()\u001b[0m\n\u001b[1;32m----> 1\u001b[0m \u001b[43msm\u001b[49m\u001b[38;5;241;43m.\u001b[39;49m\u001b[43mOLS\u001b[49m\u001b[38;5;241;43m.\u001b[39;49m\u001b[43mdtype\u001b[49m()\n",
      "\u001b[1;31mAttributeError\u001b[0m: type object 'OLS' has no attribute 'dtype'"
     ]
    }
   ],
   "source": [
    "sm.OLS.dtype()"
   ]
  },
  {
   "cell_type": "markdown",
   "id": "eee0a682",
   "metadata": {},
   "source": [
    "### 2) 회귀 모형 훈련"
   ]
  },
  {
   "cell_type": "code",
   "execution_count": 6,
   "id": "28f51744",
   "metadata": {},
   "outputs": [],
   "source": [
    "sm_lr_ac=sm.OLS(y_train,X_train_add_constant).fit()"
   ]
  },
  {
   "cell_type": "markdown",
   "id": "465d402b",
   "metadata": {},
   "source": [
    "### 3) 훈련 결과 검증"
   ]
  },
  {
   "cell_type": "code",
   "execution_count": 7,
   "id": "952a7bed",
   "metadata": {},
   "outputs": [
    {
     "data": {
      "text/html": [
       "<table class=\"simpletable\">\n",
       "<caption>OLS Regression Results</caption>\n",
       "<tr>\n",
       "  <th>Dep. Variable:</th>         <td>weight</td>      <th>  R-squared:         </th> <td>   0.958</td>\n",
       "</tr>\n",
       "<tr>\n",
       "  <th>Model:</th>                   <td>OLS</td>       <th>  Adj. R-squared:    </th> <td>   0.952</td>\n",
       "</tr>\n",
       "<tr>\n",
       "  <th>Method:</th>             <td>Least Squares</td>  <th>  F-statistic:       </th> <td>   151.4</td>\n",
       "</tr>\n",
       "<tr>\n",
       "  <th>Date:</th>             <td>Mon, 12 Dec 2022</td> <th>  Prob (F-statistic):</th> <td>6.46e-14</td>\n",
       "</tr>\n",
       "<tr>\n",
       "  <th>Time:</th>                 <td>01:34:38</td>     <th>  Log-Likelihood:    </th> <td> -44.064</td>\n",
       "</tr>\n",
       "<tr>\n",
       "  <th>No. Observations:</th>      <td>    24</td>      <th>  AIC:               </th> <td>   96.13</td>\n",
       "</tr>\n",
       "<tr>\n",
       "  <th>Df Residuals:</th>          <td>    20</td>      <th>  BIC:               </th> <td>   100.8</td>\n",
       "</tr>\n",
       "<tr>\n",
       "  <th>Df Model:</th>              <td>     3</td>      <th>                     </th>     <td> </td>   \n",
       "</tr>\n",
       "<tr>\n",
       "  <th>Covariance Type:</th>      <td>nonrobust</td>    <th>                     </th>     <td> </td>   \n",
       "</tr>\n",
       "</table>\n",
       "<table class=\"simpletable\">\n",
       "<tr>\n",
       "       <td></td>         <th>coef</th>     <th>std err</th>      <th>t</th>      <th>P>|t|</th>  <th>[0.025</th>    <th>0.975]</th>  \n",
       "</tr>\n",
       "<tr>\n",
       "  <th>const</th>      <td>   -0.3447</td> <td>    9.866</td> <td>   -0.035</td> <td> 0.972</td> <td>  -20.925</td> <td>   20.236</td>\n",
       "</tr>\n",
       "<tr>\n",
       "  <th>egg_weight</th> <td>    1.8670</td> <td>    0.240</td> <td>    7.794</td> <td> 0.000</td> <td>    1.367</td> <td>    2.367</td>\n",
       "</tr>\n",
       "<tr>\n",
       "  <th>movement</th>   <td>   -0.0120</td> <td>    0.020</td> <td>   -0.590</td> <td> 0.562</td> <td>   -0.055</td> <td>    0.030</td>\n",
       "</tr>\n",
       "<tr>\n",
       "  <th>food</th>       <td>    1.3965</td> <td>    0.457</td> <td>    3.054</td> <td> 0.006</td> <td>    0.443</td> <td>    2.350</td>\n",
       "</tr>\n",
       "</table>\n",
       "<table class=\"simpletable\">\n",
       "<tr>\n",
       "  <th>Omnibus:</th>       <td> 0.750</td> <th>  Durbin-Watson:     </th> <td>   2.690</td>\n",
       "</tr>\n",
       "<tr>\n",
       "  <th>Prob(Omnibus):</th> <td> 0.687</td> <th>  Jarque-Bera (JB):  </th> <td>   0.786</td>\n",
       "</tr>\n",
       "<tr>\n",
       "  <th>Skew:</th>          <td>-0.274</td> <th>  Prob(JB):          </th> <td>   0.675</td>\n",
       "</tr>\n",
       "<tr>\n",
       "  <th>Kurtosis:</th>      <td> 2.303</td> <th>  Cond. No.          </th> <td>4.49e+03</td>\n",
       "</tr>\n",
       "</table><br/><br/>Notes:<br/>[1] Standard Errors assume that the covariance matrix of the errors is correctly specified.<br/>[2] The condition number is large, 4.49e+03. This might indicate that there are<br/>strong multicollinearity or other numerical problems."
      ],
      "text/plain": [
       "<class 'statsmodels.iolib.summary.Summary'>\n",
       "\"\"\"\n",
       "                            OLS Regression Results                            \n",
       "==============================================================================\n",
       "Dep. Variable:                 weight   R-squared:                       0.958\n",
       "Model:                            OLS   Adj. R-squared:                  0.952\n",
       "Method:                 Least Squares   F-statistic:                     151.4\n",
       "Date:                Mon, 12 Dec 2022   Prob (F-statistic):           6.46e-14\n",
       "Time:                        01:34:38   Log-Likelihood:                -44.064\n",
       "No. Observations:                  24   AIC:                             96.13\n",
       "Df Residuals:                      20   BIC:                             100.8\n",
       "Df Model:                           3                                         \n",
       "Covariance Type:            nonrobust                                         \n",
       "==============================================================================\n",
       "                 coef    std err          t      P>|t|      [0.025      0.975]\n",
       "------------------------------------------------------------------------------\n",
       "const         -0.3447      9.866     -0.035      0.972     -20.925      20.236\n",
       "egg_weight     1.8670      0.240      7.794      0.000       1.367       2.367\n",
       "movement      -0.0120      0.020     -0.590      0.562      -0.055       0.030\n",
       "food           1.3965      0.457      3.054      0.006       0.443       2.350\n",
       "==============================================================================\n",
       "Omnibus:                        0.750   Durbin-Watson:                   2.690\n",
       "Prob(Omnibus):                  0.687   Jarque-Bera (JB):                0.786\n",
       "Skew:                          -0.274   Prob(JB):                        0.675\n",
       "Kurtosis:                       2.303   Cond. No.                     4.49e+03\n",
       "==============================================================================\n",
       "\n",
       "Notes:\n",
       "[1] Standard Errors assume that the covariance matrix of the errors is correctly specified.\n",
       "[2] The condition number is large, 4.49e+03. This might indicate that there are\n",
       "strong multicollinearity or other numerical problems.\n",
       "\"\"\""
      ]
     },
     "execution_count": 7,
     "metadata": {},
     "output_type": "execute_result"
    }
   ],
   "source": [
    "sm_lr_ac.summary()"
   ]
  },
  {
   "cell_type": "code",
   "execution_count": 8,
   "id": "4693fe64",
   "metadata": {},
   "outputs": [
    {
     "name": "stdout",
     "output_type": "stream",
     "text": [
      "const        -0.344694\n",
      "egg_weight    1.866991\n",
      "movement     -0.012033\n",
      "food          1.396466\n",
      "dtype: float64\n"
     ]
    }
   ],
   "source": [
    "print(sm_lr_ac.params)"
   ]
  },
  {
   "cell_type": "code",
   "execution_count": 9,
   "id": "c7cc9864",
   "metadata": {},
   "outputs": [
    {
     "data": {
      "text/plain": [
       "0.9578266238508791"
      ]
     },
     "execution_count": 9,
     "metadata": {},
     "output_type": "execute_result"
    }
   ],
   "source": [
    "sm_lr_ac.rsquared"
   ]
  },
  {
   "cell_type": "markdown",
   "id": "8127af76",
   "metadata": {},
   "source": [
    "### 4) 테스트 데이터 적용"
   ]
  },
  {
   "cell_type": "code",
   "execution_count": 10,
   "id": "942ede1a",
   "metadata": {},
   "outputs": [],
   "source": [
    "# Total Sum of Squares"
   ]
  },
  {
   "cell_type": "code",
   "execution_count": 11,
   "id": "ee0b8797",
   "metadata": {},
   "outputs": [],
   "source": [
    "SST=np.sum((y_test-y_test.mean())**2)"
   ]
  },
  {
   "cell_type": "code",
   "execution_count": 12,
   "id": "8ddeab80",
   "metadata": {},
   "outputs": [
    {
     "data": {
      "text/plain": [
       "86.0"
      ]
     },
     "execution_count": 12,
     "metadata": {},
     "output_type": "execute_result"
    }
   ],
   "source": [
    "SST"
   ]
  },
  {
   "cell_type": "code",
   "execution_count": 29,
   "id": "5c81a7b5",
   "metadata": {},
   "outputs": [],
   "source": [
    "# Residual Sum of Squares"
   ]
  },
  {
   "cell_type": "code",
   "execution_count": 20,
   "id": "5cb09c75",
   "metadata": {},
   "outputs": [
    {
     "ename": "ValueError",
     "evalue": "shapes (24,4) and (6,3) not aligned: 4 (dim 1) != 6 (dim 0)",
     "output_type": "error",
     "traceback": [
      "\u001b[1;31m---------------------------------------------------------------------------\u001b[0m",
      "\u001b[1;31mValueError\u001b[0m                                Traceback (most recent call last)",
      "Input \u001b[1;32mIn [20]\u001b[0m, in \u001b[0;36m<cell line: 1>\u001b[1;34m()\u001b[0m\n\u001b[1;32m----> 1\u001b[0m y_pred\u001b[38;5;241m=\u001b[39m\u001b[43msm\u001b[49m\u001b[38;5;241;43m.\u001b[39;49m\u001b[43mOLS\u001b[49m\u001b[43m(\u001b[49m\u001b[43my_train\u001b[49m\u001b[43m,\u001b[49m\u001b[43mX_train_add_constant\u001b[49m\u001b[43m)\u001b[49m\u001b[38;5;241;43m.\u001b[39;49m\u001b[43mpredict\u001b[49m\u001b[43m(\u001b[49m\u001b[43mX_test\u001b[49m\u001b[43m)\u001b[49m\n",
      "File \u001b[1;32m~\\anaconda3\\lib\\site-packages\\statsmodels\\regression\\linear_model.py:381\u001b[0m, in \u001b[0;36mRegressionModel.predict\u001b[1;34m(self, params, exog)\u001b[0m\n\u001b[0;32m    378\u001b[0m \u001b[38;5;28;01mif\u001b[39;00m exog \u001b[38;5;129;01mis\u001b[39;00m \u001b[38;5;28;01mNone\u001b[39;00m:\n\u001b[0;32m    379\u001b[0m     exog \u001b[38;5;241m=\u001b[39m \u001b[38;5;28mself\u001b[39m\u001b[38;5;241m.\u001b[39mexog\n\u001b[1;32m--> 381\u001b[0m \u001b[38;5;28;01mreturn\u001b[39;00m \u001b[43mnp\u001b[49m\u001b[38;5;241;43m.\u001b[39;49m\u001b[43mdot\u001b[49m\u001b[43m(\u001b[49m\u001b[43mexog\u001b[49m\u001b[43m,\u001b[49m\u001b[43m \u001b[49m\u001b[43mparams\u001b[49m\u001b[43m)\u001b[49m\n",
      "File \u001b[1;32m<__array_function__ internals>:5\u001b[0m, in \u001b[0;36mdot\u001b[1;34m(*args, **kwargs)\u001b[0m\n",
      "\u001b[1;31mValueError\u001b[0m: shapes (24,4) and (6,3) not aligned: 4 (dim 1) != 6 (dim 0)"
     ]
    }
   ],
   "source": [
    "y_pred=sm.OLS(y_train,X_train_add_constant).predict(X_test)"
   ]
  },
  {
   "cell_type": "code",
   "execution_count": 30,
   "id": "69eba104",
   "metadata": {},
   "outputs": [
    {
     "ename": "NameError",
     "evalue": "name 'y_pred' is not defined",
     "output_type": "error",
     "traceback": [
      "\u001b[1;31m---------------------------------------------------------------------------\u001b[0m",
      "\u001b[1;31mNameError\u001b[0m                                 Traceback (most recent call last)",
      "Input \u001b[1;32mIn [30]\u001b[0m, in \u001b[0;36m<cell line: 1>\u001b[1;34m()\u001b[0m\n\u001b[1;32m----> 1\u001b[0m SSR\u001b[38;5;241m=\u001b[39mnp\u001b[38;5;241m.\u001b[39msum((\u001b[43my_pred\u001b[49m\u001b[38;5;241m-\u001b[39my_test)\u001b[38;5;241m*\u001b[39m\u001b[38;5;241m*\u001b[39m\u001b[38;5;241m2\u001b[39m)\n",
      "\u001b[1;31mNameError\u001b[0m: name 'y_pred' is not defined"
     ]
    }
   ],
   "source": [
    "SSR=np.sum((y_pred-y_test)**2)"
   ]
  },
  {
   "cell_type": "markdown",
   "id": "e2e21e35",
   "metadata": {},
   "source": [
    "# 2차 회귀식"
   ]
  },
  {
   "cell_type": "code",
   "execution_count": 31,
   "id": "0d560ce2",
   "metadata": {},
   "outputs": [
    {
     "data": {
      "text/html": [
       "<div>\n",
       "<style scoped>\n",
       "    .dataframe tbody tr th:only-of-type {\n",
       "        vertical-align: middle;\n",
       "    }\n",
       "\n",
       "    .dataframe tbody tr th {\n",
       "        vertical-align: top;\n",
       "    }\n",
       "\n",
       "    .dataframe thead th {\n",
       "        text-align: right;\n",
       "    }\n",
       "</style>\n",
       "<table border=\"1\" class=\"dataframe\">\n",
       "  <thead>\n",
       "    <tr style=\"text-align: right;\">\n",
       "      <th></th>\n",
       "      <th>x</th>\n",
       "      <th>x2</th>\n",
       "      <th>(x-10)*(x-10)</th>\n",
       "      <th>(rand()-0.5)*10</th>\n",
       "      <th>y</th>\n",
       "    </tr>\n",
       "  </thead>\n",
       "  <tbody>\n",
       "    <tr>\n",
       "      <th>0</th>\n",
       "      <td>0.1</td>\n",
       "      <td>0.01</td>\n",
       "      <td>98.01</td>\n",
       "      <td>-3.191019</td>\n",
       "      <td>94.818981</td>\n",
       "    </tr>\n",
       "    <tr>\n",
       "      <th>1</th>\n",
       "      <td>0.2</td>\n",
       "      <td>0.04</td>\n",
       "      <td>96.04</td>\n",
       "      <td>-1.406560</td>\n",
       "      <td>94.633440</td>\n",
       "    </tr>\n",
       "  </tbody>\n",
       "</table>\n",
       "</div>"
      ],
      "text/plain": [
       "     x    x2  (x-10)*(x-10)  (rand()-0.5)*10          y\n",
       "0  0.1  0.01          98.01        -3.191019  94.818981\n",
       "1  0.2  0.04          96.04        -1.406560  94.633440"
      ]
     },
     "execution_count": 31,
     "metadata": {},
     "output_type": "execute_result"
    }
   ],
   "source": [
    "data=pd.read_csv('quadratic_sample.csv')\n",
    "data.head(2)"
   ]
  },
  {
   "cell_type": "code",
   "execution_count": 32,
   "id": "7467a550",
   "metadata": {},
   "outputs": [],
   "source": [
    "# y== (x-10)*(x-10) + (rand()-0.5)*10"
   ]
  },
  {
   "cell_type": "code",
   "execution_count": 36,
   "id": "44100331",
   "metadata": {},
   "outputs": [],
   "source": [
    "X_train,X_test,y_train,y_test=train_test_split(data[['x']],data['y'],test_size=0.2)"
   ]
  },
  {
   "cell_type": "code",
   "execution_count": 37,
   "id": "7d5ffb7a",
   "metadata": {},
   "outputs": [],
   "source": [
    "lr=linear_model.LinearRegression()"
   ]
  },
  {
   "cell_type": "code",
   "execution_count": 38,
   "id": "3a8cb732",
   "metadata": {},
   "outputs": [
    {
     "data": {
      "text/plain": [
       "LinearRegression()"
      ]
     },
     "execution_count": 38,
     "metadata": {},
     "output_type": "execute_result"
    }
   ],
   "source": [
    "lr.fit(X_train,y_train)"
   ]
  },
  {
   "cell_type": "code",
   "execution_count": 65,
   "id": "5f91eeaa",
   "metadata": {},
   "outputs": [
    {
     "name": "stdout",
     "output_type": "stream",
     "text": [
      "31.787586523093022 [0.08482251] 0.0002761024959252456\n"
     ]
    }
   ],
   "source": [
    "print(lr.intercept_,lr.coef_,lr.score(X_train,y_train))"
   ]
  },
  {
   "cell_type": "code",
   "execution_count": 68,
   "id": "257dc32d",
   "metadata": {},
   "outputs": [
    {
     "data": {
      "text/plain": [
       "-0.0007446360214962144"
      ]
     },
     "execution_count": 68,
     "metadata": {},
     "output_type": "execute_result"
    }
   ],
   "source": [
    "lr.score(X_test,y_test) #0에 가까울수록 설명X"
   ]
  },
  {
   "cell_type": "code",
   "execution_count": 67,
   "id": "f1d5a249",
   "metadata": {},
   "outputs": [
    {
     "data": {
      "image/png": "[encoded data removed]",
      "text/plain": [
       "<Figure size 432x288 with 1 Axes>"
      ]
     },
     "metadata": {
      "needs_background": "light"
     },
     "output_type": "display_data"
    }
   ],
   "source": [
    "plt.scatter(data['x'],data['y'])\n",
    "plt.show()"
   ]
  },
  {
   "cell_type": "markdown",
   "id": "34c54c4b",
   "metadata": {},
   "source": [
    "## 회귀 모형 개발"
   ]
  },
  {
   "cell_type": "markdown",
   "id": "7956a9eb",
   "metadata": {},
   "source": [
    "- x^2 를 나타내는 입력변수 추가(이차식은 x만으로 예측x -> x와 x^2 두개를 사용해 예측해야됨)\n",
    "- 회귀식에 x^2추가"
   ]
  },
  {
   "cell_type": "markdown",
   "id": "f7fd00df",
   "metadata": {},
   "source": [
    "### scikit-learn 사용"
   ]
  },
  {
   "cell_type": "markdown",
   "id": "a0bd70dd",
   "metadata": {},
   "source": [
    "#### 회귀식에 x^2 추가"
   ]
  },
  {
   "cell_type": "code",
   "execution_count": 72,
   "id": "bea25b58",
   "metadata": {},
   "outputs": [],
   "source": [
    "X_train,X_test,y_train,y_test=train_test_split(data[['x','x2']],data['y'],test_size=0.2)\n",
    "lr=linear_model.LinearRegression()"
   ]
  },
  {
   "cell_type": "code",
   "execution_count": 73,
   "id": "31183941",
   "metadata": {},
   "outputs": [
    {
     "data": {
      "text/plain": [
       "LinearRegression()"
      ]
     },
     "execution_count": 73,
     "metadata": {},
     "output_type": "execute_result"
    }
   ],
   "source": [
    "lr.fit(X_train,y_train)"
   ]
  },
  {
   "cell_type": "code",
   "execution_count": 74,
   "id": "c81cc8c8",
   "metadata": {},
   "outputs": [
    {
     "name": "stdout",
     "output_type": "stream",
     "text": [
      "98.7549227797533 [-19.89467514   0.99860215] 0.9891449730945907\n"
     ]
    }
   ],
   "source": [
    "print(lr.intercept_,lr.coef_,lr.score(X_train,y_train))"
   ]
  },
  {
   "cell_type": "code",
   "execution_count": 75,
   "id": "b959ffa6",
   "metadata": {},
   "outputs": [
    {
     "data": {
      "text/plain": [
       "0.9919689534358821"
      ]
     },
     "execution_count": 75,
     "metadata": {},
     "output_type": "execute_result"
    }
   ],
   "source": [
    "lr.score(X_test,y_test)"
   ]
  },
  {
   "cell_type": "markdown",
   "id": "02d06920",
   "metadata": {},
   "source": [
    "#### 검증"
   ]
  },
  {
   "cell_type": "code",
   "execution_count": 77,
   "id": "0bb1faa1",
   "metadata": {},
   "outputs": [],
   "source": [
    "sm_reg=sm.OLS(y_train,sm.add_constant(X_train)).fit()"
   ]
  },
  {
   "cell_type": "code",
   "execution_count": 78,
   "id": "24ee82d0",
   "metadata": {},
   "outputs": [
    {
     "data": {
      "text/html": [
       "<table class=\"simpletable\">\n",
       "<caption>OLS Regression Results</caption>\n",
       "<tr>\n",
       "  <th>Dep. Variable:</th>            <td>y</td>        <th>  R-squared:         </th> <td>   0.989</td> \n",
       "</tr>\n",
       "<tr>\n",
       "  <th>Model:</th>                   <td>OLS</td>       <th>  Adj. R-squared:    </th> <td>   0.989</td> \n",
       "</tr>\n",
       "<tr>\n",
       "  <th>Method:</th>             <td>Least Squares</td>  <th>  F-statistic:       </th> <td>   7108.</td> \n",
       "</tr>\n",
       "<tr>\n",
       "  <th>Date:</th>             <td>Fri, 11 Nov 2022</td> <th>  Prob (F-statistic):</th> <td>6.01e-154</td>\n",
       "</tr>\n",
       "<tr>\n",
       "  <th>Time:</th>                 <td>22:33:13</td>     <th>  Log-Likelihood:    </th> <td> -397.20</td> \n",
       "</tr>\n",
       "<tr>\n",
       "  <th>No. Observations:</th>      <td>   159</td>      <th>  AIC:               </th> <td>   800.4</td> \n",
       "</tr>\n",
       "<tr>\n",
       "  <th>Df Residuals:</th>          <td>   156</td>      <th>  BIC:               </th> <td>   809.6</td> \n",
       "</tr>\n",
       "<tr>\n",
       "  <th>Df Model:</th>              <td>     2</td>      <th>                     </th>     <td> </td>    \n",
       "</tr>\n",
       "<tr>\n",
       "  <th>Covariance Type:</th>      <td>nonrobust</td>    <th>                     </th>     <td> </td>    \n",
       "</tr>\n",
       "</table>\n",
       "<table class=\"simpletable\">\n",
       "<tr>\n",
       "    <td></td>       <th>coef</th>     <th>std err</th>      <th>t</th>      <th>P>|t|</th>  <th>[0.025</th>    <th>0.975]</th>  \n",
       "</tr>\n",
       "<tr>\n",
       "  <th>const</th> <td>   98.7549</td> <td>    0.753</td> <td>  131.180</td> <td> 0.000</td> <td>   97.268</td> <td>  100.242</td>\n",
       "</tr>\n",
       "<tr>\n",
       "  <th>x</th>     <td>  -19.8947</td> <td>    0.172</td> <td> -115.477</td> <td> 0.000</td> <td>  -20.235</td> <td>  -19.554</td>\n",
       "</tr>\n",
       "<tr>\n",
       "  <th>x2</th>    <td>    0.9986</td> <td>    0.008</td> <td>  119.227</td> <td> 0.000</td> <td>    0.982</td> <td>    1.015</td>\n",
       "</tr>\n",
       "</table>\n",
       "<table class=\"simpletable\">\n",
       "<tr>\n",
       "  <th>Omnibus:</th>       <td>40.664</td> <th>  Durbin-Watson:     </th> <td>   1.840</td>\n",
       "</tr>\n",
       "<tr>\n",
       "  <th>Prob(Omnibus):</th> <td> 0.000</td> <th>  Jarque-Bera (JB):  </th> <td>   8.142</td>\n",
       "</tr>\n",
       "<tr>\n",
       "  <th>Skew:</th>          <td> 0.066</td> <th>  Prob(JB):          </th> <td>  0.0171</td>\n",
       "</tr>\n",
       "<tr>\n",
       "  <th>Kurtosis:</th>      <td> 1.899</td> <th>  Cond. No.          </th> <td>    578.</td>\n",
       "</tr>\n",
       "</table><br/><br/>Notes:<br/>[1] Standard Errors assume that the covariance matrix of the errors is correctly specified."
      ],
      "text/plain": [
       "<class 'statsmodels.iolib.summary.Summary'>\n",
       "\"\"\"\n",
       "                            OLS Regression Results                            \n",
       "==============================================================================\n",
       "Dep. Variable:                      y   R-squared:                       0.989\n",
       "Model:                            OLS   Adj. R-squared:                  0.989\n",
       "Method:                 Least Squares   F-statistic:                     7108.\n",
       "Date:                Fri, 11 Nov 2022   Prob (F-statistic):          6.01e-154\n",
       "Time:                        22:33:13   Log-Likelihood:                -397.20\n",
       "No. Observations:                 159   AIC:                             800.4\n",
       "Df Residuals:                     156   BIC:                             809.6\n",
       "Df Model:                           2                                         \n",
       "Covariance Type:            nonrobust                                         \n",
       "==============================================================================\n",
       "                 coef    std err          t      P>|t|      [0.025      0.975]\n",
       "------------------------------------------------------------------------------\n",
       "const         98.7549      0.753    131.180      0.000      97.268     100.242\n",
       "x            -19.8947      0.172   -115.477      0.000     -20.235     -19.554\n",
       "x2             0.9986      0.008    119.227      0.000       0.982       1.015\n",
       "==============================================================================\n",
       "Omnibus:                       40.664   Durbin-Watson:                   1.840\n",
       "Prob(Omnibus):                  0.000   Jarque-Bera (JB):                8.142\n",
       "Skew:                           0.066   Prob(JB):                       0.0171\n",
       "Kurtosis:                       1.899   Cond. No.                         578.\n",
       "==============================================================================\n",
       "\n",
       "Notes:\n",
       "[1] Standard Errors assume that the covariance matrix of the errors is correctly specified.\n",
       "\"\"\""
      ]
     },
     "execution_count": 78,
     "metadata": {},
     "output_type": "execute_result"
    }
   ],
   "source": [
    "sm_reg.summary()"
   ]
  },
  {
   "cell_type": "markdown",
   "id": "6831169e",
   "metadata": {},
   "source": [
    "### statsmodel 패키지 사용"
   ]
  },
  {
   "cell_type": "markdown",
   "id": "fdcbdaf9",
   "metadata": {},
   "source": [
    "#### 회귀식에 x^2 추가"
   ]
  },
  {
   "cell_type": "code",
   "execution_count": 82,
   "id": "38b8008e",
   "metadata": {},
   "outputs": [],
   "source": [
    "import statsmodels.formula.api as smf"
   ]
  },
  {
   "cell_type": "code",
   "execution_count": 83,
   "id": "00a2df25",
   "metadata": {},
   "outputs": [],
   "source": [
    "lm_reg=smf.ols(formula='y~x+I(x**2)',data=data).fit()"
   ]
  },
  {
   "cell_type": "markdown",
   "id": "801a151d",
   "metadata": {},
   "source": [
    "#### 검증"
   ]
  },
  {
   "cell_type": "code",
   "execution_count": 85,
   "id": "d21bf22e",
   "metadata": {
    "scrolled": true
   },
   "outputs": [
    {
     "data": {
      "text/html": [
       "<table class=\"simpletable\">\n",
       "<caption>OLS Regression Results</caption>\n",
       "<tr>\n",
       "  <th>Dep. Variable:</th>            <td>y</td>        <th>  R-squared:         </th> <td>   0.990</td> \n",
       "</tr>\n",
       "<tr>\n",
       "  <th>Model:</th>                   <td>OLS</td>       <th>  Adj. R-squared:    </th> <td>   0.990</td> \n",
       "</tr>\n",
       "<tr>\n",
       "  <th>Method:</th>             <td>Least Squares</td>  <th>  F-statistic:       </th> <td>   9781.</td> \n",
       "</tr>\n",
       "<tr>\n",
       "  <th>Date:</th>             <td>Fri, 11 Nov 2022</td> <th>  Prob (F-statistic):</th> <td>4.55e-197</td>\n",
       "</tr>\n",
       "<tr>\n",
       "  <th>Time:</th>                 <td>22:36:25</td>     <th>  Log-Likelihood:    </th> <td> -498.18</td> \n",
       "</tr>\n",
       "<tr>\n",
       "  <th>No. Observations:</th>      <td>   199</td>      <th>  AIC:               </th> <td>   1002.</td> \n",
       "</tr>\n",
       "<tr>\n",
       "  <th>Df Residuals:</th>          <td>   196</td>      <th>  BIC:               </th> <td>   1012.</td> \n",
       "</tr>\n",
       "<tr>\n",
       "  <th>Df Model:</th>              <td>     2</td>      <th>                     </th>     <td> </td>    \n",
       "</tr>\n",
       "<tr>\n",
       "  <th>Covariance Type:</th>      <td>nonrobust</td>    <th>                     </th>     <td> </td>    \n",
       "</tr>\n",
       "</table>\n",
       "<table class=\"simpletable\">\n",
       "<tr>\n",
       "      <td></td>         <th>coef</th>     <th>std err</th>      <th>t</th>      <th>P>|t|</th>  <th>[0.025</th>    <th>0.975]</th>  \n",
       "</tr>\n",
       "<tr>\n",
       "  <th>Intercept</th> <td>   99.1629</td> <td>    0.640</td> <td>  154.877</td> <td> 0.000</td> <td>   97.900</td> <td>  100.426</td>\n",
       "</tr>\n",
       "<tr>\n",
       "  <th>x</th>         <td>  -19.9726</td> <td>    0.148</td> <td> -135.116</td> <td> 0.000</td> <td>  -20.264</td> <td>  -19.681</td>\n",
       "</tr>\n",
       "<tr>\n",
       "  <th>I(x ** 2)</th> <td>    1.0012</td> <td>    0.007</td> <td>  139.859</td> <td> 0.000</td> <td>    0.987</td> <td>    1.015</td>\n",
       "</tr>\n",
       "</table>\n",
       "<table class=\"simpletable\">\n",
       "<tr>\n",
       "  <th>Omnibus:</th>       <td>97.616</td> <th>  Durbin-Watson:     </th> <td>   1.855</td>\n",
       "</tr>\n",
       "<tr>\n",
       "  <th>Prob(Omnibus):</th> <td> 0.000</td> <th>  Jarque-Bera (JB):  </th> <td>  12.802</td>\n",
       "</tr>\n",
       "<tr>\n",
       "  <th>Skew:</th>          <td> 0.142</td> <th>  Prob(JB):          </th> <td> 0.00166</td>\n",
       "</tr>\n",
       "<tr>\n",
       "  <th>Kurtosis:</th>      <td> 1.790</td> <th>  Cond. No.          </th> <td>    552.</td>\n",
       "</tr>\n",
       "</table><br/><br/>Notes:<br/>[1] Standard Errors assume that the covariance matrix of the errors is correctly specified."
      ],
      "text/plain": [
       "<class 'statsmodels.iolib.summary.Summary'>\n",
       "\"\"\"\n",
       "                            OLS Regression Results                            \n",
       "==============================================================================\n",
       "Dep. Variable:                      y   R-squared:                       0.990\n",
       "Model:                            OLS   Adj. R-squared:                  0.990\n",
       "Method:                 Least Squares   F-statistic:                     9781.\n",
       "Date:                Fri, 11 Nov 2022   Prob (F-statistic):          4.55e-197\n",
       "Time:                        22:36:25   Log-Likelihood:                -498.18\n",
       "No. Observations:                 199   AIC:                             1002.\n",
       "Df Residuals:                     196   BIC:                             1012.\n",
       "Df Model:                           2                                         \n",
       "Covariance Type:            nonrobust                                         \n",
       "==============================================================================\n",
       "                 coef    std err          t      P>|t|      [0.025      0.975]\n",
       "------------------------------------------------------------------------------\n",
       "Intercept     99.1629      0.640    154.877      0.000      97.900     100.426\n",
       "x            -19.9726      0.148   -135.116      0.000     -20.264     -19.681\n",
       "I(x ** 2)      1.0012      0.007    139.859      0.000       0.987       1.015\n",
       "==============================================================================\n",
       "Omnibus:                       97.616   Durbin-Watson:                   1.855\n",
       "Prob(Omnibus):                  0.000   Jarque-Bera (JB):               12.802\n",
       "Skew:                           0.142   Prob(JB):                      0.00166\n",
       "Kurtosis:                       1.790   Cond. No.                         552.\n",
       "==============================================================================\n",
       "\n",
       "Notes:\n",
       "[1] Standard Errors assume that the covariance matrix of the errors is correctly specified.\n",
       "\"\"\""
      ]
     },
     "execution_count": 85,
     "metadata": {},
     "output_type": "execute_result"
    }
   ],
   "source": [
    "lm_reg.summary()"
   ]
  },
  {
   "cell_type": "markdown",
   "id": "610cfde6",
   "metadata": {},
   "source": [
    "# Shallow Learning vs Deep Learning"
   ]
  },
  {
   "cell_type": "markdown",
   "id": "a728b8be",
   "metadata": {},
   "source": [
    "## Tensorflow"
   ]
  },
  {
   "cell_type": "markdown",
   "id": "9f70fa22",
   "metadata": {},
   "source": [
    "- 변수 x만 입력값으로 사용\n",
    "- 모형이 중간노드를 사용하여 자동으로 (x^2변수 생성하여) y값 예측"
   ]
  },
  {
   "cell_type": "markdown",
   "id": "89d2a4fa",
   "metadata": {},
   "source": [
    "## 개발과정"
   ]
  },
  {
   "cell_type": "markdown",
   "id": "f3dfb757",
   "metadata": {},
   "source": [
    "1. 훈련데이터, 테스트 데이터 분리\n",
    "2. 딥러닝 모형 개발\n",
    "3. 딥러닝 모형 훈련\n",
    "4. 훈련 결과 검증\n",
    "5. 테스트 데이터 적용"
   ]
  },
  {
   "cell_type": "markdown",
   "id": "3a5f98fc",
   "metadata": {},
   "source": [
    "### 1) 훈련데이터, 테스트 데이터 분리"
   ]
  },
  {
   "cell_type": "code",
   "execution_count": 91,
   "id": "7a360d76",
   "metadata": {},
   "outputs": [],
   "source": [
    "X_train, X_test, y_train, y_test=train_test_split(data[['x']],data['y'],test_size=0.2)"
   ]
  },
  {
   "cell_type": "code",
   "execution_count": 92,
   "id": "f21e0180",
   "metadata": {},
   "outputs": [
    {
     "ename": "ModuleNotFoundError",
     "evalue": "No module named 'tensorflow'",
     "output_type": "error",
     "traceback": [
      "\u001b[1;31m---------------------------------------------------------------------------\u001b[0m",
      "\u001b[1;31mModuleNotFoundError\u001b[0m                       Traceback (most recent call last)",
      "Input \u001b[1;32mIn [92]\u001b[0m, in \u001b[0;36m<cell line: 1>\u001b[1;34m()\u001b[0m\n\u001b[1;32m----> 1\u001b[0m \u001b[38;5;28;01mimport\u001b[39;00m \u001b[38;5;21;01mtensorflow\u001b[39;00m \u001b[38;5;28;01mas\u001b[39;00m \u001b[38;5;21;01mtf\u001b[39;00m\n",
      "\u001b[1;31mModuleNotFoundError\u001b[0m: No module named 'tensorflow'"
     ]
    }
   ],
   "source": [
    "import tensorflow as tf"
   ]
  },
  {
   "cell_type": "code",
   "execution_count": null,
   "id": "f1e167bd",
   "metadata": {},
   "outputs": [],
   "source": []
  }
 ],
 "metadata": {
  "kernelspec": {
   "display_name": "Python 3 (ipykernel)",
   "language": "python",
   "name": "python3"
  },
  "language_info": {
   "codemirror_mode": {
    "name": "ipython",
    "version": 3
   },
   "file_extension": ".py",
   "mimetype": "text/x-python",
   "name": "python",
   "nbconvert_exporter": "python",
   "pygments_lexer": "ipython3",
   "version": "3.9.12"
  },
  "toc": {
   "base_numbering": 1,
   "nav_menu": {},
   "number_sections": true,
   "sideBar": true,
   "skip_h1_title": false,
   "title_cell": "Table of Contents",
   "title_sidebar": "Contents",
   "toc_cell": false,
   "toc_position": {
    "height": "calc(100% - 180px)",
    "left": "10px",
    "top": "150px",
    "width": "294.55px"
   },
   "toc_section_display": true,
   "toc_window_display": true
  }
 },
 "nbformat": 4,
 "nbformat_minor": 5
}
