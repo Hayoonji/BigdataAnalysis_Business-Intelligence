{
 "cells": [
  {
   "cell_type": "markdown",
   "id": "1bf1aa88",
   "metadata": {},
   "source": [
    "# Classes"
   ]
  },
  {
   "cell_type": "markdown",
   "id": "d24c9afa",
   "metadata": {},
   "source": [
    "# 함수"
   ]
  },
  {
   "cell_type": "markdown",
   "id": "67dfda3d",
   "metadata": {},
   "source": [
    "- def 함수명(인자명:인자타입)->결과타입:\n",
    "    함수내용들"
   ]
  },
  {
   "cell_type": "code",
   "execution_count": 2,
   "id": "9cc035b4",
   "metadata": {},
   "outputs": [],
   "source": [
    "def add_function(end:int,start:int=0)->int:\n",
    "    a=0\n",
    "    for i in range(start,end):\n",
    "        a=a+i\n",
    "    return a"
   ]
  },
  {
   "cell_type": "markdown",
   "id": "80fee0b6",
   "metadata": {},
   "source": [
    "- 파이썬은 변수의 유형을 지정하지 않아도 됨\n",
    "- Default값을 인자에 부여 가능\n",
    "- Default값을 가지는 인자는 non-default값을 가지는 인자 앞에 올 수 없음"
   ]
  },
  {
   "cell_type": "code",
   "execution_count": 3,
   "id": "837ab83f",
   "metadata": {},
   "outputs": [],
   "source": [
    "def add_function(end,start=0):\n",
    "    a=0\n",
    "    for i in range(start,end):\n",
    "        a+=i\n",
    "    return a"
   ]
  },
  {
   "cell_type": "code",
   "execution_count": 4,
   "id": "2a6a4766",
   "metadata": {},
   "outputs": [
    {
     "data": {
      "text/plain": [
       "45"
      ]
     },
     "execution_count": 4,
     "metadata": {},
     "output_type": "execute_result"
    }
   ],
   "source": [
    "add_function(10)"
   ]
  },
  {
   "cell_type": "code",
   "execution_count": 5,
   "id": "7dd8b43b",
   "metadata": {},
   "outputs": [
    {
     "data": {
      "text/plain": [
       "45"
      ]
     },
     "execution_count": 5,
     "metadata": {},
     "output_type": "execute_result"
    }
   ],
   "source": [
    "add_function(10,0)"
   ]
  },
  {
   "cell_type": "markdown",
   "id": "1092b2f6",
   "metadata": {},
   "source": [
    "# 함수와 메서드"
   ]
  },
  {
   "cell_type": "markdown",
   "id": "87f66557",
   "metadata": {},
   "source": [
    "- 보통 호환적으로 사용"
   ]
  },
  {
   "cell_type": "markdown",
   "id": "13f35628",
   "metadata": {},
   "source": [
    "## 함수"
   ]
  },
  {
   "cell_type": "markdown",
   "id": "7e3b9e8b",
   "metadata": {},
   "source": [
    "print(), input(), len(), sqrt()"
   ]
  },
  {
   "cell_type": "markdown",
   "id": "aa5498b4",
   "metadata": {},
   "source": [
    "## 메서드"
   ]
  },
  {
   "cell_type": "markdown",
   "id": "6bf9bef7",
   "metadata": {},
   "source": [
    "- 클래스의 메서드:\n",
    "integer, characters, list, dictionary, set, array, dataframe"
   ]
  },
  {
   "cell_type": "markdown",
   "id": "2bb148db",
   "metadata": {},
   "source": [
    "# 문자열의 메서드"
   ]
  },
  {
   "cell_type": "markdown",
   "id": "eec694b0",
   "metadata": {},
   "source": [
    "- .upper() : 대문자 만들기\n",
    "- .lower() : 소문자 만들기\n",
    "- .count() : 주어진 문자열에 해당된 문자의 갯수 세기\n",
    "- .format() :입력한 값의 형식을 지정"
   ]
  },
  {
   "cell_type": "markdown",
   "id": "f4ffb30e",
   "metadata": {},
   "source": [
    "## 리스트의 메서드"
   ]
  },
  {
   "cell_type": "markdown",
   "id": "9cd224d6",
   "metadata": {},
   "source": [
    "- .index():\n",
    "- .count():\n",
    "- .sort(): 리스트 정렬\n",
    "-.reverse(): 리스트 뒤집기"
   ]
  },
  {
   "cell_type": "markdown",
   "id": "043c2d10",
   "metadata": {},
   "source": [
    "# 익명함수"
   ]
  },
  {
   "cell_type": "markdown",
   "id": "064fd9d3",
   "metadata": {},
   "source": [
    "## 정의"
   ]
  },
  {
   "cell_type": "markdown",
   "id": "c2cfd81d",
   "metadata": {},
   "source": [
    "- 함수의 이름을 부여하지 않고, 입력변수와 함수식 만을 정의해서 결과값 돌려받음"
   ]
  },
  {
   "cell_type": "markdown",
   "id": "f0bfa5f1",
   "metadata": {},
   "source": [
    "## 일반적인 메서드:실명함수"
   ]
  },
  {
   "cell_type": "markdown",
   "id": "97af500f",
   "metadata": {},
   "source": [
    "- 함수이름 부여하고\n",
    "- 입력변수 지정하고\n",
    "- 결과값 돌려받음"
   ]
  },
  {
   "cell_type": "markdown",
   "id": "eae1efcc",
   "metadata": {},
   "source": [
    "## 표시방법"
   ]
  },
  {
   "cell_type": "markdown",
   "id": "b3f14e37",
   "metadata": {},
   "source": [
    "Lambda"
   ]
  },
  {
   "cell_type": "markdown",
   "id": "acbaf852",
   "metadata": {},
   "source": [
    "## 용도"
   ]
  },
  {
   "cell_type": "markdown",
   "id": "dc7b8011",
   "metadata": {},
   "source": [
    "- Map, filter 등의 고차 함수(인자로 함수를 받아들이는 함수)에서 사용하면 편리함"
   ]
  },
  {
   "cell_type": "code",
   "execution_count": 26,
   "id": "2a71c3ad",
   "metadata": {},
   "outputs": [
    {
     "data": {
      "text/plain": [
       "[1, 4, 9, 16, 25]"
      ]
     },
     "execution_count": 26,
     "metadata": {},
     "output_type": "execute_result"
    }
   ],
   "source": [
    "data=[1,2,3,4,5]\n",
    "list(map(lambda x:x*x,data))#map:각각의 원소에 대해서 함수를 전부 적용"
   ]
  },
  {
   "cell_type": "markdown",
   "id": "c4e2a4f6",
   "metadata": {},
   "source": [
    "# 고차함수"
   ]
  },
  {
   "cell_type": "markdown",
   "id": "641c09d8",
   "metadata": {},
   "source": [
    "함수를 인자(즉 매개변수)로 포함하는 함수 -> 실명함수 대신 익명함수 사용하면 편리"
   ]
  },
  {
   "cell_type": "markdown",
   "id": "8f3c1f5c",
   "metadata": {},
   "source": [
    "## map()"
   ]
  },
  {
   "cell_type": "markdown",
   "id": "3e9e27fa",
   "metadata": {},
   "source": [
    "리스트(또는 array)의 원소들에 대해 함수를 적용하는 함수,\n",
    "각 원소들에 대해 mapping 실행"
   ]
  },
  {
   "cell_type": "code",
   "execution_count": 29,
   "id": "fea49869",
   "metadata": {},
   "outputs": [],
   "source": [
    "#실명함수 사용\n",
    "def power(element):\n",
    "    return element*element"
   ]
  },
  {
   "cell_type": "code",
   "execution_count": 30,
   "id": "5fe02b21",
   "metadata": {},
   "outputs": [],
   "source": [
    "in_a=[1,3,5,7]"
   ]
  },
  {
   "cell_type": "code",
   "execution_count": 31,
   "id": "9f938f4c",
   "metadata": {},
   "outputs": [],
   "source": [
    "out_a=map(power,in_a)"
   ]
  },
  {
   "cell_type": "code",
   "execution_count": 32,
   "id": "595c08d2",
   "metadata": {},
   "outputs": [
    {
     "data": {
      "text/plain": [
       "<map at 0x1ec02016400>"
      ]
     },
     "execution_count": 32,
     "metadata": {},
     "output_type": "execute_result"
    }
   ],
   "source": [
    "out_a"
   ]
  },
  {
   "cell_type": "code",
   "execution_count": 33,
   "id": "72049614",
   "metadata": {},
   "outputs": [
    {
     "data": {
      "text/plain": [
       "[1, 9, 25, 49]"
      ]
     },
     "execution_count": 33,
     "metadata": {},
     "output_type": "execute_result"
    }
   ],
   "source": [
    "list(out_a)"
   ]
  },
  {
   "cell_type": "code",
   "execution_count": 34,
   "id": "92b46357",
   "metadata": {},
   "outputs": [
    {
     "data": {
      "text/plain": [
       "[1, 9, 25, 49]"
      ]
     },
     "execution_count": 34,
     "metadata": {},
     "output_type": "execute_result"
    }
   ],
   "source": [
    "#익명함수 사용\n",
    "out_b=map(lambda x:x*x, in_a)\n",
    "list(out_b)"
   ]
  },
  {
   "cell_type": "markdown",
   "id": "02f69e6b",
   "metadata": {},
   "source": [
    "## filter()"
   ]
  },
  {
   "cell_type": "markdown",
   "id": "c9a5502b",
   "metadata": {},
   "source": [
    "리스트(또는 array)의 원소들에 대해 함수를 적용하여 함수의 결과가 True인 원소들로 이루어지는 리스트 생성, 리스트(또는 array)원소들에 대해 filtering진행"
   ]
  },
  {
   "cell_type": "code",
   "execution_count": 37,
   "id": "d1c8684f",
   "metadata": {},
   "outputs": [
    {
     "data": {
      "text/plain": [
       "[1, 3, 5, 7]"
      ]
     },
     "execution_count": 37,
     "metadata": {},
     "output_type": "execute_result"
    }
   ],
   "source": [
    "in_a"
   ]
  },
  {
   "cell_type": "code",
   "execution_count": 39,
   "id": "bc26d5ad",
   "metadata": {},
   "outputs": [
    {
     "data": {
      "text/plain": [
       "[1, 3]"
      ]
     },
     "execution_count": 39,
     "metadata": {},
     "output_type": "execute_result"
    }
   ],
   "source": [
    "out_a=filter(lambda x:x<=3,in_a)\n",
    "list(out_a)"
   ]
  },
  {
   "cell_type": "markdown",
   "id": "8286a067",
   "metadata": {},
   "source": [
    "# 패키지의 생성 및 활용"
   ]
  },
  {
   "cell_type": "markdown",
   "id": "393ecb2d",
   "metadata": {},
   "source": [
    "## 패키지"
   ]
  },
  {
   "cell_type": "markdown",
   "id": "126c0b96",
   "metadata": {},
   "source": [
    "모듈들을 모아놓은 디렉토리(모듈=함수들을 포함하는 파이썬 프로그램 파일)"
   ]
  },
  {
   "cell_type": "markdown",
   "id": "e39094ce",
   "metadata": {},
   "source": [
    "## 패키지 생성 과정"
   ]
  },
  {
   "cell_type": "markdown",
   "id": "5ce6bda3",
   "metadata": {},
   "source": [
    "- 패키지디렉토리 만들고\n",
    "- 디렉토리 안에 파일 생성\n",
    "- 파일 안에 함수를 프로그래밍\n",
    "- 만들어진 프로그램을 import하여 실행"
   ]
  },
  {
   "cell_type": "markdown",
   "id": "7135ba25",
   "metadata": {},
   "source": [
    "# 라이브러리"
   ]
  },
  {
   "cell_type": "markdown",
   "id": "9d81b6c1",
   "metadata": {},
   "source": [
    "- 패키지와 혼용하여 사용\n",
    "- 패키 및 모듈들 모아 놓은 것"
   ]
  },
  {
   "cell_type": "markdown",
   "id": "a8e505b1",
   "metadata": {},
   "source": [
    "# 클래스"
   ]
  },
  {
   "cell_type": "markdown",
   "id": "dd6338da",
   "metadata": {},
   "source": [
    "class로부터 객체들을 생성\n",
    "- 객체들은 각자의 변수 유지\n",
    "- 메서드는 class에서 정의한 메서드를 불러와서 모든 객체들이 같이 사용"
   ]
  },
  {
   "cell_type": "code",
   "execution_count": 49,
   "id": "527c6865",
   "metadata": {},
   "outputs": [],
   "source": [
    "class MyProduct:\n",
    "    def __init__(self,name,price,stock):\n",
    "        self.name=name\n",
    "        self.price=price\n",
    "        self.stock=stock\n",
    "        self.sales=0\n",
    "    def buy_up(self,n):\n",
    "        self.stock+=n\n",
    "    def sell(self,n):\n",
    "        self.stock-=n\n",
    "        self.sales+=n*self.price\n",
    "    def get_name(self):\n",
    "        return self.name"
   ]
  },
  {
   "cell_type": "code",
   "execution_count": 51,
   "id": "288c14af",
   "metadata": {},
   "outputs": [],
   "source": [
    "cake1=MyProduct('Choco2',20000,20)"
   ]
  },
  {
   "cell_type": "code",
   "execution_count": 52,
   "id": "ce26faa8",
   "metadata": {},
   "outputs": [
    {
     "name": "stdout",
     "output_type": "stream",
     "text": [
      "20\n"
     ]
    }
   ],
   "source": [
    "print(cake1.stock)"
   ]
  },
  {
   "cell_type": "code",
   "execution_count": 53,
   "id": "8b35daa9",
   "metadata": {},
   "outputs": [
    {
     "data": {
      "text/plain": [
       "'Choco2'"
      ]
     },
     "execution_count": 53,
     "metadata": {},
     "output_type": "execute_result"
    }
   ],
   "source": [
    "cake1.get_name()"
   ]
  },
  {
   "cell_type": "code",
   "execution_count": 54,
   "id": "4f93fd65",
   "metadata": {},
   "outputs": [],
   "source": [
    "cake1.sell(5)"
   ]
  },
  {
   "cell_type": "code",
   "execution_count": 55,
   "id": "f2e53143",
   "metadata": {},
   "outputs": [
    {
     "name": "stdout",
     "output_type": "stream",
     "text": [
      "100000\n"
     ]
    }
   ],
   "source": [
    "print(cake1.sales)"
   ]
  },
  {
   "cell_type": "markdown",
   "id": "57e06c09",
   "metadata": {},
   "source": [
    "# Double underscore 함수(던더)"
   ]
  },
  {
   "cell_type": "markdown",
   "id": "efc3f8b7",
   "metadata": {},
   "source": [
    "__init__,__repr__등은 파이썬 인터프리터가 제공하는 함수들로써, 프로그래밍할 때 그냥 불러서 사용가능"
   ]
  },
  {
   "cell_type": "code",
   "execution_count": 59,
   "id": "f3f36ec7",
   "metadata": {},
   "outputs": [],
   "source": [
    "class MyProduct:\n",
    "    def __init__(self,name,price,stock):\n",
    "        self.name=name\n",
    "        self.price=price\n",
    "        self.stock=stock\n",
    "        self.sales=0\n",
    "    def __repr__(self):\n",
    "        return 'name:{}\\t price:{}\\t stock:{}'.format(self.name,self.price,self.stock)\n",
    "    def buy_up(self,n):\n",
    "        self.stock+=n\n",
    "    def sell(self,n):\n",
    "        self.stock-=n\n",
    "        self.sales+=n*self.price\n",
    "    def get_name(self):\n",
    "        return self.name"
   ]
  },
  {
   "cell_type": "code",
   "execution_count": 61,
   "id": "4a59ba84",
   "metadata": {},
   "outputs": [],
   "source": [
    "cake1=MyProduct('Choco2',20000,20)"
   ]
  },
  {
   "cell_type": "code",
   "execution_count": 62,
   "id": "de4b8ea2",
   "metadata": {},
   "outputs": [
    {
     "data": {
      "text/plain": [
       "name:Choco2\t price:20000\t stock:20"
      ]
     },
     "execution_count": 62,
     "metadata": {},
     "output_type": "execute_result"
    }
   ],
   "source": [
    "cake1"
   ]
  },
  {
   "cell_type": "code",
   "execution_count": null,
   "id": "c632da23",
   "metadata": {},
   "outputs": [],
   "source": []
  }
 ],
 "metadata": {
  "kernelspec": {
   "display_name": "Python 3 (ipykernel)",
   "language": "python",
   "name": "python3"
  },
  "language_info": {
   "codemirror_mode": {
    "name": "ipython",
    "version": 3
   },
   "file_extension": ".py",
   "mimetype": "text/x-python",
   "name": "python",
   "nbconvert_exporter": "python",
   "pygments_lexer": "ipython3",
   "version": "3.9.12"
  },
  "toc": {
   "base_numbering": 1,
   "nav_menu": {},
   "number_sections": true,
   "sideBar": true,
   "skip_h1_title": false,
   "title_cell": "Table of Contents",
   "title_sidebar": "Contents",
   "toc_cell": false,
   "toc_position": {
    "height": "calc(100% - 180px)",
    "left": "10px",
    "top": "150px",
    "width": "165px"
   },
   "toc_section_display": true,
   "toc_window_display": true
  }
 },
 "nbformat": 4,
 "nbformat_minor": 5
}
