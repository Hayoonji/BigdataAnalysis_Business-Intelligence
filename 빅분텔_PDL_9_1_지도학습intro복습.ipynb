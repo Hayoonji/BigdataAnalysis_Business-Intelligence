{
 "cells": [
  {
   "cell_type": "markdown",
   "id": "02434c69",
   "metadata": {},
   "source": [
    "# 학습의 종류"
   ]
  },
  {
   "cell_type": "markdown",
   "id": "8f2b757e",
   "metadata": {},
   "source": [
    "## 지도학습"
   ]
  },
  {
   "cell_type": "markdown",
   "id": "146064a5",
   "metadata": {},
   "source": [
    "- 과거 데이터 필수(정답을 알고 있는 샘플 데이터를 사용하여 학습)\n",
    "- 회귀모형(미래 데이터 예측), 분류모형(분류), 사물인식\n",
    "- ** 과거 데이터 전부 줘서 법칙을 찾아내라"
   ]
  },
  {
   "cell_type": "markdown",
   "id": "2de2eda6",
   "metadata": {},
   "source": [
    "## 비지도 학습"
   ]
  },
  {
   "cell_type": "markdown",
   "id": "9adabf08",
   "metadata": {},
   "source": [
    "- 정답을 알고 있는 샘플데이터 사용X(ex. 키, 몸무게 등으로 관계성 파악)\n",
    "- 데이터로부터 관계성 파악(ex.군집화: 분류데이터들을 군집으로 분류)"
   ]
  },
  {
   "cell_type": "markdown",
   "id": "0478050b",
   "metadata": {},
   "source": [
    "## 강화학습"
   ]
  },
  {
   "cell_type": "markdown",
   "id": "525466d5",
   "metadata": {},
   "source": [
    "- 행동에 대한 보상을 바탕으로, 보상을 최대화하도록 학습시킴\n",
    "- ex. 체스, 바둑, 게임, 자율주행 ..."
   ]
  },
  {
   "cell_type": "markdown",
   "id": "4ae2d684",
   "metadata": {},
   "source": [
    "# 학습의 과정"
   ]
  },
  {
   "cell_type": "markdown",
   "id": "484fe431",
   "metadata": {},
   "source": [
    "## 학습의 단계"
   ]
  },
  {
   "cell_type": "markdown",
   "id": "17b3c317",
   "metadata": {},
   "source": [
    "0. 문제정의 및 데이터 수집\n",
    "1. 데이터 전처리\n",
    "2. 모형 선택\n",
    "3. 모형학습/튜닝 (모형의 파라미터들(파이퍼 파라미터)선택 / 파라미터 튜닝)\n",
    "4. 모형 수정 및 보완활용"
   ]
  },
  {
   "cell_type": "markdown",
   "id": "98bb6dc3",
   "metadata": {},
   "source": [
    "# 머신러닝 작업흐름"
   ]
  },
  {
   "cell_type": "markdown",
   "id": "c7a17a5c",
   "metadata": {},
   "source": [
    "## 문제정의 및 데이터수집"
   ]
  },
  {
   "cell_type": "markdown",
   "id": "e4421774",
   "metadata": {},
   "source": [
    "### 문제 정의"
   ]
  },
  {
   "cell_type": "markdown",
   "id": "e1a22872",
   "metadata": {},
   "source": [
    "- 문제정의 후 -> 모형 개발\n",
    "- input data : 입력 데이터가 무엇? 입력데이터로부터 무엇을 예측?\n",
    "- 문제의 종류 : binary classification? 등등"
   ]
  },
  {
   "cell_type": "markdown",
   "id": "9be8fbc6",
   "metadata": {},
   "source": [
    "### 평가 지표"
   ]
  },
  {
   "cell_type": "markdown",
   "id": "eb6b03bd",
   "metadata": {},
   "source": [
    "- accuracy, precision, recall, mae(mean_absolute_error : 차이가 얼마나 되나?-이걸로 정확성 측정)\n",
    "- 참조: confusion matrix 참조(분류에서)"
   ]
  },
  {
   "cell_type": "markdown",
   "id": "46864a28",
   "metadata": {},
   "source": [
    "### 기계학습에서 필요한 데이터의 양"
   ]
  },
  {
   "cell_type": "markdown",
   "id": "f5ea1e2c",
   "metadata": {},
   "source": [
    "#### 데이터 수집"
   ]
  },
  {
   "cell_type": "markdown",
   "id": "519c775c",
   "metadata": {},
   "source": [
    "- 기계학습의 1번째 성공요인 -> 많은 양의 좋은 데이터 사용한 훈련"
   ]
  },
  {
   "cell_type": "markdown",
   "id": "cdae142a",
   "metadata": {},
   "source": [
    "- 편향되지 않은 데이터 수집"
   ]
  },
  {
   "cell_type": "markdown",
   "id": "b5d6d7dd",
   "metadata": {},
   "source": [
    "## 데이터 전처리"
   ]
  },
  {
   "cell_type": "markdown",
   "id": "f79218d5",
   "metadata": {},
   "source": [
    "### 값 정규화"
   ]
  },
  {
   "cell_type": "markdown",
   "id": "df42c0d5",
   "metadata": {},
   "source": [
    "- 입력 데이터가 여러 특성 포함할 경우, 개별 특성 값들의 크기 서로 다를 수 있음\n",
    "- 개별 특성 값들이 표준적 크기 갖도록 (보통 0~1 사이)바꿔주는 것"
   ]
  },
  {
   "cell_type": "markdown",
   "id": "5e2ad902",
   "metadata": {},
   "source": [
    "### 누락 값의 처리"
   ]
  },
  {
   "cell_type": "markdown",
   "id": "2e3b2a16",
   "metadata": {},
   "source": [
    "- 누락값은 상황에 따라 다른 의미 가짐 (0, 최소값, 평균값, 중간값)"
   ]
  },
  {
   "cell_type": "markdown",
   "id": "4d77e0e0",
   "metadata": {},
   "source": [
    "### 입력변수의 내용 변경"
   ]
  },
  {
   "cell_type": "markdown",
   "id": "e8e396b7",
   "metadata": {},
   "source": [
    "- 인구수->로그처리\n",
    "- 바람방향 -> x축 y축 처리"
   ]
  },
  {
   "cell_type": "markdown",
   "id": "23622c44",
   "metadata": {},
   "source": [
    "### 데이터의 벡터화"
   ]
  },
  {
   "cell_type": "markdown",
   "id": "04581586",
   "metadata": {},
   "source": [
    "- 딥러닝(예: 텐서플로우)에서 입력 데이터는 텐서(즉, 배열)로 표시됨\n",
    "- 따라서 각 개별 데이터들을 숫자로 나타내어야 함\n",
    "- 이를 데이터 벡터화라고 함"
   ]
  },
  {
   "cell_type": "markdown",
   "id": "7efe1832",
   "metadata": {},
   "source": [
    "## 모형 선택"
   ]
  },
  {
   "cell_type": "markdown",
   "id": "8e20c05d",
   "metadata": {},
   "source": [
    "### 기본모형(baseline모델)"
   ]
  },
  {
   "cell_type": "markdown",
   "id": "ca50cd39",
   "metadata": {},
   "source": [
    "- 상식적으로 가장 단순한 모형\n",
    "- 예: 기온 예측 시, 내일의 현재 기온을 오늘의 현재 기온과 같다고 예측\n",
    "- 개발되는 모형의 최소한의 필요조건은 기본모형보다 우수한 성과 내어야함"
   ]
  },
  {
   "cell_type": "markdown",
   "id": "3bd66421",
   "metadata": {},
   "source": [
    "## 모형 학습"
   ]
  },
  {
   "cell_type": "markdown",
   "id": "7eb6bc23",
   "metadata": {},
   "source": [
    "### 데이터의 분할"
   ]
  },
  {
   "cell_type": "markdown",
   "id": "a07287d0",
   "metadata": {},
   "source": [
    "- 훈련데이터 / 검증 데이터 / 적용(test) 데이터"
   ]
  },
  {
   "cell_type": "markdown",
   "id": "f559ee55",
   "metadata": {},
   "source": [
    "### 테스트 데이터"
   ]
  },
  {
   "cell_type": "markdown",
   "id": "c8177d49",
   "metadata": {},
   "source": [
    "- 훈련, 검증에서 사용하지 않은 전혀 새로운 데이터들이어야 함"
   ]
  },
  {
   "cell_type": "markdown",
   "id": "18a8badd",
   "metadata": {},
   "source": [
    "### 훈련 데이터 분할"
   ]
  },
  {
   "cell_type": "markdown",
   "id": "d5c7ed54",
   "metadata": {},
   "source": [
    "#### 훈련 데이터와 검증 데이터의 구분"
   ]
  },
  {
   "cell_type": "markdown",
   "id": "0903e31d",
   "metadata": {},
   "source": [
    "- 단순 홀드아웃 검증\n",
    "-> 데이터의 일부를 훈련데이터로 사용\n",
    "-> 나머지 일부를 검증으로 사용(보통20%~30%)\n",
    "\n",
    "- K-겹 교차 검증\n",
    "-> 데이터가 많지 않을 경우 적용\n",
    "-> 적은 샘플의 기준은 상대적(단순모형: 수백개도ok, 복잡모형: 수만개도 적은 샘플, 일반적: 수백개~수만개)\n",
    "-> 전체 데이터를 k등분하여 바꿔가면서 검증 데이터로 사용\n",
    "\n",
    "- K-겹 교차 반복 검증\n",
    "-> K-겹 교차방식을 반복적 사용"
   ]
  },
  {
   "cell_type": "markdown",
   "id": "265fc77c",
   "metadata": {},
   "source": [
    "### 훈련(및 검증)데이터와 테스트 데이터 준비 시 주의 사항"
   ]
  },
  {
   "cell_type": "markdown",
   "id": "5b98559b",
   "metadata": {},
   "source": [
    "- 데이터 구분시, 데이터 섞어서 사용\n",
    "-> 수집된 데이터가 특정 기준으로 정렬되어 있을 경우, 무작위로 섞어 사용\n",
    "- 데이터들 사이에 순서가 있는 경우, 테스트데이터는 훈련보다 이후 데이터로 구성해야 함\n",
    "-> 예: 기온예측: 전주의 기온으로 훈련하고, 전월의 기온에 대해 테스트해서는 안됨\n",
    "- 중복 데이터 발생않도록 주의\n",
    "-> 테스트 데이터에 훈련데이터에 있는 데이터와 같은 데이터가 포함되면, 잘못된 테스트 이루어짐\n",
    "-> 훈련과 테스트는 완전 서로 달라야 함"
   ]
  },
  {
   "cell_type": "markdown",
   "id": "08bf4aae",
   "metadata": {},
   "source": [
    "## 모형 튜닝"
   ]
  },
  {
   "cell_type": "markdown",
   "id": "5b1a65a7",
   "metadata": {},
   "source": [
    "### 과대 적합, 과소 적합"
   ]
  },
  {
   "cell_type": "markdown",
   "id": "11720553",
   "metadata": {},
   "source": [
    "- 모형 훈련은 과대 적합이 발생하는 시점 이후까지 이뤄져야 함\n",
    "- 과대 적합 확인 후, 최적적합 시점 모형 선택해 사용"
   ]
  },
  {
   "cell_type": "markdown",
   "id": "e51aa9c4",
   "metadata": {},
   "source": [
    "### 최적성과 일반성"
   ]
  },
  {
   "cell_type": "markdown",
   "id": "63f0cca7",
   "metadata": {},
   "source": [
    "- 기계 학습의 최우선 목표 -> 일반성 높은 최적모형 개발\n",
    "- 유사한 최적성 보이는 모형들 중, 모형의 복잡도가 낮은 모형이 바람직(모형의 복잡도 낮을수록 일반성 우수)"
   ]
  },
  {
   "cell_type": "markdown",
   "id": "4ad5caea",
   "metadata": {},
   "source": [
    "### 최적화, 적합성 높이는 방법"
   ]
  },
  {
   "cell_type": "markdown",
   "id": "00eeefbf",
   "metadata": {},
   "source": [
    "- MSE 최소화"
   ]
  },
  {
   "cell_type": "markdown",
   "id": "4daaaadd",
   "metadata": {},
   "source": [
    "### 일반성 높이는 방법"
   ]
  },
  {
   "cell_type": "markdown",
   "id": "4eea55f3",
   "metadata": {},
   "source": [
    "- 자유도 최대화\n",
    "- 모형이 단순할수록 자유도 높음\n",
    "- 모형의 복잡도 낮춤 -> 파라미터 줄임(레이어 수 줄임)\n",
    "- Dropout : 학습한 파라미터 값들 중에서 일부를 지워서 사용안함"
   ]
  },
  {
   "cell_type": "markdown",
   "id": "d8003cd2",
   "metadata": {},
   "source": [
    "## 모형 평가"
   ]
  },
  {
   "cell_type": "markdown",
   "id": "1bf1b470",
   "metadata": {},
   "source": [
    "- 테스트 데이터 대상으로 성능평가\n",
    "- Hyper-parameter조정 (파라미터의 수 등을 바꿈)"
   ]
  },
  {
   "cell_type": "markdown",
   "id": "779095b1",
   "metadata": {},
   "source": [
    "## 모형 배포 및 예측(추정)"
   ]
  },
  {
   "cell_type": "markdown",
   "id": "01f8e0d9",
   "metadata": {},
   "source": [
    "- 미지의 데이터 사용하여 실제로 운용\n",
    "- 실제 데이터의 변화 및 모형의 성능 추적"
   ]
  },
  {
   "cell_type": "code",
   "execution_count": null,
   "id": "8600516b",
   "metadata": {},
   "outputs": [],
   "source": []
  }
 ],
 "metadata": {
  "kernelspec": {
   "display_name": "Python 3 (ipykernel)",
   "language": "python",
   "name": "python3"
  },
  "language_info": {
   "codemirror_mode": {
    "name": "ipython",
    "version": 3
   },
   "file_extension": ".py",
   "mimetype": "text/x-python",
   "name": "python",
   "nbconvert_exporter": "python",
   "pygments_lexer": "ipython3",
   "version": "3.9.12"
  },
  "toc": {
   "base_numbering": 1,
   "nav_menu": {},
   "number_sections": true,
   "sideBar": true,
   "skip_h1_title": false,
   "title_cell": "Table of Contents",
   "title_sidebar": "Contents",
   "toc_cell": false,
   "toc_position": {
    "height": "calc(100% - 180px)",
    "left": "10px",
    "top": "150px",
    "width": "294.55px"
   },
   "toc_section_display": true,
   "toc_window_display": true
  }
 },
 "nbformat": 4,
 "nbformat_minor": 5
}
