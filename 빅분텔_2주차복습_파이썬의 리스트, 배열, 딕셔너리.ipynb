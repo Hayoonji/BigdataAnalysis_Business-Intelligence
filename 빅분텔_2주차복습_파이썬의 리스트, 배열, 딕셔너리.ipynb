{
 "cells": [
  {
   "cell_type": "code",
   "execution_count": 74,
   "id": "018c5a85",
   "metadata": {},
   "outputs": [],
   "source": [
    "import numpy as np"
   ]
  },
  {
   "cell_type": "markdown",
   "id": "44bb9004",
   "metadata": {},
   "source": [
    "# Collections"
   ]
  },
  {
   "cell_type": "markdown",
   "id": "a9d5a722",
   "metadata": {},
   "source": [
    "1. 다수의 데이터(여러개의 원소)를 저장할 수 있는 자료구조\n",
    "2. 파이썬의 collection: 리스트, array, 딕셔너리, set, dataFrame"
   ]
  },
  {
   "cell_type": "markdown",
   "id": "5573bdd3",
   "metadata": {},
   "source": [
    "자료유형(Type)\n",
    "- 1개의 원소를 저장할 수 있는 자료구조\n",
    "-파이썬의 자료유형:int, str, float"
   ]
  },
  {
   "cell_type": "markdown",
   "id": "21576aba",
   "metadata": {},
   "source": [
    "# 리스트(List)"
   ]
  },
  {
   "cell_type": "markdown",
   "id": "8485d3ec",
   "metadata": {},
   "source": [
    "원소들을 연결하여 나열해 놓은 것\n"
   ]
  },
  {
   "cell_type": "markdown",
   "id": "b0989b43",
   "metadata": {},
   "source": [
    "## 리스트 생성"
   ]
  },
  {
   "cell_type": "markdown",
   "id": "43cd3ed2",
   "metadata": {},
   "source": [
    "1. [] 안에 리스트의 원소들 나열\n",
    "2. list() 함수 사용"
   ]
  },
  {
   "cell_type": "code",
   "execution_count": 18,
   "id": "b98d9993",
   "metadata": {},
   "outputs": [
    {
     "data": {
      "text/plain": [
       "2"
      ]
     },
     "execution_count": 18,
     "metadata": {},
     "output_type": "execute_result"
    }
   ],
   "source": [
    "#[]안에 리스트의 원소들나열\n",
    "aList=[2,4,6,8]\n",
    "aList[0]"
   ]
  },
  {
   "cell_type": "code",
   "execution_count": 17,
   "id": "43dd9599",
   "metadata": {},
   "outputs": [
    {
     "data": {
      "text/plain": [
       "8"
      ]
     },
     "execution_count": 17,
     "metadata": {},
     "output_type": "execute_result"
    }
   ],
   "source": [
    "aList[-1]"
   ]
  },
  {
   "cell_type": "code",
   "execution_count": 19,
   "id": "31c96bbb",
   "metadata": {},
   "outputs": [
    {
     "name": "stdout",
     "output_type": "stream",
     "text": [
      "[1, 3, 5, 7, 9]\n"
     ]
    }
   ],
   "source": [
    "#list()함수 사용\n",
    "bList=list(range(1,10,2))\n",
    "print(bList)"
   ]
  },
  {
   "cell_type": "markdown",
   "id": "25230b9f",
   "metadata": {},
   "source": [
    "## 데이터 삽입, 삭제"
   ]
  },
  {
   "cell_type": "markdown",
   "id": "d246d287",
   "metadata": {},
   "source": [
    "1. 리스트 중간에 다른 데이터 삽입 시, 주소만 바꾸기/ 위치이동X"
   ]
  },
  {
   "cell_type": "markdown",
   "id": "ddad3337",
   "metadata": {},
   "source": [
    "## 데이터 저장 "
   ]
  },
  {
   "cell_type": "markdown",
   "id": "5eb117d6",
   "metadata": {},
   "source": [
    "1. 유연하게 메모리 저장\n",
    "2. 연속될 필요 X"
   ]
  },
  {
   "cell_type": "markdown",
   "id": "c9c1ee95",
   "metadata": {},
   "source": [
    "## 데이터 타입"
   ]
  },
  {
   "cell_type": "markdown",
   "id": "b132451e",
   "metadata": {},
   "source": [
    "1. 데이터들의 타입 모두 달라도 됨(혼합형식의 원소생성가능)\n",
    "2. 리스트 생성 시, 타입 지정필요X"
   ]
  },
  {
   "cell_type": "code",
   "execution_count": 20,
   "id": "983700d9",
   "metadata": {},
   "outputs": [
    {
     "name": "stdout",
     "output_type": "stream",
     "text": [
      "[2, 4, 6, 'my name', '1234']\n"
     ]
    }
   ],
   "source": [
    "cList=[2,4,6,'my name','1234']\n",
    "print(cList)"
   ]
  },
  {
   "cell_type": "code",
   "execution_count": 21,
   "id": "3ad765d4",
   "metadata": {},
   "outputs": [
    {
     "data": {
      "text/plain": [
       "'my name'"
      ]
     },
     "execution_count": 21,
     "metadata": {},
     "output_type": "execute_result"
    }
   ],
   "source": [
    "cList[-2]"
   ]
  },
  {
   "cell_type": "code",
   "execution_count": 22,
   "id": "7f05aa93",
   "metadata": {},
   "outputs": [
    {
     "data": {
      "text/plain": [
       "str"
      ]
     },
     "execution_count": 22,
     "metadata": {},
     "output_type": "execute_result"
    }
   ],
   "source": [
    "type(cList[-1])"
   ]
  },
  {
   "cell_type": "markdown",
   "id": "399b2ccf",
   "metadata": {},
   "source": [
    "## 데이터 검색"
   ]
  },
  {
   "cell_type": "markdown",
   "id": "0d84f09a",
   "metadata": {},
   "source": [
    "1. 리스트 중에서 특정 원소 찾아가는 법\n",
    "- 처음(또는 끝) 원소의 위치 기억\n",
    "- 순차적으로 연결된 원소들을 방문하여 원하는 원소 찾기\n",
    "-ex) 3 검색시, 1->2->3 으로 찾아가야됨"
   ]
  },
  {
   "cell_type": "markdown",
   "id": "b90bf932",
   "metadata": {},
   "source": [
    "## 리스트의 조작"
   ]
  },
  {
   "cell_type": "code",
   "execution_count": 33,
   "id": "c0d3844f",
   "metadata": {},
   "outputs": [],
   "source": [
    "#빈 리스트 생성\n",
    "aList=[]\n",
    "#리스트 맨 뒤에 원소 추가\n",
    "aList.append(10)"
   ]
  },
  {
   "cell_type": "code",
   "execution_count": 44,
   "id": "82b1312c",
   "metadata": {},
   "outputs": [
    {
     "data": {
      "text/plain": [
       "[3, 4]"
      ]
     },
     "execution_count": 44,
     "metadata": {},
     "output_type": "execute_result"
    }
   ],
   "source": [
    "numL=[2,3,4,5]\n",
    "#리스트 특정 위치에 원소 추가\n",
    "numL.insert(0,'처음')\n",
    "#리스트 특정위치의 값 바꿈\n",
    "#aList[0]=365\n",
    "#리스트 맨 뒤 원소 추출\n",
    "numL.pop(1)\n",
    "#특정 위치의 원소를 리스트로부터 추출\n",
    "numL.pop(3)\n",
    "#특정 위치의 원소를 리스트로부터 제거\n",
    "del numL[0]\n",
    "#리스트 결합\n",
    "numL.extend(['a','n','o'])\n",
    "#리스트 일부 추출\n",
    "numL[0:2]\n",
    "#print(numL)"
   ]
  },
  {
   "cell_type": "markdown",
   "id": "38917598",
   "metadata": {},
   "source": [
    "## 리스트 in/not in"
   ]
  },
  {
   "cell_type": "markdown",
   "id": "58634386",
   "metadata": {},
   "source": [
    "리스트에 원소 포함여부 확인(리스트를 집합처럼 사용)"
   ]
  },
  {
   "cell_type": "code",
   "execution_count": 46,
   "id": "450c9623",
   "metadata": {},
   "outputs": [
    {
     "name": "stdout",
     "output_type": "stream",
     "text": [
      "3 is not in a list\n"
     ]
    }
   ],
   "source": [
    "l2=[1,333,'abc',7,9]\n",
    "if(5 in l2):\n",
    "    print('3 is in a list')\n",
    "else:\n",
    "    print('3 is not in a list')"
   ]
  },
  {
   "cell_type": "markdown",
   "id": "23b23f7e",
   "metadata": {},
   "source": [
    "## 리스트에 새 변수명 부여"
   ]
  },
  {
   "cell_type": "markdown",
   "id": "1af50a03",
   "metadata": {},
   "source": [
    "1개의 리스트에 2개의 이름 부여"
   ]
  },
  {
   "cell_type": "code",
   "execution_count": 50,
   "id": "2c81424b",
   "metadata": {},
   "outputs": [],
   "source": [
    "my_num=[10,20,30,40]\n",
    "my_copy=my_num\n",
    "my_copy[2]*=-1"
   ]
  },
  {
   "cell_type": "code",
   "execution_count": 51,
   "id": "7c0b417c",
   "metadata": {},
   "outputs": [
    {
     "data": {
      "text/plain": [
       "[10, 20, -30, 40]"
      ]
     },
     "execution_count": 51,
     "metadata": {},
     "output_type": "execute_result"
    }
   ],
   "source": [
    "my_copy"
   ]
  },
  {
   "cell_type": "code",
   "execution_count": 52,
   "id": "1ad57d1d",
   "metadata": {},
   "outputs": [
    {
     "data": {
      "text/plain": [
       "[10, 20, -30, 40]"
      ]
     },
     "execution_count": 52,
     "metadata": {},
     "output_type": "execute_result"
    }
   ],
   "source": [
    "my_num"
   ]
  },
  {
   "cell_type": "markdown",
   "id": "7b7cc6ca",
   "metadata": {},
   "source": [
    "**결과) my_num과 my_copy는 같은 리스트를 공유하고 있기에 새 변수명 부여한 곳에 연산 시, 원본에도 적용됨"
   ]
  },
  {
   "cell_type": "markdown",
   "id": "394fb672",
   "metadata": {},
   "source": [
    "## 리스트의 복사"
   ]
  },
  {
   "cell_type": "markdown",
   "id": "01c3e545",
   "metadata": {},
   "source": [
    "리스트를 복사해서 2개로 만들고, 새 이름을 부여한 것"
   ]
  },
  {
   "cell_type": "code",
   "execution_count": 54,
   "id": "36462931",
   "metadata": {},
   "outputs": [],
   "source": [
    "my_num=[10,20,30,40]\n",
    "my_copy=my_num[:] #my_copy=my_num.copy()와 같은 표현\n",
    "my_copy[2]*=-1"
   ]
  },
  {
   "cell_type": "code",
   "execution_count": 55,
   "id": "71705159",
   "metadata": {},
   "outputs": [
    {
     "data": {
      "text/plain": [
       "[10, 20, -30, 40]"
      ]
     },
     "execution_count": 55,
     "metadata": {},
     "output_type": "execute_result"
    }
   ],
   "source": [
    "my_copy"
   ]
  },
  {
   "cell_type": "code",
   "execution_count": 56,
   "id": "2a6aa55f",
   "metadata": {},
   "outputs": [
    {
     "data": {
      "text/plain": [
       "[10, 20, 30, 40]"
      ]
     },
     "execution_count": 56,
     "metadata": {},
     "output_type": "execute_result"
    }
   ],
   "source": [
    "my_num"
   ]
  },
  {
   "cell_type": "markdown",
   "id": "22750c6b",
   "metadata": {},
   "source": [
    "**결과) 리스트 복사 시, 똑같은 리스트가 하나 더 따로 생기는 것. 따라서 새 변수명 부여한 곳에 연산 시, 원본에는 적용X"
   ]
  },
  {
   "cell_type": "markdown",
   "id": "ca085312",
   "metadata": {},
   "source": [
    "# 배열(Array)"
   ]
  },
  {
   "cell_type": "markdown",
   "id": "6bdb9be8",
   "metadata": {},
   "source": [
    "원소들을 연속된 공간에 순서대로 나열해 놓은 것"
   ]
  },
  {
   "cell_type": "markdown",
   "id": "5646a3b6",
   "metadata": {},
   "source": [
    "## 데이터 입력, 삭제"
   ]
  },
  {
   "cell_type": "markdown",
   "id": "46eec3be",
   "metadata": {},
   "source": [
    "## 데이터 저장"
   ]
  },
  {
   "cell_type": "markdown",
   "id": "e21636ef",
   "metadata": {},
   "source": [
    "1. 데이터 연속되어야 함"
   ]
  },
  {
   "cell_type": "markdown",
   "id": "ea5a155f",
   "metadata": {},
   "source": [
    "## 데이터 타입"
   ]
  },
  {
   "cell_type": "markdown",
   "id": "2876fde1",
   "metadata": {},
   "source": [
    "1. 데이터 타입 모두 동일해야 됨"
   ]
  },
  {
   "cell_type": "markdown",
   "id": "d66a64f5",
   "metadata": {},
   "source": [
    "## 데이터 검색"
   ]
  },
  {
   "cell_type": "markdown",
   "id": "2bfb3010",
   "metadata": {},
   "source": [
    "1. 원소의 저장위치(인덱스:0,1,2,...)알 경우,\n",
    "바로 해당 원소가 저장된 위치 찾아감(앞에 거쳐서 찾지 않음)"
   ]
  },
  {
   "cell_type": "markdown",
   "id": "9a420bf2",
   "metadata": {},
   "source": [
    "# 리스트와 배열의 차이점"
   ]
  },
  {
   "cell_type": "markdown",
   "id": "efc9a666",
   "metadata": {},
   "source": [
    "## 리스트"
   ]
  },
  {
   "cell_type": "markdown",
   "id": "d4f313bf",
   "metadata": {},
   "source": [
    "1. 전체 원소들의 수를 처음부터 고려할 필요 없음\n",
    "2. 중간 원소를 찾아가려면 맨 처음 원소를 찾아간 후 '순차적'으로 따라가야 하기 때문에 검색 시간 오래걸림\n",
    "3. 중간에 데이터 추가가 용이(데이터 간 주소만 바꾸고, 위치이동x)"
   ]
  },
  {
   "cell_type": "markdown",
   "id": "a3b12ab1",
   "metadata": {},
   "source": [
    "## 배열(Array)"
   ]
  },
  {
   "cell_type": "markdown",
   "id": "910f95f6",
   "metadata": {},
   "source": [
    "1. 전체 원소들의 수를 처음부터 고려하여 '연속된' 공간 확보\n",
    "2. 중간에 있는 N번째 원소 찾아가려면, 인덱스 사용해서 '바로 찾아갈' 수 있음. 즉, 맨 처음 원소가 있는 위치에서 N-1번 만큼의 공간을 건너뛰어서 바로 찾아감\n",
    "3. 중간에 데이터 추가 하기 위해서는 기존에 있는 원소들을 '하나씩 뒤로 이동시킨 후' 만들어진 빈 공간에 새로운 원소 채워넣어야 하기 때문에, 배열의 갱신(추가OR삭제) 시간 오래걸림"
   ]
  },
  {
   "cell_type": "markdown",
   "id": "8bda7af2",
   "metadata": {},
   "source": [
    "# 딕셔너리(Dictionary)"
   ]
  },
  {
   "cell_type": "markdown",
   "id": "7e4d91b6",
   "metadata": {},
   "source": [
    "1. (key,value)쌍으로 이루어진 데이터 구조\n",
    "2. key를 이용하여 value검색\n",
    "3. Map(맵)이라고도 함"
   ]
  },
  {
   "cell_type": "markdown",
   "id": "c53aafe3",
   "metadata": {},
   "source": [
    "## 리스트,배열 vs 딕셔너리 차이점"
   ]
  },
  {
   "cell_type": "code",
   "execution_count": 60,
   "id": "e07f8ab8",
   "metadata": {},
   "outputs": [
    {
     "data": {
      "text/plain": [
       "3.5"
      ]
     },
     "execution_count": 60,
     "metadata": {},
     "output_type": "execute_result"
    }
   ],
   "source": [
    "#딕셔너리 : 키를 사용하여 검색\n",
    "class_score_dict={'ITConsulting':4.5,'DB':3.5,'MIS':3.0,'Programming':4.0}\n",
    "class_score_dict['DB']"
   ]
  },
  {
   "cell_type": "code",
   "execution_count": 61,
   "id": "8aae6163",
   "metadata": {},
   "outputs": [
    {
     "data": {
      "text/plain": [
       "3.5"
      ]
     },
     "execution_count": 61,
     "metadata": {},
     "output_type": "execute_result"
    }
   ],
   "source": [
    "# 리스트, 배열: 인덱스를 사용하여 검색\n",
    "class_score_list=[4.5,3.5,3.0,4.0]\n",
    "class_score_list[1]"
   ]
  },
  {
   "cell_type": "markdown",
   "id": "cae3e9f4",
   "metadata": {},
   "source": [
    "## 딕셔너리 값의 리스트화"
   ]
  },
  {
   "cell_type": "markdown",
   "id": "542c652c",
   "metadata": {},
   "source": [
    "딕셔너리에서 value는 리스트가 될 수 있음"
   ]
  },
  {
   "cell_type": "code",
   "execution_count": 6,
   "id": "8927ee07",
   "metadata": {},
   "outputs": [
    {
     "data": {
      "text/plain": [
       "['2016001', '2017001', 18002]"
      ]
     },
     "execution_count": 6,
     "metadata": {},
     "output_type": "execute_result"
    }
   ],
   "source": [
    "Grade_dict={'학번':['2016001','2017001',18002],'중간':[70,80,90],'기말':[80,90,80]}\n",
    "Grade_dict['학번']"
   ]
  },
  {
   "cell_type": "code",
   "execution_count": 66,
   "id": "0669fc58",
   "metadata": {},
   "outputs": [
    {
     "data": {
      "text/plain": [
       "[80, 90, 80]"
      ]
     },
     "execution_count": 66,
     "metadata": {},
     "output_type": "execute_result"
    }
   ],
   "source": [
    "Grade_dict['기말']"
   ]
  },
  {
   "cell_type": "markdown",
   "id": "f3467d03",
   "metadata": {},
   "source": [
    "## 딕셔너리 수정"
   ]
  },
  {
   "cell_type": "code",
   "execution_count": 69,
   "id": "dd6b1fb3",
   "metadata": {},
   "outputs": [
    {
     "data": {
      "text/plain": [
       "{'ITConsulting': 4.5, 'DB': 4.0, 'MIS': 3.0, 'Programming': 4.0}"
      ]
     },
     "execution_count": 69,
     "metadata": {},
     "output_type": "execute_result"
    }
   ],
   "source": [
    "class_score_dict['DB']=4.0\n",
    "class_score_dict"
   ]
  },
  {
   "cell_type": "markdown",
   "id": "a99d6f76",
   "metadata": {},
   "source": [
    "## 딕셔너리 삭제"
   ]
  },
  {
   "cell_type": "code",
   "execution_count": 70,
   "id": "58d676b9",
   "metadata": {
    "scrolled": true
   },
   "outputs": [
    {
     "data": {
      "text/plain": [
       "{'ITConsulting': 4.5, 'MIS': 3.0, 'Programming': 4.0}"
      ]
     },
     "execution_count": 70,
     "metadata": {},
     "output_type": "execute_result"
    }
   ],
   "source": [
    "del class_score_dict['DB']\n",
    "class_score_dict"
   ]
  },
  {
   "cell_type": "markdown",
   "id": "63da61e6",
   "metadata": {},
   "source": [
    "## 딕셔너리 활용"
   ]
  },
  {
   "cell_type": "markdown",
   "id": "870e68b0",
   "metadata": {},
   "source": [
    "### 다차원 배열의 검색"
   ]
  },
  {
   "cell_type": "code",
   "execution_count": 72,
   "id": "829ca780",
   "metadata": {},
   "outputs": [],
   "source": [
    "year={'2018':0,'2019':1,'2020':2}\n",
    "course={'IT컨설팅':0,'DB':1,'MIS':2,'Programming':3}"
   ]
  },
  {
   "cell_type": "code",
   "execution_count": 75,
   "id": "37764114",
   "metadata": {},
   "outputs": [],
   "source": [
    "StudentSize=np.array([[23,20,30],\n",
    "                     [40,35,30],\n",
    "                     [60,60,60],\n",
    "                     [40,35,45]])"
   ]
  },
  {
   "cell_type": "code",
   "execution_count": 76,
   "id": "ae6ed1ff",
   "metadata": {},
   "outputs": [
    {
     "data": {
      "text/plain": [
       "20"
      ]
     },
     "execution_count": 76,
     "metadata": {},
     "output_type": "execute_result"
    }
   ],
   "source": [
    "StudentSize[0][1] #배열의 값검색"
   ]
  },
  {
   "cell_type": "code",
   "execution_count": 78,
   "id": "35a8f5c3",
   "metadata": {},
   "outputs": [
    {
     "data": {
      "text/plain": [
       "20"
      ]
     },
     "execution_count": 78,
     "metadata": {},
     "output_type": "execute_result"
    }
   ],
   "source": [
    "StudentSize[course['IT컨설팅'],year['2019']] #딕셔너리의 값 검색"
   ]
  },
  {
   "cell_type": "markdown",
   "id": "5ebc3988",
   "metadata": {},
   "source": [
    "# Control Structures"
   ]
  },
  {
   "cell_type": "markdown",
   "id": "9028d5b6",
   "metadata": {},
   "source": [
    "## while문"
   ]
  },
  {
   "cell_type": "markdown",
   "id": "85ea0f6e",
   "metadata": {},
   "source": [
    "- while(condition):\n",
    "    statements\n",
    "- condition에 true/false 조건식 표시(조건식이 false면 종료)"
   ]
  },
  {
   "cell_type": "code",
   "execution_count": 82,
   "id": "b6aeb80d",
   "metadata": {},
   "outputs": [
    {
     "name": "stdout",
     "output_type": "stream",
     "text": [
      "4\n",
      "3\n",
      "2\n",
      "1\n",
      "Bang\n"
     ]
    }
   ],
   "source": [
    "x=5\n",
    "while x!=0:\n",
    "    x-=1\n",
    "    if(x!=0):\n",
    "        print(x)\n",
    "    else:\n",
    "        print(\"Bang\")"
   ]
  },
  {
   "cell_type": "markdown",
   "id": "fa7d3cb0",
   "metadata": {},
   "source": [
    "## For문"
   ]
  },
  {
   "cell_type": "markdown",
   "id": "68814a13",
   "metadata": {},
   "source": [
    "- for(원소 in 데이터셋): statements\n",
    "- condition에 for문 적용될 원소들 정의"
   ]
  },
  {
   "cell_type": "markdown",
   "id": "f604d985",
   "metadata": {},
   "source": [
    "### 리스트"
   ]
  },
  {
   "cell_type": "code",
   "execution_count": 92,
   "id": "45cac312",
   "metadata": {},
   "outputs": [
    {
     "name": "stdout",
     "output_type": "stream",
     "text": [
      "start\n",
      "tiger\n",
      "dog\n",
      "elephant\n",
      "end\n"
     ]
    }
   ],
   "source": [
    "#저장해놓은 순서대로 출력\n",
    "animals=['start','tiger','dog','elephant','end']\n",
    "for e in animals:\n",
    "    print(e)"
   ]
  },
  {
   "cell_type": "markdown",
   "id": "12db62dd",
   "metadata": {},
   "source": [
    "#### enumerate"
   ]
  },
  {
   "cell_type": "markdown",
   "id": "0164a496",
   "metadata": {},
   "source": [
    "- 리스트의 원소(value)에 추가하여 index도 같이 추출"
   ]
  },
  {
   "cell_type": "code",
   "execution_count": 116,
   "id": "6afa4c51",
   "metadata": {},
   "outputs": [
    {
     "name": "stdout",
     "output_type": "stream",
     "text": [
      "index0 tiger\n",
      "index1 dog\n",
      "index2 elephant\n"
     ]
    }
   ],
   "source": [
    "animals=['tiger','dog','elephant']\n",
    "for index, value in enumerate(animals):\n",
    "    print('index'+str(index),value)"
   ]
  },
  {
   "cell_type": "markdown",
   "id": "9a48d160",
   "metadata": {},
   "source": [
    "#### 리스트의 리스트"
   ]
  },
  {
   "cell_type": "markdown",
   "id": "196590ec",
   "metadata": {},
   "source": [
    "- 하위 리스트의 원소 : 임의의 이름 부여, 인덱스 사용"
   ]
  },
  {
   "cell_type": "code",
   "execution_count": 119,
   "id": "b201ec1c",
   "metadata": {},
   "outputs": [
    {
     "name": "stdout",
     "output_type": "stream",
     "text": [
      "strawberry is red\n",
      "peach is pink\n",
      "banana is yellow\n"
     ]
    }
   ],
   "source": [
    "#임의의 이름 부여\n",
    "fruits=[['strawberry','red'],\n",
    "       ['peach','pink'],\n",
    "       ['banana','yellow']]\n",
    "for name, color in fruits:\n",
    "    print(name, 'is',color)"
   ]
  },
  {
   "cell_type": "code",
   "execution_count": 120,
   "id": "e86bee35",
   "metadata": {},
   "outputs": [
    {
     "name": "stdout",
     "output_type": "stream",
     "text": [
      "strawberry is red\n",
      "peach is pink\n",
      "banana is yellow\n"
     ]
    }
   ],
   "source": [
    "# 인덱스 사용\n",
    "for e in fruits:\n",
    "    print(e[0],'is',e[1])"
   ]
  },
  {
   "cell_type": "markdown",
   "id": "1fbf6814",
   "metadata": {},
   "source": [
    "### 딕셔너리"
   ]
  },
  {
   "cell_type": "markdown",
   "id": "5427f029",
   "metadata": {},
   "source": [
    "- .items()함수 사용하여 딕셔너리의 원소 추출"
   ]
  },
  {
   "cell_type": "code",
   "execution_count": 3,
   "id": "c2ad9058",
   "metadata": {},
   "outputs": [
    {
     "name": "stdout",
     "output_type": "stream",
     "text": [
      "strawberry is red\n",
      "peach is pink\n",
      "banana is yellow\n"
     ]
    }
   ],
   "source": [
    "fruits={'strawberry':'red',\n",
    "       'peach':'pink',\n",
    "       'banana':'yellow'}\n",
    "for name, color in fruits.items():\n",
    "    print(name+' is '+color)"
   ]
  },
  {
   "cell_type": "markdown",
   "id": "6ca18d60",
   "metadata": {},
   "source": [
    "### 집합"
   ]
  },
  {
   "cell_type": "code",
   "execution_count": 4,
   "id": "5e69bfc6",
   "metadata": {},
   "outputs": [
    {
     "name": "stdout",
     "output_type": "stream",
     "text": [
      "start\n",
      "elephant\n",
      "end\n",
      "tiger\n",
      "dog\n"
     ]
    }
   ],
   "source": [
    "#저장해놓은 순서대로 출력X(아무렇게나 뽑아내기)\n",
    "animals={'start','tiger','dog','elephant','end'}\n",
    "for e in animals:\n",
    "    print(e)"
   ]
  },
  {
   "cell_type": "markdown",
   "id": "ff44b252",
   "metadata": {},
   "source": [
    "# 집합(set)"
   ]
  },
  {
   "cell_type": "markdown",
   "id": "b779b94d",
   "metadata": {},
   "source": [
    "집합 연산자들 : 교집합, 합집합, 차집합"
   ]
  },
  {
   "cell_type": "code",
   "execution_count": 96,
   "id": "1571d88d",
   "metadata": {},
   "outputs": [],
   "source": [
    "oSet={1,3,5}\n",
    "eSet={2,4,6}"
   ]
  },
  {
   "cell_type": "code",
   "execution_count": 97,
   "id": "12791faa",
   "metadata": {},
   "outputs": [
    {
     "data": {
      "text/plain": [
       "set"
      ]
     },
     "execution_count": 97,
     "metadata": {},
     "output_type": "execute_result"
    }
   ],
   "source": [
    "type(eSet)"
   ]
  },
  {
   "cell_type": "markdown",
   "id": "23e11a7a",
   "metadata": {},
   "source": [
    "## 집합의 연산자들"
   ]
  },
  {
   "cell_type": "markdown",
   "id": "cc472c37",
   "metadata": {},
   "source": [
    "### 교집합"
   ]
  },
  {
   "cell_type": "markdown",
   "id": "a2c62bdf",
   "metadata": {},
   "source": [
    "- intersection"
   ]
  },
  {
   "cell_type": "code",
   "execution_count": 98,
   "id": "b1b3609f",
   "metadata": {},
   "outputs": [
    {
     "data": {
      "text/plain": [
       "set()"
      ]
     },
     "execution_count": 98,
     "metadata": {},
     "output_type": "execute_result"
    }
   ],
   "source": [
    "oSet.intersection(eSet)"
   ]
  },
  {
   "cell_type": "markdown",
   "id": "02149b05",
   "metadata": {},
   "source": [
    "### 합집합"
   ]
  },
  {
   "cell_type": "markdown",
   "id": "015f538a",
   "metadata": {},
   "source": [
    "- union"
   ]
  },
  {
   "cell_type": "code",
   "execution_count": 99,
   "id": "08179674",
   "metadata": {},
   "outputs": [
    {
     "data": {
      "text/plain": [
       "{1, 2, 3, 4, 5, 6}"
      ]
     },
     "execution_count": 99,
     "metadata": {},
     "output_type": "execute_result"
    }
   ],
   "source": [
    "oSet.union(eSet)"
   ]
  },
  {
   "cell_type": "markdown",
   "id": "5e817239",
   "metadata": {},
   "source": [
    "### 차집합"
   ]
  },
  {
   "cell_type": "markdown",
   "id": "80884bd6",
   "metadata": {},
   "source": [
    "- A-B = .union(A).difference(B)"
   ]
  },
  {
   "cell_type": "code",
   "execution_count": 102,
   "id": "25899e14",
   "metadata": {},
   "outputs": [
    {
     "data": {
      "text/plain": [
       "{2, 4, 6}"
      ]
     },
     "execution_count": 102,
     "metadata": {},
     "output_type": "execute_result"
    }
   ],
   "source": [
    "oSet.union(eSet).difference(oSet)"
   ]
  },
  {
   "cell_type": "markdown",
   "id": "3b00e44a",
   "metadata": {},
   "source": [
    "### 원소의 포함여부"
   ]
  },
  {
   "cell_type": "markdown",
   "id": "9a8c81ed",
   "metadata": {},
   "source": [
    "in / not in"
   ]
  },
  {
   "cell_type": "code",
   "execution_count": 108,
   "id": "4a04a1b5",
   "metadata": {},
   "outputs": [],
   "source": [
    "animals={'start','tiger','dog','elephant','end'}\n",
    "e='tiger'"
   ]
  },
  {
   "cell_type": "code",
   "execution_count": 109,
   "id": "b683136a",
   "metadata": {},
   "outputs": [
    {
     "data": {
      "text/plain": [
       "True"
      ]
     },
     "execution_count": 109,
     "metadata": {},
     "output_type": "execute_result"
    }
   ],
   "source": [
    "e in animals"
   ]
  },
  {
   "cell_type": "code",
   "execution_count": 110,
   "id": "c4c36e17",
   "metadata": {},
   "outputs": [
    {
     "data": {
      "text/plain": [
       "True"
      ]
     },
     "execution_count": 110,
     "metadata": {},
     "output_type": "execute_result"
    }
   ],
   "source": [
    "'cat' not in animals"
   ]
  },
  {
   "cell_type": "markdown",
   "id": "1256f1a1",
   "metadata": {},
   "source": [
    "### 원소의 추가 "
   ]
  },
  {
   "cell_type": "markdown",
   "id": "b280f726",
   "metadata": {},
   "source": [
    ".add()"
   ]
  },
  {
   "cell_type": "code",
   "execution_count": 111,
   "id": "8fd3e7f0",
   "metadata": {},
   "outputs": [],
   "source": [
    "animals.add('cat')"
   ]
  },
  {
   "cell_type": "code",
   "execution_count": 112,
   "id": "f0359fa2",
   "metadata": {},
   "outputs": [
    {
     "data": {
      "text/plain": [
       "{'cat', 'dog', 'elephant', 'end', 'start', 'tiger'}"
      ]
     },
     "execution_count": 112,
     "metadata": {},
     "output_type": "execute_result"
    }
   ],
   "source": [
    "animals"
   ]
  },
  {
   "cell_type": "markdown",
   "id": "b7c886f0",
   "metadata": {},
   "source": [
    "### 원소의 삭제"
   ]
  },
  {
   "cell_type": "markdown",
   "id": "7999b731",
   "metadata": {},
   "source": [
    ".discard()"
   ]
  },
  {
   "cell_type": "code",
   "execution_count": 113,
   "id": "c633b7d8",
   "metadata": {},
   "outputs": [],
   "source": [
    "animals.discard('elephant')"
   ]
  },
  {
   "cell_type": "code",
   "execution_count": 114,
   "id": "3f41b2fc",
   "metadata": {},
   "outputs": [
    {
     "data": {
      "text/plain": [
       "{'cat', 'dog', 'end', 'start', 'tiger'}"
      ]
     },
     "execution_count": 114,
     "metadata": {},
     "output_type": "execute_result"
    }
   ],
   "source": [
    "animals"
   ]
  },
  {
   "cell_type": "code",
   "execution_count": null,
   "id": "c551a62d",
   "metadata": {},
   "outputs": [],
   "source": []
  },
  {
   "cell_type": "code",
   "execution_count": null,
   "id": "d29eaa2e",
   "metadata": {},
   "outputs": [],
   "source": []
  }
 ],
 "metadata": {
  "kernelspec": {
   "display_name": "Python 3 (ipykernel)",
   "language": "python",
   "name": "python3"
  },
  "language_info": {
   "codemirror_mode": {
    "name": "ipython",
    "version": 3
   },
   "file_extension": ".py",
   "mimetype": "text/x-python",
   "name": "python",
   "nbconvert_exporter": "python",
   "pygments_lexer": "ipython3",
   "version": "3.9.12"
  },
  "toc": {
   "base_numbering": 1,
   "nav_menu": {},
   "number_sections": true,
   "sideBar": true,
   "skip_h1_title": false,
   "title_cell": "Table of Contents",
   "title_sidebar": "Contents",
   "toc_cell": false,
   "toc_position": {
    "height": "calc(100% - 180px)",
    "left": "10px",
    "top": "150px",
    "width": "232px"
   },
   "toc_section_display": true,
   "toc_window_display": true
  }
 },
 "nbformat": 4,
 "nbformat_minor": 5
}
