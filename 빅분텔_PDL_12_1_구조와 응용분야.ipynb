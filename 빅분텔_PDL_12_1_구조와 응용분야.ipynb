{
 "cells": [
  {
   "cell_type": "markdown",
   "id": "1a3eaa48",
   "metadata": {},
   "source": [
    "# Convolutional Neural Network"
   ]
  },
  {
   "cell_type": "markdown",
   "id": "efeb9573",
   "metadata": {},
   "source": [
    "## 이미지 인식에 적용"
   ]
  },
  {
   "cell_type": "markdown",
   "id": "0cb1b8a7",
   "metadata": {},
   "source": [
    "- 이미지의 2차원적 특성을 딥러닝에 적용\n",
    "\n",
    "> SLP, MLP : 2차원 이미지 데이터를 1차원 매트릭스로 변환하여 처리\n",
    "\n",
    "> CNN : 2차원 이미지 데이터를 2차원 매트릭스로 처리"
   ]
  },
  {
   "cell_type": "markdown",
   "id": "00b07bec",
   "metadata": {},
   "source": [
    "### CNN의 구조"
   ]
  },
  {
   "cell_type": "markdown",
   "id": "b96b0539",
   "metadata": {},
   "source": [
    "## 이미지 인식의 종류"
   ]
  },
  {
   "cell_type": "markdown",
   "id": "b7398658",
   "metadata": {},
   "source": [
    "### 이미지 분류"
   ]
  },
  {
   "cell_type": "markdown",
   "id": "f9882051",
   "metadata": {},
   "source": [
    "- 단일개체"
   ]
  },
  {
   "cell_type": "markdown",
   "id": "69c2143a",
   "metadata": {},
   "source": [
    "### 영상 분할"
   ]
  },
  {
   "cell_type": "markdown",
   "id": "75d742ff",
   "metadata": {},
   "source": [
    "- 이미지의 경계 식별"
   ]
  },
  {
   "cell_type": "markdown",
   "id": "63e42c06",
   "metadata": {},
   "source": [
    "### 개체 식별"
   ]
  },
  {
   "cell_type": "markdown",
   "id": "b3bc5a62",
   "metadata": {},
   "source": [
    "- 복수 개체 식별"
   ]
  },
  {
   "cell_type": "markdown",
   "id": "63c99a57",
   "metadata": {},
   "source": [
    "# Convolution(합성곱)"
   ]
  },
  {
   "cell_type": "markdown",
   "id": "904c68a8",
   "metadata": {},
   "source": [
    "## 2차원 이미지의 특징 도출하는 방법"
   ]
  },
  {
   "cell_type": "markdown",
   "id": "408c4eb6",
   "metadata": {},
   "source": [
    "- 2차원 이미지를 나타내는 행렬에\n",
    "- 이미지의 특징을 추출하는 행렬(=kernal or filter라고 함)을 곱하여,\n",
    "- 이미지 행렬과 kernal의 곱셈은 매트릭스의 내적연산이 아니라 원소들 사이의 곱(=매트릭스를 벡터로 고쳐서 벡터의 내적연산 실행=걍 같은위치끼리 곱해서 더하기)으로 계산함\n",
    "-> 가운데 원래 kernal(filter)의 크기만큼만 남겨두고, 나머지 제외\n",
    "\n"
   ]
  },
  {
   "cell_type": "markdown",
   "id": "e8be088f",
   "metadata": {},
   "source": [
    "## Padding"
   ]
  },
  {
   "cell_type": "markdown",
   "id": "fd95751f",
   "metadata": {},
   "source": [
    "- 0을 다 집어넣는 셀이 있다고 가정 = 전부다 0이 있는게 하나씩 더 있다고 생각(정사각형행렬을 둘러싼 더 큰 정사각 0행렬이 있다고 보기)\n",
    "-> valid : kernal연산하면, 합성된 행렬크기가 kernal의 크기에 따라 줄어듦\n",
    "-> same : 합성된 행렬 크기가 원행렬과 같게 만들기 위해 zero채운 뒤 매트릭스 곱셈 수행"
   ]
  },
  {
   "cell_type": "markdown",
   "id": "562b6742",
   "metadata": {},
   "source": [
    "## 합성곱의 의미"
   ]
  },
  {
   "cell_type": "markdown",
   "id": "8d4088d0",
   "metadata": {},
   "source": [
    "- 2개의 2차원 배열을 원소별 곱셈(=벡터의 내적계산(dot product)와 동일)\n",
    "-> 이미지 배열 중 '커널과 계산될 부분'을 일차적 배열로 정렬\n",
    "-> 커널(필터) 또한 일차원 배열로 늘려놓음\n",
    "\n",
    "- 두 벡터의 내적계산\n",
    "(행렬의 곱셈할때 쓰는거)"
   ]
  },
  {
   "cell_type": "markdown",
   "id": "3524746b",
   "metadata": {},
   "source": [
    "## 합성곱 신경망의 계산과정"
   ]
  },
  {
   "cell_type": "markdown",
   "id": "f59ac6d6",
   "metadata": {},
   "source": [
    "- 입력텐서의 채널 수 :L\n",
    "- 필터 수 : O, 필터(커널)의 크기 : [k,k]"
   ]
  },
  {
   "cell_type": "markdown",
   "id": "e131699d",
   "metadata": {},
   "source": [
    "### 1개의 필터를 입력채널에 대해서 적용"
   ]
  },
  {
   "cell_type": "markdown",
   "id": "54e33519",
   "metadata": {},
   "source": [
    "- 입력 채널의 데이터와 필터의 내적을 계산하는데, 입력채널이 L개이고, 필터 크기가 [k,k]이면, 1개의 필터는 k*k*L개의 데이터가 적용\n",
    "-> 예) k=3이면, x1의 9개의 셀의 값과 필터가 곱해지고, 입력채널이 32개이면, 32*9개의 셀의 값과 필터가 곱해짐\n",
    "- 1개의 필터를 L개의 입력채널에 적용한 결과는 L개의 입력 채널 데이터들의 선형회귀식 값을 구하는 것과 같음\n",
    "- 이렇게 계산된 값이 출력채널의 1개 셀의 값\n",
    "\n",
    "--> 필터가 O개 이므로, 출력채널(=출력 셀)도 O개가 생김"
   ]
  },
  {
   "cell_type": "markdown",
   "id": "36ffd486",
   "metadata": {},
   "source": [
    "### 각 필터별로 k*k개의 가중치 있음"
   ]
  },
  {
   "cell_type": "markdown",
   "id": "e29be9ae",
   "metadata": {},
   "source": [
    "- 필터별 파라미터 수 : k * k\n",
    "- 이 필터를 입력채널 L개에 대해 각각 적용하면, L*( K* K )개의 다른 가중치가 생기는데, 이 가중치를 입력채널의 값과 곱한 후, 계산된 값들을 모두 합한 후, 절편을 더하여 출력채널 값으로 기록(회귀식과 동일)\n",
    "-> 가중치 : L* k * k\n",
    "-> 각 필터별 입력채널 전체에 대한 파라미터 수 : L* k*k+1\n",
    "- O개의 필터에 대해 위 작업 수행 \n",
    "-> 전체 파라미터 수 : O*(L * k * k+1)\n",
    "\n",
    "--> 출력 텐서의 채널 수 : O"
   ]
  },
  {
   "cell_type": "markdown",
   "id": "b44d2d72",
   "metadata": {},
   "source": [
    "## ConvNet작동원리 및 파라미터 수의 계산"
   ]
  },
  {
   "cell_type": "markdown",
   "id": "759294e8",
   "metadata": {},
   "source": [
    "- 필터 사이즈에 해당하는 2차원 배열의 가중치 매트릭스 생성\n",
    "-> 예) [3,3]필터일 경우 : 3*3=9개의 가중치를 나타내는 변수가 만들어짐\n",
    "- 이들 필터가 입력 이미지의 필터 수 만큼 만들어져 각각의 입력 필터와 dot product연산 실행\n",
    "\n",
    "- 필터 크키 [3,3]이구 채널수 R,G,B로 3개니깐 3x3에다가 채널수 3 곱하구 절편 1더해서 28. 이제 여기다가 필터의 개수 곱해주면 전체 파라미터 수가 나오는 거지\n"
   ]
  },
  {
   "cell_type": "markdown",
   "id": "3702a6a7",
   "metadata": {},
   "source": [
    "# Convolution Layer"
   ]
  },
  {
   "cell_type": "code",
   "execution_count": 21,
   "id": "9a22c8a1",
   "metadata": {},
   "outputs": [],
   "source": [
    "import numpy as np\n",
    "import tensorflow as tf\n",
    "model=tf.keras.models.Sequential()\n",
    "model.add(tf.keras.layers.Dense(256,input_shape=(784, ),activation='sigmoid'))\n",
    "model.add(tf.keras.layers.Dense(128,activation='relu'))\n",
    "model.add(tf.keras.layers.Dense(10,activation='softmax'))"
   ]
  },
  {
   "cell_type": "code",
   "execution_count": 30,
   "id": "67275c84",
   "metadata": {},
   "outputs": [],
   "source": [
    "conv1=tf.keras.layers.Conv2D(filters=32,kernel_size=[5,5],padding='same',activation=tf.nn.relu)"
   ]
  },
  {
   "cell_type": "markdown",
   "id": "c3cac904",
   "metadata": {},
   "source": [
    "- input: 4차원) batch size(레코드 수), 행의 수, 열의 수, 채널의 수(흑백:채널1,칼라:채널3)\n",
    "-> input_shape(행의수, 열의 수, 채널의 수) 는 배치 레코드 수는 제외하고, 1개 샘플의 차원만 표시\n",
    "- filters: filter의 개수(필터 많은 수록 특징 추출 많이 가능, 학습시간 오래걸림(=심층신경망 노드 개수와 동일))\n",
    "- kernel_size: 커널(필터)의 차원\n",
    "- strides: (1,1)이 기본값: 1칸씩 옮기는 것\n",
    "-padding\n",
    "-> same: 차원을 같이 유지, zero값들 추가됨(zero padding)\n",
    "-> valid : 입력 이미지의 부분 매트릭스와 kernel곱하여, kernel_size에 따라 차원이 줄어들게 됨\n",
    "- activation(활성화함수): 기본값은 선형함수(계산된 값 그대로 사용)"
   ]
  },
  {
   "cell_type": "markdown",
   "id": "6a7542db",
   "metadata": {},
   "source": [
    "# Pooling Layer"
   ]
  },
  {
   "cell_type": "markdown",
   "id": "7784e8c9",
   "metadata": {},
   "source": [
    "- 셀들을 대표하는 값 하나로 표시하는 방법\n",
    "-> 이미지 행렬의 크기를 줄여서 적은 크기의 이미지가 많은 정보를 대표할 수 있도록 하는 작업"
   ]
  },
  {
   "cell_type": "markdown",
   "id": "d128afaa",
   "metadata": {},
   "source": [
    "## Max-Pooling"
   ]
  },
  {
   "cell_type": "markdown",
   "id": "241422dc",
   "metadata": {},
   "source": [
    "- 가장 대표적으로 특징을 잘 나타내는 최대값을 남기는 pooling방법\n",
    "- 눈에 잘띄는 값만 두고, 나머지 줄여버림\n",
    "- 하는 이유: 이미지가 너무 크니까 최댓값(눈에 잘띄는 것)만 남기고 나머지 잘라버림\n",
    "- 일반적 형태 \n",
    "-> pool_size : pooling하는 윈도우 크기 \n",
    "-> strides : 2 "
   ]
  },
  {
   "cell_type": "markdown",
   "id": "cc913288",
   "metadata": {},
   "source": [
    "## 평균 풀링"
   ]
  },
  {
   "cell_type": "markdown",
   "id": "4c190ba3",
   "metadata": {},
   "source": [
    "# CNN을 이용한 분류(MNIST)"
   ]
  },
  {
   "cell_type": "markdown",
   "id": "a305e56e",
   "metadata": {},
   "source": [
    "## 데이터 준비"
   ]
  },
  {
   "cell_type": "markdown",
   "id": "e354119c",
   "metadata": {},
   "source": [
    "### 데이터 가져오기"
   ]
  },
  {
   "cell_type": "code",
   "execution_count": 38,
   "id": "9f32fd9c",
   "metadata": {},
   "outputs": [],
   "source": [
    "(X_train,y_train),(X_test,y_test)=tf.keras.datasets.mnist.load_data()"
   ]
  },
  {
   "cell_type": "code",
   "execution_count": 39,
   "id": "a6baabc5",
   "metadata": {},
   "outputs": [
    {
     "data": {
      "text/plain": [
       "(60000, 28, 28)"
      ]
     },
     "execution_count": 39,
     "metadata": {},
     "output_type": "execute_result"
    }
   ],
   "source": [
    "X_train.shape"
   ]
  },
  {
   "cell_type": "code",
   "execution_count": 40,
   "id": "f790cb0d",
   "metadata": {},
   "outputs": [
    {
     "data": {
      "text/plain": [
       "(10000, 28, 28)"
      ]
     },
     "execution_count": 40,
     "metadata": {},
     "output_type": "execute_result"
    }
   ],
   "source": [
    "X_test.shape"
   ]
  },
  {
   "cell_type": "code",
   "execution_count": 41,
   "id": "351eb6b3",
   "metadata": {},
   "outputs": [
    {
     "data": {
      "text/plain": [
       "(60000,)"
      ]
     },
     "execution_count": 41,
     "metadata": {},
     "output_type": "execute_result"
    }
   ],
   "source": [
    "y_train.shape"
   ]
  },
  {
   "cell_type": "markdown",
   "id": "696b2d95",
   "metadata": {},
   "source": [
    "### 시각화해보기"
   ]
  },
  {
   "cell_type": "code",
   "execution_count": 44,
   "id": "f1ce94a2",
   "metadata": {},
   "outputs": [
    {
     "data": {
      "image/png": "[encoded data removed]",
      "text/plain": [
       "<Figure size 432x288 with 1 Axes>"
      ]
     },
     "metadata": {
      "needs_background": "light"
     },
     "output_type": "display_data"
    }
   ],
   "source": [
    "import matplotlib.pyplot as plt\n",
    "plt.imshow(X_train[0])\n",
    "plt.show()"
   ]
  },
  {
   "cell_type": "markdown",
   "id": "bd47a622",
   "metadata": {},
   "source": [
    "## 데이터 전처리"
   ]
  },
  {
   "cell_type": "markdown",
   "id": "e41cb584",
   "metadata": {},
   "source": [
    "### Normalization"
   ]
  },
  {
   "cell_type": "markdown",
   "id": "c36ce9ee",
   "metadata": {},
   "source": [
    "- 값을 0~1사이로 변환"
   ]
  },
  {
   "cell_type": "code",
   "execution_count": 48,
   "id": "99e1d7bc",
   "metadata": {},
   "outputs": [],
   "source": [
    "X_train=X_train/255.0\n",
    "X_test=X_test/255.0"
   ]
  },
  {
   "cell_type": "markdown",
   "id": "30348620",
   "metadata": {},
   "source": [
    "### 배열의 크기 조정(채널 수 지정)"
   ]
  },
  {
   "cell_type": "code",
   "execution_count": 50,
   "id": "ed9586d5",
   "metadata": {},
   "outputs": [],
   "source": [
    "X_train=X_train.reshape((-1,28,28,1))\n",
    "X_test=X_test.reshape((-1,28,28,1)) #샘플사이즈 모르니까 맨앞에 -1..?"
   ]
  },
  {
   "cell_type": "markdown",
   "id": "a2f85b9d",
   "metadata": {},
   "source": [
    "### 분류 값(y값)을 one-hot인코딩 방식으로 변환"
   ]
  },
  {
   "cell_type": "markdown",
   "id": "6157a019",
   "metadata": {},
   "source": [
    "- y값이 5\n",
    "- 6번째원소가 1인 벡터로 변환 : [0, 0, 0, 0, 0, 1, 0, 0, 0, 0]"
   ]
  },
  {
   "cell_type": "code",
   "execution_count": 52,
   "id": "983e9d5c",
   "metadata": {},
   "outputs": [],
   "source": [
    "y_train=tf.keras.utils.to_categorical(y_train,10)\n",
    "y_test=tf.keras.utils.to_categorical(y_test,10)"
   ]
  },
  {
   "cell_type": "code",
   "execution_count": 53,
   "id": "0d2c779b",
   "metadata": {},
   "outputs": [
    {
     "data": {
      "text/plain": [
       "array([0., 0., 0., 0., 0., 1., 0., 0., 0., 0.], dtype=float32)"
      ]
     },
     "execution_count": 53,
     "metadata": {},
     "output_type": "execute_result"
    }
   ],
   "source": [
    "y_train[0]"
   ]
  },
  {
   "cell_type": "markdown",
   "id": "6d70c14e",
   "metadata": {},
   "source": [
    "## 모형 설계"
   ]
  },
  {
   "cell_type": "code",
   "execution_count": 54,
   "id": "a1fda069",
   "metadata": {},
   "outputs": [],
   "source": [
    "model=tf.keras.models.Sequential()"
   ]
  },
  {
   "cell_type": "code",
   "execution_count": 55,
   "id": "08284e92",
   "metadata": {},
   "outputs": [],
   "source": [
    "model.add(tf.keras.layers.Conv2D(input_shape=(28,28,1),\n",
    "                                 kernel_size=[3,3],\n",
    "                                 filters=32,\n",
    "                                 activation='relu'))"
   ]
  },
  {
   "cell_type": "code",
   "execution_count": 57,
   "id": "a7f7eee3",
   "metadata": {},
   "outputs": [],
   "source": [
    "model.add(tf.keras.layers.MaxPool2D(pool_size=(2,2)))"
   ]
  },
  {
   "cell_type": "code",
   "execution_count": 58,
   "id": "b7c8b477",
   "metadata": {},
   "outputs": [],
   "source": [
    "model.add(tf.keras.layers.Conv2D(kernel_size=[3,3],filters=64,activation='relu'))"
   ]
  },
  {
   "cell_type": "code",
   "execution_count": 59,
   "id": "f21cf43f",
   "metadata": {},
   "outputs": [],
   "source": [
    "model.add(tf.keras.layers.MaxPool2D(pool_size=(2,2)))"
   ]
  },
  {
   "cell_type": "code",
   "execution_count": 60,
   "id": "6b72427e",
   "metadata": {},
   "outputs": [],
   "source": [
    "model.add(tf.keras.layers.Conv2D(kernel_size=[3,3],filters=64,activation='relu'))"
   ]
  },
  {
   "cell_type": "code",
   "execution_count": 61,
   "id": "15ceb94f",
   "metadata": {},
   "outputs": [],
   "source": [
    "model.add(tf.keras.layers.Flatten())"
   ]
  },
  {
   "cell_type": "code",
   "execution_count": 62,
   "id": "4419aed3",
   "metadata": {},
   "outputs": [],
   "source": [
    "model.add(tf.keras.layers.Dense(units=64,activation='relu'))"
   ]
  },
  {
   "cell_type": "code",
   "execution_count": 63,
   "id": "42b09b92",
   "metadata": {},
   "outputs": [],
   "source": [
    "model.add(tf.keras.layers.Dense(units=10,activation='softmax'))\n",
    "#맨 마지막 노드 개수가 10개인 이유: 0~9까지 2차원 셀들을 1줄로 쭉 열거하기 위해서"
   ]
  },
  {
   "cell_type": "markdown",
   "id": "9bb75eea",
   "metadata": {},
   "source": [
    "# CNN을 이용한 MNIST image analysis"
   ]
  },
  {
   "cell_type": "markdown",
   "id": "78933105",
   "metadata": {},
   "source": [
    "## 모형 컴파일"
   ]
  },
  {
   "cell_type": "code",
   "execution_count": 69,
   "id": "285c4e43",
   "metadata": {},
   "outputs": [],
   "source": [
    "model.compile(optimizer='rmsprop',loss='categorical_crossentropy',metrics=['accuracy'])"
   ]
  },
  {
   "cell_type": "markdown",
   "id": "29c8447a",
   "metadata": {},
   "source": [
    "## 모형 학습(훈련)"
   ]
  },
  {
   "cell_type": "code",
   "execution_count": 68,
   "id": "914abf47",
   "metadata": {},
   "outputs": [],
   "source": [
    "BATCH_SIZE=64\n",
    "VALIDATION_SPLIT=0.2"
   ]
  },
  {
   "cell_type": "code",
   "execution_count": 70,
   "id": "d3bdb708",
   "metadata": {},
   "outputs": [],
   "source": [
    "tensorboard=tf.keras.callbacks.TensorBoard(log_dir=\"D:\\myTensorflowDir\")"
   ]
  },
  {
   "cell_type": "code",
   "execution_count": 71,
   "id": "15f691c5",
   "metadata": {},
   "outputs": [
    {
     "name": "stdout",
     "output_type": "stream",
     "text": [
      "Epoch 1/20\n",
      "750/750 [==============================] - 108s 135ms/step - loss: 0.2132 - accuracy: 0.9320 - val_loss: 0.0579 - val_accuracy: 0.9832\n",
      "Epoch 2/20\n",
      "750/750 [==============================] - 83s 110ms/step - loss: 0.0531 - accuracy: 0.9831 - val_loss: 0.0497 - val_accuracy: 0.9852\n",
      "Epoch 3/20\n",
      "750/750 [==============================] - 79s 105ms/step - loss: 0.0358 - accuracy: 0.9891 - val_loss: 0.0444 - val_accuracy: 0.9864\n",
      "Epoch 4/20\n",
      "750/750 [==============================] - 84s 112ms/step - loss: 0.0266 - accuracy: 0.9915 - val_loss: 0.0382 - val_accuracy: 0.9887\n",
      "Epoch 5/20\n",
      "750/750 [==============================] - 77s 103ms/step - loss: 0.0205 - accuracy: 0.9937 - val_loss: 0.0415 - val_accuracy: 0.9892\n",
      "Epoch 6/20\n",
      "750/750 [==============================] - 73s 97ms/step - loss: 0.0157 - accuracy: 0.9953 - val_loss: 0.0424 - val_accuracy: 0.9903\n",
      "Epoch 7/20\n",
      "750/750 [==============================] - 74s 99ms/step - loss: 0.0131 - accuracy: 0.9959 - val_loss: 0.0408 - val_accuracy: 0.9888\n"
     ]
    }
   ],
   "source": [
    "history=model.fit(x=X_train,y=y_train,batch_size=BATCH_SIZE,epochs=20,\n",
    "                 validation_split=VALIDATION_SPLIT,\n",
    "                 callbacks=[tensorboard,tf.keras.callbacks.EarlyStopping(monitor='val_loss',patience=3)])"
   ]
  },
  {
   "cell_type": "markdown",
   "id": "7d9eb772",
   "metadata": {},
   "source": [
    "## 모형 테스트"
   ]
  },
  {
   "cell_type": "code",
   "execution_count": 73,
   "id": "e7a3675b",
   "metadata": {},
   "outputs": [
    {
     "name": "stdout",
     "output_type": "stream",
     "text": [
      "313/313 [==============================] - 7s 23ms/step - loss: 0.0319 - accuracy: 0.9916\n"
     ]
    }
   ],
   "source": [
    "test_loss,test_accuracy=model.evaluate(x=X_test,y=y_test)"
   ]
  },
  {
   "cell_type": "markdown",
   "id": "360fca0c",
   "metadata": {},
   "source": [
    "## 모형 학습 분석"
   ]
  },
  {
   "cell_type": "markdown",
   "id": "4260a391",
   "metadata": {},
   "source": [
    "- matplotlib사용하여 직접 plotting"
   ]
  },
  {
   "cell_type": "code",
   "execution_count": 75,
   "id": "ab817b7f",
   "metadata": {},
   "outputs": [
    {
     "data": {
      "image/png": "[encoded data removed]",
      "text/plain": [
       "<Figure size 576x288 with 2 Axes>"
      ]
     },
     "metadata": {
      "needs_background": "light"
     },
     "output_type": "display_data"
    }
   ],
   "source": [
    "import matplotlib.pyplot as plt\n",
    "plt.figure(figsize=(8,4))\n",
    "plt.subplot(1,2,1)\n",
    "plt.plot(history.history['loss'],'b-',label='loss')\n",
    "plt.plot(history.history['val_loss'],'r--',label='val_loss')\n",
    "plt.xlabel('Epoch')\n",
    "plt.legend()\n",
    "\n",
    "plt.subplot(1,2,2)\n",
    "plt.plot(history.history['accuracy'],'g-',label='accuracy')\n",
    "plt.plot(history.history['val_accuracy'],'k--',label='val_accuracy')\n",
    "plt.xlabel('Epoch')\n",
    "plt.legend()\n",
    "\n",
    "plt.show()"
   ]
  },
  {
   "cell_type": "code",
   "execution_count": 76,
   "id": "ab705f26",
   "metadata": {},
   "outputs": [],
   "source": [
    "### Tensorboard사용"
   ]
  },
  {
   "cell_type": "code",
   "execution_count": 77,
   "id": "608fc48d",
   "metadata": {},
   "outputs": [],
   "source": [
    "tensorboard=tf.keras.callbacks.TensorBoard(log_dir=\"D:\\myTensorflowDir\")"
   ]
  },
  {
   "cell_type": "code",
   "execution_count": 78,
   "id": "667cc275",
   "metadata": {},
   "outputs": [
    {
     "name": "stdout",
     "output_type": "stream",
     "text": [
      "Epoch 1/20\n",
      "750/750 [==============================] - 74s 98ms/step - loss: 0.0095 - accuracy: 0.9971 - val_loss: 0.0412 - val_accuracy: 0.9912\n",
      "Epoch 2/20\n",
      "750/750 [==============================] - 72s 96ms/step - loss: 0.0082 - accuracy: 0.9972 - val_loss: 0.0547 - val_accuracy: 0.9888\n",
      "Epoch 3/20\n",
      "750/750 [==============================] - 72s 96ms/step - loss: 0.0067 - accuracy: 0.9977 - val_loss: 0.0462 - val_accuracy: 0.9909\n",
      "Epoch 4/20\n",
      "750/750 [==============================] - 72s 96ms/step - loss: 0.0048 - accuracy: 0.9983 - val_loss: 0.0558 - val_accuracy: 0.9910\n"
     ]
    }
   ],
   "source": [
    "history=model.fit(x=X_train,y=y_train,batch_size=BATCH_SIZE,epochs=20,\n",
    "                 validation_split=VALIDATION_SPLIT,\n",
    "                 callbacks=[tensorboard,tf.keras.callbacks.EarlyStopping(monitor='val_loss',patience=3)])"
   ]
  },
  {
   "cell_type": "code",
   "execution_count": null,
   "id": "b28eb729",
   "metadata": {},
   "outputs": [],
   "source": []
  }
 ],
 "metadata": {
  "kernelspec": {
   "display_name": "Python 3 (ipykernel)",
   "language": "python",
   "name": "python3"
  },
  "language_info": {
   "codemirror_mode": {
    "name": "ipython",
    "version": 3
   },
   "file_extension": ".py",
   "mimetype": "text/x-python",
   "name": "python",
   "nbconvert_exporter": "python",
   "pygments_lexer": "ipython3",
   "version": "3.9.12"
  },
  "toc": {
   "base_numbering": 1,
   "nav_menu": {},
   "number_sections": true,
   "sideBar": true,
   "skip_h1_title": false,
   "title_cell": "Table of Contents",
   "title_sidebar": "Contents",
   "toc_cell": false,
   "toc_position": {
    "height": "calc(100% - 180px)",
    "left": "10px",
    "top": "150px",
    "width": "165px"
   },
   "toc_section_display": true,
   "toc_window_display": false
  }
 },
 "nbformat": 4,
 "nbformat_minor": 5
}
